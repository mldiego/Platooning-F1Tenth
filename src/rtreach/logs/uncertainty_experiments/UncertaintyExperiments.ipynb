{
 "cells": [
  {
   "cell_type": "code",
   "execution_count": 57,
   "metadata": {},
   "outputs": [],
   "source": [
    "import pandas as pd\n",
    "import numpy as np \n",
    "import seaborn as sns\n",
    "import matplotlib.pyplot as plt\n",
    "sns.set_theme(style=\"white\")\n",
    "import os\n",
    "import plotly.express as px\n",
    "from plotly.subplots import make_subplots\n",
    "from plotly import graph_objects as go\n",
    "import warnings\n",
    "warnings.filterwarnings(\"ignore\")"
   ]
  },
  {
   "cell_type": "code",
   "execution_count": 58,
   "metadata": {},
   "outputs": [
    {
     "data": {
      "text/html": [
       "<div>\n",
       "<style scoped>\n",
       "    .dataframe tbody tr th:only-of-type {\n",
       "        vertical-align: middle;\n",
       "    }\n",
       "\n",
       "    .dataframe tbody tr th {\n",
       "        vertical-align: top;\n",
       "    }\n",
       "\n",
       "    .dataframe thead th {\n",
       "        text-align: right;\n",
       "    }\n",
       "</style>\n",
       "<table border=\"1\" class=\"dataframe\">\n",
       "  <thead>\n",
       "    <tr style=\"text-align: right;\">\n",
       "      <th></th>\n",
       "      <th>time_str</th>\n",
       "      <th>time_taken_lec</th>\n",
       "      <th>time_taken_safety_controller</th>\n",
       "      <th>area</th>\n",
       "      <th>parameter_uncertainty</th>\n",
       "      <th>mode</th>\n",
       "    </tr>\n",
       "  </thead>\n",
       "  <tbody>\n",
       "    <tr>\n",
       "      <th>26</th>\n",
       "      <td>10/03/2022/07:08:56</td>\n",
       "      <td>59.0164</td>\n",
       "      <td>40.9836</td>\n",
       "      <td>2.93031</td>\n",
       "      <td>0.0</td>\n",
       "      <td>ground_truth</td>\n",
       "    </tr>\n",
       "    <tr>\n",
       "      <th>27</th>\n",
       "      <td>10/03/2022/07:10:31</td>\n",
       "      <td>79.9483</td>\n",
       "      <td>20.0517</td>\n",
       "      <td>2.87441</td>\n",
       "      <td>0.0</td>\n",
       "      <td>ground_truth</td>\n",
       "    </tr>\n",
       "    <tr>\n",
       "      <th>28</th>\n",
       "      <td>10/03/2022/07:12:04</td>\n",
       "      <td>NaN</td>\n",
       "      <td>NaN</td>\n",
       "      <td>0.00000</td>\n",
       "      <td>0.0</td>\n",
       "      <td>ground_truth</td>\n",
       "    </tr>\n",
       "    <tr>\n",
       "      <th>29</th>\n",
       "      <td>10/03/2022/07:13:38</td>\n",
       "      <td>82.4051</td>\n",
       "      <td>17.5949</td>\n",
       "      <td>2.97520</td>\n",
       "      <td>0.0</td>\n",
       "      <td>ground_truth</td>\n",
       "    </tr>\n",
       "    <tr>\n",
       "      <th>30</th>\n",
       "      <td>10/03/2022/07:14:51</td>\n",
       "      <td>74.9518</td>\n",
       "      <td>25.0482</td>\n",
       "      <td>2.84605</td>\n",
       "      <td>0.0</td>\n",
       "      <td>ground_truth</td>\n",
       "    </tr>\n",
       "    <tr>\n",
       "      <th>...</th>\n",
       "      <td>...</td>\n",
       "      <td>...</td>\n",
       "      <td>...</td>\n",
       "      <td>...</td>\n",
       "      <td>...</td>\n",
       "      <td>...</td>\n",
       "    </tr>\n",
       "    <tr>\n",
       "      <th>25</th>\n",
       "      <td>22/03/2022/13:36:09</td>\n",
       "      <td>0.0000</td>\n",
       "      <td>100.0000</td>\n",
       "      <td>3365.21000</td>\n",
       "      <td>95.0</td>\n",
       "      <td>particle_uncertainty_truth</td>\n",
       "    </tr>\n",
       "    <tr>\n",
       "      <th>26</th>\n",
       "      <td>22/03/2022/13:39:41</td>\n",
       "      <td>0.0000</td>\n",
       "      <td>100.0000</td>\n",
       "      <td>3868.79000</td>\n",
       "      <td>95.0</td>\n",
       "      <td>particle_uncertainty_truth</td>\n",
       "    </tr>\n",
       "    <tr>\n",
       "      <th>27</th>\n",
       "      <td>22/03/2022/13:43:14</td>\n",
       "      <td>0.0000</td>\n",
       "      <td>100.0000</td>\n",
       "      <td>5667.81000</td>\n",
       "      <td>95.0</td>\n",
       "      <td>particle_uncertainty_truth</td>\n",
       "    </tr>\n",
       "    <tr>\n",
       "      <th>28</th>\n",
       "      <td>22/03/2022/13:46:47</td>\n",
       "      <td>0.0000</td>\n",
       "      <td>100.0000</td>\n",
       "      <td>3628.05000</td>\n",
       "      <td>95.0</td>\n",
       "      <td>particle_uncertainty_truth</td>\n",
       "    </tr>\n",
       "    <tr>\n",
       "      <th>29</th>\n",
       "      <td>22/03/2022/13:50:18</td>\n",
       "      <td>0.0000</td>\n",
       "      <td>100.0000</td>\n",
       "      <td>4595.25000</td>\n",
       "      <td>95.0</td>\n",
       "      <td>particle_uncertainty_truth</td>\n",
       "    </tr>\n",
       "  </tbody>\n",
       "</table>\n",
       "<p>1170 rows × 6 columns</p>\n",
       "</div>"
      ],
      "text/plain": [
       "               time_str  time_taken_lec  time_taken_safety_controller  \\\n",
       "26  10/03/2022/07:08:56         59.0164                       40.9836   \n",
       "27  10/03/2022/07:10:31         79.9483                       20.0517   \n",
       "28  10/03/2022/07:12:04             NaN                           NaN   \n",
       "29  10/03/2022/07:13:38         82.4051                       17.5949   \n",
       "30  10/03/2022/07:14:51         74.9518                       25.0482   \n",
       "..                  ...             ...                           ...   \n",
       "25  22/03/2022/13:36:09          0.0000                      100.0000   \n",
       "26  22/03/2022/13:39:41          0.0000                      100.0000   \n",
       "27  22/03/2022/13:43:14          0.0000                      100.0000   \n",
       "28  22/03/2022/13:46:47          0.0000                      100.0000   \n",
       "29  22/03/2022/13:50:18          0.0000                      100.0000   \n",
       "\n",
       "          area  parameter_uncertainty                        mode  \n",
       "26     2.93031                    0.0                ground_truth  \n",
       "27     2.87441                    0.0                ground_truth  \n",
       "28     0.00000                    0.0                ground_truth  \n",
       "29     2.97520                    0.0                ground_truth  \n",
       "30     2.84605                    0.0                ground_truth  \n",
       "..         ...                    ...                         ...  \n",
       "25  3365.21000                   95.0  particle_uncertainty_truth  \n",
       "26  3868.79000                   95.0  particle_uncertainty_truth  \n",
       "27  5667.81000                   95.0  particle_uncertainty_truth  \n",
       "28  3628.05000                   95.0  particle_uncertainty_truth  \n",
       "29  4595.25000                   95.0  particle_uncertainty_truth  \n",
       "\n",
       "[1170 rows x 6 columns]"
      ]
     },
     "execution_count": 58,
     "metadata": {},
     "output_type": "execute_result"
    }
   ],
   "source": [
    "file_str = ['ground_truth_{}','particle_uncertainty_truth_{}']\n",
    "params = [\"0.000000.csv\",\"0.050000.csv\",\"0.100000.csv\",\"0.150000.csv\",\"0.200000.csv\",\"0.250000.csv\",\"0.300000.csv\",\"0.350000.csv\",\"0.400000.csv\",\"0.450000.csv\",\"0.500000.csv\",\n",
    "\"0.550000.csv\",\"0.600000.csv\",\"0.650000.csv\",\"0.700000.csv\",\"0.750000.csv\",\"0.800000.csv\",\"0.850000.csv\",\"0.900000.csv\",\"0.950000.csv\"]\n",
    "\n",
    "\n",
    "original_dfs = []\n",
    "\n",
    "for st in file_str:\n",
    "    for val in params:\n",
    "        if('particle_uncertainty_truth' in st and val in \"0.500000.csv\"):\n",
    "            continue\n",
    "        fh = st.format(val)\n",
    "        df = pd.read_csv(fh,header=None)\n",
    "        \n",
    "        df =df.rename(columns={0:'time_str',1:'time_taken_lec',2:'time_taken_safety_controller',3:'area'})\n",
    "        df['parameter_uncertainty']  = float(val.replace(\".csv\",\"\"))\n",
    "        df['mode'] = st[:-3]\n",
    "        df = df.tail(30)\n",
    "        original_dfs.append(df)\n",
    "        \n",
    "dfs = pd.concat(original_dfs)\n",
    "dfs['parameter_uncertainty'] = dfs['parameter_uncertainty'] * 100\n",
    "dfs['time_taken_lec'] = dfs['time_taken_lec'] * 100\n",
    "dfs['time_taken_safety_controller'] = dfs['time_taken_safety_controller'] * 100\n",
    "dfs\n",
    "        \n",
    "        \n"
   ]
  },
  {
   "cell_type": "code",
   "execution_count": 59,
   "metadata": {},
   "outputs": [
    {
     "data": {
      "text/html": [
       "<div>\n",
       "<style scoped>\n",
       "    .dataframe tbody tr th:only-of-type {\n",
       "        vertical-align: middle;\n",
       "    }\n",
       "\n",
       "    .dataframe tbody tr th {\n",
       "        vertical-align: top;\n",
       "    }\n",
       "\n",
       "    .dataframe thead th {\n",
       "        text-align: right;\n",
       "    }\n",
       "</style>\n",
       "<table border=\"1\" class=\"dataframe\">\n",
       "  <thead>\n",
       "    <tr style=\"text-align: right;\">\n",
       "      <th></th>\n",
       "      <th></th>\n",
       "      <th>time_taken_lec</th>\n",
       "      <th>time_taken_safety_controller</th>\n",
       "      <th>area</th>\n",
       "    </tr>\n",
       "    <tr>\n",
       "      <th>mode</th>\n",
       "      <th>parameter_uncertainty</th>\n",
       "      <th></th>\n",
       "      <th></th>\n",
       "      <th></th>\n",
       "    </tr>\n",
       "  </thead>\n",
       "  <tbody>\n",
       "    <tr>\n",
       "      <th rowspan=\"20\" valign=\"top\">ground_truth</th>\n",
       "      <th>0.0</th>\n",
       "      <td>79.948300</td>\n",
       "      <td>20.05170</td>\n",
       "      <td>2.902145</td>\n",
       "    </tr>\n",
       "    <tr>\n",
       "      <th>5.0</th>\n",
       "      <td>78.268600</td>\n",
       "      <td>21.73140</td>\n",
       "      <td>4.875480</td>\n",
       "    </tr>\n",
       "    <tr>\n",
       "      <th>10.0</th>\n",
       "      <td>80.120000</td>\n",
       "      <td>19.88000</td>\n",
       "      <td>7.454125</td>\n",
       "    </tr>\n",
       "    <tr>\n",
       "      <th>15.0</th>\n",
       "      <td>76.262000</td>\n",
       "      <td>23.73800</td>\n",
       "      <td>10.557350</td>\n",
       "    </tr>\n",
       "    <tr>\n",
       "      <th>20.0</th>\n",
       "      <td>63.387550</td>\n",
       "      <td>36.61245</td>\n",
       "      <td>14.554050</td>\n",
       "    </tr>\n",
       "    <tr>\n",
       "      <th>25.0</th>\n",
       "      <td>56.420250</td>\n",
       "      <td>43.57975</td>\n",
       "      <td>19.020700</td>\n",
       "    </tr>\n",
       "    <tr>\n",
       "      <th>30.0</th>\n",
       "      <td>45.330300</td>\n",
       "      <td>54.66970</td>\n",
       "      <td>24.047850</td>\n",
       "    </tr>\n",
       "    <tr>\n",
       "      <th>35.0</th>\n",
       "      <td>38.525400</td>\n",
       "      <td>61.47460</td>\n",
       "      <td>30.818500</td>\n",
       "    </tr>\n",
       "    <tr>\n",
       "      <th>40.0</th>\n",
       "      <td>36.693250</td>\n",
       "      <td>63.30675</td>\n",
       "      <td>39.385500</td>\n",
       "    </tr>\n",
       "    <tr>\n",
       "      <th>45.0</th>\n",
       "      <td>37.688950</td>\n",
       "      <td>62.31105</td>\n",
       "      <td>47.714200</td>\n",
       "    </tr>\n",
       "    <tr>\n",
       "      <th>50.0</th>\n",
       "      <td>27.857600</td>\n",
       "      <td>72.14240</td>\n",
       "      <td>65.761850</td>\n",
       "    </tr>\n",
       "    <tr>\n",
       "      <th>55.0</th>\n",
       "      <td>26.046350</td>\n",
       "      <td>73.95365</td>\n",
       "      <td>82.488950</td>\n",
       "    </tr>\n",
       "    <tr>\n",
       "      <th>60.0</th>\n",
       "      <td>23.391050</td>\n",
       "      <td>76.60895</td>\n",
       "      <td>105.625000</td>\n",
       "    </tr>\n",
       "    <tr>\n",
       "      <th>65.0</th>\n",
       "      <td>24.583750</td>\n",
       "      <td>75.41625</td>\n",
       "      <td>134.694500</td>\n",
       "    </tr>\n",
       "    <tr>\n",
       "      <th>70.0</th>\n",
       "      <td>22.206500</td>\n",
       "      <td>77.79350</td>\n",
       "      <td>171.836500</td>\n",
       "    </tr>\n",
       "    <tr>\n",
       "      <th>75.0</th>\n",
       "      <td>21.972050</td>\n",
       "      <td>78.02795</td>\n",
       "      <td>220.166000</td>\n",
       "    </tr>\n",
       "    <tr>\n",
       "      <th>80.0</th>\n",
       "      <td>20.196200</td>\n",
       "      <td>79.80380</td>\n",
       "      <td>298.154500</td>\n",
       "    </tr>\n",
       "    <tr>\n",
       "      <th>85.0</th>\n",
       "      <td>28.921300</td>\n",
       "      <td>71.07870</td>\n",
       "      <td>329.587500</td>\n",
       "    </tr>\n",
       "    <tr>\n",
       "      <th>90.0</th>\n",
       "      <td>30.878300</td>\n",
       "      <td>69.12170</td>\n",
       "      <td>415.409500</td>\n",
       "    </tr>\n",
       "    <tr>\n",
       "      <th>95.0</th>\n",
       "      <td>31.998450</td>\n",
       "      <td>68.00155</td>\n",
       "      <td>522.702000</td>\n",
       "    </tr>\n",
       "    <tr>\n",
       "      <th rowspan=\"19\" valign=\"top\">particle_uncertainty_truth</th>\n",
       "      <th>0.0</th>\n",
       "      <td>77.289150</td>\n",
       "      <td>22.71085</td>\n",
       "      <td>10.147650</td>\n",
       "    </tr>\n",
       "    <tr>\n",
       "      <th>5.0</th>\n",
       "      <td>72.919050</td>\n",
       "      <td>27.08095</td>\n",
       "      <td>12.434000</td>\n",
       "    </tr>\n",
       "    <tr>\n",
       "      <th>10.0</th>\n",
       "      <td>73.014000</td>\n",
       "      <td>26.98600</td>\n",
       "      <td>16.229300</td>\n",
       "    </tr>\n",
       "    <tr>\n",
       "      <th>15.0</th>\n",
       "      <td>65.156500</td>\n",
       "      <td>34.84350</td>\n",
       "      <td>20.300650</td>\n",
       "    </tr>\n",
       "    <tr>\n",
       "      <th>20.0</th>\n",
       "      <td>57.623100</td>\n",
       "      <td>42.37690</td>\n",
       "      <td>23.537900</td>\n",
       "    </tr>\n",
       "    <tr>\n",
       "      <th>25.0</th>\n",
       "      <td>52.236400</td>\n",
       "      <td>47.76360</td>\n",
       "      <td>28.280500</td>\n",
       "    </tr>\n",
       "    <tr>\n",
       "      <th>30.0</th>\n",
       "      <td>41.573000</td>\n",
       "      <td>58.42700</td>\n",
       "      <td>34.440900</td>\n",
       "    </tr>\n",
       "    <tr>\n",
       "      <th>35.0</th>\n",
       "      <td>32.544900</td>\n",
       "      <td>67.45510</td>\n",
       "      <td>40.468950</td>\n",
       "    </tr>\n",
       "    <tr>\n",
       "      <th>40.0</th>\n",
       "      <td>17.596550</td>\n",
       "      <td>82.40345</td>\n",
       "      <td>591.924800</td>\n",
       "    </tr>\n",
       "    <tr>\n",
       "      <th>45.0</th>\n",
       "      <td>1.609145</td>\n",
       "      <td>98.39085</td>\n",
       "      <td>2443.180000</td>\n",
       "    </tr>\n",
       "    <tr>\n",
       "      <th>55.0</th>\n",
       "      <td>0.238680</td>\n",
       "      <td>99.76130</td>\n",
       "      <td>2470.345000</td>\n",
       "    </tr>\n",
       "    <tr>\n",
       "      <th>60.0</th>\n",
       "      <td>0.000000</td>\n",
       "      <td>100.00000</td>\n",
       "      <td>3205.000000</td>\n",
       "    </tr>\n",
       "    <tr>\n",
       "      <th>65.0</th>\n",
       "      <td>0.000000</td>\n",
       "      <td>100.00000</td>\n",
       "      <td>3223.685000</td>\n",
       "    </tr>\n",
       "    <tr>\n",
       "      <th>70.0</th>\n",
       "      <td>0.000000</td>\n",
       "      <td>100.00000</td>\n",
       "      <td>3670.050000</td>\n",
       "    </tr>\n",
       "    <tr>\n",
       "      <th>75.0</th>\n",
       "      <td>0.000000</td>\n",
       "      <td>100.00000</td>\n",
       "      <td>4136.520000</td>\n",
       "    </tr>\n",
       "    <tr>\n",
       "      <th>80.0</th>\n",
       "      <td>0.000000</td>\n",
       "      <td>100.00000</td>\n",
       "      <td>3799.860000</td>\n",
       "    </tr>\n",
       "    <tr>\n",
       "      <th>85.0</th>\n",
       "      <td>0.000000</td>\n",
       "      <td>100.00000</td>\n",
       "      <td>4503.075000</td>\n",
       "    </tr>\n",
       "    <tr>\n",
       "      <th>90.0</th>\n",
       "      <td>0.000000</td>\n",
       "      <td>100.00000</td>\n",
       "      <td>4626.775000</td>\n",
       "    </tr>\n",
       "    <tr>\n",
       "      <th>95.0</th>\n",
       "      <td>0.000000</td>\n",
       "      <td>100.00000</td>\n",
       "      <td>4398.355000</td>\n",
       "    </tr>\n",
       "  </tbody>\n",
       "</table>\n",
       "</div>"
      ],
      "text/plain": [
       "                                                  time_taken_lec  \\\n",
       "mode                       parameter_uncertainty                   \n",
       "ground_truth               0.0                         79.948300   \n",
       "                           5.0                         78.268600   \n",
       "                           10.0                        80.120000   \n",
       "                           15.0                        76.262000   \n",
       "                           20.0                        63.387550   \n",
       "                           25.0                        56.420250   \n",
       "                           30.0                        45.330300   \n",
       "                           35.0                        38.525400   \n",
       "                           40.0                        36.693250   \n",
       "                           45.0                        37.688950   \n",
       "                           50.0                        27.857600   \n",
       "                           55.0                        26.046350   \n",
       "                           60.0                        23.391050   \n",
       "                           65.0                        24.583750   \n",
       "                           70.0                        22.206500   \n",
       "                           75.0                        21.972050   \n",
       "                           80.0                        20.196200   \n",
       "                           85.0                        28.921300   \n",
       "                           90.0                        30.878300   \n",
       "                           95.0                        31.998450   \n",
       "particle_uncertainty_truth 0.0                         77.289150   \n",
       "                           5.0                         72.919050   \n",
       "                           10.0                        73.014000   \n",
       "                           15.0                        65.156500   \n",
       "                           20.0                        57.623100   \n",
       "                           25.0                        52.236400   \n",
       "                           30.0                        41.573000   \n",
       "                           35.0                        32.544900   \n",
       "                           40.0                        17.596550   \n",
       "                           45.0                         1.609145   \n",
       "                           55.0                         0.238680   \n",
       "                           60.0                         0.000000   \n",
       "                           65.0                         0.000000   \n",
       "                           70.0                         0.000000   \n",
       "                           75.0                         0.000000   \n",
       "                           80.0                         0.000000   \n",
       "                           85.0                         0.000000   \n",
       "                           90.0                         0.000000   \n",
       "                           95.0                         0.000000   \n",
       "\n",
       "                                                  time_taken_safety_controller  \\\n",
       "mode                       parameter_uncertainty                                 \n",
       "ground_truth               0.0                                        20.05170   \n",
       "                           5.0                                        21.73140   \n",
       "                           10.0                                       19.88000   \n",
       "                           15.0                                       23.73800   \n",
       "                           20.0                                       36.61245   \n",
       "                           25.0                                       43.57975   \n",
       "                           30.0                                       54.66970   \n",
       "                           35.0                                       61.47460   \n",
       "                           40.0                                       63.30675   \n",
       "                           45.0                                       62.31105   \n",
       "                           50.0                                       72.14240   \n",
       "                           55.0                                       73.95365   \n",
       "                           60.0                                       76.60895   \n",
       "                           65.0                                       75.41625   \n",
       "                           70.0                                       77.79350   \n",
       "                           75.0                                       78.02795   \n",
       "                           80.0                                       79.80380   \n",
       "                           85.0                                       71.07870   \n",
       "                           90.0                                       69.12170   \n",
       "                           95.0                                       68.00155   \n",
       "particle_uncertainty_truth 0.0                                        22.71085   \n",
       "                           5.0                                        27.08095   \n",
       "                           10.0                                       26.98600   \n",
       "                           15.0                                       34.84350   \n",
       "                           20.0                                       42.37690   \n",
       "                           25.0                                       47.76360   \n",
       "                           30.0                                       58.42700   \n",
       "                           35.0                                       67.45510   \n",
       "                           40.0                                       82.40345   \n",
       "                           45.0                                       98.39085   \n",
       "                           55.0                                       99.76130   \n",
       "                           60.0                                      100.00000   \n",
       "                           65.0                                      100.00000   \n",
       "                           70.0                                      100.00000   \n",
       "                           75.0                                      100.00000   \n",
       "                           80.0                                      100.00000   \n",
       "                           85.0                                      100.00000   \n",
       "                           90.0                                      100.00000   \n",
       "                           95.0                                      100.00000   \n",
       "\n",
       "                                                         area  \n",
       "mode                       parameter_uncertainty               \n",
       "ground_truth               0.0                       2.902145  \n",
       "                           5.0                       4.875480  \n",
       "                           10.0                      7.454125  \n",
       "                           15.0                     10.557350  \n",
       "                           20.0                     14.554050  \n",
       "                           25.0                     19.020700  \n",
       "                           30.0                     24.047850  \n",
       "                           35.0                     30.818500  \n",
       "                           40.0                     39.385500  \n",
       "                           45.0                     47.714200  \n",
       "                           50.0                     65.761850  \n",
       "                           55.0                     82.488950  \n",
       "                           60.0                    105.625000  \n",
       "                           65.0                    134.694500  \n",
       "                           70.0                    171.836500  \n",
       "                           75.0                    220.166000  \n",
       "                           80.0                    298.154500  \n",
       "                           85.0                    329.587500  \n",
       "                           90.0                    415.409500  \n",
       "                           95.0                    522.702000  \n",
       "particle_uncertainty_truth 0.0                      10.147650  \n",
       "                           5.0                      12.434000  \n",
       "                           10.0                     16.229300  \n",
       "                           15.0                     20.300650  \n",
       "                           20.0                     23.537900  \n",
       "                           25.0                     28.280500  \n",
       "                           30.0                     34.440900  \n",
       "                           35.0                     40.468950  \n",
       "                           40.0                    591.924800  \n",
       "                           45.0                   2443.180000  \n",
       "                           55.0                   2470.345000  \n",
       "                           60.0                   3205.000000  \n",
       "                           65.0                   3223.685000  \n",
       "                           70.0                   3670.050000  \n",
       "                           75.0                   4136.520000  \n",
       "                           80.0                   3799.860000  \n",
       "                           85.0                   4503.075000  \n",
       "                           90.0                   4626.775000  \n",
       "                           95.0                   4398.355000  "
      ]
     },
     "execution_count": 59,
     "metadata": {},
     "output_type": "execute_result"
    }
   ],
   "source": [
    "dfs.groupby(['mode','parameter_uncertainty']).median()"
   ]
  },
  {
   "cell_type": "code",
   "execution_count": 60,
   "metadata": {},
   "outputs": [],
   "source": [
    "median_res = dfs.groupby(['mode','parameter_uncertainty']).median().reset_index()\n",
    "median_gt = median_res[median_res['mode'] == 'ground_truth']\n",
    "median_gt['percent_change_in_size_of_reachset'] = round((median_gt['area'] - median_gt.iloc[0]['area'])/median_gt.iloc[0]['area'] * 100,2)\n",
    "median_pu = median_res[median_res['mode'] == 'particle_uncertainty_truth']\n",
    "median_pu['percent_change_in_size_of_reachset'] = round((median_pu['area'] - median_pu.iloc[0]['area'])/median_pu.iloc[0]['area'] * 100,2)"
   ]
  },
  {
   "cell_type": "code",
   "execution_count": 85,
   "metadata": {},
   "outputs": [
    {
     "name": "stdout",
     "output_type": "stream",
     "text": [
      "\\begin{tabular}{llrrr}\n",
      "\\toprule\n",
      "{} &                        mode &  parameter\\_uncertainty &  time\\_taken\\_lec &     area \\\\\n",
      "\\midrule\n",
      "0  &                ground\\_truth &                    0.0 &           79.95 &     2.90 \\\\\n",
      "1  &                ground\\_truth &                    5.0 &           78.27 &     4.88 \\\\\n",
      "2  &                ground\\_truth &                   10.0 &           80.12 &     7.45 \\\\\n",
      "3  &                ground\\_truth &                   15.0 &           76.26 &    10.56 \\\\\n",
      "4  &                ground\\_truth &                   20.0 &           63.39 &    14.55 \\\\\n",
      "5  &                ground\\_truth &                   25.0 &           56.42 &    19.02 \\\\\n",
      "6  &                ground\\_truth &                   30.0 &           45.33 &    24.05 \\\\\n",
      "7  &                ground\\_truth &                   35.0 &           38.53 &    30.82 \\\\\n",
      "8  &                ground\\_truth &                   40.0 &           36.69 &    39.39 \\\\\n",
      "9  &                ground\\_truth &                   45.0 &           37.69 &    47.71 \\\\\n",
      "10 &                ground\\_truth &                   50.0 &           27.86 &    65.76 \\\\\n",
      "20 &  particle\\_uncertainty\\_truth &                    0.0 &           77.29 &    10.15 \\\\\n",
      "21 &  particle\\_uncertainty\\_truth &                    5.0 &           72.92 &    12.43 \\\\\n",
      "22 &  particle\\_uncertainty\\_truth &                   10.0 &           73.01 &    16.23 \\\\\n",
      "23 &  particle\\_uncertainty\\_truth &                   15.0 &           65.16 &    20.30 \\\\\n",
      "24 &  particle\\_uncertainty\\_truth &                   20.0 &           57.62 &    23.54 \\\\\n",
      "25 &  particle\\_uncertainty\\_truth &                   25.0 &           52.24 &    28.28 \\\\\n",
      "26 &  particle\\_uncertainty\\_truth &                   30.0 &           41.57 &    34.44 \\\\\n",
      "27 &  particle\\_uncertainty\\_truth &                   35.0 &           32.54 &    40.47 \\\\\n",
      "28 &  particle\\_uncertainty\\_truth &                   40.0 &           17.60 &   591.92 \\\\\n",
      "29 &  particle\\_uncertainty\\_truth &                   45.0 &            1.61 &  2443.18 \\\\\n",
      "\\bottomrule\n",
      "\\end{tabular}\n",
      "\n"
     ]
    }
   ],
   "source": [
    "table = median_res[median_res['parameter_uncertainty']<=55]\n",
    "table = table.drop(columns = [\"time_taken_safety_controller\"])\n",
    "print(round(table,2).to_latex())\n"
   ]
  },
  {
   "cell_type": "code",
   "execution_count": 83,
   "metadata": {},
   "outputs": [
    {
     "name": "stdout",
     "output_type": "stream",
     "text": [
      "\\begin{tabular}{llrrrr}\n",
      "\\toprule\n",
      "{} &          mode &  parameter\\_uncertainty &  time\\_taken\\_lec &  area &  percent\\_change\\_in\\_size\\_of\\_reachset \\\\\n",
      "\\midrule\n",
      "0  &  ground\\_truth &                    0.0 &            80.0 &   3.0 &                                 0.0 \\\\\n",
      "1  &  ground\\_truth &                    5.0 &            78.0 &   5.0 &                                68.0 \\\\\n",
      "2  &  ground\\_truth &                   10.0 &            80.0 &   7.0 &                               157.0 \\\\\n",
      "3  &  ground\\_truth &                   15.0 &            76.0 &  11.0 &                               264.0 \\\\\n",
      "4  &  ground\\_truth &                   20.0 &            63.0 &  15.0 &                               401.0 \\\\\n",
      "5  &  ground\\_truth &                   25.0 &            56.0 &  19.0 &                               555.0 \\\\\n",
      "6  &  ground\\_truth &                   30.0 &            45.0 &  24.0 &                               729.0 \\\\\n",
      "7  &  ground\\_truth &                   35.0 &            39.0 &  31.0 &                               962.0 \\\\\n",
      "8  &  ground\\_truth &                   40.0 &            37.0 &  39.0 &                              1257.0 \\\\\n",
      "9  &  ground\\_truth &                   45.0 &            38.0 &  48.0 &                              1544.0 \\\\\n",
      "10 &  ground\\_truth &                   50.0 &            28.0 &  66.0 &                              2166.0 \\\\\n",
      "\\bottomrule\n",
      "\\end{tabular}\n",
      "\n"
     ]
    }
   ],
   "source": [
    "print(round(median_gt.drop(columns = [\"time_taken_safety_controller\"]).head(11)).to_latex())"
   ]
  },
  {
   "cell_type": "code",
   "execution_count": 84,
   "metadata": {},
   "outputs": [
    {
     "name": "stdout",
     "output_type": "stream",
     "text": [
      "\\begin{tabular}{llrrrr}\n",
      "\\toprule\n",
      "{} &                        mode &  parameter\\_uncertainty &  time\\_taken\\_lec &    area &  percent\\_change\\_in\\_size\\_of\\_reachset \\\\\n",
      "\\midrule\n",
      "20 &  particle\\_uncertainty\\_truth &                    0.0 &            77.0 &    10.0 &                                 0.0 \\\\\n",
      "21 &  particle\\_uncertainty\\_truth &                    5.0 &            73.0 &    12.0 &                                23.0 \\\\\n",
      "22 &  particle\\_uncertainty\\_truth &                   10.0 &            73.0 &    16.0 &                                60.0 \\\\\n",
      "23 &  particle\\_uncertainty\\_truth &                   15.0 &            65.0 &    20.0 &                               100.0 \\\\\n",
      "24 &  particle\\_uncertainty\\_truth &                   20.0 &            58.0 &    24.0 &                               132.0 \\\\\n",
      "25 &  particle\\_uncertainty\\_truth &                   25.0 &            52.0 &    28.0 &                               179.0 \\\\\n",
      "26 &  particle\\_uncertainty\\_truth &                   30.0 &            42.0 &    34.0 &                               239.0 \\\\\n",
      "27 &  particle\\_uncertainty\\_truth &                   35.0 &            33.0 &    40.0 &                               299.0 \\\\\n",
      "28 &  particle\\_uncertainty\\_truth &                   40.0 &            18.0 &   592.0 &                              5733.0 \\\\\n",
      "29 &  particle\\_uncertainty\\_truth &                   45.0 &             2.0 &  2443.0 &                             23976.0 \\\\\n",
      "30 &  particle\\_uncertainty\\_truth &                   55.0 &             0.0 &  2470.0 &                             24244.0 \\\\\n",
      "\\bottomrule\n",
      "\\end{tabular}\n",
      "\n"
     ]
    }
   ],
   "source": [
    "print(round(median_pu.drop(columns = [\"time_taken_safety_controller\"]).head(11)).to_latex())"
   ]
  },
  {
   "cell_type": "markdown",
   "metadata": {},
   "source": [
    "###  Ground Truth"
   ]
  },
  {
   "cell_type": "code",
   "execution_count": 86,
   "metadata": {},
   "outputs": [
    {
     "name": "stderr",
     "output_type": "stream",
     "text": [
      "No handles with labels found to put in legend.\n"
     ]
    },
    {
     "data": {
      "image/png": "[encoded data removed]",
      "text/plain": [
       "<Figure size 1080x576 with 1 Axes>"
      ]
     },
     "metadata": {},
     "output_type": "display_data"
    }
   ],
   "source": [
    "var1 = 'percent_change_in_size_of_reachset'\n",
    "\n",
    "\n",
    "plt.figure(figsize=(15,8))\n",
    "ax = sns.lineplot(data=median_gt, x=\"parameter_uncertainty\",y=var1,color='red')\n",
    "ax.spines['bottom'].set_color('#dddddd')\n",
    "ax.spines['left'].set_color('#dddddd')\n",
    "sns.despine(left=False, bottom=False, right=True)\n",
    "_= plt.legend(loc='upper left',frameon=False)\n",
    "\n",
    "SMALL_SIZE = 10\n",
    "MEDIUM_SIZE = 10\n",
    "BIGGER_SIZE = 12\n",
    "\n",
    "\n",
    "_= plt.ylabel(\"% Change in Size of Reachset\")\n",
    "_= plt.xlabel('Parameter Uncertainty % (+-)')\n",
    "_= plt.title(\"Parameter Uncertainty vs % Change in Size of Reachset (Ground Truth)\",loc='left',pad=11.0,fontweight=\"bold\",fontsize=15)\n",
    "\n",
    "plt.setp(ax.spines.values(), linewidth=4)\n",
    "plt.rc('font', size=BIGGER_SIZE)          # controls default text sizes\n",
    "plt.rc('axes', titlesize=SMALL_SIZE)     # fontsize of the axes title\n",
    "plt.rc('axes', labelsize=BIGGER_SIZE)    # fontsize of the x and y labels\n",
    "plt.rc('xtick', labelsize=SMALL_SIZE)    # fontsize of the tick labels\n",
    "plt.rc('ytick', labelsize=SMALL_SIZE)    # fontsize of the tick labels\n",
    "plt.rc('legend', fontsize=SMALL_SIZE)    # legend fontsize\n",
    "plt.rc('figure', titlesize=15)  # fontsize of the figure title\n",
    "_ = plt.xticks(np.arange(0, 110.0, 10))\n"
   ]
  },
  {
   "cell_type": "markdown",
   "metadata": {},
   "source": [
    "### When you Incorporate Position Uncertainty"
   ]
  },
  {
   "cell_type": "code",
   "execution_count": 65,
   "metadata": {},
   "outputs": [
    {
     "name": "stderr",
     "output_type": "stream",
     "text": [
      "No handles with labels found to put in legend.\n"
     ]
    },
    {
     "data": {
      "image/png": "[encoded data removed]",
      "text/plain": [
       "<Figure size 1080x576 with 1 Axes>"
      ]
     },
     "metadata": {},
     "output_type": "display_data"
    }
   ],
   "source": [
    "var1 = 'percent_change_in_size_of_reachset'\n",
    "\n",
    "plt.figure(figsize=(15,8))\n",
    "ax = sns.lineplot(data=median_pu, x=\"parameter_uncertainty\",y=var1)\n",
    "ax.spines['bottom'].set_color('#dddddd')\n",
    "ax.spines['left'].set_color('#dddddd')\n",
    "sns.despine(left=False, bottom=False, right=True)\n",
    "_= plt.legend(loc='upper left',frameon=False)\n",
    "\n",
    "_= plt.ylabel(\"% Change in Size of Reachset\")\n",
    "_= plt.xlabel('Parameter Uncertainty % (+-)')\n",
    "_= plt.title(\"Parameter Uncertainty vs % Change in Size of Reachset\",loc='left',pad=10.0,fontweight=\"bold\")"
   ]
  },
  {
   "cell_type": "markdown",
   "metadata": {},
   "source": [
    "### Both "
   ]
  },
  {
   "cell_type": "code",
   "execution_count": 87,
   "metadata": {},
   "outputs": [
    {
     "data": {
      "image/png": "[encoded data removed]",
      "text/plain": [
       "<Figure size 1080x576 with 1 Axes>"
      ]
     },
     "metadata": {},
     "output_type": "display_data"
    }
   ],
   "source": [
    "var1 = 'percent_change_in_size_of_reachset'\n",
    "\n",
    "\n",
    "plt.figure(figsize=(15,8))\n",
    "ax = sns.lineplot(data=median_pu, x=\"parameter_uncertainty\",y=var1,label=\"Particle Filter\")\n",
    "ax = sns.lineplot(data=median_gt, x=\"parameter_uncertainty\",y=var1,label=\"Ground Truth\")\n",
    "ax.spines['bottom'].set_color('#dddddd')\n",
    "ax.spines['left'].set_color('#dddddd')\n",
    "sns.despine(left=False, bottom=False, right=True)\n",
    "_= plt.legend(loc='upper left',frameon=False)\n",
    "\n",
    "_= plt.ylabel(\"% Change in Size of Reachset\")\n",
    "_= plt.xlabel('Parameter Uncertainty % (+-)')\n",
    "_= plt.title(\"Parameter Uncertainty vs % Change in Size of Reachset\",loc='left',pad=10.0,fontweight=\"bold\")"
   ]
  },
  {
   "cell_type": "code",
   "execution_count": 74,
   "metadata": {},
   "outputs": [
    {
     "data": {
      "image/png": "[encoded data removed]",
      "text/plain": [
       "<Figure size 1080x576 with 1 Axes>"
      ]
     },
     "metadata": {},
     "output_type": "display_data"
    }
   ],
   "source": [
    "plt.figure(figsize=(15,8))\n",
    "ax = sns.lineplot(data=median_gt[median_gt['parameter_uncertainty']<85], x=\"parameter_uncertainty\",y=\"time_taken_lec\", label='VBN')\n",
    "ax = sns.lineplot(data=median_gt[median_gt['parameter_uncertainty']<85], x=\"parameter_uncertainty\",y=\"time_taken_safety_controller\",label='safety controller')\n",
    "ax.spines['bottom'].set_color('#dddddd')\n",
    "ax.spines['left'].set_color('#dddddd')\n",
    "sns.despine(left=False, bottom=False, right=True)\n",
    "_= plt.legend(loc='best',frameon=False)\n",
    "\n",
    "_= plt.ylabel(\"Proportion (%) of Actions Utilized by the System\")\n",
    "_= plt.xlabel('Parameter Uncertainty % (+-)')\n",
    "_= plt.title(\"Parameter Uncertainty vs Controller Use (Ground Truth)\",loc='left',pad=10.0,fontweight=\"bold\",fontsize=15)\n",
    "\n",
    "plt.setp(ax.spines.values(), linewidth=4)\n",
    "plt.rc('font', size=BIGGER_SIZE)          # controls default text sizes\n",
    "plt.rc('axes', titlesize=SMALL_SIZE)     # fontsize of the axes title\n",
    "plt.rc('axes', labelsize=BIGGER_SIZE)    # fontsize of the x and y labels\n",
    "plt.rc('xtick', labelsize=SMALL_SIZE)    # fontsize of the tick labels\n",
    "plt.rc('ytick', labelsize=SMALL_SIZE)    # fontsize of the tick labels\n",
    "plt.rc('legend', fontsize=SMALL_SIZE)    # legend fontsize\n",
    "plt.rc('figure', titlesize=15)  # fontsize of the figure title\n"
   ]
  },
  {
   "cell_type": "code",
   "execution_count": 73,
   "metadata": {},
   "outputs": [
    {
     "data": {
      "image/png": "[encoded data removed]",
      "text/plain": [
       "<Figure size 1080x576 with 1 Axes>"
      ]
     },
     "metadata": {},
     "output_type": "display_data"
    }
   ],
   "source": [
    "plt.figure(figsize=(15,8))\n",
    "ax = sns.lineplot(data=median_pu, x=\"parameter_uncertainty\",y=\"time_taken_lec\", label='VBN')\n",
    "ax = sns.lineplot(data=median_pu, x=\"parameter_uncertainty\",y=\"time_taken_safety_controller\",label='safety controller')\n",
    "ax.spines['bottom'].set_color('#dddddd')\n",
    "ax.spines['left'].set_color('#dddddd')\n",
    "sns.despine(left=False, bottom=False, right=True)\n",
    "_= plt.legend(loc='best',frameon=False)\n",
    "\n",
    "_= plt.ylabel(\"Usage (%)\")\n",
    "\n",
    "_= plt.xlabel('Parameter Uncertainty % (+-)')\n",
    "_= plt.title(\"Parameter Uncertainty vs Controller Use (Particle Filter)\",loc='left',pad=10.0,fontweight=\"bold\",fontsize=15)\n",
    "plt.setp(ax.spines.values(), linewidth=4)\n",
    "plt.rc('font', size=BIGGER_SIZE)          # controls default text sizes\n",
    "plt.rc('axes', titlesize=SMALL_SIZE)     # fontsize of the axes title\n",
    "plt.rc('axes', labelsize=BIGGER_SIZE)    # fontsize of the x and y labels\n",
    "plt.rc('xtick', labelsize=SMALL_SIZE)    # fontsize of the tick labels\n",
    "plt.rc('ytick', labelsize=SMALL_SIZE)    # fontsize of the tick labels\n",
    "plt.rc('legend', fontsize=SMALL_SIZE)    # legend fontsize\n",
    "plt.rc('figure', titlesize=15)  # fontsize of the figure title"
   ]
  },
  {
   "cell_type": "markdown",
   "metadata": {},
   "source": [
    "### Experiments Varying Uncertainty and Reachability Horizon"
   ]
  },
  {
   "cell_type": "code",
   "execution_count": 13,
   "metadata": {},
   "outputs": [],
   "source": [
    "params = [\"0.000000\",\"0.050000\",\"0.100000\",\"0.150000\",\"0.200000\",\"0.250000\",\"0.300000\",\"0.350000\",\"0.400000\",\"0.450000\",\"0.500000\",\n",
    "\"0.550000\",\"0.600000\",\"0.650000\",\"0.700000\",\"0.750000\",\"0.800000\",\"0.850000\",\"0.900000\",\"0.950000\"]\n",
    "\n",
    "reachtime = [\"0.500000\",\"0.600000\",\"0.700000\",\"0.800000\",\"0.900000\",\"1.000000\",\"1.100000\", \"1.200000\",\"1.300000\",\n",
    "\"1.400000\",\"1.500000\",\"1.600000\",\"1.700000\",\"1.800000\",\"1.800000\",\"1.900000\",\"2.000000\"]\n",
    "\n",
    "file_str = \"ground_truth_{}_{}_.csv\"\n",
    "original_dfs = []\n",
    "for uncp in params:\n",
    "    for rt in reachtime: \n",
    "        filepath = file_str.format(uncp,rt)\n",
    "        \n",
    "        try:\n",
    "            df = pd.read_csv(filepath,header=None)\n",
    "            df = df.rename(columns={0:'time_str',1:'time_taken_lec',2:'time_taken_safety_controller',3:'area'})\n",
    "            df['parameter_uncertainty']  = uncp\n",
    "            df['reach_time']  = rt\n",
    "            original_dfs.append(df)\n",
    "\n",
    "        except Exception as e:\n",
    "            continue\n",
    "            #print(filepath,e)\n",
    "            \n",
    "reach_uncertainty = dfs = pd.concat(original_dfs)\n"
   ]
  },
  {
   "cell_type": "code",
   "execution_count": 14,
   "metadata": {},
   "outputs": [
    {
     "data": {
      "text/html": [
       "<div>\n",
       "<style scoped>\n",
       "    .dataframe tbody tr th:only-of-type {\n",
       "        vertical-align: middle;\n",
       "    }\n",
       "\n",
       "    .dataframe tbody tr th {\n",
       "        vertical-align: top;\n",
       "    }\n",
       "\n",
       "    .dataframe thead th {\n",
       "        text-align: right;\n",
       "    }\n",
       "</style>\n",
       "<table border=\"1\" class=\"dataframe\">\n",
       "  <thead>\n",
       "    <tr style=\"text-align: right;\">\n",
       "      <th></th>\n",
       "      <th>time_str</th>\n",
       "      <th>time_taken_lec</th>\n",
       "      <th>time_taken_safety_controller</th>\n",
       "      <th>area</th>\n",
       "      <th>parameter_uncertainty</th>\n",
       "      <th>reach_time</th>\n",
       "    </tr>\n",
       "  </thead>\n",
       "  <tbody>\n",
       "    <tr>\n",
       "      <th>0</th>\n",
       "      <td>22/03/2022/14:45:24</td>\n",
       "      <td>0.987654</td>\n",
       "      <td>0.012346</td>\n",
       "      <td>3.29544</td>\n",
       "      <td>0.000000</td>\n",
       "      <td>0.500000</td>\n",
       "    </tr>\n",
       "    <tr>\n",
       "      <th>1</th>\n",
       "      <td>22/03/2022/14:46:15</td>\n",
       "      <td>0.923977</td>\n",
       "      <td>0.076023</td>\n",
       "      <td>3.07730</td>\n",
       "      <td>0.000000</td>\n",
       "      <td>0.500000</td>\n",
       "    </tr>\n",
       "    <tr>\n",
       "      <th>2</th>\n",
       "      <td>22/03/2022/14:47:34</td>\n",
       "      <td>0.985014</td>\n",
       "      <td>0.014986</td>\n",
       "      <td>3.06432</td>\n",
       "      <td>0.000000</td>\n",
       "      <td>0.500000</td>\n",
       "    </tr>\n",
       "    <tr>\n",
       "      <th>3</th>\n",
       "      <td>22/03/2022/14:48:20</td>\n",
       "      <td>0.912088</td>\n",
       "      <td>0.087912</td>\n",
       "      <td>3.12691</td>\n",
       "      <td>0.000000</td>\n",
       "      <td>0.500000</td>\n",
       "    </tr>\n",
       "    <tr>\n",
       "      <th>4</th>\n",
       "      <td>22/03/2022/14:49:07</td>\n",
       "      <td>0.859107</td>\n",
       "      <td>0.140893</td>\n",
       "      <td>3.08200</td>\n",
       "      <td>0.000000</td>\n",
       "      <td>0.500000</td>\n",
       "    </tr>\n",
       "    <tr>\n",
       "      <th>...</th>\n",
       "      <td>...</td>\n",
       "      <td>...</td>\n",
       "      <td>...</td>\n",
       "      <td>...</td>\n",
       "      <td>...</td>\n",
       "      <td>...</td>\n",
       "    </tr>\n",
       "    <tr>\n",
       "      <th>3</th>\n",
       "      <td>27/03/2022/09:34:38</td>\n",
       "      <td>0.071661</td>\n",
       "      <td>0.928339</td>\n",
       "      <td>10823.80000</td>\n",
       "      <td>0.900000</td>\n",
       "      <td>2.000000</td>\n",
       "    </tr>\n",
       "    <tr>\n",
       "      <th>4</th>\n",
       "      <td>27/03/2022/09:36:49</td>\n",
       "      <td>0.165595</td>\n",
       "      <td>0.834405</td>\n",
       "      <td>9872.37000</td>\n",
       "      <td>0.900000</td>\n",
       "      <td>2.000000</td>\n",
       "    </tr>\n",
       "    <tr>\n",
       "      <th>5</th>\n",
       "      <td>27/03/2022/09:39:00</td>\n",
       "      <td>0.070090</td>\n",
       "      <td>0.929910</td>\n",
       "      <td>10606.50000</td>\n",
       "      <td>0.900000</td>\n",
       "      <td>2.000000</td>\n",
       "    </tr>\n",
       "    <tr>\n",
       "      <th>6</th>\n",
       "      <td>27/03/2022/09:41:12</td>\n",
       "      <td>0.167072</td>\n",
       "      <td>0.832928</td>\n",
       "      <td>11330.80000</td>\n",
       "      <td>0.900000</td>\n",
       "      <td>2.000000</td>\n",
       "    </tr>\n",
       "    <tr>\n",
       "      <th>7</th>\n",
       "      <td>27/03/2022/09:43:23</td>\n",
       "      <td>0.188771</td>\n",
       "      <td>0.811229</td>\n",
       "      <td>11838.50000</td>\n",
       "      <td>0.900000</td>\n",
       "      <td>2.000000</td>\n",
       "    </tr>\n",
       "  </tbody>\n",
       "</table>\n",
       "<p>3226 rows × 6 columns</p>\n",
       "</div>"
      ],
      "text/plain": [
       "               time_str  time_taken_lec  time_taken_safety_controller  \\\n",
       "0   22/03/2022/14:45:24        0.987654                      0.012346   \n",
       "1   22/03/2022/14:46:15        0.923977                      0.076023   \n",
       "2   22/03/2022/14:47:34        0.985014                      0.014986   \n",
       "3   22/03/2022/14:48:20        0.912088                      0.087912   \n",
       "4   22/03/2022/14:49:07        0.859107                      0.140893   \n",
       "..                  ...             ...                           ...   \n",
       "3   27/03/2022/09:34:38        0.071661                      0.928339   \n",
       "4   27/03/2022/09:36:49        0.165595                      0.834405   \n",
       "5   27/03/2022/09:39:00        0.070090                      0.929910   \n",
       "6   27/03/2022/09:41:12        0.167072                      0.832928   \n",
       "7   27/03/2022/09:43:23        0.188771                      0.811229   \n",
       "\n",
       "           area parameter_uncertainty reach_time  \n",
       "0       3.29544              0.000000   0.500000  \n",
       "1       3.07730              0.000000   0.500000  \n",
       "2       3.06432              0.000000   0.500000  \n",
       "3       3.12691              0.000000   0.500000  \n",
       "4       3.08200              0.000000   0.500000  \n",
       "..          ...                   ...        ...  \n",
       "3   10823.80000              0.900000   2.000000  \n",
       "4    9872.37000              0.900000   2.000000  \n",
       "5   10606.50000              0.900000   2.000000  \n",
       "6   11330.80000              0.900000   2.000000  \n",
       "7   11838.50000              0.900000   2.000000  \n",
       "\n",
       "[3226 rows x 6 columns]"
      ]
     },
     "execution_count": 14,
     "metadata": {},
     "output_type": "execute_result"
    }
   ],
   "source": [
    "ru_sorted = reach_uncertainty.sort_values(by=[\"parameter_uncertainty\",\"reach_time\"])\n",
    "ru_sorted"
   ]
  },
  {
   "cell_type": "code",
   "execution_count": 15,
   "metadata": {},
   "outputs": [
    {
     "data": {
      "text/html": [
       "<div>\n",
       "<style scoped>\n",
       "    .dataframe tbody tr th:only-of-type {\n",
       "        vertical-align: middle;\n",
       "    }\n",
       "\n",
       "    .dataframe tbody tr th {\n",
       "        vertical-align: top;\n",
       "    }\n",
       "\n",
       "    .dataframe thead th {\n",
       "        text-align: right;\n",
       "    }\n",
       "</style>\n",
       "<table border=\"1\" class=\"dataframe\">\n",
       "  <thead>\n",
       "    <tr style=\"text-align: right;\">\n",
       "      <th></th>\n",
       "      <th></th>\n",
       "      <th>time_taken_lec</th>\n",
       "      <th>time_taken_safety_controller</th>\n",
       "      <th>area</th>\n",
       "      <th>percent_change_in_size_of_reachset</th>\n",
       "    </tr>\n",
       "    <tr>\n",
       "      <th>parameter_uncertainty</th>\n",
       "      <th>reach_time</th>\n",
       "      <th></th>\n",
       "      <th></th>\n",
       "      <th></th>\n",
       "      <th></th>\n",
       "    </tr>\n",
       "  </thead>\n",
       "  <tbody>\n",
       "    <tr>\n",
       "      <th rowspan=\"5\" valign=\"top\">0.000000</th>\n",
       "      <th>0.500000</th>\n",
       "      <td>0.918033</td>\n",
       "      <td>0.081968</td>\n",
       "      <td>3.063685</td>\n",
       "      <td>0.00</td>\n",
       "    </tr>\n",
       "    <tr>\n",
       "      <th>0.600000</th>\n",
       "      <td>0.867522</td>\n",
       "      <td>0.132478</td>\n",
       "      <td>2.973180</td>\n",
       "      <td>-2.95</td>\n",
       "    </tr>\n",
       "    <tr>\n",
       "      <th>0.700000</th>\n",
       "      <td>0.896238</td>\n",
       "      <td>0.103762</td>\n",
       "      <td>2.944375</td>\n",
       "      <td>-3.89</td>\n",
       "    </tr>\n",
       "    <tr>\n",
       "      <th>0.800000</th>\n",
       "      <td>0.869565</td>\n",
       "      <td>0.130435</td>\n",
       "      <td>2.998950</td>\n",
       "      <td>-2.11</td>\n",
       "    </tr>\n",
       "    <tr>\n",
       "      <th>0.900000</th>\n",
       "      <td>0.751115</td>\n",
       "      <td>0.248886</td>\n",
       "      <td>2.959695</td>\n",
       "      <td>-3.39</td>\n",
       "    </tr>\n",
       "    <tr>\n",
       "      <th>...</th>\n",
       "      <th>...</th>\n",
       "      <td>...</td>\n",
       "      <td>...</td>\n",
       "      <td>...</td>\n",
       "      <td>...</td>\n",
       "    </tr>\n",
       "    <tr>\n",
       "      <th rowspan=\"5\" valign=\"top\">0.900000</th>\n",
       "      <th>1.600000</th>\n",
       "      <td>0.183142</td>\n",
       "      <td>0.816858</td>\n",
       "      <td>4280.655000</td>\n",
       "      <td>139622.43</td>\n",
       "    </tr>\n",
       "    <tr>\n",
       "      <th>1.700000</th>\n",
       "      <td>0.168430</td>\n",
       "      <td>0.831569</td>\n",
       "      <td>5482.590000</td>\n",
       "      <td>178854.10</td>\n",
       "    </tr>\n",
       "    <tr>\n",
       "      <th>1.800000</th>\n",
       "      <td>0.166467</td>\n",
       "      <td>0.833533</td>\n",
       "      <td>7141.740000</td>\n",
       "      <td>233009.47</td>\n",
       "    </tr>\n",
       "    <tr>\n",
       "      <th>1.900000</th>\n",
       "      <td>0.150234</td>\n",
       "      <td>0.849767</td>\n",
       "      <td>8059.580000</td>\n",
       "      <td>262968.17</td>\n",
       "    </tr>\n",
       "    <tr>\n",
       "      <th>2.000000</th>\n",
       "      <td>0.160699</td>\n",
       "      <td>0.839301</td>\n",
       "      <td>10500.700000</td>\n",
       "      <td>342647.38</td>\n",
       "    </tr>\n",
       "  </tbody>\n",
       "</table>\n",
       "<p>304 rows × 4 columns</p>\n",
       "</div>"
      ],
      "text/plain": [
       "                                  time_taken_lec  \\\n",
       "parameter_uncertainty reach_time                   \n",
       "0.000000              0.500000          0.918033   \n",
       "                      0.600000          0.867522   \n",
       "                      0.700000          0.896238   \n",
       "                      0.800000          0.869565   \n",
       "                      0.900000          0.751115   \n",
       "...                                          ...   \n",
       "0.900000              1.600000          0.183142   \n",
       "                      1.700000          0.168430   \n",
       "                      1.800000          0.166467   \n",
       "                      1.900000          0.150234   \n",
       "                      2.000000          0.160699   \n",
       "\n",
       "                                  time_taken_safety_controller          area  \\\n",
       "parameter_uncertainty reach_time                                               \n",
       "0.000000              0.500000                        0.081968      3.063685   \n",
       "                      0.600000                        0.132478      2.973180   \n",
       "                      0.700000                        0.103762      2.944375   \n",
       "                      0.800000                        0.130435      2.998950   \n",
       "                      0.900000                        0.248886      2.959695   \n",
       "...                                                        ...           ...   \n",
       "0.900000              1.600000                        0.816858   4280.655000   \n",
       "                      1.700000                        0.831569   5482.590000   \n",
       "                      1.800000                        0.833533   7141.740000   \n",
       "                      1.900000                        0.849767   8059.580000   \n",
       "                      2.000000                        0.839301  10500.700000   \n",
       "\n",
       "                                  percent_change_in_size_of_reachset  \n",
       "parameter_uncertainty reach_time                                      \n",
       "0.000000              0.500000                                  0.00  \n",
       "                      0.600000                                 -2.95  \n",
       "                      0.700000                                 -3.89  \n",
       "                      0.800000                                 -2.11  \n",
       "                      0.900000                                 -3.39  \n",
       "...                                                              ...  \n",
       "0.900000              1.600000                             139622.43  \n",
       "                      1.700000                             178854.10  \n",
       "                      1.800000                             233009.47  \n",
       "                      1.900000                             262968.17  \n",
       "                      2.000000                             342647.38  \n",
       "\n",
       "[304 rows x 4 columns]"
      ]
     },
     "execution_count": 15,
     "metadata": {},
     "output_type": "execute_result"
    }
   ],
   "source": [
    "ru_sorted = reach_uncertainty.groupby(['parameter_uncertainty','reach_time']).median()\n",
    "ru = reach_uncertainty.groupby(['parameter_uncertainty','reach_time']).median()\n",
    "ru['percent_change_in_size_of_reachset'] = round((ru['area'] - ru_sorted.iloc[0]['area'])/ru_sorted.iloc[0]['area'] * 100,2)\n",
    "ru"
   ]
  },
  {
   "cell_type": "code",
   "execution_count": 41,
   "metadata": {},
   "outputs": [
    {
     "data": {
      "text/html": [
       "<div>\n",
       "<style scoped>\n",
       "    .dataframe tbody tr th:only-of-type {\n",
       "        vertical-align: middle;\n",
       "    }\n",
       "\n",
       "    .dataframe tbody tr th {\n",
       "        vertical-align: top;\n",
       "    }\n",
       "\n",
       "    .dataframe thead th {\n",
       "        text-align: right;\n",
       "    }\n",
       "</style>\n",
       "<table border=\"1\" class=\"dataframe\">\n",
       "  <thead>\n",
       "    <tr style=\"text-align: right;\">\n",
       "      <th></th>\n",
       "      <th>parameter_uncertainty</th>\n",
       "      <th>reach_time</th>\n",
       "      <th>time_taken_lec</th>\n",
       "      <th>time_taken_safety_controller</th>\n",
       "      <th>area</th>\n",
       "      <th>percent_change_in_size_of_reachset</th>\n",
       "    </tr>\n",
       "  </thead>\n",
       "  <tbody>\n",
       "    <tr>\n",
       "      <th>0</th>\n",
       "      <td>0.0</td>\n",
       "      <td>0.5</td>\n",
       "      <td>91.80</td>\n",
       "      <td>0.08</td>\n",
       "      <td>3.06</td>\n",
       "      <td>0.00</td>\n",
       "    </tr>\n",
       "    <tr>\n",
       "      <th>1</th>\n",
       "      <td>0.0</td>\n",
       "      <td>0.6</td>\n",
       "      <td>86.75</td>\n",
       "      <td>0.13</td>\n",
       "      <td>2.97</td>\n",
       "      <td>-2.95</td>\n",
       "    </tr>\n",
       "    <tr>\n",
       "      <th>2</th>\n",
       "      <td>0.0</td>\n",
       "      <td>0.7</td>\n",
       "      <td>89.62</td>\n",
       "      <td>0.10</td>\n",
       "      <td>2.94</td>\n",
       "      <td>-3.89</td>\n",
       "    </tr>\n",
       "    <tr>\n",
       "      <th>3</th>\n",
       "      <td>0.0</td>\n",
       "      <td>0.8</td>\n",
       "      <td>86.96</td>\n",
       "      <td>0.13</td>\n",
       "      <td>3.00</td>\n",
       "      <td>-2.11</td>\n",
       "    </tr>\n",
       "    <tr>\n",
       "      <th>4</th>\n",
       "      <td>0.0</td>\n",
       "      <td>0.9</td>\n",
       "      <td>75.11</td>\n",
       "      <td>0.25</td>\n",
       "      <td>2.96</td>\n",
       "      <td>-3.39</td>\n",
       "    </tr>\n",
       "  </tbody>\n",
       "</table>\n",
       "</div>"
      ],
      "text/plain": [
       "   parameter_uncertainty  reach_time  time_taken_lec  \\\n",
       "0                    0.0         0.5           91.80   \n",
       "1                    0.0         0.6           86.75   \n",
       "2                    0.0         0.7           89.62   \n",
       "3                    0.0         0.8           86.96   \n",
       "4                    0.0         0.9           75.11   \n",
       "\n",
       "   time_taken_safety_controller  area  percent_change_in_size_of_reachset  \n",
       "0                          0.08  3.06                                0.00  \n",
       "1                          0.13  2.97                               -2.95  \n",
       "2                          0.10  2.94                               -3.89  \n",
       "3                          0.13  3.00                               -2.11  \n",
       "4                          0.25  2.96                               -3.39  "
      ]
     },
     "execution_count": 41,
     "metadata": {},
     "output_type": "execute_result"
    }
   ],
   "source": [
    "ru_plot = ru.reset_index()\n",
    "ru_plot['reach_time'] = ru_plot[\"reach_time\"].apply(float)\n",
    "ru_plot['parameter_uncertainty'] = ru_plot['parameter_uncertainty'].apply(float) * 100\n",
    "ru_plot['time_taken_lec'] = ru_plot['time_taken_lec'] * 100\n",
    "ru_plot = round(ru_plot,2)\n",
    "ru_plot.head()"
   ]
  },
  {
   "cell_type": "code",
   "execution_count": 23,
   "metadata": {},
   "outputs": [
    {
     "data": {
      "text/plain": [
       "<matplotlib.collections.PathCollection at 0x7f567cd7fcf8>"
      ]
     },
     "execution_count": 23,
     "metadata": {},
     "output_type": "execute_result"
    },
    {
     "data": {
      "image/png": "[encoded data removed]",
      "text/plain": [
       "<Figure size 1080x576 with 1 Axes>"
      ]
     },
     "metadata": {},
     "output_type": "display_data"
    }
   ],
   "source": [
    "plt.figure(figsize=(15,8))\n",
    "\n",
    "ax.spines['bottom'].set_color('#dddddd')\n",
    "ax.spines['left'].set_color('#dddddd')\n",
    "\n",
    "plt.scatter(ru_plot[\"parameter_uncertainty\"], ru_plot[\"percent_change_in_size_of_reachset\"])\n",
    "#sns.despine(left=False, bottom=False, right=True)\n",
    "\n",
    "# ax.set_xlabel(\"parameter_uncertainty\")\n",
    "# ax.set_ylabel(\"reach_time\")\n",
    "# ax.set_zlabel(\"percent_change_in_size_of_reachset\")\n",
    "# _= plt.legend(loc='best',frameon=False)\n",
    "\n",
    "# _= plt.ylabel(\"Usage (%)\")\n",
    "\n",
    "# _= plt.xlabel('Parameter Uncertainty % (+-)')\n",
    "# _= plt.title(\"Parameter Uncertainty vs Controller Use\",loc='left',pad=10.0,fontweight=\"bold\")"
   ]
  },
  {
   "cell_type": "code",
   "execution_count": 18,
   "metadata": {},
   "outputs": [
    {
     "data": {
      "text/plain": [
       "<seaborn.axisgrid.FacetGrid at 0x7f568120e780>"
      ]
     },
     "execution_count": 18,
     "metadata": {},
     "output_type": "execute_result"
    },
    {
     "data": {
      "text/plain": [
       "<Figure size 1080x576 with 0 Axes>"
      ]
     },
     "metadata": {},
     "output_type": "display_data"
    },
    {
     "data": {
      "image/png": "[encoded data removed]",
      "text/plain": [
       "<Figure size 882x4032 with 16 Axes>"
      ]
     },
     "metadata": {},
     "output_type": "display_data"
    }
   ],
   "source": [
    "plt.figure(figsize=(15,8))\n",
    "g = sns.FacetGrid(ru_plot, row=\"reach_time\",height=3.5,aspect=3.5)\n",
    "g.map(sns.lineplot, \"parameter_uncertainty\", \"percent_change_in_size_of_reachset\")"
   ]
  },
  {
   "cell_type": "code",
   "execution_count": 39,
   "metadata": {},
   "outputs": [
    {
     "data": {
      "application/vnd.plotly.v1+json": {
       "config": {
        "plotlyServerURL": "https://plot.ly"
       },
       "data": [
        {
         "hovertemplate": "Reach Time (s)=%{x}<br>Parameter Uncertainty (%)=%{y}<br>% Change in Size of Reachset=%{marker.color}<extra></extra>",
         "legendgroup": "",
         "marker": {
          "color": [
           0,
           -2.95,
           -3.89,
           -2.11,
           -3.39,
           -2.76,
           -1.88,
           -1.88,
           -1.89,
           -1.08,
           -0.66,
           -0.68,
           -0.8,
           -0.78,
           -0.95,
           -0.47,
           8.21,
           15.08,
           22.59,
           29.18,
           46.33,
           59.52,
           70.99,
           86.95,
           100.88,
           114.72,
           131.68,
           141.7,
           162.82,
           177.93,
           203.76,
           230.1,
           28.15,
           42.78,
           51.14,
           77.9,
           107.66,
           141.01,
           170.65,
           206.41,
           239.84,
           274.24,
           310.11,
           356.53,
           408.53,
           473.57,
           541.46,
           596.46,
           45.07,
           65.83,
           98.04,
           143.69,
           190.69,
           238.29,
           291.95,
           337.91,
           393.29,
           468.27,
           566.93,
           665.28,
           751.03,
           875.74,
           1027.2,
           1189.36,
           65.8,
           87.82,
           145.76,
           208.14,
           281.97,
           353.3,
           421.35,
           496.49,
           625.89,
           760.78,
           903.78,
           1073.96,
           1272.8,
           1497.71,
           1762.45,
           2162.99,
           82.51,
           139.07,
           206.2,
           291.77,
           392.03,
           471.13,
           577.99,
           756,
           933.09,
           1121.74,
           1364.63,
           1635.14,
           2103.65,
           2611.4,
           3064.95,
           3609.76,
           114.4,
           177.82,
           280.89,
           396.54,
           494.89,
           615,
           821.18,
           1001.45,
           1302.74,
           1574.96,
           2288.87,
           2963.86,
           3640.38,
           4370.27,
           5157.9,
           5572.61,
           129.94,
           237.67,
           351.67,
           471.99,
           593.05,
           813.2,
           1069.71,
           1342.21,
           1916.2,
           2708.34,
           3457.28,
           4297.91,
           5167.35,
           6237.45,
           7318.53,
           8145.27,
           170.76,
           299.49,
           438.94,
           579.91,
           794.63,
           1072.98,
           1453.49,
           2097.96,
           3037.14,
           3826.43,
           4845.24,
           5983.08,
           7021.88,
           8289.49,
           10114.32,
           12267.35,
           218.99,
           366.79,
           522.25,
           716.4,
           1035.49,
           1446.36,
           2110.36,
           3136.96,
           4068.53,
           5350.3,
           6318.97,
           7710.4,
           9807.09,
           12383.59,
           15454.94,
           18452.9,
           282.68,
           463.77,
           624.77,
           938.04,
           1372.43,
           2143.7,
           3199.1,
           4273.31,
           5691.28,
           6704.24,
           8751.76,
           11554.09,
           14584.54,
           18246.94,
           22121.02,
           26435.15,
           335.69,
           530.56,
           759.97,
           1154.1,
           1850.79,
           2942.93,
           4126.95,
           5531.47,
           7034.12,
           9351.35,
           12446.59,
           15989.63,
           20209.32,
           24657.98,
           30751.18,
           37667.92,
           390.26,
           594.98,
           933.59,
           1442.13,
           2562.98,
           3741.45,
           5271.75,
           6740.44,
           9489.22,
           12738.51,
           16935.86,
           22081,
           27546.89,
           35345.22,
           43269.83,
           54033.18,
           460.74,
           688.55,
           1133.41,
           1863.67,
           3241.43,
           4791.58,
           6346.93,
           8912.5,
           12855.18,
           17215.85,
           23090.34,
           29903.05,
           38402.16,
           49048.49,
           61387.39,
           75816.26,
           525.75,
           819.9,
           1374.94,
           2586.67,
           4070.96,
           5723.41,
           8278.7,
           12342.11,
           16817.26,
           23053.21,
           30783.43,
           40493.6,
           53411.05,
           67367.93,
           84538.76,
           104732.25,
           565.61,
           972.52,
           1711.88,
           3177.92,
           4994.94,
           6983.48,
           10886.23,
           15718.53,
           22009.62,
           30917.27,
           41517.2,
           54961.31,
           71465.61,
           92485.56,
           115260.1,
           144971.05,
           631.84,
           1121.81,
           2327.63,
           3918,
           5614.3,
           9302.47,
           14183.89,
           20659.71,
           29523.08,
           41032.66,
           56624.34,
           76048.98,
           98870.03,
           129678.84,
           163358.71,
           196120.56,
           734.02,
           1331.05,
           2867.49,
           4891.15,
           7337.47,
           12124.94,
           18370.65,
           27055.86,
           39085,
           55757.73,
           75846.12,
           105536.35,
           136299.47,
           175512.21,
           218386.89,
           255128.92,
           864.52,
           1692.71,
           3498.05,
           5496.61,
           9740.44,
           15530.52,
           24448.18,
           35698.39,
           52906.1,
           75538.98,
           102226.12,
           139622.43,
           178854.1,
           233009.47,
           262968.17,
           342647.38
          ],
          "coloraxis": "coloraxis",
          "symbol": "circle"
         },
         "mode": "markers",
         "name": "",
         "scene": "scene",
         "showlegend": false,
         "type": "scatter3d",
         "x": [
          0.5,
          0.6,
          0.7,
          0.8,
          0.9,
          1,
          1.1,
          1.2,
          1.3,
          1.4,
          1.5,
          1.6,
          1.7,
          1.8,
          1.9,
          2,
          0.5,
          0.6,
          0.7,
          0.8,
          0.9,
          1,
          1.1,
          1.2,
          1.3,
          1.4,
          1.5,
          1.6,
          1.7,
          1.8,
          1.9,
          2,
          0.5,
          0.6,
          0.7,
          0.8,
          0.9,
          1,
          1.1,
          1.2,
          1.3,
          1.4,
          1.5,
          1.6,
          1.7,
          1.8,
          1.9,
          2,
          0.5,
          0.6,
          0.7,
          0.8,
          0.9,
          1,
          1.1,
          1.2,
          1.3,
          1.4,
          1.5,
          1.6,
          1.7,
          1.8,
          1.9,
          2,
          0.5,
          0.6,
          0.7,
          0.8,
          0.9,
          1,
          1.1,
          1.2,
          1.3,
          1.4,
          1.5,
          1.6,
          1.7,
          1.8,
          1.9,
          2,
          0.5,
          0.6,
          0.7,
          0.8,
          0.9,
          1,
          1.1,
          1.2,
          1.3,
          1.4,
          1.5,
          1.6,
          1.7,
          1.8,
          1.9,
          2,
          0.5,
          0.6,
          0.7,
          0.8,
          0.9,
          1,
          1.1,
          1.2,
          1.3,
          1.4,
          1.5,
          1.6,
          1.7,
          1.8,
          1.9,
          2,
          0.5,
          0.6,
          0.7,
          0.8,
          0.9,
          1,
          1.1,
          1.2,
          1.3,
          1.4,
          1.5,
          1.6,
          1.7,
          1.8,
          1.9,
          2,
          0.5,
          0.6,
          0.7,
          0.8,
          0.9,
          1,
          1.1,
          1.2,
          1.3,
          1.4,
          1.5,
          1.6,
          1.7,
          1.8,
          1.9,
          2,
          0.5,
          0.6,
          0.7,
          0.8,
          0.9,
          1,
          1.1,
          1.2,
          1.3,
          1.4,
          1.5,
          1.6,
          1.7,
          1.8,
          1.9,
          2,
          0.5,
          0.6,
          0.7,
          0.8,
          0.9,
          1,
          1.1,
          1.2,
          1.3,
          1.4,
          1.5,
          1.6,
          1.7,
          1.8,
          1.9,
          2,
          0.5,
          0.6,
          0.7,
          0.8,
          0.9,
          1,
          1.1,
          1.2,
          1.3,
          1.4,
          1.5,
          1.6,
          1.7,
          1.8,
          1.9,
          2,
          0.5,
          0.6,
          0.7,
          0.8,
          0.9,
          1,
          1.1,
          1.2,
          1.3,
          1.4,
          1.5,
          1.6,
          1.7,
          1.8,
          1.9,
          2,
          0.5,
          0.6,
          0.7,
          0.8,
          0.9,
          1,
          1.1,
          1.2,
          1.3,
          1.4,
          1.5,
          1.6,
          1.7,
          1.8,
          1.9,
          2,
          0.5,
          0.6,
          0.7,
          0.8,
          0.9,
          1,
          1.1,
          1.2,
          1.3,
          1.4,
          1.5,
          1.6,
          1.7,
          1.8,
          1.9,
          2,
          0.5,
          0.6,
          0.7,
          0.8,
          0.9,
          1,
          1.1,
          1.2,
          1.3,
          1.4,
          1.5,
          1.6,
          1.7,
          1.8,
          1.9,
          2,
          0.5,
          0.6,
          0.7,
          0.8,
          0.9,
          1,
          1.1,
          1.2,
          1.3,
          1.4,
          1.5,
          1.6,
          1.7,
          1.8,
          1.9,
          2,
          0.5,
          0.6,
          0.7,
          0.8,
          0.9,
          1,
          1.1,
          1.2,
          1.3,
          1.4,
          1.5,
          1.6,
          1.7,
          1.8,
          1.9,
          2,
          0.5,
          0.6,
          0.7,
          0.8,
          0.9,
          1,
          1.1,
          1.2,
          1.3,
          1.4,
          1.5,
          1.6,
          1.7,
          1.8,
          1.9,
          2
         ],
         "y": [
          0,
          0,
          0,
          0,
          0,
          0,
          0,
          0,
          0,
          0,
          0,
          0,
          0,
          0,
          0,
          0,
          5,
          5,
          5,
          5,
          5,
          5,
          5,
          5,
          5,
          5,
          5,
          5,
          5,
          5,
          5,
          5,
          10,
          10,
          10,
          10,
          10,
          10,
          10,
          10,
          10,
          10,
          10,
          10,
          10,
          10,
          10,
          10,
          15,
          15,
          15,
          15,
          15,
          15,
          15,
          15,
          15,
          15,
          15,
          15,
          15,
          15,
          15,
          15,
          20,
          20,
          20,
          20,
          20,
          20,
          20,
          20,
          20,
          20,
          20,
          20,
          20,
          20,
          20,
          20,
          25,
          25,
          25,
          25,
          25,
          25,
          25,
          25,
          25,
          25,
          25,
          25,
          25,
          25,
          25,
          25,
          30,
          30,
          30,
          30,
          30,
          30,
          30,
          30,
          30,
          30,
          30,
          30,
          30,
          30,
          30,
          30,
          35,
          35,
          35,
          35,
          35,
          35,
          35,
          35,
          35,
          35,
          35,
          35,
          35,
          35,
          35,
          35,
          40,
          40,
          40,
          40,
          40,
          40,
          40,
          40,
          40,
          40,
          40,
          40,
          40,
          40,
          40,
          40,
          45,
          45,
          45,
          45,
          45,
          45,
          45,
          45,
          45,
          45,
          45,
          45,
          45,
          45,
          45,
          45,
          50,
          50,
          50,
          50,
          50,
          50,
          50,
          50,
          50,
          50,
          50,
          50,
          50,
          50,
          50,
          50,
          55,
          55,
          55,
          55,
          55,
          55,
          55,
          55,
          55,
          55,
          55,
          55,
          55,
          55,
          55,
          55,
          60,
          60,
          60,
          60,
          60,
          60,
          60,
          60,
          60,
          60,
          60,
          60,
          60,
          60,
          60,
          60,
          65,
          65,
          65,
          65,
          65,
          65,
          65,
          65,
          65,
          65,
          65,
          65,
          65,
          65,
          65,
          65,
          70,
          70,
          70,
          70,
          70,
          70,
          70,
          70,
          70,
          70,
          70,
          70,
          70,
          70,
          70,
          70,
          75,
          75,
          75,
          75,
          75,
          75,
          75,
          75,
          75,
          75,
          75,
          75,
          75,
          75,
          75,
          75,
          80,
          80,
          80,
          80,
          80,
          80,
          80,
          80,
          80,
          80,
          80,
          80,
          80,
          80,
          80,
          80,
          85,
          85,
          85,
          85,
          85,
          85,
          85,
          85,
          85,
          85,
          85,
          85,
          85,
          85,
          85,
          85,
          90,
          90,
          90,
          90,
          90,
          90,
          90,
          90,
          90,
          90,
          90,
          90,
          90,
          90,
          90,
          90
         ],
         "z": [
          0,
          -2.95,
          -3.89,
          -2.11,
          -3.39,
          -2.76,
          -1.88,
          -1.88,
          -1.89,
          -1.08,
          -0.66,
          -0.68,
          -0.8,
          -0.78,
          -0.95,
          -0.47,
          8.21,
          15.08,
          22.59,
          29.18,
          46.33,
          59.52,
          70.99,
          86.95,
          100.88,
          114.72,
          131.68,
          141.7,
          162.82,
          177.93,
          203.76,
          230.1,
          28.15,
          42.78,
          51.14,
          77.9,
          107.66,
          141.01,
          170.65,
          206.41,
          239.84,
          274.24,
          310.11,
          356.53,
          408.53,
          473.57,
          541.46,
          596.46,
          45.07,
          65.83,
          98.04,
          143.69,
          190.69,
          238.29,
          291.95,
          337.91,
          393.29,
          468.27,
          566.93,
          665.28,
          751.03,
          875.74,
          1027.2,
          1189.36,
          65.8,
          87.82,
          145.76,
          208.14,
          281.97,
          353.3,
          421.35,
          496.49,
          625.89,
          760.78,
          903.78,
          1073.96,
          1272.8,
          1497.71,
          1762.45,
          2162.99,
          82.51,
          139.07,
          206.2,
          291.77,
          392.03,
          471.13,
          577.99,
          756,
          933.09,
          1121.74,
          1364.63,
          1635.14,
          2103.65,
          2611.4,
          3064.95,
          3609.76,
          114.4,
          177.82,
          280.89,
          396.54,
          494.89,
          615,
          821.18,
          1001.45,
          1302.74,
          1574.96,
          2288.87,
          2963.86,
          3640.38,
          4370.27,
          5157.9,
          5572.61,
          129.94,
          237.67,
          351.67,
          471.99,
          593.05,
          813.2,
          1069.71,
          1342.21,
          1916.2,
          2708.34,
          3457.28,
          4297.91,
          5167.35,
          6237.45,
          7318.53,
          8145.27,
          170.76,
          299.49,
          438.94,
          579.91,
          794.63,
          1072.98,
          1453.49,
          2097.96,
          3037.14,
          3826.43,
          4845.24,
          5983.08,
          7021.88,
          8289.49,
          10114.32,
          12267.35,
          218.99,
          366.79,
          522.25,
          716.4,
          1035.49,
          1446.36,
          2110.36,
          3136.96,
          4068.53,
          5350.3,
          6318.97,
          7710.4,
          9807.09,
          12383.59,
          15454.94,
          18452.9,
          282.68,
          463.77,
          624.77,
          938.04,
          1372.43,
          2143.7,
          3199.1,
          4273.31,
          5691.28,
          6704.24,
          8751.76,
          11554.09,
          14584.54,
          18246.94,
          22121.02,
          26435.15,
          335.69,
          530.56,
          759.97,
          1154.1,
          1850.79,
          2942.93,
          4126.95,
          5531.47,
          7034.12,
          9351.35,
          12446.59,
          15989.63,
          20209.32,
          24657.98,
          30751.18,
          37667.92,
          390.26,
          594.98,
          933.59,
          1442.13,
          2562.98,
          3741.45,
          5271.75,
          6740.44,
          9489.22,
          12738.51,
          16935.86,
          22081,
          27546.89,
          35345.22,
          43269.83,
          54033.18,
          460.74,
          688.55,
          1133.41,
          1863.67,
          3241.43,
          4791.58,
          6346.93,
          8912.5,
          12855.18,
          17215.85,
          23090.34,
          29903.05,
          38402.16,
          49048.49,
          61387.39,
          75816.26,
          525.75,
          819.9,
          1374.94,
          2586.67,
          4070.96,
          5723.41,
          8278.7,
          12342.11,
          16817.26,
          23053.21,
          30783.43,
          40493.6,
          53411.05,
          67367.93,
          84538.76,
          104732.25,
          565.61,
          972.52,
          1711.88,
          3177.92,
          4994.94,
          6983.48,
          10886.23,
          15718.53,
          22009.62,
          30917.27,
          41517.2,
          54961.31,
          71465.61,
          92485.56,
          115260.1,
          144971.05,
          631.84,
          1121.81,
          2327.63,
          3918,
          5614.3,
          9302.47,
          14183.89,
          20659.71,
          29523.08,
          41032.66,
          56624.34,
          76048.98,
          98870.03,
          129678.84,
          163358.71,
          196120.56,
          734.02,
          1331.05,
          2867.49,
          4891.15,
          7337.47,
          12124.94,
          18370.65,
          27055.86,
          39085,
          55757.73,
          75846.12,
          105536.35,
          136299.47,
          175512.21,
          218386.89,
          255128.92,
          864.52,
          1692.71,
          3498.05,
          5496.61,
          9740.44,
          15530.52,
          24448.18,
          35698.39,
          52906.1,
          75538.98,
          102226.12,
          139622.43,
          178854.1,
          233009.47,
          262968.17,
          342647.38
         ]
        }
       ],
       "layout": {
        "coloraxis": {
         "colorbar": {
          "title": {
           "text": "% Change in Size of Reachset"
          }
         },
         "colorscale": [
          [
           0,
           "#0d0887"
          ],
          [
           0.1111111111111111,
           "#46039f"
          ],
          [
           0.2222222222222222,
           "#7201a8"
          ],
          [
           0.3333333333333333,
           "#9c179e"
          ],
          [
           0.4444444444444444,
           "#bd3786"
          ],
          [
           0.5555555555555556,
           "#d8576b"
          ],
          [
           0.6666666666666666,
           "#ed7953"
          ],
          [
           0.7777777777777778,
           "#fb9f3a"
          ],
          [
           0.8888888888888888,
           "#fdca26"
          ],
          [
           1,
           "#f0f921"
          ]
         ]
        },
        "height": 1000,
        "legend": {
         "tracegroupgap": 0
        },
        "margin": {
         "t": 60
        },
        "scene": {
         "domain": {
          "x": [
           0,
           1
          ],
          "y": [
           0,
           1
          ]
         },
         "xaxis": {
          "title": {
           "text": "Reach Time (s)"
          }
         },
         "yaxis": {
          "title": {
           "text": "Parameter Uncertainty (%)"
          }
         },
         "zaxis": {
          "title": {
           "text": "% Change in Size of Reachset"
          },
          "type": "log"
         }
        },
        "template": {
         "data": {
          "bar": [
           {
            "error_x": {
             "color": "#2a3f5f"
            },
            "error_y": {
             "color": "#2a3f5f"
            },
            "marker": {
             "line": {
              "color": "#E5ECF6",
              "width": 0.5
             }
            },
            "type": "bar"
           }
          ],
          "barpolar": [
           {
            "marker": {
             "line": {
              "color": "#E5ECF6",
              "width": 0.5
             }
            },
            "type": "barpolar"
           }
          ],
          "carpet": [
           {
            "aaxis": {
             "endlinecolor": "#2a3f5f",
             "gridcolor": "white",
             "linecolor": "white",
             "minorgridcolor": "white",
             "startlinecolor": "#2a3f5f"
            },
            "baxis": {
             "endlinecolor": "#2a3f5f",
             "gridcolor": "white",
             "linecolor": "white",
             "minorgridcolor": "white",
             "startlinecolor": "#2a3f5f"
            },
            "type": "carpet"
           }
          ],
          "choropleth": [
           {
            "colorbar": {
             "outlinewidth": 0,
             "ticks": ""
            },
            "type": "choropleth"
           }
          ],
          "contour": [
           {
            "colorbar": {
             "outlinewidth": 0,
             "ticks": ""
            },
            "colorscale": [
             [
              0,
              "#0d0887"
             ],
             [
              0.1111111111111111,
              "#46039f"
             ],
             [
              0.2222222222222222,
              "#7201a8"
             ],
             [
              0.3333333333333333,
              "#9c179e"
             ],
             [
              0.4444444444444444,
              "#bd3786"
             ],
             [
              0.5555555555555556,
              "#d8576b"
             ],
             [
              0.6666666666666666,
              "#ed7953"
             ],
             [
              0.7777777777777778,
              "#fb9f3a"
             ],
             [
              0.8888888888888888,
              "#fdca26"
             ],
             [
              1,
              "#f0f921"
             ]
            ],
            "type": "contour"
           }
          ],
          "contourcarpet": [
           {
            "colorbar": {
             "outlinewidth": 0,
             "ticks": ""
            },
            "type": "contourcarpet"
           }
          ],
          "heatmap": [
           {
            "colorbar": {
             "outlinewidth": 0,
             "ticks": ""
            },
            "colorscale": [
             [
              0,
              "#0d0887"
             ],
             [
              0.1111111111111111,
              "#46039f"
             ],
             [
              0.2222222222222222,
              "#7201a8"
             ],
             [
              0.3333333333333333,
              "#9c179e"
             ],
             [
              0.4444444444444444,
              "#bd3786"
             ],
             [
              0.5555555555555556,
              "#d8576b"
             ],
             [
              0.6666666666666666,
              "#ed7953"
             ],
             [
              0.7777777777777778,
              "#fb9f3a"
             ],
             [
              0.8888888888888888,
              "#fdca26"
             ],
             [
              1,
              "#f0f921"
             ]
            ],
            "type": "heatmap"
           }
          ],
          "heatmapgl": [
           {
            "colorbar": {
             "outlinewidth": 0,
             "ticks": ""
            },
            "colorscale": [
             [
              0,
              "#0d0887"
             ],
             [
              0.1111111111111111,
              "#46039f"
             ],
             [
              0.2222222222222222,
              "#7201a8"
             ],
             [
              0.3333333333333333,
              "#9c179e"
             ],
             [
              0.4444444444444444,
              "#bd3786"
             ],
             [
              0.5555555555555556,
              "#d8576b"
             ],
             [
              0.6666666666666666,
              "#ed7953"
             ],
             [
              0.7777777777777778,
              "#fb9f3a"
             ],
             [
              0.8888888888888888,
              "#fdca26"
             ],
             [
              1,
              "#f0f921"
             ]
            ],
            "type": "heatmapgl"
           }
          ],
          "histogram": [
           {
            "marker": {
             "colorbar": {
              "outlinewidth": 0,
              "ticks": ""
             }
            },
            "type": "histogram"
           }
          ],
          "histogram2d": [
           {
            "colorbar": {
             "outlinewidth": 0,
             "ticks": ""
            },
            "colorscale": [
             [
              0,
              "#0d0887"
             ],
             [
              0.1111111111111111,
              "#46039f"
             ],
             [
              0.2222222222222222,
              "#7201a8"
             ],
             [
              0.3333333333333333,
              "#9c179e"
             ],
             [
              0.4444444444444444,
              "#bd3786"
             ],
             [
              0.5555555555555556,
              "#d8576b"
             ],
             [
              0.6666666666666666,
              "#ed7953"
             ],
             [
              0.7777777777777778,
              "#fb9f3a"
             ],
             [
              0.8888888888888888,
              "#fdca26"
             ],
             [
              1,
              "#f0f921"
             ]
            ],
            "type": "histogram2d"
           }
          ],
          "histogram2dcontour": [
           {
            "colorbar": {
             "outlinewidth": 0,
             "ticks": ""
            },
            "colorscale": [
             [
              0,
              "#0d0887"
             ],
             [
              0.1111111111111111,
              "#46039f"
             ],
             [
              0.2222222222222222,
              "#7201a8"
             ],
             [
              0.3333333333333333,
              "#9c179e"
             ],
             [
              0.4444444444444444,
              "#bd3786"
             ],
             [
              0.5555555555555556,
              "#d8576b"
             ],
             [
              0.6666666666666666,
              "#ed7953"
             ],
             [
              0.7777777777777778,
              "#fb9f3a"
             ],
             [
              0.8888888888888888,
              "#fdca26"
             ],
             [
              1,
              "#f0f921"
             ]
            ],
            "type": "histogram2dcontour"
           }
          ],
          "mesh3d": [
           {
            "colorbar": {
             "outlinewidth": 0,
             "ticks": ""
            },
            "type": "mesh3d"
           }
          ],
          "parcoords": [
           {
            "line": {
             "colorbar": {
              "outlinewidth": 0,
              "ticks": ""
             }
            },
            "type": "parcoords"
           }
          ],
          "pie": [
           {
            "automargin": true,
            "type": "pie"
           }
          ],
          "scatter": [
           {
            "marker": {
             "colorbar": {
              "outlinewidth": 0,
              "ticks": ""
             }
            },
            "type": "scatter"
           }
          ],
          "scatter3d": [
           {
            "line": {
             "colorbar": {
              "outlinewidth": 0,
              "ticks": ""
             }
            },
            "marker": {
             "colorbar": {
              "outlinewidth": 0,
              "ticks": ""
             }
            },
            "type": "scatter3d"
           }
          ],
          "scattercarpet": [
           {
            "marker": {
             "colorbar": {
              "outlinewidth": 0,
              "ticks": ""
             }
            },
            "type": "scattercarpet"
           }
          ],
          "scattergeo": [
           {
            "marker": {
             "colorbar": {
              "outlinewidth": 0,
              "ticks": ""
             }
            },
            "type": "scattergeo"
           }
          ],
          "scattergl": [
           {
            "marker": {
             "colorbar": {
              "outlinewidth": 0,
              "ticks": ""
             }
            },
            "type": "scattergl"
           }
          ],
          "scattermapbox": [
           {
            "marker": {
             "colorbar": {
              "outlinewidth": 0,
              "ticks": ""
             }
            },
            "type": "scattermapbox"
           }
          ],
          "scatterpolar": [
           {
            "marker": {
             "colorbar": {
              "outlinewidth": 0,
              "ticks": ""
             }
            },
            "type": "scatterpolar"
           }
          ],
          "scatterpolargl": [
           {
            "marker": {
             "colorbar": {
              "outlinewidth": 0,
              "ticks": ""
             }
            },
            "type": "scatterpolargl"
           }
          ],
          "scatterternary": [
           {
            "marker": {
             "colorbar": {
              "outlinewidth": 0,
              "ticks": ""
             }
            },
            "type": "scatterternary"
           }
          ],
          "surface": [
           {
            "colorbar": {
             "outlinewidth": 0,
             "ticks": ""
            },
            "colorscale": [
             [
              0,
              "#0d0887"
             ],
             [
              0.1111111111111111,
              "#46039f"
             ],
             [
              0.2222222222222222,
              "#7201a8"
             ],
             [
              0.3333333333333333,
              "#9c179e"
             ],
             [
              0.4444444444444444,
              "#bd3786"
             ],
             [
              0.5555555555555556,
              "#d8576b"
             ],
             [
              0.6666666666666666,
              "#ed7953"
             ],
             [
              0.7777777777777778,
              "#fb9f3a"
             ],
             [
              0.8888888888888888,
              "#fdca26"
             ],
             [
              1,
              "#f0f921"
             ]
            ],
            "type": "surface"
           }
          ],
          "table": [
           {
            "cells": {
             "fill": {
              "color": "#EBF0F8"
             },
             "line": {
              "color": "white"
             }
            },
            "header": {
             "fill": {
              "color": "#C8D4E3"
             },
             "line": {
              "color": "white"
             }
            },
            "type": "table"
           }
          ]
         },
         "layout": {
          "annotationdefaults": {
           "arrowcolor": "#2a3f5f",
           "arrowhead": 0,
           "arrowwidth": 1
          },
          "autotypenumbers": "strict",
          "coloraxis": {
           "colorbar": {
            "outlinewidth": 0,
            "ticks": ""
           }
          },
          "colorscale": {
           "diverging": [
            [
             0,
             "#8e0152"
            ],
            [
             0.1,
             "#c51b7d"
            ],
            [
             0.2,
             "#de77ae"
            ],
            [
             0.3,
             "#f1b6da"
            ],
            [
             0.4,
             "#fde0ef"
            ],
            [
             0.5,
             "#f7f7f7"
            ],
            [
             0.6,
             "#e6f5d0"
            ],
            [
             0.7,
             "#b8e186"
            ],
            [
             0.8,
             "#7fbc41"
            ],
            [
             0.9,
             "#4d9221"
            ],
            [
             1,
             "#276419"
            ]
           ],
           "sequential": [
            [
             0,
             "#0d0887"
            ],
            [
             0.1111111111111111,
             "#46039f"
            ],
            [
             0.2222222222222222,
             "#7201a8"
            ],
            [
             0.3333333333333333,
             "#9c179e"
            ],
            [
             0.4444444444444444,
             "#bd3786"
            ],
            [
             0.5555555555555556,
             "#d8576b"
            ],
            [
             0.6666666666666666,
             "#ed7953"
            ],
            [
             0.7777777777777778,
             "#fb9f3a"
            ],
            [
             0.8888888888888888,
             "#fdca26"
            ],
            [
             1,
             "#f0f921"
            ]
           ],
           "sequentialminus": [
            [
             0,
             "#0d0887"
            ],
            [
             0.1111111111111111,
             "#46039f"
            ],
            [
             0.2222222222222222,
             "#7201a8"
            ],
            [
             0.3333333333333333,
             "#9c179e"
            ],
            [
             0.4444444444444444,
             "#bd3786"
            ],
            [
             0.5555555555555556,
             "#d8576b"
            ],
            [
             0.6666666666666666,
             "#ed7953"
            ],
            [
             0.7777777777777778,
             "#fb9f3a"
            ],
            [
             0.8888888888888888,
             "#fdca26"
            ],
            [
             1,
             "#f0f921"
            ]
           ]
          },
          "colorway": [
           "#636efa",
           "#EF553B",
           "#00cc96",
           "#ab63fa",
           "#FFA15A",
           "#19d3f3",
           "#FF6692",
           "#B6E880",
           "#FF97FF",
           "#FECB52"
          ],
          "font": {
           "color": "#2a3f5f"
          },
          "geo": {
           "bgcolor": "white",
           "lakecolor": "white",
           "landcolor": "#E5ECF6",
           "showlakes": true,
           "showland": true,
           "subunitcolor": "white"
          },
          "hoverlabel": {
           "align": "left"
          },
          "hovermode": "closest",
          "mapbox": {
           "style": "light"
          },
          "paper_bgcolor": "white",
          "plot_bgcolor": "#E5ECF6",
          "polar": {
           "angularaxis": {
            "gridcolor": "white",
            "linecolor": "white",
            "ticks": ""
           },
           "bgcolor": "#E5ECF6",
           "radialaxis": {
            "gridcolor": "white",
            "linecolor": "white",
            "ticks": ""
           }
          },
          "scene": {
           "xaxis": {
            "backgroundcolor": "#E5ECF6",
            "gridcolor": "white",
            "gridwidth": 2,
            "linecolor": "white",
            "showbackground": true,
            "ticks": "",
            "zerolinecolor": "white"
           },
           "yaxis": {
            "backgroundcolor": "#E5ECF6",
            "gridcolor": "white",
            "gridwidth": 2,
            "linecolor": "white",
            "showbackground": true,
            "ticks": "",
            "zerolinecolor": "white"
           },
           "zaxis": {
            "backgroundcolor": "#E5ECF6",
            "gridcolor": "white",
            "gridwidth": 2,
            "linecolor": "white",
            "showbackground": true,
            "ticks": "",
            "zerolinecolor": "white"
           }
          },
          "shapedefaults": {
           "line": {
            "color": "#2a3f5f"
           }
          },
          "ternary": {
           "aaxis": {
            "gridcolor": "white",
            "linecolor": "white",
            "ticks": ""
           },
           "baxis": {
            "gridcolor": "white",
            "linecolor": "white",
            "ticks": ""
           },
           "bgcolor": "#E5ECF6",
           "caxis": {
            "gridcolor": "white",
            "linecolor": "white",
            "ticks": ""
           }
          },
          "title": {
           "x": 0.05
          },
          "xaxis": {
           "automargin": true,
           "gridcolor": "white",
           "linecolor": "white",
           "ticks": "",
           "title": {
            "standoff": 15
           },
           "zerolinecolor": "white",
           "zerolinewidth": 2
          },
          "yaxis": {
           "automargin": true,
           "gridcolor": "white",
           "linecolor": "white",
           "ticks": "",
           "title": {
            "standoff": 15
           },
           "zerolinecolor": "white",
           "zerolinewidth": 2
          }
         }
        },
        "width": 1500
       }
      },
      "text/html": [
       "<div>                            <div id=\"196f5e85-bc63-4a53-97f2-87e5699b04eb\" class=\"plotly-graph-div\" style=\"height:1000px; width:1500px;\"></div>            <script type=\"text/javascript\">                require([\"plotly\"], function(Plotly) {                    window.PLOTLYENV=window.PLOTLYENV || {};                                    if (document.getElementById(\"196f5e85-bc63-4a53-97f2-87e5699b04eb\")) {                    Plotly.newPlot(                        \"196f5e85-bc63-4a53-97f2-87e5699b04eb\",                        [{\"hovertemplate\": \"Reach Time (s)=%{x}<br>Parameter Uncertainty (%)=%{y}<br>% Change in Size of Reachset=%{marker.color}<extra></extra>\", \"legendgroup\": \"\", \"marker\": {\"color\": [0.0, -2.95, -3.89, -2.11, -3.39, -2.76, -1.88, -1.88, -1.89, -1.08, -0.66, -0.68, -0.8, -0.78, -0.95, -0.47, 8.21, 15.08, 22.59, 29.18, 46.33, 59.52, 70.99, 86.95, 100.88, 114.72, 131.68, 141.7, 162.82, 177.93, 203.76, 230.1, 28.15, 42.78, 51.14, 77.9, 107.66, 141.01, 170.65, 206.41, 239.84, 274.24, 310.11, 356.53, 408.53, 473.57, 541.46, 596.46, 45.07, 65.83, 98.04, 143.69, 190.69, 238.29, 291.95, 337.91, 393.29, 468.27, 566.93, 665.28, 751.03, 875.74, 1027.2, 1189.36, 65.8, 87.82, 145.76, 208.14, 281.97, 353.3, 421.35, 496.49, 625.89, 760.78, 903.78, 1073.96, 1272.8, 1497.71, 1762.45, 2162.99, 82.51, 139.07, 206.2, 291.77, 392.03, 471.13, 577.99, 756.0, 933.09, 1121.74, 1364.63, 1635.14, 2103.65, 2611.4, 3064.95, 3609.76, 114.4, 177.82, 280.89, 396.54, 494.89, 615.0, 821.18, 1001.45, 1302.74, 1574.96, 2288.87, 2963.86, 3640.38, 4370.27, 5157.9, 5572.61, 129.94, 237.67, 351.67, 471.99, 593.05, 813.2, 1069.71, 1342.21, 1916.2, 2708.34, 3457.28, 4297.91, 5167.35, 6237.45, 7318.53, 8145.27, 170.76, 299.49, 438.94, 579.91, 794.63, 1072.98, 1453.49, 2097.96, 3037.14, 3826.43, 4845.24, 5983.08, 7021.88, 8289.49, 10114.32, 12267.35, 218.99, 366.79, 522.25, 716.4, 1035.49, 1446.36, 2110.36, 3136.96, 4068.53, 5350.3, 6318.97, 7710.4, 9807.09, 12383.59, 15454.94, 18452.9, 282.68, 463.77, 624.77, 938.04, 1372.43, 2143.7, 3199.1, 4273.31, 5691.28, 6704.24, 8751.76, 11554.09, 14584.54, 18246.94, 22121.02, 26435.15, 335.69, 530.56, 759.97, 1154.1, 1850.79, 2942.93, 4126.95, 5531.47, 7034.12, 9351.35, 12446.59, 15989.63, 20209.32, 24657.98, 30751.18, 37667.92, 390.26, 594.98, 933.59, 1442.13, 2562.98, 3741.45, 5271.75, 6740.44, 9489.22, 12738.51, 16935.86, 22081.0, 27546.89, 35345.22, 43269.83, 54033.18, 460.74, 688.55, 1133.41, 1863.67, 3241.43, 4791.58, 6346.93, 8912.5, 12855.18, 17215.85, 23090.34, 29903.05, 38402.16, 49048.49, 61387.39, 75816.26, 525.75, 819.9, 1374.94, 2586.67, 4070.96, 5723.41, 8278.7, 12342.11, 16817.26, 23053.21, 30783.43, 40493.6, 53411.05, 67367.93, 84538.76, 104732.25, 565.61, 972.52, 1711.88, 3177.92, 4994.94, 6983.48, 10886.23, 15718.53, 22009.62, 30917.27, 41517.2, 54961.31, 71465.61, 92485.56, 115260.1, 144971.05, 631.84, 1121.81, 2327.63, 3918.0, 5614.3, 9302.47, 14183.89, 20659.71, 29523.08, 41032.66, 56624.34, 76048.98, 98870.03, 129678.84, 163358.71, 196120.56, 734.02, 1331.05, 2867.49, 4891.15, 7337.47, 12124.94, 18370.65, 27055.86, 39085.0, 55757.73, 75846.12, 105536.35, 136299.47, 175512.21, 218386.89, 255128.92, 864.52, 1692.71, 3498.05, 5496.61, 9740.44, 15530.52, 24448.18, 35698.39, 52906.1, 75538.98, 102226.12, 139622.43, 178854.1, 233009.47, 262968.17, 342647.38], \"coloraxis\": \"coloraxis\", \"symbol\": \"circle\"}, \"mode\": \"markers\", \"name\": \"\", \"scene\": \"scene\", \"showlegend\": false, \"type\": \"scatter3d\", \"x\": [0.5, 0.6, 0.7, 0.8, 0.9, 1.0, 1.1, 1.2, 1.3, 1.4, 1.5, 1.6, 1.7, 1.8, 1.9, 2.0, 0.5, 0.6, 0.7, 0.8, 0.9, 1.0, 1.1, 1.2, 1.3, 1.4, 1.5, 1.6, 1.7, 1.8, 1.9, 2.0, 0.5, 0.6, 0.7, 0.8, 0.9, 1.0, 1.1, 1.2, 1.3, 1.4, 1.5, 1.6, 1.7, 1.8, 1.9, 2.0, 0.5, 0.6, 0.7, 0.8, 0.9, 1.0, 1.1, 1.2, 1.3, 1.4, 1.5, 1.6, 1.7, 1.8, 1.9, 2.0, 0.5, 0.6, 0.7, 0.8, 0.9, 1.0, 1.1, 1.2, 1.3, 1.4, 1.5, 1.6, 1.7, 1.8, 1.9, 2.0, 0.5, 0.6, 0.7, 0.8, 0.9, 1.0, 1.1, 1.2, 1.3, 1.4, 1.5, 1.6, 1.7, 1.8, 1.9, 2.0, 0.5, 0.6, 0.7, 0.8, 0.9, 1.0, 1.1, 1.2, 1.3, 1.4, 1.5, 1.6, 1.7, 1.8, 1.9, 2.0, 0.5, 0.6, 0.7, 0.8, 0.9, 1.0, 1.1, 1.2, 1.3, 1.4, 1.5, 1.6, 1.7, 1.8, 1.9, 2.0, 0.5, 0.6, 0.7, 0.8, 0.9, 1.0, 1.1, 1.2, 1.3, 1.4, 1.5, 1.6, 1.7, 1.8, 1.9, 2.0, 0.5, 0.6, 0.7, 0.8, 0.9, 1.0, 1.1, 1.2, 1.3, 1.4, 1.5, 1.6, 1.7, 1.8, 1.9, 2.0, 0.5, 0.6, 0.7, 0.8, 0.9, 1.0, 1.1, 1.2, 1.3, 1.4, 1.5, 1.6, 1.7, 1.8, 1.9, 2.0, 0.5, 0.6, 0.7, 0.8, 0.9, 1.0, 1.1, 1.2, 1.3, 1.4, 1.5, 1.6, 1.7, 1.8, 1.9, 2.0, 0.5, 0.6, 0.7, 0.8, 0.9, 1.0, 1.1, 1.2, 1.3, 1.4, 1.5, 1.6, 1.7, 1.8, 1.9, 2.0, 0.5, 0.6, 0.7, 0.8, 0.9, 1.0, 1.1, 1.2, 1.3, 1.4, 1.5, 1.6, 1.7, 1.8, 1.9, 2.0, 0.5, 0.6, 0.7, 0.8, 0.9, 1.0, 1.1, 1.2, 1.3, 1.4, 1.5, 1.6, 1.7, 1.8, 1.9, 2.0, 0.5, 0.6, 0.7, 0.8, 0.9, 1.0, 1.1, 1.2, 1.3, 1.4, 1.5, 1.6, 1.7, 1.8, 1.9, 2.0, 0.5, 0.6, 0.7, 0.8, 0.9, 1.0, 1.1, 1.2, 1.3, 1.4, 1.5, 1.6, 1.7, 1.8, 1.9, 2.0, 0.5, 0.6, 0.7, 0.8, 0.9, 1.0, 1.1, 1.2, 1.3, 1.4, 1.5, 1.6, 1.7, 1.8, 1.9, 2.0, 0.5, 0.6, 0.7, 0.8, 0.9, 1.0, 1.1, 1.2, 1.3, 1.4, 1.5, 1.6, 1.7, 1.8, 1.9, 2.0], \"y\": [0.0, 0.0, 0.0, 0.0, 0.0, 0.0, 0.0, 0.0, 0.0, 0.0, 0.0, 0.0, 0.0, 0.0, 0.0, 0.0, 5.0, 5.0, 5.0, 5.0, 5.0, 5.0, 5.0, 5.0, 5.0, 5.0, 5.0, 5.0, 5.0, 5.0, 5.0, 5.0, 10.0, 10.0, 10.0, 10.0, 10.0, 10.0, 10.0, 10.0, 10.0, 10.0, 10.0, 10.0, 10.0, 10.0, 10.0, 10.0, 15.0, 15.0, 15.0, 15.0, 15.0, 15.0, 15.0, 15.0, 15.0, 15.0, 15.0, 15.0, 15.0, 15.0, 15.0, 15.0, 20.0, 20.0, 20.0, 20.0, 20.0, 20.0, 20.0, 20.0, 20.0, 20.0, 20.0, 20.0, 20.0, 20.0, 20.0, 20.0, 25.0, 25.0, 25.0, 25.0, 25.0, 25.0, 25.0, 25.0, 25.0, 25.0, 25.0, 25.0, 25.0, 25.0, 25.0, 25.0, 30.0, 30.0, 30.0, 30.0, 30.0, 30.0, 30.0, 30.0, 30.0, 30.0, 30.0, 30.0, 30.0, 30.0, 30.0, 30.0, 35.0, 35.0, 35.0, 35.0, 35.0, 35.0, 35.0, 35.0, 35.0, 35.0, 35.0, 35.0, 35.0, 35.0, 35.0, 35.0, 40.0, 40.0, 40.0, 40.0, 40.0, 40.0, 40.0, 40.0, 40.0, 40.0, 40.0, 40.0, 40.0, 40.0, 40.0, 40.0, 45.0, 45.0, 45.0, 45.0, 45.0, 45.0, 45.0, 45.0, 45.0, 45.0, 45.0, 45.0, 45.0, 45.0, 45.0, 45.0, 50.0, 50.0, 50.0, 50.0, 50.0, 50.0, 50.0, 50.0, 50.0, 50.0, 50.0, 50.0, 50.0, 50.0, 50.0, 50.0, 55.0, 55.0, 55.0, 55.0, 55.0, 55.0, 55.0, 55.0, 55.0, 55.0, 55.0, 55.0, 55.0, 55.0, 55.0, 55.0, 60.0, 60.0, 60.0, 60.0, 60.0, 60.0, 60.0, 60.0, 60.0, 60.0, 60.0, 60.0, 60.0, 60.0, 60.0, 60.0, 65.0, 65.0, 65.0, 65.0, 65.0, 65.0, 65.0, 65.0, 65.0, 65.0, 65.0, 65.0, 65.0, 65.0, 65.0, 65.0, 70.0, 70.0, 70.0, 70.0, 70.0, 70.0, 70.0, 70.0, 70.0, 70.0, 70.0, 70.0, 70.0, 70.0, 70.0, 70.0, 75.0, 75.0, 75.0, 75.0, 75.0, 75.0, 75.0, 75.0, 75.0, 75.0, 75.0, 75.0, 75.0, 75.0, 75.0, 75.0, 80.0, 80.0, 80.0, 80.0, 80.0, 80.0, 80.0, 80.0, 80.0, 80.0, 80.0, 80.0, 80.0, 80.0, 80.0, 80.0, 85.0, 85.0, 85.0, 85.0, 85.0, 85.0, 85.0, 85.0, 85.0, 85.0, 85.0, 85.0, 85.0, 85.0, 85.0, 85.0, 90.0, 90.0, 90.0, 90.0, 90.0, 90.0, 90.0, 90.0, 90.0, 90.0, 90.0, 90.0, 90.0, 90.0, 90.0, 90.0], \"z\": [0.0, -2.95, -3.89, -2.11, -3.39, -2.76, -1.88, -1.88, -1.89, -1.08, -0.66, -0.68, -0.8, -0.78, -0.95, -0.47, 8.21, 15.08, 22.59, 29.18, 46.33, 59.52, 70.99, 86.95, 100.88, 114.72, 131.68, 141.7, 162.82, 177.93, 203.76, 230.1, 28.15, 42.78, 51.14, 77.9, 107.66, 141.01, 170.65, 206.41, 239.84, 274.24, 310.11, 356.53, 408.53, 473.57, 541.46, 596.46, 45.07, 65.83, 98.04, 143.69, 190.69, 238.29, 291.95, 337.91, 393.29, 468.27, 566.93, 665.28, 751.03, 875.74, 1027.2, 1189.36, 65.8, 87.82, 145.76, 208.14, 281.97, 353.3, 421.35, 496.49, 625.89, 760.78, 903.78, 1073.96, 1272.8, 1497.71, 1762.45, 2162.99, 82.51, 139.07, 206.2, 291.77, 392.03, 471.13, 577.99, 756.0, 933.09, 1121.74, 1364.63, 1635.14, 2103.65, 2611.4, 3064.95, 3609.76, 114.4, 177.82, 280.89, 396.54, 494.89, 615.0, 821.18, 1001.45, 1302.74, 1574.96, 2288.87, 2963.86, 3640.38, 4370.27, 5157.9, 5572.61, 129.94, 237.67, 351.67, 471.99, 593.05, 813.2, 1069.71, 1342.21, 1916.2, 2708.34, 3457.28, 4297.91, 5167.35, 6237.45, 7318.53, 8145.27, 170.76, 299.49, 438.94, 579.91, 794.63, 1072.98, 1453.49, 2097.96, 3037.14, 3826.43, 4845.24, 5983.08, 7021.88, 8289.49, 10114.32, 12267.35, 218.99, 366.79, 522.25, 716.4, 1035.49, 1446.36, 2110.36, 3136.96, 4068.53, 5350.3, 6318.97, 7710.4, 9807.09, 12383.59, 15454.94, 18452.9, 282.68, 463.77, 624.77, 938.04, 1372.43, 2143.7, 3199.1, 4273.31, 5691.28, 6704.24, 8751.76, 11554.09, 14584.54, 18246.94, 22121.02, 26435.15, 335.69, 530.56, 759.97, 1154.1, 1850.79, 2942.93, 4126.95, 5531.47, 7034.12, 9351.35, 12446.59, 15989.63, 20209.32, 24657.98, 30751.18, 37667.92, 390.26, 594.98, 933.59, 1442.13, 2562.98, 3741.45, 5271.75, 6740.44, 9489.22, 12738.51, 16935.86, 22081.0, 27546.89, 35345.22, 43269.83, 54033.18, 460.74, 688.55, 1133.41, 1863.67, 3241.43, 4791.58, 6346.93, 8912.5, 12855.18, 17215.85, 23090.34, 29903.05, 38402.16, 49048.49, 61387.39, 75816.26, 525.75, 819.9, 1374.94, 2586.67, 4070.96, 5723.41, 8278.7, 12342.11, 16817.26, 23053.21, 30783.43, 40493.6, 53411.05, 67367.93, 84538.76, 104732.25, 565.61, 972.52, 1711.88, 3177.92, 4994.94, 6983.48, 10886.23, 15718.53, 22009.62, 30917.27, 41517.2, 54961.31, 71465.61, 92485.56, 115260.1, 144971.05, 631.84, 1121.81, 2327.63, 3918.0, 5614.3, 9302.47, 14183.89, 20659.71, 29523.08, 41032.66, 56624.34, 76048.98, 98870.03, 129678.84, 163358.71, 196120.56, 734.02, 1331.05, 2867.49, 4891.15, 7337.47, 12124.94, 18370.65, 27055.86, 39085.0, 55757.73, 75846.12, 105536.35, 136299.47, 175512.21, 218386.89, 255128.92, 864.52, 1692.71, 3498.05, 5496.61, 9740.44, 15530.52, 24448.18, 35698.39, 52906.1, 75538.98, 102226.12, 139622.43, 178854.1, 233009.47, 262968.17, 342647.38]}],                        {\"coloraxis\": {\"colorbar\": {\"title\": {\"text\": \"% Change in Size of Reachset\"}}, \"colorscale\": [[0.0, \"#0d0887\"], [0.1111111111111111, \"#46039f\"], [0.2222222222222222, \"#7201a8\"], [0.3333333333333333, \"#9c179e\"], [0.4444444444444444, \"#bd3786\"], [0.5555555555555556, \"#d8576b\"], [0.6666666666666666, \"#ed7953\"], [0.7777777777777778, \"#fb9f3a\"], [0.8888888888888888, \"#fdca26\"], [1.0, \"#f0f921\"]]}, \"height\": 1000, \"legend\": {\"tracegroupgap\": 0}, \"margin\": {\"t\": 60}, \"scene\": {\"domain\": {\"x\": [0.0, 1.0], \"y\": [0.0, 1.0]}, \"xaxis\": {\"title\": {\"text\": \"Reach Time (s)\"}}, \"yaxis\": {\"title\": {\"text\": \"Parameter Uncertainty (%)\"}}, \"zaxis\": {\"title\": {\"text\": \"% Change in Size of Reachset\"}, \"type\": \"log\"}}, \"template\": {\"data\": {\"bar\": [{\"error_x\": {\"color\": \"#2a3f5f\"}, \"error_y\": {\"color\": \"#2a3f5f\"}, \"marker\": {\"line\": {\"color\": \"#E5ECF6\", \"width\": 0.5}}, \"type\": \"bar\"}], \"barpolar\": [{\"marker\": {\"line\": {\"color\": \"#E5ECF6\", \"width\": 0.5}}, \"type\": \"barpolar\"}], \"carpet\": [{\"aaxis\": {\"endlinecolor\": \"#2a3f5f\", \"gridcolor\": \"white\", \"linecolor\": \"white\", \"minorgridcolor\": \"white\", \"startlinecolor\": \"#2a3f5f\"}, \"baxis\": {\"endlinecolor\": \"#2a3f5f\", \"gridcolor\": \"white\", \"linecolor\": \"white\", \"minorgridcolor\": \"white\", \"startlinecolor\": \"#2a3f5f\"}, \"type\": \"carpet\"}], \"choropleth\": [{\"colorbar\": {\"outlinewidth\": 0, \"ticks\": \"\"}, \"type\": \"choropleth\"}], \"contour\": [{\"colorbar\": {\"outlinewidth\": 0, \"ticks\": \"\"}, \"colorscale\": [[0.0, \"#0d0887\"], [0.1111111111111111, \"#46039f\"], [0.2222222222222222, \"#7201a8\"], [0.3333333333333333, \"#9c179e\"], [0.4444444444444444, \"#bd3786\"], [0.5555555555555556, \"#d8576b\"], [0.6666666666666666, \"#ed7953\"], [0.7777777777777778, \"#fb9f3a\"], [0.8888888888888888, \"#fdca26\"], [1.0, \"#f0f921\"]], \"type\": \"contour\"}], \"contourcarpet\": [{\"colorbar\": {\"outlinewidth\": 0, \"ticks\": \"\"}, \"type\": \"contourcarpet\"}], \"heatmap\": [{\"colorbar\": {\"outlinewidth\": 0, \"ticks\": \"\"}, \"colorscale\": [[0.0, \"#0d0887\"], [0.1111111111111111, \"#46039f\"], [0.2222222222222222, \"#7201a8\"], [0.3333333333333333, \"#9c179e\"], [0.4444444444444444, \"#bd3786\"], [0.5555555555555556, \"#d8576b\"], [0.6666666666666666, \"#ed7953\"], [0.7777777777777778, \"#fb9f3a\"], [0.8888888888888888, \"#fdca26\"], [1.0, \"#f0f921\"]], \"type\": \"heatmap\"}], \"heatmapgl\": [{\"colorbar\": {\"outlinewidth\": 0, \"ticks\": \"\"}, \"colorscale\": [[0.0, \"#0d0887\"], [0.1111111111111111, \"#46039f\"], [0.2222222222222222, \"#7201a8\"], [0.3333333333333333, \"#9c179e\"], [0.4444444444444444, \"#bd3786\"], [0.5555555555555556, \"#d8576b\"], [0.6666666666666666, \"#ed7953\"], [0.7777777777777778, \"#fb9f3a\"], [0.8888888888888888, \"#fdca26\"], [1.0, \"#f0f921\"]], \"type\": \"heatmapgl\"}], \"histogram\": [{\"marker\": {\"colorbar\": {\"outlinewidth\": 0, \"ticks\": \"\"}}, \"type\": \"histogram\"}], \"histogram2d\": [{\"colorbar\": {\"outlinewidth\": 0, \"ticks\": \"\"}, \"colorscale\": [[0.0, \"#0d0887\"], [0.1111111111111111, \"#46039f\"], [0.2222222222222222, \"#7201a8\"], [0.3333333333333333, \"#9c179e\"], [0.4444444444444444, \"#bd3786\"], [0.5555555555555556, \"#d8576b\"], [0.6666666666666666, \"#ed7953\"], [0.7777777777777778, \"#fb9f3a\"], [0.8888888888888888, \"#fdca26\"], [1.0, \"#f0f921\"]], \"type\": \"histogram2d\"}], \"histogram2dcontour\": [{\"colorbar\": {\"outlinewidth\": 0, \"ticks\": \"\"}, \"colorscale\": [[0.0, \"#0d0887\"], [0.1111111111111111, \"#46039f\"], [0.2222222222222222, \"#7201a8\"], [0.3333333333333333, \"#9c179e\"], [0.4444444444444444, \"#bd3786\"], [0.5555555555555556, \"#d8576b\"], [0.6666666666666666, \"#ed7953\"], [0.7777777777777778, \"#fb9f3a\"], [0.8888888888888888, \"#fdca26\"], [1.0, \"#f0f921\"]], \"type\": \"histogram2dcontour\"}], \"mesh3d\": [{\"colorbar\": {\"outlinewidth\": 0, \"ticks\": \"\"}, \"type\": \"mesh3d\"}], \"parcoords\": [{\"line\": {\"colorbar\": {\"outlinewidth\": 0, \"ticks\": \"\"}}, \"type\": \"parcoords\"}], \"pie\": [{\"automargin\": true, \"type\": \"pie\"}], \"scatter\": [{\"marker\": {\"colorbar\": {\"outlinewidth\": 0, \"ticks\": \"\"}}, \"type\": \"scatter\"}], \"scatter3d\": [{\"line\": {\"colorbar\": {\"outlinewidth\": 0, \"ticks\": \"\"}}, \"marker\": {\"colorbar\": {\"outlinewidth\": 0, \"ticks\": \"\"}}, \"type\": \"scatter3d\"}], \"scattercarpet\": [{\"marker\": {\"colorbar\": {\"outlinewidth\": 0, \"ticks\": \"\"}}, \"type\": \"scattercarpet\"}], \"scattergeo\": [{\"marker\": {\"colorbar\": {\"outlinewidth\": 0, \"ticks\": \"\"}}, \"type\": \"scattergeo\"}], \"scattergl\": [{\"marker\": {\"colorbar\": {\"outlinewidth\": 0, \"ticks\": \"\"}}, \"type\": \"scattergl\"}], \"scattermapbox\": [{\"marker\": {\"colorbar\": {\"outlinewidth\": 0, \"ticks\": \"\"}}, \"type\": \"scattermapbox\"}], \"scatterpolar\": [{\"marker\": {\"colorbar\": {\"outlinewidth\": 0, \"ticks\": \"\"}}, \"type\": \"scatterpolar\"}], \"scatterpolargl\": [{\"marker\": {\"colorbar\": {\"outlinewidth\": 0, \"ticks\": \"\"}}, \"type\": \"scatterpolargl\"}], \"scatterternary\": [{\"marker\": {\"colorbar\": {\"outlinewidth\": 0, \"ticks\": \"\"}}, \"type\": \"scatterternary\"}], \"surface\": [{\"colorbar\": {\"outlinewidth\": 0, \"ticks\": \"\"}, \"colorscale\": [[0.0, \"#0d0887\"], [0.1111111111111111, \"#46039f\"], [0.2222222222222222, \"#7201a8\"], [0.3333333333333333, \"#9c179e\"], [0.4444444444444444, \"#bd3786\"], [0.5555555555555556, \"#d8576b\"], [0.6666666666666666, \"#ed7953\"], [0.7777777777777778, \"#fb9f3a\"], [0.8888888888888888, \"#fdca26\"], [1.0, \"#f0f921\"]], \"type\": \"surface\"}], \"table\": [{\"cells\": {\"fill\": {\"color\": \"#EBF0F8\"}, \"line\": {\"color\": \"white\"}}, \"header\": {\"fill\": {\"color\": \"#C8D4E3\"}, \"line\": {\"color\": \"white\"}}, \"type\": \"table\"}]}, \"layout\": {\"annotationdefaults\": {\"arrowcolor\": \"#2a3f5f\", \"arrowhead\": 0, \"arrowwidth\": 1}, \"autotypenumbers\": \"strict\", \"coloraxis\": {\"colorbar\": {\"outlinewidth\": 0, \"ticks\": \"\"}}, \"colorscale\": {\"diverging\": [[0, \"#8e0152\"], [0.1, \"#c51b7d\"], [0.2, \"#de77ae\"], [0.3, \"#f1b6da\"], [0.4, \"#fde0ef\"], [0.5, \"#f7f7f7\"], [0.6, \"#e6f5d0\"], [0.7, \"#b8e186\"], [0.8, \"#7fbc41\"], [0.9, \"#4d9221\"], [1, \"#276419\"]], \"sequential\": [[0.0, \"#0d0887\"], [0.1111111111111111, \"#46039f\"], [0.2222222222222222, \"#7201a8\"], [0.3333333333333333, \"#9c179e\"], [0.4444444444444444, \"#bd3786\"], [0.5555555555555556, \"#d8576b\"], [0.6666666666666666, \"#ed7953\"], [0.7777777777777778, \"#fb9f3a\"], [0.8888888888888888, \"#fdca26\"], [1.0, \"#f0f921\"]], \"sequentialminus\": [[0.0, \"#0d0887\"], [0.1111111111111111, \"#46039f\"], [0.2222222222222222, \"#7201a8\"], [0.3333333333333333, \"#9c179e\"], [0.4444444444444444, \"#bd3786\"], [0.5555555555555556, \"#d8576b\"], [0.6666666666666666, \"#ed7953\"], [0.7777777777777778, \"#fb9f3a\"], [0.8888888888888888, \"#fdca26\"], [1.0, \"#f0f921\"]]}, \"colorway\": [\"#636efa\", \"#EF553B\", \"#00cc96\", \"#ab63fa\", \"#FFA15A\", \"#19d3f3\", \"#FF6692\", \"#B6E880\", \"#FF97FF\", \"#FECB52\"], \"font\": {\"color\": \"#2a3f5f\"}, \"geo\": {\"bgcolor\": \"white\", \"lakecolor\": \"white\", \"landcolor\": \"#E5ECF6\", \"showlakes\": true, \"showland\": true, \"subunitcolor\": \"white\"}, \"hoverlabel\": {\"align\": \"left\"}, \"hovermode\": \"closest\", \"mapbox\": {\"style\": \"light\"}, \"paper_bgcolor\": \"white\", \"plot_bgcolor\": \"#E5ECF6\", \"polar\": {\"angularaxis\": {\"gridcolor\": \"white\", \"linecolor\": \"white\", \"ticks\": \"\"}, \"bgcolor\": \"#E5ECF6\", \"radialaxis\": {\"gridcolor\": \"white\", \"linecolor\": \"white\", \"ticks\": \"\"}}, \"scene\": {\"xaxis\": {\"backgroundcolor\": \"#E5ECF6\", \"gridcolor\": \"white\", \"gridwidth\": 2, \"linecolor\": \"white\", \"showbackground\": true, \"ticks\": \"\", \"zerolinecolor\": \"white\"}, \"yaxis\": {\"backgroundcolor\": \"#E5ECF6\", \"gridcolor\": \"white\", \"gridwidth\": 2, \"linecolor\": \"white\", \"showbackground\": true, \"ticks\": \"\", \"zerolinecolor\": \"white\"}, \"zaxis\": {\"backgroundcolor\": \"#E5ECF6\", \"gridcolor\": \"white\", \"gridwidth\": 2, \"linecolor\": \"white\", \"showbackground\": true, \"ticks\": \"\", \"zerolinecolor\": \"white\"}}, \"shapedefaults\": {\"line\": {\"color\": \"#2a3f5f\"}}, \"ternary\": {\"aaxis\": {\"gridcolor\": \"white\", \"linecolor\": \"white\", \"ticks\": \"\"}, \"baxis\": {\"gridcolor\": \"white\", \"linecolor\": \"white\", \"ticks\": \"\"}, \"bgcolor\": \"#E5ECF6\", \"caxis\": {\"gridcolor\": \"white\", \"linecolor\": \"white\", \"ticks\": \"\"}}, \"title\": {\"x\": 0.05}, \"xaxis\": {\"automargin\": true, \"gridcolor\": \"white\", \"linecolor\": \"white\", \"ticks\": \"\", \"title\": {\"standoff\": 15}, \"zerolinecolor\": \"white\", \"zerolinewidth\": 2}, \"yaxis\": {\"automargin\": true, \"gridcolor\": \"white\", \"linecolor\": \"white\", \"ticks\": \"\", \"title\": {\"standoff\": 15}, \"zerolinecolor\": \"white\", \"zerolinewidth\": 2}}}, \"width\": 1500},                        {\"responsive\": true}                    ).then(function(){\n",
       "                            \n",
       "var gd = document.getElementById('196f5e85-bc63-4a53-97f2-87e5699b04eb');\n",
       "var x = new MutationObserver(function (mutations, observer) {{\n",
       "        var display = window.getComputedStyle(gd).display;\n",
       "        if (!display || display === 'none') {{\n",
       "            console.log([gd, 'removed!']);\n",
       "            Plotly.purge(gd);\n",
       "            observer.disconnect();\n",
       "        }}\n",
       "}});\n",
       "\n",
       "// Listen for the removal of the full notebook cells\n",
       "var notebookContainer = gd.closest('#notebook-container');\n",
       "if (notebookContainer) {{\n",
       "    x.observe(notebookContainer, {childList: true});\n",
       "}}\n",
       "\n",
       "// Listen for the clearing of the current output cell\n",
       "var outputEl = gd.closest('.output');\n",
       "if (outputEl) {{\n",
       "    x.observe(outputEl, {childList: true});\n",
       "}}\n",
       "\n",
       "                        })                };                });            </script>        </div>"
      ]
     },
     "metadata": {},
     "output_type": "display_data"
    }
   ],
   "source": [
    "labs = {\"percent_change_in_size_of_reachset\":\"% Change in Size of Reachset\",\n",
    "       \"reach_time\":\"Reach Time (s)\",\"parameter_uncertainty\":\"Parameter Uncertainty (%)\"}\n",
    "\n",
    "fig = px.scatter_3d(ru_plot, x=\"reach_time\", y=\"parameter_uncertainty\", \n",
    "                    z=\"percent_change_in_size_of_reachset\",\n",
    "                    color='percent_change_in_size_of_reachset',log_z=True,\n",
    "                   labels=labs,width=1500, height=1000)\n",
    "fig.show()"
   ]
  },
  {
   "cell_type": "code",
   "execution_count": 43,
   "metadata": {},
   "outputs": [
    {
     "data": {
      "application/vnd.plotly.v1+json": {
       "config": {
        "plotlyServerURL": "https://plot.ly"
       },
       "data": [
        {
         "hovertemplate": "Reach Time (s)=%{x}<br>Parameter Uncertainty (%)=%{y}<br>ML Controller Use (%)=%{marker.color}<extra></extra>",
         "legendgroup": "",
         "marker": {
          "color": [
           91.8,
           86.75,
           89.62,
           86.96,
           75.11,
           92.74,
           83.6,
           92.21,
           89.84,
           89.83,
           86.93,
           86.9,
           85.05,
           83.17,
           83.5,
           84.02,
           75.87,
           85.38,
           80.54,
           14.5,
           78.57,
           91,
           90.55,
           87.67,
           86.86,
           84.19,
           82.4,
           80.37,
           78.45,
           78.37,
           75.9,
           74.09,
           86.6,
           84.09,
           13.83,
           64.09,
           82.22,
           88.24,
           86.69,
           83,
           78.54,
           74.78,
           71.42,
           68.69,
           66.23,
           65.68,
           62.75,
           64.95,
           84.11,
           68.07,
           26.27,
           86.92,
           85.8,
           84.59,
           78.9,
           73.89,
           70.33,
           64.52,
           60.11,
           59.66,
           60.97,
           57.65,
           50.6,
           51.56,
           83.62,
           46.29,
           80.67,
           83.34,
           85.28,
           78.91,
           70.74,
           66.75,
           60.92,
           55.87,
           56.27,
           55.09,
           48.55,
           45.05,
           44.56,
           31.26,
           74.54,
           81.6,
           82.02,
           84,
           79.22,
           68.09,
           63.8,
           53.57,
           54.15,
           51.52,
           47.1,
           44.48,
           37.72,
           28.85,
           27.82,
           28.31,
           71.13,
           68.86,
           80.05,
           75.51,
           64.75,
           61.57,
           51.63,
           51.25,
           46.53,
           43.77,
           33.14,
           28.36,
           27.39,
           27.92,
           28,
           24.02,
           49.58,
           77.99,
           77.71,
           62.51,
           63.1,
           49.72,
           51.09,
           46.58,
           36.51,
           27.97,
           27.53,
           26.26,
           27.34,
           25.97,
           25.02,
           22.88,
           64.62,
           78.16,
           67.1,
           62.03,
           50.36,
           47.65,
           40.62,
           35.07,
           27.16,
           26.69,
           26.47,
           24.42,
           24.21,
           25.23,
           25.31,
           27.67,
           79.34,
           80.82,
           65.25,
           54.66,
           45.76,
           42.96,
           31.28,
           26.67,
           26.07,
           24.68,
           22.43,
           22.6,
           24.81,
           27.27,
           28.08,
           28.2,
           76.52,
           67.31,
           59.16,
           48.48,
           44.7,
           29.25,
           25.74,
           24.66,
           23.7,
           21.56,
           22.56,
           27.4,
           25.76,
           25.91,
           26.47,
           22.1,
           76.01,
           66.41,
           50.17,
           43.99,
           28.04,
           26,
           25.58,
           23.1,
           20.86,
           22.21,
           26.56,
           26.2,
           23.09,
           22.57,
           20.78,
           21.03,
           76.1,
           63.84,
           45.26,
           40.95,
           26.6,
           25.1,
           22.83,
           23.8,
           21.63,
           26.61,
           25.23,
           22.36,
           21.48,
           19.61,
           19.73,
           20.14,
           67.14,
           53.84,
           43.06,
           25.85,
           25.56,
           23.15,
           20.69,
           27.71,
           27.02,
           26.02,
           22.1,
           20.39,
           20.66,
           19.24,
           19.38,
           19.89,
           67.77,
           49.83,
           41.51,
           25.22,
           23.75,
           20.44,
           26.58,
           27.16,
           24.56,
           21.39,
           20.08,
           20.36,
           18.69,
           21.19,
           20.1,
           19.96,
           60.89,
           44.38,
           28.83,
           24.94,
           22.63,
           22.85,
           26.66,
           25.85,
           21.43,
           19.45,
           20.01,
           20.91,
           20.62,
           20.63,
           18.85,
           19.08,
           58.15,
           43.63,
           25.88,
           25.02,
           22.49,
           25.73,
           27.35,
           22.05,
           19.88,
           20.14,
           20.45,
           19.87,
           19.98,
           19.62,
           18.2,
           15.18,
           48.87,
           39.02,
           24.25,
           23.19,
           21.21,
           26.13,
           23.82,
           20.26,
           20.55,
           19.66,
           20.07,
           20.13,
           18.59,
           17.47,
           16.5,
           15.8,
           47.92,
           26.77,
           23.85,
           20.84,
           27.08,
           25.61,
           19.14,
           18.83,
           19.98,
           19.32,
           20.58,
           18.31,
           16.84,
           16.65,
           15.02,
           16.07
          ],
          "coloraxis": "coloraxis",
          "symbol": "circle"
         },
         "mode": "markers",
         "name": "",
         "scene": "scene",
         "showlegend": false,
         "type": "scatter3d",
         "x": [
          0.5,
          0.6,
          0.7,
          0.8,
          0.9,
          1,
          1.1,
          1.2,
          1.3,
          1.4,
          1.5,
          1.6,
          1.7,
          1.8,
          1.9,
          2,
          0.5,
          0.6,
          0.7,
          0.8,
          0.9,
          1,
          1.1,
          1.2,
          1.3,
          1.4,
          1.5,
          1.6,
          1.7,
          1.8,
          1.9,
          2,
          0.5,
          0.6,
          0.7,
          0.8,
          0.9,
          1,
          1.1,
          1.2,
          1.3,
          1.4,
          1.5,
          1.6,
          1.7,
          1.8,
          1.9,
          2,
          0.5,
          0.6,
          0.7,
          0.8,
          0.9,
          1,
          1.1,
          1.2,
          1.3,
          1.4,
          1.5,
          1.6,
          1.7,
          1.8,
          1.9,
          2,
          0.5,
          0.6,
          0.7,
          0.8,
          0.9,
          1,
          1.1,
          1.2,
          1.3,
          1.4,
          1.5,
          1.6,
          1.7,
          1.8,
          1.9,
          2,
          0.5,
          0.6,
          0.7,
          0.8,
          0.9,
          1,
          1.1,
          1.2,
          1.3,
          1.4,
          1.5,
          1.6,
          1.7,
          1.8,
          1.9,
          2,
          0.5,
          0.6,
          0.7,
          0.8,
          0.9,
          1,
          1.1,
          1.2,
          1.3,
          1.4,
          1.5,
          1.6,
          1.7,
          1.8,
          1.9,
          2,
          0.5,
          0.6,
          0.7,
          0.8,
          0.9,
          1,
          1.1,
          1.2,
          1.3,
          1.4,
          1.5,
          1.6,
          1.7,
          1.8,
          1.9,
          2,
          0.5,
          0.6,
          0.7,
          0.8,
          0.9,
          1,
          1.1,
          1.2,
          1.3,
          1.4,
          1.5,
          1.6,
          1.7,
          1.8,
          1.9,
          2,
          0.5,
          0.6,
          0.7,
          0.8,
          0.9,
          1,
          1.1,
          1.2,
          1.3,
          1.4,
          1.5,
          1.6,
          1.7,
          1.8,
          1.9,
          2,
          0.5,
          0.6,
          0.7,
          0.8,
          0.9,
          1,
          1.1,
          1.2,
          1.3,
          1.4,
          1.5,
          1.6,
          1.7,
          1.8,
          1.9,
          2,
          0.5,
          0.6,
          0.7,
          0.8,
          0.9,
          1,
          1.1,
          1.2,
          1.3,
          1.4,
          1.5,
          1.6,
          1.7,
          1.8,
          1.9,
          2,
          0.5,
          0.6,
          0.7,
          0.8,
          0.9,
          1,
          1.1,
          1.2,
          1.3,
          1.4,
          1.5,
          1.6,
          1.7,
          1.8,
          1.9,
          2,
          0.5,
          0.6,
          0.7,
          0.8,
          0.9,
          1,
          1.1,
          1.2,
          1.3,
          1.4,
          1.5,
          1.6,
          1.7,
          1.8,
          1.9,
          2,
          0.5,
          0.6,
          0.7,
          0.8,
          0.9,
          1,
          1.1,
          1.2,
          1.3,
          1.4,
          1.5,
          1.6,
          1.7,
          1.8,
          1.9,
          2,
          0.5,
          0.6,
          0.7,
          0.8,
          0.9,
          1,
          1.1,
          1.2,
          1.3,
          1.4,
          1.5,
          1.6,
          1.7,
          1.8,
          1.9,
          2,
          0.5,
          0.6,
          0.7,
          0.8,
          0.9,
          1,
          1.1,
          1.2,
          1.3,
          1.4,
          1.5,
          1.6,
          1.7,
          1.8,
          1.9,
          2,
          0.5,
          0.6,
          0.7,
          0.8,
          0.9,
          1,
          1.1,
          1.2,
          1.3,
          1.4,
          1.5,
          1.6,
          1.7,
          1.8,
          1.9,
          2,
          0.5,
          0.6,
          0.7,
          0.8,
          0.9,
          1,
          1.1,
          1.2,
          1.3,
          1.4,
          1.5,
          1.6,
          1.7,
          1.8,
          1.9,
          2
         ],
         "y": [
          0,
          0,
          0,
          0,
          0,
          0,
          0,
          0,
          0,
          0,
          0,
          0,
          0,
          0,
          0,
          0,
          5,
          5,
          5,
          5,
          5,
          5,
          5,
          5,
          5,
          5,
          5,
          5,
          5,
          5,
          5,
          5,
          10,
          10,
          10,
          10,
          10,
          10,
          10,
          10,
          10,
          10,
          10,
          10,
          10,
          10,
          10,
          10,
          15,
          15,
          15,
          15,
          15,
          15,
          15,
          15,
          15,
          15,
          15,
          15,
          15,
          15,
          15,
          15,
          20,
          20,
          20,
          20,
          20,
          20,
          20,
          20,
          20,
          20,
          20,
          20,
          20,
          20,
          20,
          20,
          25,
          25,
          25,
          25,
          25,
          25,
          25,
          25,
          25,
          25,
          25,
          25,
          25,
          25,
          25,
          25,
          30,
          30,
          30,
          30,
          30,
          30,
          30,
          30,
          30,
          30,
          30,
          30,
          30,
          30,
          30,
          30,
          35,
          35,
          35,
          35,
          35,
          35,
          35,
          35,
          35,
          35,
          35,
          35,
          35,
          35,
          35,
          35,
          40,
          40,
          40,
          40,
          40,
          40,
          40,
          40,
          40,
          40,
          40,
          40,
          40,
          40,
          40,
          40,
          45,
          45,
          45,
          45,
          45,
          45,
          45,
          45,
          45,
          45,
          45,
          45,
          45,
          45,
          45,
          45,
          50,
          50,
          50,
          50,
          50,
          50,
          50,
          50,
          50,
          50,
          50,
          50,
          50,
          50,
          50,
          50,
          55,
          55,
          55,
          55,
          55,
          55,
          55,
          55,
          55,
          55,
          55,
          55,
          55,
          55,
          55,
          55,
          60,
          60,
          60,
          60,
          60,
          60,
          60,
          60,
          60,
          60,
          60,
          60,
          60,
          60,
          60,
          60,
          65,
          65,
          65,
          65,
          65,
          65,
          65,
          65,
          65,
          65,
          65,
          65,
          65,
          65,
          65,
          65,
          70,
          70,
          70,
          70,
          70,
          70,
          70,
          70,
          70,
          70,
          70,
          70,
          70,
          70,
          70,
          70,
          75,
          75,
          75,
          75,
          75,
          75,
          75,
          75,
          75,
          75,
          75,
          75,
          75,
          75,
          75,
          75,
          80,
          80,
          80,
          80,
          80,
          80,
          80,
          80,
          80,
          80,
          80,
          80,
          80,
          80,
          80,
          80,
          85,
          85,
          85,
          85,
          85,
          85,
          85,
          85,
          85,
          85,
          85,
          85,
          85,
          85,
          85,
          85,
          90,
          90,
          90,
          90,
          90,
          90,
          90,
          90,
          90,
          90,
          90,
          90,
          90,
          90,
          90,
          90
         ],
         "z": [
          91.8,
          86.75,
          89.62,
          86.96,
          75.11,
          92.74,
          83.6,
          92.21,
          89.84,
          89.83,
          86.93,
          86.9,
          85.05,
          83.17,
          83.5,
          84.02,
          75.87,
          85.38,
          80.54,
          14.5,
          78.57,
          91,
          90.55,
          87.67,
          86.86,
          84.19,
          82.4,
          80.37,
          78.45,
          78.37,
          75.9,
          74.09,
          86.6,
          84.09,
          13.83,
          64.09,
          82.22,
          88.24,
          86.69,
          83,
          78.54,
          74.78,
          71.42,
          68.69,
          66.23,
          65.68,
          62.75,
          64.95,
          84.11,
          68.07,
          26.27,
          86.92,
          85.8,
          84.59,
          78.9,
          73.89,
          70.33,
          64.52,
          60.11,
          59.66,
          60.97,
          57.65,
          50.6,
          51.56,
          83.62,
          46.29,
          80.67,
          83.34,
          85.28,
          78.91,
          70.74,
          66.75,
          60.92,
          55.87,
          56.27,
          55.09,
          48.55,
          45.05,
          44.56,
          31.26,
          74.54,
          81.6,
          82.02,
          84,
          79.22,
          68.09,
          63.8,
          53.57,
          54.15,
          51.52,
          47.1,
          44.48,
          37.72,
          28.85,
          27.82,
          28.31,
          71.13,
          68.86,
          80.05,
          75.51,
          64.75,
          61.57,
          51.63,
          51.25,
          46.53,
          43.77,
          33.14,
          28.36,
          27.39,
          27.92,
          28,
          24.02,
          49.58,
          77.99,
          77.71,
          62.51,
          63.1,
          49.72,
          51.09,
          46.58,
          36.51,
          27.97,
          27.53,
          26.26,
          27.34,
          25.97,
          25.02,
          22.88,
          64.62,
          78.16,
          67.1,
          62.03,
          50.36,
          47.65,
          40.62,
          35.07,
          27.16,
          26.69,
          26.47,
          24.42,
          24.21,
          25.23,
          25.31,
          27.67,
          79.34,
          80.82,
          65.25,
          54.66,
          45.76,
          42.96,
          31.28,
          26.67,
          26.07,
          24.68,
          22.43,
          22.6,
          24.81,
          27.27,
          28.08,
          28.2,
          76.52,
          67.31,
          59.16,
          48.48,
          44.7,
          29.25,
          25.74,
          24.66,
          23.7,
          21.56,
          22.56,
          27.4,
          25.76,
          25.91,
          26.47,
          22.1,
          76.01,
          66.41,
          50.17,
          43.99,
          28.04,
          26,
          25.58,
          23.1,
          20.86,
          22.21,
          26.56,
          26.2,
          23.09,
          22.57,
          20.78,
          21.03,
          76.1,
          63.84,
          45.26,
          40.95,
          26.6,
          25.1,
          22.83,
          23.8,
          21.63,
          26.61,
          25.23,
          22.36,
          21.48,
          19.61,
          19.73,
          20.14,
          67.14,
          53.84,
          43.06,
          25.85,
          25.56,
          23.15,
          20.69,
          27.71,
          27.02,
          26.02,
          22.1,
          20.39,
          20.66,
          19.24,
          19.38,
          19.89,
          67.77,
          49.83,
          41.51,
          25.22,
          23.75,
          20.44,
          26.58,
          27.16,
          24.56,
          21.39,
          20.08,
          20.36,
          18.69,
          21.19,
          20.1,
          19.96,
          60.89,
          44.38,
          28.83,
          24.94,
          22.63,
          22.85,
          26.66,
          25.85,
          21.43,
          19.45,
          20.01,
          20.91,
          20.62,
          20.63,
          18.85,
          19.08,
          58.15,
          43.63,
          25.88,
          25.02,
          22.49,
          25.73,
          27.35,
          22.05,
          19.88,
          20.14,
          20.45,
          19.87,
          19.98,
          19.62,
          18.2,
          15.18,
          48.87,
          39.02,
          24.25,
          23.19,
          21.21,
          26.13,
          23.82,
          20.26,
          20.55,
          19.66,
          20.07,
          20.13,
          18.59,
          17.47,
          16.5,
          15.8,
          47.92,
          26.77,
          23.85,
          20.84,
          27.08,
          25.61,
          19.14,
          18.83,
          19.98,
          19.32,
          20.58,
          18.31,
          16.84,
          16.65,
          15.02,
          16.07
         ]
        }
       ],
       "layout": {
        "coloraxis": {
         "colorbar": {
          "title": {
           "text": "ML Controller Use (%)"
          }
         },
         "colorscale": [
          [
           0,
           "#0d0887"
          ],
          [
           0.1111111111111111,
           "#46039f"
          ],
          [
           0.2222222222222222,
           "#7201a8"
          ],
          [
           0.3333333333333333,
           "#9c179e"
          ],
          [
           0.4444444444444444,
           "#bd3786"
          ],
          [
           0.5555555555555556,
           "#d8576b"
          ],
          [
           0.6666666666666666,
           "#ed7953"
          ],
          [
           0.7777777777777778,
           "#fb9f3a"
          ],
          [
           0.8888888888888888,
           "#fdca26"
          ],
          [
           1,
           "#f0f921"
          ]
         ]
        },
        "height": 1000,
        "legend": {
         "tracegroupgap": 0
        },
        "margin": {
         "t": 60
        },
        "scene": {
         "domain": {
          "x": [
           0,
           1
          ],
          "y": [
           0,
           1
          ]
         },
         "xaxis": {
          "title": {
           "text": "Reach Time (s)"
          }
         },
         "yaxis": {
          "title": {
           "text": "Parameter Uncertainty (%)"
          }
         },
         "zaxis": {
          "title": {
           "text": "ML Controller Use (%)"
          }
         }
        },
        "template": {
         "data": {
          "bar": [
           {
            "error_x": {
             "color": "#2a3f5f"
            },
            "error_y": {
             "color": "#2a3f5f"
            },
            "marker": {
             "line": {
              "color": "#E5ECF6",
              "width": 0.5
             }
            },
            "type": "bar"
           }
          ],
          "barpolar": [
           {
            "marker": {
             "line": {
              "color": "#E5ECF6",
              "width": 0.5
             }
            },
            "type": "barpolar"
           }
          ],
          "carpet": [
           {
            "aaxis": {
             "endlinecolor": "#2a3f5f",
             "gridcolor": "white",
             "linecolor": "white",
             "minorgridcolor": "white",
             "startlinecolor": "#2a3f5f"
            },
            "baxis": {
             "endlinecolor": "#2a3f5f",
             "gridcolor": "white",
             "linecolor": "white",
             "minorgridcolor": "white",
             "startlinecolor": "#2a3f5f"
            },
            "type": "carpet"
           }
          ],
          "choropleth": [
           {
            "colorbar": {
             "outlinewidth": 0,
             "ticks": ""
            },
            "type": "choropleth"
           }
          ],
          "contour": [
           {
            "colorbar": {
             "outlinewidth": 0,
             "ticks": ""
            },
            "colorscale": [
             [
              0,
              "#0d0887"
             ],
             [
              0.1111111111111111,
              "#46039f"
             ],
             [
              0.2222222222222222,
              "#7201a8"
             ],
             [
              0.3333333333333333,
              "#9c179e"
             ],
             [
              0.4444444444444444,
              "#bd3786"
             ],
             [
              0.5555555555555556,
              "#d8576b"
             ],
             [
              0.6666666666666666,
              "#ed7953"
             ],
             [
              0.7777777777777778,
              "#fb9f3a"
             ],
             [
              0.8888888888888888,
              "#fdca26"
             ],
             [
              1,
              "#f0f921"
             ]
            ],
            "type": "contour"
           }
          ],
          "contourcarpet": [
           {
            "colorbar": {
             "outlinewidth": 0,
             "ticks": ""
            },
            "type": "contourcarpet"
           }
          ],
          "heatmap": [
           {
            "colorbar": {
             "outlinewidth": 0,
             "ticks": ""
            },
            "colorscale": [
             [
              0,
              "#0d0887"
             ],
             [
              0.1111111111111111,
              "#46039f"
             ],
             [
              0.2222222222222222,
              "#7201a8"
             ],
             [
              0.3333333333333333,
              "#9c179e"
             ],
             [
              0.4444444444444444,
              "#bd3786"
             ],
             [
              0.5555555555555556,
              "#d8576b"
             ],
             [
              0.6666666666666666,
              "#ed7953"
             ],
             [
              0.7777777777777778,
              "#fb9f3a"
             ],
             [
              0.8888888888888888,
              "#fdca26"
             ],
             [
              1,
              "#f0f921"
             ]
            ],
            "type": "heatmap"
           }
          ],
          "heatmapgl": [
           {
            "colorbar": {
             "outlinewidth": 0,
             "ticks": ""
            },
            "colorscale": [
             [
              0,
              "#0d0887"
             ],
             [
              0.1111111111111111,
              "#46039f"
             ],
             [
              0.2222222222222222,
              "#7201a8"
             ],
             [
              0.3333333333333333,
              "#9c179e"
             ],
             [
              0.4444444444444444,
              "#bd3786"
             ],
             [
              0.5555555555555556,
              "#d8576b"
             ],
             [
              0.6666666666666666,
              "#ed7953"
             ],
             [
              0.7777777777777778,
              "#fb9f3a"
             ],
             [
              0.8888888888888888,
              "#fdca26"
             ],
             [
              1,
              "#f0f921"
             ]
            ],
            "type": "heatmapgl"
           }
          ],
          "histogram": [
           {
            "marker": {
             "colorbar": {
              "outlinewidth": 0,
              "ticks": ""
             }
            },
            "type": "histogram"
           }
          ],
          "histogram2d": [
           {
            "colorbar": {
             "outlinewidth": 0,
             "ticks": ""
            },
            "colorscale": [
             [
              0,
              "#0d0887"
             ],
             [
              0.1111111111111111,
              "#46039f"
             ],
             [
              0.2222222222222222,
              "#7201a8"
             ],
             [
              0.3333333333333333,
              "#9c179e"
             ],
             [
              0.4444444444444444,
              "#bd3786"
             ],
             [
              0.5555555555555556,
              "#d8576b"
             ],
             [
              0.6666666666666666,
              "#ed7953"
             ],
             [
              0.7777777777777778,
              "#fb9f3a"
             ],
             [
              0.8888888888888888,
              "#fdca26"
             ],
             [
              1,
              "#f0f921"
             ]
            ],
            "type": "histogram2d"
           }
          ],
          "histogram2dcontour": [
           {
            "colorbar": {
             "outlinewidth": 0,
             "ticks": ""
            },
            "colorscale": [
             [
              0,
              "#0d0887"
             ],
             [
              0.1111111111111111,
              "#46039f"
             ],
             [
              0.2222222222222222,
              "#7201a8"
             ],
             [
              0.3333333333333333,
              "#9c179e"
             ],
             [
              0.4444444444444444,
              "#bd3786"
             ],
             [
              0.5555555555555556,
              "#d8576b"
             ],
             [
              0.6666666666666666,
              "#ed7953"
             ],
             [
              0.7777777777777778,
              "#fb9f3a"
             ],
             [
              0.8888888888888888,
              "#fdca26"
             ],
             [
              1,
              "#f0f921"
             ]
            ],
            "type": "histogram2dcontour"
           }
          ],
          "mesh3d": [
           {
            "colorbar": {
             "outlinewidth": 0,
             "ticks": ""
            },
            "type": "mesh3d"
           }
          ],
          "parcoords": [
           {
            "line": {
             "colorbar": {
              "outlinewidth": 0,
              "ticks": ""
             }
            },
            "type": "parcoords"
           }
          ],
          "pie": [
           {
            "automargin": true,
            "type": "pie"
           }
          ],
          "scatter": [
           {
            "marker": {
             "colorbar": {
              "outlinewidth": 0,
              "ticks": ""
             }
            },
            "type": "scatter"
           }
          ],
          "scatter3d": [
           {
            "line": {
             "colorbar": {
              "outlinewidth": 0,
              "ticks": ""
             }
            },
            "marker": {
             "colorbar": {
              "outlinewidth": 0,
              "ticks": ""
             }
            },
            "type": "scatter3d"
           }
          ],
          "scattercarpet": [
           {
            "marker": {
             "colorbar": {
              "outlinewidth": 0,
              "ticks": ""
             }
            },
            "type": "scattercarpet"
           }
          ],
          "scattergeo": [
           {
            "marker": {
             "colorbar": {
              "outlinewidth": 0,
              "ticks": ""
             }
            },
            "type": "scattergeo"
           }
          ],
          "scattergl": [
           {
            "marker": {
             "colorbar": {
              "outlinewidth": 0,
              "ticks": ""
             }
            },
            "type": "scattergl"
           }
          ],
          "scattermapbox": [
           {
            "marker": {
             "colorbar": {
              "outlinewidth": 0,
              "ticks": ""
             }
            },
            "type": "scattermapbox"
           }
          ],
          "scatterpolar": [
           {
            "marker": {
             "colorbar": {
              "outlinewidth": 0,
              "ticks": ""
             }
            },
            "type": "scatterpolar"
           }
          ],
          "scatterpolargl": [
           {
            "marker": {
             "colorbar": {
              "outlinewidth": 0,
              "ticks": ""
             }
            },
            "type": "scatterpolargl"
           }
          ],
          "scatterternary": [
           {
            "marker": {
             "colorbar": {
              "outlinewidth": 0,
              "ticks": ""
             }
            },
            "type": "scatterternary"
           }
          ],
          "surface": [
           {
            "colorbar": {
             "outlinewidth": 0,
             "ticks": ""
            },
            "colorscale": [
             [
              0,
              "#0d0887"
             ],
             [
              0.1111111111111111,
              "#46039f"
             ],
             [
              0.2222222222222222,
              "#7201a8"
             ],
             [
              0.3333333333333333,
              "#9c179e"
             ],
             [
              0.4444444444444444,
              "#bd3786"
             ],
             [
              0.5555555555555556,
              "#d8576b"
             ],
             [
              0.6666666666666666,
              "#ed7953"
             ],
             [
              0.7777777777777778,
              "#fb9f3a"
             ],
             [
              0.8888888888888888,
              "#fdca26"
             ],
             [
              1,
              "#f0f921"
             ]
            ],
            "type": "surface"
           }
          ],
          "table": [
           {
            "cells": {
             "fill": {
              "color": "#EBF0F8"
             },
             "line": {
              "color": "white"
             }
            },
            "header": {
             "fill": {
              "color": "#C8D4E3"
             },
             "line": {
              "color": "white"
             }
            },
            "type": "table"
           }
          ]
         },
         "layout": {
          "annotationdefaults": {
           "arrowcolor": "#2a3f5f",
           "arrowhead": 0,
           "arrowwidth": 1
          },
          "autotypenumbers": "strict",
          "coloraxis": {
           "colorbar": {
            "outlinewidth": 0,
            "ticks": ""
           }
          },
          "colorscale": {
           "diverging": [
            [
             0,
             "#8e0152"
            ],
            [
             0.1,
             "#c51b7d"
            ],
            [
             0.2,
             "#de77ae"
            ],
            [
             0.3,
             "#f1b6da"
            ],
            [
             0.4,
             "#fde0ef"
            ],
            [
             0.5,
             "#f7f7f7"
            ],
            [
             0.6,
             "#e6f5d0"
            ],
            [
             0.7,
             "#b8e186"
            ],
            [
             0.8,
             "#7fbc41"
            ],
            [
             0.9,
             "#4d9221"
            ],
            [
             1,
             "#276419"
            ]
           ],
           "sequential": [
            [
             0,
             "#0d0887"
            ],
            [
             0.1111111111111111,
             "#46039f"
            ],
            [
             0.2222222222222222,
             "#7201a8"
            ],
            [
             0.3333333333333333,
             "#9c179e"
            ],
            [
             0.4444444444444444,
             "#bd3786"
            ],
            [
             0.5555555555555556,
             "#d8576b"
            ],
            [
             0.6666666666666666,
             "#ed7953"
            ],
            [
             0.7777777777777778,
             "#fb9f3a"
            ],
            [
             0.8888888888888888,
             "#fdca26"
            ],
            [
             1,
             "#f0f921"
            ]
           ],
           "sequentialminus": [
            [
             0,
             "#0d0887"
            ],
            [
             0.1111111111111111,
             "#46039f"
            ],
            [
             0.2222222222222222,
             "#7201a8"
            ],
            [
             0.3333333333333333,
             "#9c179e"
            ],
            [
             0.4444444444444444,
             "#bd3786"
            ],
            [
             0.5555555555555556,
             "#d8576b"
            ],
            [
             0.6666666666666666,
             "#ed7953"
            ],
            [
             0.7777777777777778,
             "#fb9f3a"
            ],
            [
             0.8888888888888888,
             "#fdca26"
            ],
            [
             1,
             "#f0f921"
            ]
           ]
          },
          "colorway": [
           "#636efa",
           "#EF553B",
           "#00cc96",
           "#ab63fa",
           "#FFA15A",
           "#19d3f3",
           "#FF6692",
           "#B6E880",
           "#FF97FF",
           "#FECB52"
          ],
          "font": {
           "color": "#2a3f5f"
          },
          "geo": {
           "bgcolor": "white",
           "lakecolor": "white",
           "landcolor": "#E5ECF6",
           "showlakes": true,
           "showland": true,
           "subunitcolor": "white"
          },
          "hoverlabel": {
           "align": "left"
          },
          "hovermode": "closest",
          "mapbox": {
           "style": "light"
          },
          "paper_bgcolor": "white",
          "plot_bgcolor": "#E5ECF6",
          "polar": {
           "angularaxis": {
            "gridcolor": "white",
            "linecolor": "white",
            "ticks": ""
           },
           "bgcolor": "#E5ECF6",
           "radialaxis": {
            "gridcolor": "white",
            "linecolor": "white",
            "ticks": ""
           }
          },
          "scene": {
           "xaxis": {
            "backgroundcolor": "#E5ECF6",
            "gridcolor": "white",
            "gridwidth": 2,
            "linecolor": "white",
            "showbackground": true,
            "ticks": "",
            "zerolinecolor": "white"
           },
           "yaxis": {
            "backgroundcolor": "#E5ECF6",
            "gridcolor": "white",
            "gridwidth": 2,
            "linecolor": "white",
            "showbackground": true,
            "ticks": "",
            "zerolinecolor": "white"
           },
           "zaxis": {
            "backgroundcolor": "#E5ECF6",
            "gridcolor": "white",
            "gridwidth": 2,
            "linecolor": "white",
            "showbackground": true,
            "ticks": "",
            "zerolinecolor": "white"
           }
          },
          "shapedefaults": {
           "line": {
            "color": "#2a3f5f"
           }
          },
          "ternary": {
           "aaxis": {
            "gridcolor": "white",
            "linecolor": "white",
            "ticks": ""
           },
           "baxis": {
            "gridcolor": "white",
            "linecolor": "white",
            "ticks": ""
           },
           "bgcolor": "#E5ECF6",
           "caxis": {
            "gridcolor": "white",
            "linecolor": "white",
            "ticks": ""
           }
          },
          "title": {
           "x": 0.05
          },
          "xaxis": {
           "automargin": true,
           "gridcolor": "white",
           "linecolor": "white",
           "ticks": "",
           "title": {
            "standoff": 15
           },
           "zerolinecolor": "white",
           "zerolinewidth": 2
          },
          "yaxis": {
           "automargin": true,
           "gridcolor": "white",
           "linecolor": "white",
           "ticks": "",
           "title": {
            "standoff": 15
           },
           "zerolinecolor": "white",
           "zerolinewidth": 2
          }
         }
        },
        "width": 1500
       }
      },
      "text/html": [
       "<div>                            <div id=\"c086628e-4dda-4b26-934f-937194e7f933\" class=\"plotly-graph-div\" style=\"height:1000px; width:1500px;\"></div>            <script type=\"text/javascript\">                require([\"plotly\"], function(Plotly) {                    window.PLOTLYENV=window.PLOTLYENV || {};                                    if (document.getElementById(\"c086628e-4dda-4b26-934f-937194e7f933\")) {                    Plotly.newPlot(                        \"c086628e-4dda-4b26-934f-937194e7f933\",                        [{\"hovertemplate\": \"Reach Time (s)=%{x}<br>Parameter Uncertainty (%)=%{y}<br>ML Controller Use (%)=%{marker.color}<extra></extra>\", \"legendgroup\": \"\", \"marker\": {\"color\": [91.8, 86.75, 89.62, 86.96, 75.11, 92.74, 83.6, 92.21, 89.84, 89.83, 86.93, 86.9, 85.05, 83.17, 83.5, 84.02, 75.87, 85.38, 80.54, 14.5, 78.57, 91.0, 90.55, 87.67, 86.86, 84.19, 82.4, 80.37, 78.45, 78.37, 75.9, 74.09, 86.6, 84.09, 13.83, 64.09, 82.22, 88.24, 86.69, 83.0, 78.54, 74.78, 71.42, 68.69, 66.23, 65.68, 62.75, 64.95, 84.11, 68.07, 26.27, 86.92, 85.8, 84.59, 78.9, 73.89, 70.33, 64.52, 60.11, 59.66, 60.97, 57.65, 50.6, 51.56, 83.62, 46.29, 80.67, 83.34, 85.28, 78.91, 70.74, 66.75, 60.92, 55.87, 56.27, 55.09, 48.55, 45.05, 44.56, 31.26, 74.54, 81.6, 82.02, 84.0, 79.22, 68.09, 63.8, 53.57, 54.15, 51.52, 47.1, 44.48, 37.72, 28.85, 27.82, 28.31, 71.13, 68.86, 80.05, 75.51, 64.75, 61.57, 51.63, 51.25, 46.53, 43.77, 33.14, 28.36, 27.39, 27.92, 28.0, 24.02, 49.58, 77.99, 77.71, 62.51, 63.1, 49.72, 51.09, 46.58, 36.51, 27.97, 27.53, 26.26, 27.34, 25.97, 25.02, 22.88, 64.62, 78.16, 67.1, 62.03, 50.36, 47.65, 40.62, 35.07, 27.16, 26.69, 26.47, 24.42, 24.21, 25.23, 25.31, 27.67, 79.34, 80.82, 65.25, 54.66, 45.76, 42.96, 31.28, 26.67, 26.07, 24.68, 22.43, 22.6, 24.81, 27.27, 28.08, 28.2, 76.52, 67.31, 59.16, 48.48, 44.7, 29.25, 25.74, 24.66, 23.7, 21.56, 22.56, 27.4, 25.76, 25.91, 26.47, 22.1, 76.01, 66.41, 50.17, 43.99, 28.04, 26.0, 25.58, 23.1, 20.86, 22.21, 26.56, 26.2, 23.09, 22.57, 20.78, 21.03, 76.1, 63.84, 45.26, 40.95, 26.6, 25.1, 22.83, 23.8, 21.63, 26.61, 25.23, 22.36, 21.48, 19.61, 19.73, 20.14, 67.14, 53.84, 43.06, 25.85, 25.56, 23.15, 20.69, 27.71, 27.02, 26.02, 22.1, 20.39, 20.66, 19.24, 19.38, 19.89, 67.77, 49.83, 41.51, 25.22, 23.75, 20.44, 26.58, 27.16, 24.56, 21.39, 20.08, 20.36, 18.69, 21.19, 20.1, 19.96, 60.89, 44.38, 28.83, 24.94, 22.63, 22.85, 26.66, 25.85, 21.43, 19.45, 20.01, 20.91, 20.62, 20.63, 18.85, 19.08, 58.15, 43.63, 25.88, 25.02, 22.49, 25.73, 27.35, 22.05, 19.88, 20.14, 20.45, 19.87, 19.98, 19.62, 18.2, 15.18, 48.87, 39.02, 24.25, 23.19, 21.21, 26.13, 23.82, 20.26, 20.55, 19.66, 20.07, 20.13, 18.59, 17.47, 16.5, 15.8, 47.92, 26.77, 23.85, 20.84, 27.08, 25.61, 19.14, 18.83, 19.98, 19.32, 20.58, 18.31, 16.84, 16.65, 15.02, 16.07], \"coloraxis\": \"coloraxis\", \"symbol\": \"circle\"}, \"mode\": \"markers\", \"name\": \"\", \"scene\": \"scene\", \"showlegend\": false, \"type\": \"scatter3d\", \"x\": [0.5, 0.6, 0.7, 0.8, 0.9, 1.0, 1.1, 1.2, 1.3, 1.4, 1.5, 1.6, 1.7, 1.8, 1.9, 2.0, 0.5, 0.6, 0.7, 0.8, 0.9, 1.0, 1.1, 1.2, 1.3, 1.4, 1.5, 1.6, 1.7, 1.8, 1.9, 2.0, 0.5, 0.6, 0.7, 0.8, 0.9, 1.0, 1.1, 1.2, 1.3, 1.4, 1.5, 1.6, 1.7, 1.8, 1.9, 2.0, 0.5, 0.6, 0.7, 0.8, 0.9, 1.0, 1.1, 1.2, 1.3, 1.4, 1.5, 1.6, 1.7, 1.8, 1.9, 2.0, 0.5, 0.6, 0.7, 0.8, 0.9, 1.0, 1.1, 1.2, 1.3, 1.4, 1.5, 1.6, 1.7, 1.8, 1.9, 2.0, 0.5, 0.6, 0.7, 0.8, 0.9, 1.0, 1.1, 1.2, 1.3, 1.4, 1.5, 1.6, 1.7, 1.8, 1.9, 2.0, 0.5, 0.6, 0.7, 0.8, 0.9, 1.0, 1.1, 1.2, 1.3, 1.4, 1.5, 1.6, 1.7, 1.8, 1.9, 2.0, 0.5, 0.6, 0.7, 0.8, 0.9, 1.0, 1.1, 1.2, 1.3, 1.4, 1.5, 1.6, 1.7, 1.8, 1.9, 2.0, 0.5, 0.6, 0.7, 0.8, 0.9, 1.0, 1.1, 1.2, 1.3, 1.4, 1.5, 1.6, 1.7, 1.8, 1.9, 2.0, 0.5, 0.6, 0.7, 0.8, 0.9, 1.0, 1.1, 1.2, 1.3, 1.4, 1.5, 1.6, 1.7, 1.8, 1.9, 2.0, 0.5, 0.6, 0.7, 0.8, 0.9, 1.0, 1.1, 1.2, 1.3, 1.4, 1.5, 1.6, 1.7, 1.8, 1.9, 2.0, 0.5, 0.6, 0.7, 0.8, 0.9, 1.0, 1.1, 1.2, 1.3, 1.4, 1.5, 1.6, 1.7, 1.8, 1.9, 2.0, 0.5, 0.6, 0.7, 0.8, 0.9, 1.0, 1.1, 1.2, 1.3, 1.4, 1.5, 1.6, 1.7, 1.8, 1.9, 2.0, 0.5, 0.6, 0.7, 0.8, 0.9, 1.0, 1.1, 1.2, 1.3, 1.4, 1.5, 1.6, 1.7, 1.8, 1.9, 2.0, 0.5, 0.6, 0.7, 0.8, 0.9, 1.0, 1.1, 1.2, 1.3, 1.4, 1.5, 1.6, 1.7, 1.8, 1.9, 2.0, 0.5, 0.6, 0.7, 0.8, 0.9, 1.0, 1.1, 1.2, 1.3, 1.4, 1.5, 1.6, 1.7, 1.8, 1.9, 2.0, 0.5, 0.6, 0.7, 0.8, 0.9, 1.0, 1.1, 1.2, 1.3, 1.4, 1.5, 1.6, 1.7, 1.8, 1.9, 2.0, 0.5, 0.6, 0.7, 0.8, 0.9, 1.0, 1.1, 1.2, 1.3, 1.4, 1.5, 1.6, 1.7, 1.8, 1.9, 2.0, 0.5, 0.6, 0.7, 0.8, 0.9, 1.0, 1.1, 1.2, 1.3, 1.4, 1.5, 1.6, 1.7, 1.8, 1.9, 2.0], \"y\": [0.0, 0.0, 0.0, 0.0, 0.0, 0.0, 0.0, 0.0, 0.0, 0.0, 0.0, 0.0, 0.0, 0.0, 0.0, 0.0, 5.0, 5.0, 5.0, 5.0, 5.0, 5.0, 5.0, 5.0, 5.0, 5.0, 5.0, 5.0, 5.0, 5.0, 5.0, 5.0, 10.0, 10.0, 10.0, 10.0, 10.0, 10.0, 10.0, 10.0, 10.0, 10.0, 10.0, 10.0, 10.0, 10.0, 10.0, 10.0, 15.0, 15.0, 15.0, 15.0, 15.0, 15.0, 15.0, 15.0, 15.0, 15.0, 15.0, 15.0, 15.0, 15.0, 15.0, 15.0, 20.0, 20.0, 20.0, 20.0, 20.0, 20.0, 20.0, 20.0, 20.0, 20.0, 20.0, 20.0, 20.0, 20.0, 20.0, 20.0, 25.0, 25.0, 25.0, 25.0, 25.0, 25.0, 25.0, 25.0, 25.0, 25.0, 25.0, 25.0, 25.0, 25.0, 25.0, 25.0, 30.0, 30.0, 30.0, 30.0, 30.0, 30.0, 30.0, 30.0, 30.0, 30.0, 30.0, 30.0, 30.0, 30.0, 30.0, 30.0, 35.0, 35.0, 35.0, 35.0, 35.0, 35.0, 35.0, 35.0, 35.0, 35.0, 35.0, 35.0, 35.0, 35.0, 35.0, 35.0, 40.0, 40.0, 40.0, 40.0, 40.0, 40.0, 40.0, 40.0, 40.0, 40.0, 40.0, 40.0, 40.0, 40.0, 40.0, 40.0, 45.0, 45.0, 45.0, 45.0, 45.0, 45.0, 45.0, 45.0, 45.0, 45.0, 45.0, 45.0, 45.0, 45.0, 45.0, 45.0, 50.0, 50.0, 50.0, 50.0, 50.0, 50.0, 50.0, 50.0, 50.0, 50.0, 50.0, 50.0, 50.0, 50.0, 50.0, 50.0, 55.0, 55.0, 55.0, 55.0, 55.0, 55.0, 55.0, 55.0, 55.0, 55.0, 55.0, 55.0, 55.0, 55.0, 55.0, 55.0, 60.0, 60.0, 60.0, 60.0, 60.0, 60.0, 60.0, 60.0, 60.0, 60.0, 60.0, 60.0, 60.0, 60.0, 60.0, 60.0, 65.0, 65.0, 65.0, 65.0, 65.0, 65.0, 65.0, 65.0, 65.0, 65.0, 65.0, 65.0, 65.0, 65.0, 65.0, 65.0, 70.0, 70.0, 70.0, 70.0, 70.0, 70.0, 70.0, 70.0, 70.0, 70.0, 70.0, 70.0, 70.0, 70.0, 70.0, 70.0, 75.0, 75.0, 75.0, 75.0, 75.0, 75.0, 75.0, 75.0, 75.0, 75.0, 75.0, 75.0, 75.0, 75.0, 75.0, 75.0, 80.0, 80.0, 80.0, 80.0, 80.0, 80.0, 80.0, 80.0, 80.0, 80.0, 80.0, 80.0, 80.0, 80.0, 80.0, 80.0, 85.0, 85.0, 85.0, 85.0, 85.0, 85.0, 85.0, 85.0, 85.0, 85.0, 85.0, 85.0, 85.0, 85.0, 85.0, 85.0, 90.0, 90.0, 90.0, 90.0, 90.0, 90.0, 90.0, 90.0, 90.0, 90.0, 90.0, 90.0, 90.0, 90.0, 90.0, 90.0], \"z\": [91.8, 86.75, 89.62, 86.96, 75.11, 92.74, 83.6, 92.21, 89.84, 89.83, 86.93, 86.9, 85.05, 83.17, 83.5, 84.02, 75.87, 85.38, 80.54, 14.5, 78.57, 91.0, 90.55, 87.67, 86.86, 84.19, 82.4, 80.37, 78.45, 78.37, 75.9, 74.09, 86.6, 84.09, 13.83, 64.09, 82.22, 88.24, 86.69, 83.0, 78.54, 74.78, 71.42, 68.69, 66.23, 65.68, 62.75, 64.95, 84.11, 68.07, 26.27, 86.92, 85.8, 84.59, 78.9, 73.89, 70.33, 64.52, 60.11, 59.66, 60.97, 57.65, 50.6, 51.56, 83.62, 46.29, 80.67, 83.34, 85.28, 78.91, 70.74, 66.75, 60.92, 55.87, 56.27, 55.09, 48.55, 45.05, 44.56, 31.26, 74.54, 81.6, 82.02, 84.0, 79.22, 68.09, 63.8, 53.57, 54.15, 51.52, 47.1, 44.48, 37.72, 28.85, 27.82, 28.31, 71.13, 68.86, 80.05, 75.51, 64.75, 61.57, 51.63, 51.25, 46.53, 43.77, 33.14, 28.36, 27.39, 27.92, 28.0, 24.02, 49.58, 77.99, 77.71, 62.51, 63.1, 49.72, 51.09, 46.58, 36.51, 27.97, 27.53, 26.26, 27.34, 25.97, 25.02, 22.88, 64.62, 78.16, 67.1, 62.03, 50.36, 47.65, 40.62, 35.07, 27.16, 26.69, 26.47, 24.42, 24.21, 25.23, 25.31, 27.67, 79.34, 80.82, 65.25, 54.66, 45.76, 42.96, 31.28, 26.67, 26.07, 24.68, 22.43, 22.6, 24.81, 27.27, 28.08, 28.2, 76.52, 67.31, 59.16, 48.48, 44.7, 29.25, 25.74, 24.66, 23.7, 21.56, 22.56, 27.4, 25.76, 25.91, 26.47, 22.1, 76.01, 66.41, 50.17, 43.99, 28.04, 26.0, 25.58, 23.1, 20.86, 22.21, 26.56, 26.2, 23.09, 22.57, 20.78, 21.03, 76.1, 63.84, 45.26, 40.95, 26.6, 25.1, 22.83, 23.8, 21.63, 26.61, 25.23, 22.36, 21.48, 19.61, 19.73, 20.14, 67.14, 53.84, 43.06, 25.85, 25.56, 23.15, 20.69, 27.71, 27.02, 26.02, 22.1, 20.39, 20.66, 19.24, 19.38, 19.89, 67.77, 49.83, 41.51, 25.22, 23.75, 20.44, 26.58, 27.16, 24.56, 21.39, 20.08, 20.36, 18.69, 21.19, 20.1, 19.96, 60.89, 44.38, 28.83, 24.94, 22.63, 22.85, 26.66, 25.85, 21.43, 19.45, 20.01, 20.91, 20.62, 20.63, 18.85, 19.08, 58.15, 43.63, 25.88, 25.02, 22.49, 25.73, 27.35, 22.05, 19.88, 20.14, 20.45, 19.87, 19.98, 19.62, 18.2, 15.18, 48.87, 39.02, 24.25, 23.19, 21.21, 26.13, 23.82, 20.26, 20.55, 19.66, 20.07, 20.13, 18.59, 17.47, 16.5, 15.8, 47.92, 26.77, 23.85, 20.84, 27.08, 25.61, 19.14, 18.83, 19.98, 19.32, 20.58, 18.31, 16.84, 16.65, 15.02, 16.07]}],                        {\"coloraxis\": {\"colorbar\": {\"title\": {\"text\": \"ML Controller Use (%)\"}}, \"colorscale\": [[0.0, \"#0d0887\"], [0.1111111111111111, \"#46039f\"], [0.2222222222222222, \"#7201a8\"], [0.3333333333333333, \"#9c179e\"], [0.4444444444444444, \"#bd3786\"], [0.5555555555555556, \"#d8576b\"], [0.6666666666666666, \"#ed7953\"], [0.7777777777777778, \"#fb9f3a\"], [0.8888888888888888, \"#fdca26\"], [1.0, \"#f0f921\"]]}, \"height\": 1000, \"legend\": {\"tracegroupgap\": 0}, \"margin\": {\"t\": 60}, \"scene\": {\"domain\": {\"x\": [0.0, 1.0], \"y\": [0.0, 1.0]}, \"xaxis\": {\"title\": {\"text\": \"Reach Time (s)\"}}, \"yaxis\": {\"title\": {\"text\": \"Parameter Uncertainty (%)\"}}, \"zaxis\": {\"title\": {\"text\": \"ML Controller Use (%)\"}}}, \"template\": {\"data\": {\"bar\": [{\"error_x\": {\"color\": \"#2a3f5f\"}, \"error_y\": {\"color\": \"#2a3f5f\"}, \"marker\": {\"line\": {\"color\": \"#E5ECF6\", \"width\": 0.5}}, \"type\": \"bar\"}], \"barpolar\": [{\"marker\": {\"line\": {\"color\": \"#E5ECF6\", \"width\": 0.5}}, \"type\": \"barpolar\"}], \"carpet\": [{\"aaxis\": {\"endlinecolor\": \"#2a3f5f\", \"gridcolor\": \"white\", \"linecolor\": \"white\", \"minorgridcolor\": \"white\", \"startlinecolor\": \"#2a3f5f\"}, \"baxis\": {\"endlinecolor\": \"#2a3f5f\", \"gridcolor\": \"white\", \"linecolor\": \"white\", \"minorgridcolor\": \"white\", \"startlinecolor\": \"#2a3f5f\"}, \"type\": \"carpet\"}], \"choropleth\": [{\"colorbar\": {\"outlinewidth\": 0, \"ticks\": \"\"}, \"type\": \"choropleth\"}], \"contour\": [{\"colorbar\": {\"outlinewidth\": 0, \"ticks\": \"\"}, \"colorscale\": [[0.0, \"#0d0887\"], [0.1111111111111111, \"#46039f\"], [0.2222222222222222, \"#7201a8\"], [0.3333333333333333, \"#9c179e\"], [0.4444444444444444, \"#bd3786\"], [0.5555555555555556, \"#d8576b\"], [0.6666666666666666, \"#ed7953\"], [0.7777777777777778, \"#fb9f3a\"], [0.8888888888888888, \"#fdca26\"], [1.0, \"#f0f921\"]], \"type\": \"contour\"}], \"contourcarpet\": [{\"colorbar\": {\"outlinewidth\": 0, \"ticks\": \"\"}, \"type\": \"contourcarpet\"}], \"heatmap\": [{\"colorbar\": {\"outlinewidth\": 0, \"ticks\": \"\"}, \"colorscale\": [[0.0, \"#0d0887\"], [0.1111111111111111, \"#46039f\"], [0.2222222222222222, \"#7201a8\"], [0.3333333333333333, \"#9c179e\"], [0.4444444444444444, \"#bd3786\"], [0.5555555555555556, \"#d8576b\"], [0.6666666666666666, \"#ed7953\"], [0.7777777777777778, \"#fb9f3a\"], [0.8888888888888888, \"#fdca26\"], [1.0, \"#f0f921\"]], \"type\": \"heatmap\"}], \"heatmapgl\": [{\"colorbar\": {\"outlinewidth\": 0, \"ticks\": \"\"}, \"colorscale\": [[0.0, \"#0d0887\"], [0.1111111111111111, \"#46039f\"], [0.2222222222222222, \"#7201a8\"], [0.3333333333333333, \"#9c179e\"], [0.4444444444444444, \"#bd3786\"], [0.5555555555555556, \"#d8576b\"], [0.6666666666666666, \"#ed7953\"], [0.7777777777777778, \"#fb9f3a\"], [0.8888888888888888, \"#fdca26\"], [1.0, \"#f0f921\"]], \"type\": \"heatmapgl\"}], \"histogram\": [{\"marker\": {\"colorbar\": {\"outlinewidth\": 0, \"ticks\": \"\"}}, \"type\": \"histogram\"}], \"histogram2d\": [{\"colorbar\": {\"outlinewidth\": 0, \"ticks\": \"\"}, \"colorscale\": [[0.0, \"#0d0887\"], [0.1111111111111111, \"#46039f\"], [0.2222222222222222, \"#7201a8\"], [0.3333333333333333, \"#9c179e\"], [0.4444444444444444, \"#bd3786\"], [0.5555555555555556, \"#d8576b\"], [0.6666666666666666, \"#ed7953\"], [0.7777777777777778, \"#fb9f3a\"], [0.8888888888888888, \"#fdca26\"], [1.0, \"#f0f921\"]], \"type\": \"histogram2d\"}], \"histogram2dcontour\": [{\"colorbar\": {\"outlinewidth\": 0, \"ticks\": \"\"}, \"colorscale\": [[0.0, \"#0d0887\"], [0.1111111111111111, \"#46039f\"], [0.2222222222222222, \"#7201a8\"], [0.3333333333333333, \"#9c179e\"], [0.4444444444444444, \"#bd3786\"], [0.5555555555555556, \"#d8576b\"], [0.6666666666666666, \"#ed7953\"], [0.7777777777777778, \"#fb9f3a\"], [0.8888888888888888, \"#fdca26\"], [1.0, \"#f0f921\"]], \"type\": \"histogram2dcontour\"}], \"mesh3d\": [{\"colorbar\": {\"outlinewidth\": 0, \"ticks\": \"\"}, \"type\": \"mesh3d\"}], \"parcoords\": [{\"line\": {\"colorbar\": {\"outlinewidth\": 0, \"ticks\": \"\"}}, \"type\": \"parcoords\"}], \"pie\": [{\"automargin\": true, \"type\": \"pie\"}], \"scatter\": [{\"marker\": {\"colorbar\": {\"outlinewidth\": 0, \"ticks\": \"\"}}, \"type\": \"scatter\"}], \"scatter3d\": [{\"line\": {\"colorbar\": {\"outlinewidth\": 0, \"ticks\": \"\"}}, \"marker\": {\"colorbar\": {\"outlinewidth\": 0, \"ticks\": \"\"}}, \"type\": \"scatter3d\"}], \"scattercarpet\": [{\"marker\": {\"colorbar\": {\"outlinewidth\": 0, \"ticks\": \"\"}}, \"type\": \"scattercarpet\"}], \"scattergeo\": [{\"marker\": {\"colorbar\": {\"outlinewidth\": 0, \"ticks\": \"\"}}, \"type\": \"scattergeo\"}], \"scattergl\": [{\"marker\": {\"colorbar\": {\"outlinewidth\": 0, \"ticks\": \"\"}}, \"type\": \"scattergl\"}], \"scattermapbox\": [{\"marker\": {\"colorbar\": {\"outlinewidth\": 0, \"ticks\": \"\"}}, \"type\": \"scattermapbox\"}], \"scatterpolar\": [{\"marker\": {\"colorbar\": {\"outlinewidth\": 0, \"ticks\": \"\"}}, \"type\": \"scatterpolar\"}], \"scatterpolargl\": [{\"marker\": {\"colorbar\": {\"outlinewidth\": 0, \"ticks\": \"\"}}, \"type\": \"scatterpolargl\"}], \"scatterternary\": [{\"marker\": {\"colorbar\": {\"outlinewidth\": 0, \"ticks\": \"\"}}, \"type\": \"scatterternary\"}], \"surface\": [{\"colorbar\": {\"outlinewidth\": 0, \"ticks\": \"\"}, \"colorscale\": [[0.0, \"#0d0887\"], [0.1111111111111111, \"#46039f\"], [0.2222222222222222, \"#7201a8\"], [0.3333333333333333, \"#9c179e\"], [0.4444444444444444, \"#bd3786\"], [0.5555555555555556, \"#d8576b\"], [0.6666666666666666, \"#ed7953\"], [0.7777777777777778, \"#fb9f3a\"], [0.8888888888888888, \"#fdca26\"], [1.0, \"#f0f921\"]], \"type\": \"surface\"}], \"table\": [{\"cells\": {\"fill\": {\"color\": \"#EBF0F8\"}, \"line\": {\"color\": \"white\"}}, \"header\": {\"fill\": {\"color\": \"#C8D4E3\"}, \"line\": {\"color\": \"white\"}}, \"type\": \"table\"}]}, \"layout\": {\"annotationdefaults\": {\"arrowcolor\": \"#2a3f5f\", \"arrowhead\": 0, \"arrowwidth\": 1}, \"autotypenumbers\": \"strict\", \"coloraxis\": {\"colorbar\": {\"outlinewidth\": 0, \"ticks\": \"\"}}, \"colorscale\": {\"diverging\": [[0, \"#8e0152\"], [0.1, \"#c51b7d\"], [0.2, \"#de77ae\"], [0.3, \"#f1b6da\"], [0.4, \"#fde0ef\"], [0.5, \"#f7f7f7\"], [0.6, \"#e6f5d0\"], [0.7, \"#b8e186\"], [0.8, \"#7fbc41\"], [0.9, \"#4d9221\"], [1, \"#276419\"]], \"sequential\": [[0.0, \"#0d0887\"], [0.1111111111111111, \"#46039f\"], [0.2222222222222222, \"#7201a8\"], [0.3333333333333333, \"#9c179e\"], [0.4444444444444444, \"#bd3786\"], [0.5555555555555556, \"#d8576b\"], [0.6666666666666666, \"#ed7953\"], [0.7777777777777778, \"#fb9f3a\"], [0.8888888888888888, \"#fdca26\"], [1.0, \"#f0f921\"]], \"sequentialminus\": [[0.0, \"#0d0887\"], [0.1111111111111111, \"#46039f\"], [0.2222222222222222, \"#7201a8\"], [0.3333333333333333, \"#9c179e\"], [0.4444444444444444, \"#bd3786\"], [0.5555555555555556, \"#d8576b\"], [0.6666666666666666, \"#ed7953\"], [0.7777777777777778, \"#fb9f3a\"], [0.8888888888888888, \"#fdca26\"], [1.0, \"#f0f921\"]]}, \"colorway\": [\"#636efa\", \"#EF553B\", \"#00cc96\", \"#ab63fa\", \"#FFA15A\", \"#19d3f3\", \"#FF6692\", \"#B6E880\", \"#FF97FF\", \"#FECB52\"], \"font\": {\"color\": \"#2a3f5f\"}, \"geo\": {\"bgcolor\": \"white\", \"lakecolor\": \"white\", \"landcolor\": \"#E5ECF6\", \"showlakes\": true, \"showland\": true, \"subunitcolor\": \"white\"}, \"hoverlabel\": {\"align\": \"left\"}, \"hovermode\": \"closest\", \"mapbox\": {\"style\": \"light\"}, \"paper_bgcolor\": \"white\", \"plot_bgcolor\": \"#E5ECF6\", \"polar\": {\"angularaxis\": {\"gridcolor\": \"white\", \"linecolor\": \"white\", \"ticks\": \"\"}, \"bgcolor\": \"#E5ECF6\", \"radialaxis\": {\"gridcolor\": \"white\", \"linecolor\": \"white\", \"ticks\": \"\"}}, \"scene\": {\"xaxis\": {\"backgroundcolor\": \"#E5ECF6\", \"gridcolor\": \"white\", \"gridwidth\": 2, \"linecolor\": \"white\", \"showbackground\": true, \"ticks\": \"\", \"zerolinecolor\": \"white\"}, \"yaxis\": {\"backgroundcolor\": \"#E5ECF6\", \"gridcolor\": \"white\", \"gridwidth\": 2, \"linecolor\": \"white\", \"showbackground\": true, \"ticks\": \"\", \"zerolinecolor\": \"white\"}, \"zaxis\": {\"backgroundcolor\": \"#E5ECF6\", \"gridcolor\": \"white\", \"gridwidth\": 2, \"linecolor\": \"white\", \"showbackground\": true, \"ticks\": \"\", \"zerolinecolor\": \"white\"}}, \"shapedefaults\": {\"line\": {\"color\": \"#2a3f5f\"}}, \"ternary\": {\"aaxis\": {\"gridcolor\": \"white\", \"linecolor\": \"white\", \"ticks\": \"\"}, \"baxis\": {\"gridcolor\": \"white\", \"linecolor\": \"white\", \"ticks\": \"\"}, \"bgcolor\": \"#E5ECF6\", \"caxis\": {\"gridcolor\": \"white\", \"linecolor\": \"white\", \"ticks\": \"\"}}, \"title\": {\"x\": 0.05}, \"xaxis\": {\"automargin\": true, \"gridcolor\": \"white\", \"linecolor\": \"white\", \"ticks\": \"\", \"title\": {\"standoff\": 15}, \"zerolinecolor\": \"white\", \"zerolinewidth\": 2}, \"yaxis\": {\"automargin\": true, \"gridcolor\": \"white\", \"linecolor\": \"white\", \"ticks\": \"\", \"title\": {\"standoff\": 15}, \"zerolinecolor\": \"white\", \"zerolinewidth\": 2}}}, \"width\": 1500},                        {\"responsive\": true}                    ).then(function(){\n",
       "                            \n",
       "var gd = document.getElementById('c086628e-4dda-4b26-934f-937194e7f933');\n",
       "var x = new MutationObserver(function (mutations, observer) {{\n",
       "        var display = window.getComputedStyle(gd).display;\n",
       "        if (!display || display === 'none') {{\n",
       "            console.log([gd, 'removed!']);\n",
       "            Plotly.purge(gd);\n",
       "            observer.disconnect();\n",
       "        }}\n",
       "}});\n",
       "\n",
       "// Listen for the removal of the full notebook cells\n",
       "var notebookContainer = gd.closest('#notebook-container');\n",
       "if (notebookContainer) {{\n",
       "    x.observe(notebookContainer, {childList: true});\n",
       "}}\n",
       "\n",
       "// Listen for the clearing of the current output cell\n",
       "var outputEl = gd.closest('.output');\n",
       "if (outputEl) {{\n",
       "    x.observe(outputEl, {childList: true});\n",
       "}}\n",
       "\n",
       "                        })                };                });            </script>        </div>"
      ]
     },
     "metadata": {},
     "output_type": "display_data"
    }
   ],
   "source": [
    "labs = {\"percent_change_in_size_of_reachset\":\"% Change in Size of Reachset\",\n",
    "       \"reach_time\":\"Reach Time (s)\",\"parameter_uncertainty\":\"Parameter Uncertainty (%)\",\"time_taken_lec\":\"ML Controller Use (%)\"}\n",
    "\n",
    "fig = px.scatter_3d(ru_plot, x=\"reach_time\", y=\"parameter_uncertainty\", \n",
    "                    z=\"time_taken_lec\",\n",
    "                    color=\"time_taken_lec\",\n",
    "                   labels=labs,width=1500, height=1000)\n",
    "fig.show()"
   ]
  },
  {
   "cell_type": "code",
   "execution_count": 21,
   "metadata": {},
   "outputs": [
    {
     "data": {
      "text/html": [
       "<div>\n",
       "<style scoped>\n",
       "    .dataframe tbody tr th:only-of-type {\n",
       "        vertical-align: middle;\n",
       "    }\n",
       "\n",
       "    .dataframe tbody tr th {\n",
       "        vertical-align: top;\n",
       "    }\n",
       "\n",
       "    .dataframe thead th {\n",
       "        text-align: right;\n",
       "    }\n",
       "</style>\n",
       "<table border=\"1\" class=\"dataframe\">\n",
       "  <thead>\n",
       "    <tr style=\"text-align: right;\">\n",
       "      <th></th>\n",
       "      <th>parameter_uncertainty</th>\n",
       "      <th>reach_time</th>\n",
       "      <th>time_taken_lec</th>\n",
       "      <th>time_taken_safety_controller</th>\n",
       "      <th>area</th>\n",
       "      <th>percent_change_in_size_of_reachset</th>\n",
       "    </tr>\n",
       "  </thead>\n",
       "  <tbody>\n",
       "    <tr>\n",
       "      <th>0</th>\n",
       "      <td>0.0</td>\n",
       "      <td>0.5</td>\n",
       "      <td>0.92</td>\n",
       "      <td>0.08</td>\n",
       "      <td>3.06</td>\n",
       "      <td>0.00</td>\n",
       "    </tr>\n",
       "    <tr>\n",
       "      <th>1</th>\n",
       "      <td>0.0</td>\n",
       "      <td>0.6</td>\n",
       "      <td>0.87</td>\n",
       "      <td>0.13</td>\n",
       "      <td>2.97</td>\n",
       "      <td>-2.95</td>\n",
       "    </tr>\n",
       "    <tr>\n",
       "      <th>2</th>\n",
       "      <td>0.0</td>\n",
       "      <td>0.7</td>\n",
       "      <td>0.90</td>\n",
       "      <td>0.10</td>\n",
       "      <td>2.94</td>\n",
       "      <td>-3.89</td>\n",
       "    </tr>\n",
       "    <tr>\n",
       "      <th>3</th>\n",
       "      <td>0.0</td>\n",
       "      <td>0.8</td>\n",
       "      <td>0.87</td>\n",
       "      <td>0.13</td>\n",
       "      <td>3.00</td>\n",
       "      <td>-2.11</td>\n",
       "    </tr>\n",
       "    <tr>\n",
       "      <th>4</th>\n",
       "      <td>0.0</td>\n",
       "      <td>0.9</td>\n",
       "      <td>0.75</td>\n",
       "      <td>0.25</td>\n",
       "      <td>2.96</td>\n",
       "      <td>-3.39</td>\n",
       "    </tr>\n",
       "    <tr>\n",
       "      <th>...</th>\n",
       "      <td>...</td>\n",
       "      <td>...</td>\n",
       "      <td>...</td>\n",
       "      <td>...</td>\n",
       "      <td>...</td>\n",
       "      <td>...</td>\n",
       "    </tr>\n",
       "    <tr>\n",
       "      <th>299</th>\n",
       "      <td>0.9</td>\n",
       "      <td>1.6</td>\n",
       "      <td>0.18</td>\n",
       "      <td>0.82</td>\n",
       "      <td>4280.66</td>\n",
       "      <td>139622.43</td>\n",
       "    </tr>\n",
       "    <tr>\n",
       "      <th>300</th>\n",
       "      <td>0.9</td>\n",
       "      <td>1.7</td>\n",
       "      <td>0.17</td>\n",
       "      <td>0.83</td>\n",
       "      <td>5482.59</td>\n",
       "      <td>178854.10</td>\n",
       "    </tr>\n",
       "    <tr>\n",
       "      <th>301</th>\n",
       "      <td>0.9</td>\n",
       "      <td>1.8</td>\n",
       "      <td>0.17</td>\n",
       "      <td>0.83</td>\n",
       "      <td>7141.74</td>\n",
       "      <td>233009.47</td>\n",
       "    </tr>\n",
       "    <tr>\n",
       "      <th>302</th>\n",
       "      <td>0.9</td>\n",
       "      <td>1.9</td>\n",
       "      <td>0.15</td>\n",
       "      <td>0.85</td>\n",
       "      <td>8059.58</td>\n",
       "      <td>262968.17</td>\n",
       "    </tr>\n",
       "    <tr>\n",
       "      <th>303</th>\n",
       "      <td>0.9</td>\n",
       "      <td>2.0</td>\n",
       "      <td>0.16</td>\n",
       "      <td>0.84</td>\n",
       "      <td>10500.70</td>\n",
       "      <td>342647.38</td>\n",
       "    </tr>\n",
       "  </tbody>\n",
       "</table>\n",
       "<p>304 rows × 6 columns</p>\n",
       "</div>"
      ],
      "text/plain": [
       "     parameter_uncertainty  reach_time  time_taken_lec  \\\n",
       "0                      0.0         0.5            0.92   \n",
       "1                      0.0         0.6            0.87   \n",
       "2                      0.0         0.7            0.90   \n",
       "3                      0.0         0.8            0.87   \n",
       "4                      0.0         0.9            0.75   \n",
       "..                     ...         ...             ...   \n",
       "299                    0.9         1.6            0.18   \n",
       "300                    0.9         1.7            0.17   \n",
       "301                    0.9         1.8            0.17   \n",
       "302                    0.9         1.9            0.15   \n",
       "303                    0.9         2.0            0.16   \n",
       "\n",
       "     time_taken_safety_controller      area  \\\n",
       "0                            0.08      3.06   \n",
       "1                            0.13      2.97   \n",
       "2                            0.10      2.94   \n",
       "3                            0.13      3.00   \n",
       "4                            0.25      2.96   \n",
       "..                            ...       ...   \n",
       "299                          0.82   4280.66   \n",
       "300                          0.83   5482.59   \n",
       "301                          0.83   7141.74   \n",
       "302                          0.85   8059.58   \n",
       "303                          0.84  10500.70   \n",
       "\n",
       "     percent_change_in_size_of_reachset  \n",
       "0                                  0.00  \n",
       "1                                 -2.95  \n",
       "2                                 -3.89  \n",
       "3                                 -2.11  \n",
       "4                                 -3.39  \n",
       "..                                  ...  \n",
       "299                           139622.43  \n",
       "300                           178854.10  \n",
       "301                           233009.47  \n",
       "302                           262968.17  \n",
       "303                           342647.38  \n",
       "\n",
       "[304 rows x 6 columns]"
      ]
     },
     "execution_count": 21,
     "metadata": {},
     "output_type": "execute_result"
    }
   ],
   "source": []
  },
  {
   "cell_type": "code",
   "execution_count": null,
   "metadata": {},
   "outputs": [],
   "source": []
  }
 ],
 "metadata": {
  "kernelspec": {
   "display_name": "Python 3",
   "language": "python",
   "name": "python3"
  },
  "language_info": {
   "codemirror_mode": {
    "name": "ipython",
    "version": 3
   },
   "file_extension": ".py",
   "mimetype": "text/x-python",
   "name": "python",
   "nbconvert_exporter": "python",
   "pygments_lexer": "ipython3",
   "version": "3.7.3"
  }
 },
 "nbformat": 4,
 "nbformat_minor": 5
}
