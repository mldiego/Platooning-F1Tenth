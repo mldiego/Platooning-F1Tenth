{
 "cells": [
  {
   "cell_type": "code",
   "execution_count": 35,
   "id": "de24c988",
   "metadata": {},
   "outputs": [],
   "source": [
    "import pandas as pd\n",
    "import numpy as np \n",
    "import seaborn as sns\n",
    "import matplotlib.pyplot as plt\n",
    "sns.set_theme(style=\"white\")\n",
    "import os\n",
    "import plotly.express as px\n",
    "from plotly.subplots import make_subplots\n",
    "from plotly import graph_objects as go\n",
    "import warnings\n",
    "warnings.filterwarnings(\"ignore\")"
   ]
  },
  {
   "cell_type": "code",
   "execution_count": 36,
   "id": "49f63558",
   "metadata": {},
   "outputs": [],
   "source": [
    "file_str = ['ground_truth_{}','particle_uncertainty_truth_{}']\n",
    "params = [\"0.000000.csv\",\"0.050000.csv\",\"0.100000.csv\",\"0.150000.csv\",\"0.200000.csv\",\"0.250000.csv\",\"0.300000.csv\",\"0.350000.csv\",\"0.400000.csv\",\"0.450000.csv\",\"0.500000.csv\",\n",
    "\"0.550000.csv\",\"0.600000.csv\",\"0.650000.csv\",\"0.700000.csv\",\"0.750000.csv\",\"0.800000.csv\",\"0.850000.csv\",\"0.900000.csv\",\"0.950000.csv\"]\n",
    "\n",
    "\n",
    "original_dfs = []\n",
    "\n",
    "for st in file_str:\n",
    "    for val in params:\n",
    "        if('particle_uncertainty_truth' in st and val in \"0.500000.csv\"):\n",
    "            continue\n",
    "        fh = st.format(val)\n",
    "        df = pd.read_csv(fh,header=None)\n",
    "        \n",
    "        df =df.rename(columns={0:'time_str',1:'time_taken_lec',2:'time_taken_safety_controller',3:'area'})\n",
    "        df['parameter_uncertainty']  = float(val.replace(\".csv\",\"\"))\n",
    "        df['mode'] = st[:-3]\n",
    "        df = df.tail(30)\n",
    "        original_dfs.append(df)\n",
    "        \n",
    "dfs = pd.concat(original_dfs)\n",
    "        \n",
    "        \n"
   ]
  },
  {
   "cell_type": "code",
   "execution_count": 37,
   "id": "9da8f348",
   "metadata": {},
   "outputs": [
    {
     "data": {
      "text/html": [
       "<div>\n",
       "<style scoped>\n",
       "    .dataframe tbody tr th:only-of-type {\n",
       "        vertical-align: middle;\n",
       "    }\n",
       "\n",
       "    .dataframe tbody tr th {\n",
       "        vertical-align: top;\n",
       "    }\n",
       "\n",
       "    .dataframe thead th {\n",
       "        text-align: right;\n",
       "    }\n",
       "</style>\n",
       "<table border=\"1\" class=\"dataframe\">\n",
       "  <thead>\n",
       "    <tr style=\"text-align: right;\">\n",
       "      <th></th>\n",
       "      <th></th>\n",
       "      <th>time_taken_lec</th>\n",
       "      <th>time_taken_safety_controller</th>\n",
       "      <th>area</th>\n",
       "    </tr>\n",
       "    <tr>\n",
       "      <th>mode</th>\n",
       "      <th>parameter_uncertainty</th>\n",
       "      <th></th>\n",
       "      <th></th>\n",
       "      <th></th>\n",
       "    </tr>\n",
       "  </thead>\n",
       "  <tbody>\n",
       "    <tr>\n",
       "      <th rowspan=\"20\" valign=\"top\">ground_truth</th>\n",
       "      <th>0.00</th>\n",
       "      <td>0.799483</td>\n",
       "      <td>0.200517</td>\n",
       "      <td>2.902145</td>\n",
       "    </tr>\n",
       "    <tr>\n",
       "      <th>0.05</th>\n",
       "      <td>0.782686</td>\n",
       "      <td>0.217314</td>\n",
       "      <td>4.875480</td>\n",
       "    </tr>\n",
       "    <tr>\n",
       "      <th>0.10</th>\n",
       "      <td>0.801200</td>\n",
       "      <td>0.198800</td>\n",
       "      <td>7.454125</td>\n",
       "    </tr>\n",
       "    <tr>\n",
       "      <th>0.15</th>\n",
       "      <td>0.762620</td>\n",
       "      <td>0.237380</td>\n",
       "      <td>10.557350</td>\n",
       "    </tr>\n",
       "    <tr>\n",
       "      <th>0.20</th>\n",
       "      <td>0.633876</td>\n",
       "      <td>0.366125</td>\n",
       "      <td>14.554050</td>\n",
       "    </tr>\n",
       "    <tr>\n",
       "      <th>0.25</th>\n",
       "      <td>0.564203</td>\n",
       "      <td>0.435798</td>\n",
       "      <td>19.020700</td>\n",
       "    </tr>\n",
       "    <tr>\n",
       "      <th>0.30</th>\n",
       "      <td>0.453303</td>\n",
       "      <td>0.546697</td>\n",
       "      <td>24.047850</td>\n",
       "    </tr>\n",
       "    <tr>\n",
       "      <th>0.35</th>\n",
       "      <td>0.385254</td>\n",
       "      <td>0.614746</td>\n",
       "      <td>30.818500</td>\n",
       "    </tr>\n",
       "    <tr>\n",
       "      <th>0.40</th>\n",
       "      <td>0.366932</td>\n",
       "      <td>0.633068</td>\n",
       "      <td>39.385500</td>\n",
       "    </tr>\n",
       "    <tr>\n",
       "      <th>0.45</th>\n",
       "      <td>0.376889</td>\n",
       "      <td>0.623111</td>\n",
       "      <td>47.714200</td>\n",
       "    </tr>\n",
       "    <tr>\n",
       "      <th>0.50</th>\n",
       "      <td>0.278576</td>\n",
       "      <td>0.721424</td>\n",
       "      <td>65.761850</td>\n",
       "    </tr>\n",
       "    <tr>\n",
       "      <th>0.55</th>\n",
       "      <td>0.260464</td>\n",
       "      <td>0.739537</td>\n",
       "      <td>82.488950</td>\n",
       "    </tr>\n",
       "    <tr>\n",
       "      <th>0.60</th>\n",
       "      <td>0.233911</td>\n",
       "      <td>0.766089</td>\n",
       "      <td>105.625000</td>\n",
       "    </tr>\n",
       "    <tr>\n",
       "      <th>0.65</th>\n",
       "      <td>0.245837</td>\n",
       "      <td>0.754163</td>\n",
       "      <td>134.694500</td>\n",
       "    </tr>\n",
       "    <tr>\n",
       "      <th>0.70</th>\n",
       "      <td>0.222065</td>\n",
       "      <td>0.777935</td>\n",
       "      <td>171.836500</td>\n",
       "    </tr>\n",
       "    <tr>\n",
       "      <th>0.75</th>\n",
       "      <td>0.219720</td>\n",
       "      <td>0.780280</td>\n",
       "      <td>220.166000</td>\n",
       "    </tr>\n",
       "    <tr>\n",
       "      <th>0.80</th>\n",
       "      <td>0.201962</td>\n",
       "      <td>0.798038</td>\n",
       "      <td>298.154500</td>\n",
       "    </tr>\n",
       "    <tr>\n",
       "      <th>0.85</th>\n",
       "      <td>0.289213</td>\n",
       "      <td>0.710787</td>\n",
       "      <td>329.587500</td>\n",
       "    </tr>\n",
       "    <tr>\n",
       "      <th>0.90</th>\n",
       "      <td>0.308783</td>\n",
       "      <td>0.691217</td>\n",
       "      <td>415.409500</td>\n",
       "    </tr>\n",
       "    <tr>\n",
       "      <th>0.95</th>\n",
       "      <td>0.319985</td>\n",
       "      <td>0.680015</td>\n",
       "      <td>522.702000</td>\n",
       "    </tr>\n",
       "    <tr>\n",
       "      <th rowspan=\"19\" valign=\"top\">particle_uncertainty_truth</th>\n",
       "      <th>0.00</th>\n",
       "      <td>0.772892</td>\n",
       "      <td>0.227108</td>\n",
       "      <td>10.147650</td>\n",
       "    </tr>\n",
       "    <tr>\n",
       "      <th>0.05</th>\n",
       "      <td>0.729191</td>\n",
       "      <td>0.270809</td>\n",
       "      <td>12.434000</td>\n",
       "    </tr>\n",
       "    <tr>\n",
       "      <th>0.10</th>\n",
       "      <td>0.730140</td>\n",
       "      <td>0.269860</td>\n",
       "      <td>16.229300</td>\n",
       "    </tr>\n",
       "    <tr>\n",
       "      <th>0.15</th>\n",
       "      <td>0.651565</td>\n",
       "      <td>0.348435</td>\n",
       "      <td>20.300650</td>\n",
       "    </tr>\n",
       "    <tr>\n",
       "      <th>0.20</th>\n",
       "      <td>0.576231</td>\n",
       "      <td>0.423769</td>\n",
       "      <td>23.537900</td>\n",
       "    </tr>\n",
       "    <tr>\n",
       "      <th>0.25</th>\n",
       "      <td>0.522364</td>\n",
       "      <td>0.477636</td>\n",
       "      <td>28.280500</td>\n",
       "    </tr>\n",
       "    <tr>\n",
       "      <th>0.30</th>\n",
       "      <td>0.415730</td>\n",
       "      <td>0.584270</td>\n",
       "      <td>34.440900</td>\n",
       "    </tr>\n",
       "    <tr>\n",
       "      <th>0.35</th>\n",
       "      <td>0.325449</td>\n",
       "      <td>0.674551</td>\n",
       "      <td>40.468950</td>\n",
       "    </tr>\n",
       "    <tr>\n",
       "      <th>0.40</th>\n",
       "      <td>0.175965</td>\n",
       "      <td>0.824035</td>\n",
       "      <td>591.924800</td>\n",
       "    </tr>\n",
       "    <tr>\n",
       "      <th>0.45</th>\n",
       "      <td>0.016091</td>\n",
       "      <td>0.983909</td>\n",
       "      <td>2443.180000</td>\n",
       "    </tr>\n",
       "    <tr>\n",
       "      <th>0.55</th>\n",
       "      <td>0.002387</td>\n",
       "      <td>0.997613</td>\n",
       "      <td>2470.345000</td>\n",
       "    </tr>\n",
       "    <tr>\n",
       "      <th>0.60</th>\n",
       "      <td>0.000000</td>\n",
       "      <td>1.000000</td>\n",
       "      <td>3205.000000</td>\n",
       "    </tr>\n",
       "    <tr>\n",
       "      <th>0.65</th>\n",
       "      <td>0.000000</td>\n",
       "      <td>1.000000</td>\n",
       "      <td>3223.685000</td>\n",
       "    </tr>\n",
       "    <tr>\n",
       "      <th>0.70</th>\n",
       "      <td>0.000000</td>\n",
       "      <td>1.000000</td>\n",
       "      <td>3670.050000</td>\n",
       "    </tr>\n",
       "    <tr>\n",
       "      <th>0.75</th>\n",
       "      <td>0.000000</td>\n",
       "      <td>1.000000</td>\n",
       "      <td>4136.520000</td>\n",
       "    </tr>\n",
       "    <tr>\n",
       "      <th>0.80</th>\n",
       "      <td>0.000000</td>\n",
       "      <td>1.000000</td>\n",
       "      <td>3799.860000</td>\n",
       "    </tr>\n",
       "    <tr>\n",
       "      <th>0.85</th>\n",
       "      <td>0.000000</td>\n",
       "      <td>1.000000</td>\n",
       "      <td>4503.075000</td>\n",
       "    </tr>\n",
       "    <tr>\n",
       "      <th>0.90</th>\n",
       "      <td>0.000000</td>\n",
       "      <td>1.000000</td>\n",
       "      <td>4626.775000</td>\n",
       "    </tr>\n",
       "    <tr>\n",
       "      <th>0.95</th>\n",
       "      <td>0.000000</td>\n",
       "      <td>1.000000</td>\n",
       "      <td>4398.355000</td>\n",
       "    </tr>\n",
       "  </tbody>\n",
       "</table>\n",
       "</div>"
      ],
      "text/plain": [
       "                                                  time_taken_lec  \\\n",
       "mode                       parameter_uncertainty                   \n",
       "ground_truth               0.00                         0.799483   \n",
       "                           0.05                         0.782686   \n",
       "                           0.10                         0.801200   \n",
       "                           0.15                         0.762620   \n",
       "                           0.20                         0.633876   \n",
       "                           0.25                         0.564203   \n",
       "                           0.30                         0.453303   \n",
       "                           0.35                         0.385254   \n",
       "                           0.40                         0.366932   \n",
       "                           0.45                         0.376889   \n",
       "                           0.50                         0.278576   \n",
       "                           0.55                         0.260464   \n",
       "                           0.60                         0.233911   \n",
       "                           0.65                         0.245837   \n",
       "                           0.70                         0.222065   \n",
       "                           0.75                         0.219720   \n",
       "                           0.80                         0.201962   \n",
       "                           0.85                         0.289213   \n",
       "                           0.90                         0.308783   \n",
       "                           0.95                         0.319985   \n",
       "particle_uncertainty_truth 0.00                         0.772892   \n",
       "                           0.05                         0.729191   \n",
       "                           0.10                         0.730140   \n",
       "                           0.15                         0.651565   \n",
       "                           0.20                         0.576231   \n",
       "                           0.25                         0.522364   \n",
       "                           0.30                         0.415730   \n",
       "                           0.35                         0.325449   \n",
       "                           0.40                         0.175965   \n",
       "                           0.45                         0.016091   \n",
       "                           0.55                         0.002387   \n",
       "                           0.60                         0.000000   \n",
       "                           0.65                         0.000000   \n",
       "                           0.70                         0.000000   \n",
       "                           0.75                         0.000000   \n",
       "                           0.80                         0.000000   \n",
       "                           0.85                         0.000000   \n",
       "                           0.90                         0.000000   \n",
       "                           0.95                         0.000000   \n",
       "\n",
       "                                                  time_taken_safety_controller  \\\n",
       "mode                       parameter_uncertainty                                 \n",
       "ground_truth               0.00                                       0.200517   \n",
       "                           0.05                                       0.217314   \n",
       "                           0.10                                       0.198800   \n",
       "                           0.15                                       0.237380   \n",
       "                           0.20                                       0.366125   \n",
       "                           0.25                                       0.435798   \n",
       "                           0.30                                       0.546697   \n",
       "                           0.35                                       0.614746   \n",
       "                           0.40                                       0.633068   \n",
       "                           0.45                                       0.623111   \n",
       "                           0.50                                       0.721424   \n",
       "                           0.55                                       0.739537   \n",
       "                           0.60                                       0.766089   \n",
       "                           0.65                                       0.754163   \n",
       "                           0.70                                       0.777935   \n",
       "                           0.75                                       0.780280   \n",
       "                           0.80                                       0.798038   \n",
       "                           0.85                                       0.710787   \n",
       "                           0.90                                       0.691217   \n",
       "                           0.95                                       0.680015   \n",
       "particle_uncertainty_truth 0.00                                       0.227108   \n",
       "                           0.05                                       0.270809   \n",
       "                           0.10                                       0.269860   \n",
       "                           0.15                                       0.348435   \n",
       "                           0.20                                       0.423769   \n",
       "                           0.25                                       0.477636   \n",
       "                           0.30                                       0.584270   \n",
       "                           0.35                                       0.674551   \n",
       "                           0.40                                       0.824035   \n",
       "                           0.45                                       0.983909   \n",
       "                           0.55                                       0.997613   \n",
       "                           0.60                                       1.000000   \n",
       "                           0.65                                       1.000000   \n",
       "                           0.70                                       1.000000   \n",
       "                           0.75                                       1.000000   \n",
       "                           0.80                                       1.000000   \n",
       "                           0.85                                       1.000000   \n",
       "                           0.90                                       1.000000   \n",
       "                           0.95                                       1.000000   \n",
       "\n",
       "                                                         area  \n",
       "mode                       parameter_uncertainty               \n",
       "ground_truth               0.00                      2.902145  \n",
       "                           0.05                      4.875480  \n",
       "                           0.10                      7.454125  \n",
       "                           0.15                     10.557350  \n",
       "                           0.20                     14.554050  \n",
       "                           0.25                     19.020700  \n",
       "                           0.30                     24.047850  \n",
       "                           0.35                     30.818500  \n",
       "                           0.40                     39.385500  \n",
       "                           0.45                     47.714200  \n",
       "                           0.50                     65.761850  \n",
       "                           0.55                     82.488950  \n",
       "                           0.60                    105.625000  \n",
       "                           0.65                    134.694500  \n",
       "                           0.70                    171.836500  \n",
       "                           0.75                    220.166000  \n",
       "                           0.80                    298.154500  \n",
       "                           0.85                    329.587500  \n",
       "                           0.90                    415.409500  \n",
       "                           0.95                    522.702000  \n",
       "particle_uncertainty_truth 0.00                     10.147650  \n",
       "                           0.05                     12.434000  \n",
       "                           0.10                     16.229300  \n",
       "                           0.15                     20.300650  \n",
       "                           0.20                     23.537900  \n",
       "                           0.25                     28.280500  \n",
       "                           0.30                     34.440900  \n",
       "                           0.35                     40.468950  \n",
       "                           0.40                    591.924800  \n",
       "                           0.45                   2443.180000  \n",
       "                           0.55                   2470.345000  \n",
       "                           0.60                   3205.000000  \n",
       "                           0.65                   3223.685000  \n",
       "                           0.70                   3670.050000  \n",
       "                           0.75                   4136.520000  \n",
       "                           0.80                   3799.860000  \n",
       "                           0.85                   4503.075000  \n",
       "                           0.90                   4626.775000  \n",
       "                           0.95                   4398.355000  "
      ]
     },
     "execution_count": 37,
     "metadata": {},
     "output_type": "execute_result"
    }
   ],
   "source": [
    "dfs.groupby(['mode','parameter_uncertainty']).median()"
   ]
  },
  {
   "cell_type": "code",
   "execution_count": 38,
   "id": "6b7fb621",
   "metadata": {},
   "outputs": [],
   "source": [
    "median_res = dfs.groupby(['mode','parameter_uncertainty']).median().reset_index()\n",
    "median_gt = median_res[median_res['mode'] == 'ground_truth']\n",
    "median_gt['percent_change_in_size_of_reachset'] = round((median_gt['area'] - median_gt.iloc[0]['area'])/median_gt.iloc[0]['area'] * 100,2)\n",
    "median_pu = median_res[median_res['mode'] == 'particle_uncertainty_truth']\n",
    "median_pu['percent_change_in_size_of_reachset'] = round((median_pu['area'] - median_pu.iloc[0]['area'])/median_pu.iloc[0]['area'] * 100,2)"
   ]
  },
  {
   "cell_type": "code",
   "execution_count": 39,
   "id": "84144bb9",
   "metadata": {},
   "outputs": [
    {
     "data": {
      "text/html": [
       "<div>\n",
       "<style scoped>\n",
       "    .dataframe tbody tr th:only-of-type {\n",
       "        vertical-align: middle;\n",
       "    }\n",
       "\n",
       "    .dataframe tbody tr th {\n",
       "        vertical-align: top;\n",
       "    }\n",
       "\n",
       "    .dataframe thead th {\n",
       "        text-align: right;\n",
       "    }\n",
       "</style>\n",
       "<table border=\"1\" class=\"dataframe\">\n",
       "  <thead>\n",
       "    <tr style=\"text-align: right;\">\n",
       "      <th></th>\n",
       "      <th>mode</th>\n",
       "      <th>parameter_uncertainty</th>\n",
       "      <th>time_taken_lec</th>\n",
       "      <th>time_taken_safety_controller</th>\n",
       "      <th>area</th>\n",
       "      <th>percent_change_in_size_of_reachset</th>\n",
       "    </tr>\n",
       "  </thead>\n",
       "  <tbody>\n",
       "    <tr>\n",
       "      <th>0</th>\n",
       "      <td>ground_truth</td>\n",
       "      <td>0.00</td>\n",
       "      <td>0.799483</td>\n",
       "      <td>0.200517</td>\n",
       "      <td>2.902145</td>\n",
       "      <td>0.00</td>\n",
       "    </tr>\n",
       "    <tr>\n",
       "      <th>1</th>\n",
       "      <td>ground_truth</td>\n",
       "      <td>0.05</td>\n",
       "      <td>0.782686</td>\n",
       "      <td>0.217314</td>\n",
       "      <td>4.875480</td>\n",
       "      <td>68.00</td>\n",
       "    </tr>\n",
       "    <tr>\n",
       "      <th>2</th>\n",
       "      <td>ground_truth</td>\n",
       "      <td>0.10</td>\n",
       "      <td>0.801200</td>\n",
       "      <td>0.198800</td>\n",
       "      <td>7.454125</td>\n",
       "      <td>156.85</td>\n",
       "    </tr>\n",
       "    <tr>\n",
       "      <th>3</th>\n",
       "      <td>ground_truth</td>\n",
       "      <td>0.15</td>\n",
       "      <td>0.762620</td>\n",
       "      <td>0.237380</td>\n",
       "      <td>10.557350</td>\n",
       "      <td>263.78</td>\n",
       "    </tr>\n",
       "    <tr>\n",
       "      <th>4</th>\n",
       "      <td>ground_truth</td>\n",
       "      <td>0.20</td>\n",
       "      <td>0.633876</td>\n",
       "      <td>0.366125</td>\n",
       "      <td>14.554050</td>\n",
       "      <td>401.49</td>\n",
       "    </tr>\n",
       "  </tbody>\n",
       "</table>\n",
       "</div>"
      ],
      "text/plain": [
       "           mode  parameter_uncertainty  time_taken_lec  \\\n",
       "0  ground_truth                   0.00        0.799483   \n",
       "1  ground_truth                   0.05        0.782686   \n",
       "2  ground_truth                   0.10        0.801200   \n",
       "3  ground_truth                   0.15        0.762620   \n",
       "4  ground_truth                   0.20        0.633876   \n",
       "\n",
       "   time_taken_safety_controller       area  percent_change_in_size_of_reachset  \n",
       "0                      0.200517   2.902145                                0.00  \n",
       "1                      0.217314   4.875480                               68.00  \n",
       "2                      0.198800   7.454125                              156.85  \n",
       "3                      0.237380  10.557350                              263.78  \n",
       "4                      0.366125  14.554050                              401.49  "
      ]
     },
     "execution_count": 39,
     "metadata": {},
     "output_type": "execute_result"
    }
   ],
   "source": [
    "median_gt.head(5)"
   ]
  },
  {
   "cell_type": "code",
   "execution_count": 40,
   "id": "a85a7c52",
   "metadata": {},
   "outputs": [
    {
     "data": {
      "text/html": [
       "<div>\n",
       "<style scoped>\n",
       "    .dataframe tbody tr th:only-of-type {\n",
       "        vertical-align: middle;\n",
       "    }\n",
       "\n",
       "    .dataframe tbody tr th {\n",
       "        vertical-align: top;\n",
       "    }\n",
       "\n",
       "    .dataframe thead th {\n",
       "        text-align: right;\n",
       "    }\n",
       "</style>\n",
       "<table border=\"1\" class=\"dataframe\">\n",
       "  <thead>\n",
       "    <tr style=\"text-align: right;\">\n",
       "      <th></th>\n",
       "      <th>mode</th>\n",
       "      <th>parameter_uncertainty</th>\n",
       "      <th>time_taken_lec</th>\n",
       "      <th>time_taken_safety_controller</th>\n",
       "      <th>area</th>\n",
       "      <th>percent_change_in_size_of_reachset</th>\n",
       "    </tr>\n",
       "  </thead>\n",
       "  <tbody>\n",
       "    <tr>\n",
       "      <th>20</th>\n",
       "      <td>particle_uncertainty_truth</td>\n",
       "      <td>0.00</td>\n",
       "      <td>0.772892</td>\n",
       "      <td>0.227108</td>\n",
       "      <td>10.14765</td>\n",
       "      <td>0.00</td>\n",
       "    </tr>\n",
       "    <tr>\n",
       "      <th>21</th>\n",
       "      <td>particle_uncertainty_truth</td>\n",
       "      <td>0.05</td>\n",
       "      <td>0.729191</td>\n",
       "      <td>0.270809</td>\n",
       "      <td>12.43400</td>\n",
       "      <td>22.53</td>\n",
       "    </tr>\n",
       "    <tr>\n",
       "      <th>22</th>\n",
       "      <td>particle_uncertainty_truth</td>\n",
       "      <td>0.10</td>\n",
       "      <td>0.730140</td>\n",
       "      <td>0.269860</td>\n",
       "      <td>16.22930</td>\n",
       "      <td>59.93</td>\n",
       "    </tr>\n",
       "    <tr>\n",
       "      <th>23</th>\n",
       "      <td>particle_uncertainty_truth</td>\n",
       "      <td>0.15</td>\n",
       "      <td>0.651565</td>\n",
       "      <td>0.348435</td>\n",
       "      <td>20.30065</td>\n",
       "      <td>100.05</td>\n",
       "    </tr>\n",
       "    <tr>\n",
       "      <th>24</th>\n",
       "      <td>particle_uncertainty_truth</td>\n",
       "      <td>0.20</td>\n",
       "      <td>0.576231</td>\n",
       "      <td>0.423769</td>\n",
       "      <td>23.53790</td>\n",
       "      <td>131.95</td>\n",
       "    </tr>\n",
       "  </tbody>\n",
       "</table>\n",
       "</div>"
      ],
      "text/plain": [
       "                          mode  parameter_uncertainty  time_taken_lec  \\\n",
       "20  particle_uncertainty_truth                   0.00        0.772892   \n",
       "21  particle_uncertainty_truth                   0.05        0.729191   \n",
       "22  particle_uncertainty_truth                   0.10        0.730140   \n",
       "23  particle_uncertainty_truth                   0.15        0.651565   \n",
       "24  particle_uncertainty_truth                   0.20        0.576231   \n",
       "\n",
       "    time_taken_safety_controller      area  percent_change_in_size_of_reachset  \n",
       "20                      0.227108  10.14765                                0.00  \n",
       "21                      0.270809  12.43400                               22.53  \n",
       "22                      0.269860  16.22930                               59.93  \n",
       "23                      0.348435  20.30065                              100.05  \n",
       "24                      0.423769  23.53790                              131.95  "
      ]
     },
     "execution_count": 40,
     "metadata": {},
     "output_type": "execute_result"
    }
   ],
   "source": [
    "median_pu.head(5)"
   ]
  },
  {
   "cell_type": "markdown",
   "id": "9e75d0cf",
   "metadata": {},
   "source": [
    "###  Ground Truth"
   ]
  },
  {
   "cell_type": "code",
   "execution_count": 41,
   "id": "6b032f9a",
   "metadata": {},
   "outputs": [
    {
     "name": "stderr",
     "output_type": "stream",
     "text": [
      "No handles with labels found to put in legend.\n"
     ]
    },
    {
     "data": {
      "image/png": "[encoded data removed]",
      "text/plain": [
       "<Figure size 1080x576 with 1 Axes>"
      ]
     },
     "metadata": {},
     "output_type": "display_data"
    }
   ],
   "source": [
    "var1 = 'percent_change_in_size_of_reachset'\n",
    "\n",
    "\n",
    "plt.figure(figsize=(15,8))\n",
    "ax = sns.lineplot(data=median_gt, x=\"parameter_uncertainty\",y=var1,color='red')\n",
    "ax.spines['bottom'].set_color('#dddddd')\n",
    "ax.spines['left'].set_color('#dddddd')\n",
    "sns.despine(left=False, bottom=False, right=True)\n",
    "_= plt.legend(loc='upper left',frameon=False)\n",
    "\n",
    "SMALL_SIZE = 10\n",
    "MEDIUM_SIZE = 10\n",
    "BIGGER_SIZE = 12\n",
    "\n",
    "\n",
    "_= plt.ylabel(\"% Change in Size of Reachset\")\n",
    "_= plt.xlabel('Parameter Uncertainty % (+-)')\n",
    "_= plt.title(\"Parameter Uncertainty vs % Change in Size of Reachset\",loc='left',pad=11.0,fontweight=\"bold\",fontsize=15)\n",
    "\n",
    "plt.setp(ax.spines.values(), linewidth=4)\n",
    "plt.rc('font', size=BIGGER_SIZE)          # controls default text sizes\n",
    "plt.rc('axes', titlesize=SMALL_SIZE)     # fontsize of the axes title\n",
    "plt.rc('axes', labelsize=BIGGER_SIZE)    # fontsize of the x and y labels\n",
    "plt.rc('xtick', labelsize=SMALL_SIZE)    # fontsize of the tick labels\n",
    "plt.rc('ytick', labelsize=SMALL_SIZE)    # fontsize of the tick labels\n",
    "plt.rc('legend', fontsize=SMALL_SIZE)    # legend fontsize\n",
    "plt.rc('figure', titlesize=15)  # fontsize of the figure title\n",
    "_ = plt.xticks(np.arange(0, 1.0, 0.1))\n"
   ]
  },
  {
   "cell_type": "markdown",
   "id": "e18897c7",
   "metadata": {},
   "source": [
    "### When you Incorporate Position Uncertainty"
   ]
  },
  {
   "cell_type": "code",
   "execution_count": 42,
   "id": "29faa87c",
   "metadata": {},
   "outputs": [
    {
     "name": "stderr",
     "output_type": "stream",
     "text": [
      "No handles with labels found to put in legend.\n"
     ]
    },
    {
     "data": {
      "image/png": "[encoded data removed]",
      "text/plain": [
       "<Figure size 1080x576 with 1 Axes>"
      ]
     },
     "metadata": {},
     "output_type": "display_data"
    }
   ],
   "source": [
    "var1 = 'percent_change_in_size_of_reachset'\n",
    "\n",
    "plt.figure(figsize=(15,8))\n",
    "ax = sns.lineplot(data=median_pu, x=\"parameter_uncertainty\",y=var1)\n",
    "ax.spines['bottom'].set_color('#dddddd')\n",
    "ax.spines['left'].set_color('#dddddd')\n",
    "sns.despine(left=False, bottom=False, right=True)\n",
    "_= plt.legend(loc='upper left',frameon=False)\n",
    "\n",
    "_= plt.ylabel(\"% Change in Size of Reachset\")\n",
    "_= plt.xlabel('Parameter Uncertainty % (+-)')\n",
    "_= plt.title(\"Parameter Uncertainty vs % Change in Size of Reachset\",loc='left',pad=10.0,fontweight=\"bold\")"
   ]
  },
  {
   "cell_type": "markdown",
   "id": "c1deda9c",
   "metadata": {},
   "source": [
    "### Both "
   ]
  },
  {
   "cell_type": "code",
   "execution_count": 43,
   "id": "ea7aea2e",
   "metadata": {},
   "outputs": [
    {
     "data": {
      "image/png": "[encoded data removed]",
      "text/plain": [
       "<Figure size 1080x576 with 1 Axes>"
      ]
     },
     "metadata": {},
     "output_type": "display_data"
    }
   ],
   "source": [
    "var1 = 'percent_change_in_size_of_reachset'\n",
    "\n",
    "\n",
    "plt.figure(figsize=(15,8))\n",
    "ax = sns.lineplot(data=median_pu, x=\"parameter_uncertainty\",y=var1,label=\"position_uncertainty\")\n",
    "ax = sns.lineplot(data=median_gt, x=\"parameter_uncertainty\",y=var1,label=\"ground_truth\")\n",
    "ax.spines['bottom'].set_color('#dddddd')\n",
    "ax.spines['left'].set_color('#dddddd')\n",
    "sns.despine(left=False, bottom=False, right=True)\n",
    "_= plt.legend(loc='upper left',frameon=False)\n",
    "\n",
    "_= plt.ylabel(\"% Change in Size of Reachset\")\n",
    "_= plt.xlabel('Parameter Uncertainty % (+-)')\n",
    "_= plt.title(\"Parameter Uncertainty vs % Change in Size of Reachset\",loc='left',pad=10.0,fontweight=\"bold\")"
   ]
  },
  {
   "cell_type": "code",
   "execution_count": 44,
   "id": "e70ca21d",
   "metadata": {},
   "outputs": [
    {
     "data": {
      "image/png": "[encoded data removed]",
      "text/plain": [
       "<Figure size 1080x576 with 1 Axes>"
      ]
     },
     "metadata": {},
     "output_type": "display_data"
    }
   ],
   "source": [
    "plt.figure(figsize=(15,8))\n",
    "ax = sns.lineplot(data=median_gt[median_gt['parameter_uncertainty']<0.85], x=\"parameter_uncertainty\",y=\"time_taken_lec\", label='VBN')\n",
    "ax = sns.lineplot(data=median_gt[median_gt['parameter_uncertainty']<0.85], x=\"parameter_uncertainty\",y=\"time_taken_safety_controller\",label='safety controller')\n",
    "ax.spines['bottom'].set_color('#dddddd')\n",
    "ax.spines['left'].set_color('#dddddd')\n",
    "sns.despine(left=False, bottom=False, right=True)\n",
    "_= plt.legend(loc='best',frameon=False)\n",
    "\n",
    "_= plt.ylabel(\"Proportion (%) of Actions Utilized by the System\")\n",
    "_= plt.xlabel('Parameter Uncertainty % (+-)')\n",
    "_= plt.title(\"Parameter Uncertainty vs Controller Use\",loc='left',pad=10.0,fontweight=\"bold\",fontsize=15)\n",
    "\n",
    "plt.setp(ax.spines.values(), linewidth=4)\n",
    "plt.rc('font', size=BIGGER_SIZE)          # controls default text sizes\n",
    "plt.rc('axes', titlesize=SMALL_SIZE)     # fontsize of the axes title\n",
    "plt.rc('axes', labelsize=BIGGER_SIZE)    # fontsize of the x and y labels\n",
    "plt.rc('xtick', labelsize=SMALL_SIZE)    # fontsize of the tick labels\n",
    "plt.rc('ytick', labelsize=SMALL_SIZE)    # fontsize of the tick labels\n",
    "plt.rc('legend', fontsize=SMALL_SIZE)    # legend fontsize\n",
    "plt.rc('figure', titlesize=15)  # fontsize of the figure title\n"
   ]
  },
  {
   "cell_type": "code",
   "execution_count": 45,
   "id": "edd7e582",
   "metadata": {},
   "outputs": [
    {
     "data": {
      "image/png": "[encoded data removed]",
      "text/plain": [
       "<Figure size 1080x576 with 1 Axes>"
      ]
     },
     "metadata": {},
     "output_type": "display_data"
    }
   ],
   "source": [
    "plt.figure(figsize=(15,8))\n",
    "ax = sns.lineplot(data=median_pu, x=\"parameter_uncertainty\",y=\"time_taken_lec\", label='LEC')\n",
    "ax = sns.lineplot(data=median_pu, x=\"parameter_uncertainty\",y=\"time_taken_safety_controller\",label='safety controller')\n",
    "ax.spines['bottom'].set_color('#dddddd')\n",
    "ax.spines['left'].set_color('#dddddd')\n",
    "sns.despine(left=False, bottom=False, right=True)\n",
    "_= plt.legend(loc='best',frameon=False)\n",
    "\n",
    "_= plt.ylabel(\"Usage (%)\")\n",
    "\n",
    "_= plt.xlabel('Parameter Uncertainty % (+-)')\n",
    "_= plt.title(\"Parameter Uncertainty vs Controller Use\",loc='left',pad=10.0,fontweight=\"bold\")"
   ]
  },
  {
   "cell_type": "markdown",
   "id": "f2866e90",
   "metadata": {},
   "source": [
    "### Experiments Varying Uncertainty and Reachability Horizon"
   ]
  },
  {
   "cell_type": "code",
   "execution_count": 46,
   "id": "98b5d694",
   "metadata": {},
   "outputs": [],
   "source": [
    "params = [\"0.000000\",\"0.050000\",\"0.100000\",\"0.150000\",\"0.200000\",\"0.250000\",\"0.300000\",\"0.350000\",\"0.400000\",\"0.450000\",\"0.500000\",\n",
    "\"0.550000\",\"0.600000\",\"0.650000\",\"0.700000\",\"0.750000\",\"0.800000\",\"0.850000\",\"0.900000\",\"0.950000\"]\n",
    "\n",
    "reachtime = [\"0.500000\",\"0.600000\",\"0.700000\",\"0.800000\",\"0.900000\",\"1.000000\",\"1.100000\", \"1.200000\",\"1.300000\",\n",
    "\"1.400000\",\"1.500000\",\"1.600000\",\"1.700000\",\"1.800000\",\"1.800000\",\"1.900000\",\"2.000000\"]\n",
    "\n",
    "file_str = \"ground_truth_{}_{}_.csv\"\n",
    "original_dfs = []\n",
    "for uncp in params:\n",
    "    for rt in reachtime: \n",
    "        filepath = file_str.format(uncp,rt)\n",
    "        \n",
    "        try:\n",
    "            df = pd.read_csv(filepath,header=None)\n",
    "            df = df.rename(columns={0:'time_str',1:'time_taken_lec',2:'time_taken_safety_controller',3:'area'})\n",
    "            df['parameter_uncertainty']  = uncp\n",
    "            df['reach_time']  = rt\n",
    "            original_dfs.append(df)\n",
    "\n",
    "        except Exception as e:\n",
    "            continue\n",
    "            #print(filepath,e)\n",
    "            \n",
    "reach_uncertainty = dfs = pd.concat(original_dfs)\n"
   ]
  },
  {
   "cell_type": "code",
   "execution_count": 47,
   "id": "f6ac663b",
   "metadata": {},
   "outputs": [
    {
     "data": {
      "text/html": [
       "<div>\n",
       "<style scoped>\n",
       "    .dataframe tbody tr th:only-of-type {\n",
       "        vertical-align: middle;\n",
       "    }\n",
       "\n",
       "    .dataframe tbody tr th {\n",
       "        vertical-align: top;\n",
       "    }\n",
       "\n",
       "    .dataframe thead th {\n",
       "        text-align: right;\n",
       "    }\n",
       "</style>\n",
       "<table border=\"1\" class=\"dataframe\">\n",
       "  <thead>\n",
       "    <tr style=\"text-align: right;\">\n",
       "      <th></th>\n",
       "      <th>time_str</th>\n",
       "      <th>time_taken_lec</th>\n",
       "      <th>time_taken_safety_controller</th>\n",
       "      <th>area</th>\n",
       "      <th>parameter_uncertainty</th>\n",
       "      <th>reach_time</th>\n",
       "    </tr>\n",
       "  </thead>\n",
       "  <tbody>\n",
       "    <tr>\n",
       "      <th>0</th>\n",
       "      <td>22/03/2022/14:45:24</td>\n",
       "      <td>0.987654</td>\n",
       "      <td>0.012346</td>\n",
       "      <td>3.29544</td>\n",
       "      <td>0.000000</td>\n",
       "      <td>0.500000</td>\n",
       "    </tr>\n",
       "    <tr>\n",
       "      <th>1</th>\n",
       "      <td>22/03/2022/14:46:15</td>\n",
       "      <td>0.923977</td>\n",
       "      <td>0.076023</td>\n",
       "      <td>3.07730</td>\n",
       "      <td>0.000000</td>\n",
       "      <td>0.500000</td>\n",
       "    </tr>\n",
       "    <tr>\n",
       "      <th>2</th>\n",
       "      <td>22/03/2022/14:47:34</td>\n",
       "      <td>0.985014</td>\n",
       "      <td>0.014986</td>\n",
       "      <td>3.06432</td>\n",
       "      <td>0.000000</td>\n",
       "      <td>0.500000</td>\n",
       "    </tr>\n",
       "    <tr>\n",
       "      <th>3</th>\n",
       "      <td>22/03/2022/14:48:20</td>\n",
       "      <td>0.912088</td>\n",
       "      <td>0.087912</td>\n",
       "      <td>3.12691</td>\n",
       "      <td>0.000000</td>\n",
       "      <td>0.500000</td>\n",
       "    </tr>\n",
       "    <tr>\n",
       "      <th>4</th>\n",
       "      <td>22/03/2022/14:49:07</td>\n",
       "      <td>0.859107</td>\n",
       "      <td>0.140893</td>\n",
       "      <td>3.08200</td>\n",
       "      <td>0.000000</td>\n",
       "      <td>0.500000</td>\n",
       "    </tr>\n",
       "    <tr>\n",
       "      <th>...</th>\n",
       "      <td>...</td>\n",
       "      <td>...</td>\n",
       "      <td>...</td>\n",
       "      <td>...</td>\n",
       "      <td>...</td>\n",
       "      <td>...</td>\n",
       "    </tr>\n",
       "    <tr>\n",
       "      <th>3</th>\n",
       "      <td>27/03/2022/09:34:38</td>\n",
       "      <td>0.071661</td>\n",
       "      <td>0.928339</td>\n",
       "      <td>10823.80000</td>\n",
       "      <td>0.900000</td>\n",
       "      <td>2.000000</td>\n",
       "    </tr>\n",
       "    <tr>\n",
       "      <th>4</th>\n",
       "      <td>27/03/2022/09:36:49</td>\n",
       "      <td>0.165595</td>\n",
       "      <td>0.834405</td>\n",
       "      <td>9872.37000</td>\n",
       "      <td>0.900000</td>\n",
       "      <td>2.000000</td>\n",
       "    </tr>\n",
       "    <tr>\n",
       "      <th>5</th>\n",
       "      <td>27/03/2022/09:39:00</td>\n",
       "      <td>0.070090</td>\n",
       "      <td>0.929910</td>\n",
       "      <td>10606.50000</td>\n",
       "      <td>0.900000</td>\n",
       "      <td>2.000000</td>\n",
       "    </tr>\n",
       "    <tr>\n",
       "      <th>6</th>\n",
       "      <td>27/03/2022/09:41:12</td>\n",
       "      <td>0.167072</td>\n",
       "      <td>0.832928</td>\n",
       "      <td>11330.80000</td>\n",
       "      <td>0.900000</td>\n",
       "      <td>2.000000</td>\n",
       "    </tr>\n",
       "    <tr>\n",
       "      <th>7</th>\n",
       "      <td>27/03/2022/09:43:23</td>\n",
       "      <td>0.188771</td>\n",
       "      <td>0.811229</td>\n",
       "      <td>11838.50000</td>\n",
       "      <td>0.900000</td>\n",
       "      <td>2.000000</td>\n",
       "    </tr>\n",
       "  </tbody>\n",
       "</table>\n",
       "<p>3226 rows × 6 columns</p>\n",
       "</div>"
      ],
      "text/plain": [
       "               time_str  time_taken_lec  time_taken_safety_controller  \\\n",
       "0   22/03/2022/14:45:24        0.987654                      0.012346   \n",
       "1   22/03/2022/14:46:15        0.923977                      0.076023   \n",
       "2   22/03/2022/14:47:34        0.985014                      0.014986   \n",
       "3   22/03/2022/14:48:20        0.912088                      0.087912   \n",
       "4   22/03/2022/14:49:07        0.859107                      0.140893   \n",
       "..                  ...             ...                           ...   \n",
       "3   27/03/2022/09:34:38        0.071661                      0.928339   \n",
       "4   27/03/2022/09:36:49        0.165595                      0.834405   \n",
       "5   27/03/2022/09:39:00        0.070090                      0.929910   \n",
       "6   27/03/2022/09:41:12        0.167072                      0.832928   \n",
       "7   27/03/2022/09:43:23        0.188771                      0.811229   \n",
       "\n",
       "           area parameter_uncertainty reach_time  \n",
       "0       3.29544              0.000000   0.500000  \n",
       "1       3.07730              0.000000   0.500000  \n",
       "2       3.06432              0.000000   0.500000  \n",
       "3       3.12691              0.000000   0.500000  \n",
       "4       3.08200              0.000000   0.500000  \n",
       "..          ...                   ...        ...  \n",
       "3   10823.80000              0.900000   2.000000  \n",
       "4    9872.37000              0.900000   2.000000  \n",
       "5   10606.50000              0.900000   2.000000  \n",
       "6   11330.80000              0.900000   2.000000  \n",
       "7   11838.50000              0.900000   2.000000  \n",
       "\n",
       "[3226 rows x 6 columns]"
      ]
     },
     "execution_count": 47,
     "metadata": {},
     "output_type": "execute_result"
    }
   ],
   "source": [
    "ru_sorted = reach_uncertainty.sort_values(by=[\"parameter_uncertainty\",\"reach_time\"])\n",
    "ru_sorted"
   ]
  },
  {
   "cell_type": "code",
   "execution_count": 67,
   "id": "0e5afef1",
   "metadata": {},
   "outputs": [
    {
     "data": {
      "text/html": [
       "<div>\n",
       "<style scoped>\n",
       "    .dataframe tbody tr th:only-of-type {\n",
       "        vertical-align: middle;\n",
       "    }\n",
       "\n",
       "    .dataframe tbody tr th {\n",
       "        vertical-align: top;\n",
       "    }\n",
       "\n",
       "    .dataframe thead th {\n",
       "        text-align: right;\n",
       "    }\n",
       "</style>\n",
       "<table border=\"1\" class=\"dataframe\">\n",
       "  <thead>\n",
       "    <tr style=\"text-align: right;\">\n",
       "      <th></th>\n",
       "      <th></th>\n",
       "      <th>time_taken_lec</th>\n",
       "      <th>time_taken_safety_controller</th>\n",
       "      <th>area</th>\n",
       "      <th>percent_change_in_size_of_reachset</th>\n",
       "    </tr>\n",
       "    <tr>\n",
       "      <th>parameter_uncertainty</th>\n",
       "      <th>reach_time</th>\n",
       "      <th></th>\n",
       "      <th></th>\n",
       "      <th></th>\n",
       "      <th></th>\n",
       "    </tr>\n",
       "  </thead>\n",
       "  <tbody>\n",
       "    <tr>\n",
       "      <th rowspan=\"5\" valign=\"top\">0.000000</th>\n",
       "      <th>0.500000</th>\n",
       "      <td>0.918033</td>\n",
       "      <td>0.081968</td>\n",
       "      <td>3.063685</td>\n",
       "      <td>0.00</td>\n",
       "    </tr>\n",
       "    <tr>\n",
       "      <th>0.600000</th>\n",
       "      <td>0.867522</td>\n",
       "      <td>0.132478</td>\n",
       "      <td>2.973180</td>\n",
       "      <td>-2.95</td>\n",
       "    </tr>\n",
       "    <tr>\n",
       "      <th>0.700000</th>\n",
       "      <td>0.896238</td>\n",
       "      <td>0.103762</td>\n",
       "      <td>2.944375</td>\n",
       "      <td>-3.89</td>\n",
       "    </tr>\n",
       "    <tr>\n",
       "      <th>0.800000</th>\n",
       "      <td>0.869565</td>\n",
       "      <td>0.130435</td>\n",
       "      <td>2.998950</td>\n",
       "      <td>-2.11</td>\n",
       "    </tr>\n",
       "    <tr>\n",
       "      <th>0.900000</th>\n",
       "      <td>0.751115</td>\n",
       "      <td>0.248886</td>\n",
       "      <td>2.959695</td>\n",
       "      <td>-3.39</td>\n",
       "    </tr>\n",
       "    <tr>\n",
       "      <th>...</th>\n",
       "      <th>...</th>\n",
       "      <td>...</td>\n",
       "      <td>...</td>\n",
       "      <td>...</td>\n",
       "      <td>...</td>\n",
       "    </tr>\n",
       "    <tr>\n",
       "      <th rowspan=\"5\" valign=\"top\">0.900000</th>\n",
       "      <th>1.600000</th>\n",
       "      <td>0.183142</td>\n",
       "      <td>0.816858</td>\n",
       "      <td>4280.655000</td>\n",
       "      <td>139622.43</td>\n",
       "    </tr>\n",
       "    <tr>\n",
       "      <th>1.700000</th>\n",
       "      <td>0.168430</td>\n",
       "      <td>0.831569</td>\n",
       "      <td>5482.590000</td>\n",
       "      <td>178854.10</td>\n",
       "    </tr>\n",
       "    <tr>\n",
       "      <th>1.800000</th>\n",
       "      <td>0.166467</td>\n",
       "      <td>0.833533</td>\n",
       "      <td>7141.740000</td>\n",
       "      <td>233009.47</td>\n",
       "    </tr>\n",
       "    <tr>\n",
       "      <th>1.900000</th>\n",
       "      <td>0.150234</td>\n",
       "      <td>0.849767</td>\n",
       "      <td>8059.580000</td>\n",
       "      <td>262968.17</td>\n",
       "    </tr>\n",
       "    <tr>\n",
       "      <th>2.000000</th>\n",
       "      <td>0.160699</td>\n",
       "      <td>0.839301</td>\n",
       "      <td>10500.700000</td>\n",
       "      <td>342647.38</td>\n",
       "    </tr>\n",
       "  </tbody>\n",
       "</table>\n",
       "<p>304 rows × 4 columns</p>\n",
       "</div>"
      ],
      "text/plain": [
       "                                  time_taken_lec  \\\n",
       "parameter_uncertainty reach_time                   \n",
       "0.000000              0.500000          0.918033   \n",
       "                      0.600000          0.867522   \n",
       "                      0.700000          0.896238   \n",
       "                      0.800000          0.869565   \n",
       "                      0.900000          0.751115   \n",
       "...                                          ...   \n",
       "0.900000              1.600000          0.183142   \n",
       "                      1.700000          0.168430   \n",
       "                      1.800000          0.166467   \n",
       "                      1.900000          0.150234   \n",
       "                      2.000000          0.160699   \n",
       "\n",
       "                                  time_taken_safety_controller          area  \\\n",
       "parameter_uncertainty reach_time                                               \n",
       "0.000000              0.500000                        0.081968      3.063685   \n",
       "                      0.600000                        0.132478      2.973180   \n",
       "                      0.700000                        0.103762      2.944375   \n",
       "                      0.800000                        0.130435      2.998950   \n",
       "                      0.900000                        0.248886      2.959695   \n",
       "...                                                        ...           ...   \n",
       "0.900000              1.600000                        0.816858   4280.655000   \n",
       "                      1.700000                        0.831569   5482.590000   \n",
       "                      1.800000                        0.833533   7141.740000   \n",
       "                      1.900000                        0.849767   8059.580000   \n",
       "                      2.000000                        0.839301  10500.700000   \n",
       "\n",
       "                                  percent_change_in_size_of_reachset  \n",
       "parameter_uncertainty reach_time                                      \n",
       "0.000000              0.500000                                  0.00  \n",
       "                      0.600000                                 -2.95  \n",
       "                      0.700000                                 -3.89  \n",
       "                      0.800000                                 -2.11  \n",
       "                      0.900000                                 -3.39  \n",
       "...                                                              ...  \n",
       "0.900000              1.600000                             139622.43  \n",
       "                      1.700000                             178854.10  \n",
       "                      1.800000                             233009.47  \n",
       "                      1.900000                             262968.17  \n",
       "                      2.000000                             342647.38  \n",
       "\n",
       "[304 rows x 4 columns]"
      ]
     },
     "execution_count": 67,
     "metadata": {},
     "output_type": "execute_result"
    }
   ],
   "source": [
    "ru_sorted = reach_uncertainty.groupby(['parameter_uncertainty','reach_time']).median()\n",
    "ru = reach_uncertainty.groupby(['parameter_uncertainty','reach_time']).median()\n",
    "ru['percent_change_in_size_of_reachset'] = round((ru['area'] - ru_sorted.iloc[0]['area'])/ru_sorted.iloc[0]['area'] * 100,2)\n",
    "ru"
   ]
  },
  {
   "cell_type": "code",
   "execution_count": 78,
   "id": "afe8a11e",
   "metadata": {},
   "outputs": [
    {
     "data": {
      "text/html": [
       "<div>\n",
       "<style scoped>\n",
       "    .dataframe tbody tr th:only-of-type {\n",
       "        vertical-align: middle;\n",
       "    }\n",
       "\n",
       "    .dataframe tbody tr th {\n",
       "        vertical-align: top;\n",
       "    }\n",
       "\n",
       "    .dataframe thead th {\n",
       "        text-align: right;\n",
       "    }\n",
       "</style>\n",
       "<table border=\"1\" class=\"dataframe\">\n",
       "  <thead>\n",
       "    <tr style=\"text-align: right;\">\n",
       "      <th></th>\n",
       "      <th>parameter_uncertainty</th>\n",
       "      <th>reach_time</th>\n",
       "      <th>time_taken_lec</th>\n",
       "      <th>time_taken_safety_controller</th>\n",
       "      <th>area</th>\n",
       "      <th>percent_change_in_size_of_reachset</th>\n",
       "    </tr>\n",
       "  </thead>\n",
       "  <tbody>\n",
       "    <tr>\n",
       "      <th>0</th>\n",
       "      <td>0.0</td>\n",
       "      <td>0.5</td>\n",
       "      <td>0.92</td>\n",
       "      <td>0.08</td>\n",
       "      <td>3.06</td>\n",
       "      <td>0.00</td>\n",
       "    </tr>\n",
       "    <tr>\n",
       "      <th>1</th>\n",
       "      <td>0.0</td>\n",
       "      <td>0.6</td>\n",
       "      <td>0.87</td>\n",
       "      <td>0.13</td>\n",
       "      <td>2.97</td>\n",
       "      <td>-2.95</td>\n",
       "    </tr>\n",
       "    <tr>\n",
       "      <th>2</th>\n",
       "      <td>0.0</td>\n",
       "      <td>0.7</td>\n",
       "      <td>0.90</td>\n",
       "      <td>0.10</td>\n",
       "      <td>2.94</td>\n",
       "      <td>-3.89</td>\n",
       "    </tr>\n",
       "    <tr>\n",
       "      <th>3</th>\n",
       "      <td>0.0</td>\n",
       "      <td>0.8</td>\n",
       "      <td>0.87</td>\n",
       "      <td>0.13</td>\n",
       "      <td>3.00</td>\n",
       "      <td>-2.11</td>\n",
       "    </tr>\n",
       "    <tr>\n",
       "      <th>4</th>\n",
       "      <td>0.0</td>\n",
       "      <td>0.9</td>\n",
       "      <td>0.75</td>\n",
       "      <td>0.25</td>\n",
       "      <td>2.96</td>\n",
       "      <td>-3.39</td>\n",
       "    </tr>\n",
       "  </tbody>\n",
       "</table>\n",
       "</div>"
      ],
      "text/plain": [
       "   parameter_uncertainty  reach_time  time_taken_lec  \\\n",
       "0                    0.0         0.5            0.92   \n",
       "1                    0.0         0.6            0.87   \n",
       "2                    0.0         0.7            0.90   \n",
       "3                    0.0         0.8            0.87   \n",
       "4                    0.0         0.9            0.75   \n",
       "\n",
       "   time_taken_safety_controller  area  percent_change_in_size_of_reachset  \n",
       "0                          0.08  3.06                                0.00  \n",
       "1                          0.13  2.97                               -2.95  \n",
       "2                          0.10  2.94                               -3.89  \n",
       "3                          0.13  3.00                               -2.11  \n",
       "4                          0.25  2.96                               -3.39  "
      ]
     },
     "execution_count": 78,
     "metadata": {},
     "output_type": "execute_result"
    }
   ],
   "source": [
    "ru_plot = ru.reset_index()\n",
    "ru_plot['reach_time'] = ru_plot[\"reach_time\"].apply(float)\n",
    "ru_plot['parameter_uncertainty'] = ru_plot['parameter_uncertainty'].apply(float)\n",
    "ru_plot = round(ru_plot,2)\n",
    "ru_plot.head()"
   ]
  },
  {
   "cell_type": "code",
   "execution_count": 79,
   "id": "10f2d820",
   "metadata": {},
   "outputs": [
    {
     "data": {
      "text/plain": [
       "<matplotlib.collections.PathCollection at 0x7f4e6ff0db38>"
      ]
     },
     "execution_count": 79,
     "metadata": {},
     "output_type": "execute_result"
    },
    {
     "data": {
      "image/png": "[encoded data removed]",
      "text/plain": [
       "<Figure size 1080x576 with 1 Axes>"
      ]
     },
     "metadata": {},
     "output_type": "display_data"
    }
   ],
   "source": [
    "plt.figure(figsize=(15,8))\n",
    "\n",
    "ax.spines['bottom'].set_color('#dddddd')\n",
    "ax.spines['left'].set_color('#dddddd')\n",
    "\n",
    "plt.scatter(ru_plot[\"parameter_uncertainty\"], ru_plot[\"percent_change_in_size_of_reachset\"])\n",
    "#sns.despine(left=False, bottom=False, right=True)\n",
    "\n",
    "# ax.set_xlabel(\"parameter_uncertainty\")\n",
    "# ax.set_ylabel(\"reach_time\")\n",
    "# ax.set_zlabel(\"percent_change_in_size_of_reachset\")\n",
    "# _= plt.legend(loc='best',frameon=False)\n",
    "\n",
    "# _= plt.ylabel(\"Usage (%)\")\n",
    "\n",
    "# _= plt.xlabel('Parameter Uncertainty % (+-)')\n",
    "# _= plt.title(\"Parameter Uncertainty vs Controller Use\",loc='left',pad=10.0,fontweight=\"bold\")"
   ]
  },
  {
   "cell_type": "code",
   "execution_count": 80,
   "id": "27fa9ddf",
   "metadata": {},
   "outputs": [
    {
     "data": {
      "text/plain": [
       "<seaborn.axisgrid.FacetGrid at 0x7f4e6ff62e10>"
      ]
     },
     "execution_count": 80,
     "metadata": {},
     "output_type": "execute_result"
    },
    {
     "data": {
      "text/plain": [
       "<Figure size 1080x576 with 0 Axes>"
      ]
     },
     "metadata": {},
     "output_type": "display_data"
    },
    {
     "data": {
      "image/png": "[encoded data removed]",
      "text/plain": [
       "<Figure size 882x4032 with 16 Axes>"
      ]
     },
     "metadata": {},
     "output_type": "display_data"
    }
   ],
   "source": [
    "plt.figure(figsize=(15,8))\n",
    "g = sns.FacetGrid(ru_plot, row=\"reach_time\",height=3.5,aspect=3.5)\n",
    "g.map(sns.lineplot, \"parameter_uncertainty\", \"percent_change_in_size_of_reachset\")"
   ]
  },
  {
   "cell_type": "code",
   "execution_count": 81,
   "id": "f1681340",
   "metadata": {},
   "outputs": [
    {
     "data": {
      "application/vnd.plotly.v1+json": {
       "config": {
        "plotlyServerURL": "https://plot.ly"
       },
       "data": [
        {
         "hovertemplate": "Reach Time (s)=%{x}<br>Paramter Uncertainty (%)=%{y}<br>% Change in Size of Reachset (Area)=%{marker.color}<extra></extra>",
         "legendgroup": "",
         "marker": {
          "color": [
           0,
           -2.95,
           -3.89,
           -2.11,
           -3.39,
           -2.76,
           -1.88,
           -1.88,
           -1.89,
           -1.08,
           -0.66,
           -0.68,
           -0.8,
           -0.78,
           -0.95,
           -0.47,
           8.21,
           15.08,
           22.59,
           29.18,
           46.33,
           59.52,
           70.99,
           86.95,
           100.88,
           114.72,
           131.68,
           141.7,
           162.82,
           177.93,
           203.76,
           230.1,
           28.15,
           42.78,
           51.14,
           77.9,
           107.66,
           141.01,
           170.65,
           206.41,
           239.84,
           274.24,
           310.11,
           356.53,
           408.53,
           473.57,
           541.46,
           596.46,
           45.07,
           65.83,
           98.04,
           143.69,
           190.69,
           238.29,
           291.95,
           337.91,
           393.29,
           468.27,
           566.93,
           665.28,
           751.03,
           875.74,
           1027.2,
           1189.36,
           65.8,
           87.82,
           145.76,
           208.14,
           281.97,
           353.3,
           421.35,
           496.49,
           625.89,
           760.78,
           903.78,
           1073.96,
           1272.8,
           1497.71,
           1762.45,
           2162.99,
           82.51,
           139.07,
           206.2,
           291.77,
           392.03,
           471.13,
           577.99,
           756,
           933.09,
           1121.74,
           1364.63,
           1635.14,
           2103.65,
           2611.4,
           3064.95,
           3609.76,
           114.4,
           177.82,
           280.89,
           396.54,
           494.89,
           615,
           821.18,
           1001.45,
           1302.74,
           1574.96,
           2288.87,
           2963.86,
           3640.38,
           4370.27,
           5157.9,
           5572.61,
           129.94,
           237.67,
           351.67,
           471.99,
           593.05,
           813.2,
           1069.71,
           1342.21,
           1916.2,
           2708.34,
           3457.28,
           4297.91,
           5167.35,
           6237.45,
           7318.53,
           8145.27,
           170.76,
           299.49,
           438.94,
           579.91,
           794.63,
           1072.98,
           1453.49,
           2097.96,
           3037.14,
           3826.43,
           4845.24,
           5983.08,
           7021.88,
           8289.49,
           10114.32,
           12267.35,
           218.99,
           366.79,
           522.25,
           716.4,
           1035.49,
           1446.36,
           2110.36,
           3136.96,
           4068.53,
           5350.3,
           6318.97,
           7710.4,
           9807.09,
           12383.59,
           15454.94,
           18452.9,
           282.68,
           463.77,
           624.77,
           938.04,
           1372.43,
           2143.7,
           3199.1,
           4273.31,
           5691.28,
           6704.24,
           8751.76,
           11554.09,
           14584.54,
           18246.94,
           22121.02,
           26435.15,
           335.69,
           530.56,
           759.97,
           1154.1,
           1850.79,
           2942.93,
           4126.95,
           5531.47,
           7034.12,
           9351.35,
           12446.59,
           15989.63,
           20209.32,
           24657.98,
           30751.18,
           37667.92,
           390.26,
           594.98,
           933.59,
           1442.13,
           2562.98,
           3741.45,
           5271.75,
           6740.44,
           9489.22,
           12738.51,
           16935.86,
           22081,
           27546.89,
           35345.22,
           43269.83,
           54033.18,
           460.74,
           688.55,
           1133.41,
           1863.67,
           3241.43,
           4791.58,
           6346.93,
           8912.5,
           12855.18,
           17215.85,
           23090.34,
           29903.05,
           38402.16,
           49048.49,
           61387.39,
           75816.26,
           525.75,
           819.9,
           1374.94,
           2586.67,
           4070.96,
           5723.41,
           8278.7,
           12342.11,
           16817.26,
           23053.21,
           30783.43,
           40493.6,
           53411.05,
           67367.93,
           84538.76,
           104732.25,
           565.61,
           972.52,
           1711.88,
           3177.92,
           4994.94,
           6983.48,
           10886.23,
           15718.53,
           22009.62,
           30917.27,
           41517.2,
           54961.31,
           71465.61,
           92485.56,
           115260.1,
           144971.05,
           631.84,
           1121.81,
           2327.63,
           3918,
           5614.3,
           9302.47,
           14183.89,
           20659.71,
           29523.08,
           41032.66,
           56624.34,
           76048.98,
           98870.03,
           129678.84,
           163358.71,
           196120.56,
           734.02,
           1331.05,
           2867.49,
           4891.15,
           7337.47,
           12124.94,
           18370.65,
           27055.86,
           39085,
           55757.73,
           75846.12,
           105536.35,
           136299.47,
           175512.21,
           218386.89,
           255128.92,
           864.52,
           1692.71,
           3498.05,
           5496.61,
           9740.44,
           15530.52,
           24448.18,
           35698.39,
           52906.1,
           75538.98,
           102226.12,
           139622.43,
           178854.1,
           233009.47,
           262968.17,
           342647.38
          ],
          "coloraxis": "coloraxis",
          "symbol": "circle"
         },
         "mode": "markers",
         "name": "",
         "scene": "scene",
         "showlegend": false,
         "type": "scatter3d",
         "x": [
          0.5,
          0.6,
          0.7,
          0.8,
          0.9,
          1,
          1.1,
          1.2,
          1.3,
          1.4,
          1.5,
          1.6,
          1.7,
          1.8,
          1.9,
          2,
          0.5,
          0.6,
          0.7,
          0.8,
          0.9,
          1,
          1.1,
          1.2,
          1.3,
          1.4,
          1.5,
          1.6,
          1.7,
          1.8,
          1.9,
          2,
          0.5,
          0.6,
          0.7,
          0.8,
          0.9,
          1,
          1.1,
          1.2,
          1.3,
          1.4,
          1.5,
          1.6,
          1.7,
          1.8,
          1.9,
          2,
          0.5,
          0.6,
          0.7,
          0.8,
          0.9,
          1,
          1.1,
          1.2,
          1.3,
          1.4,
          1.5,
          1.6,
          1.7,
          1.8,
          1.9,
          2,
          0.5,
          0.6,
          0.7,
          0.8,
          0.9,
          1,
          1.1,
          1.2,
          1.3,
          1.4,
          1.5,
          1.6,
          1.7,
          1.8,
          1.9,
          2,
          0.5,
          0.6,
          0.7,
          0.8,
          0.9,
          1,
          1.1,
          1.2,
          1.3,
          1.4,
          1.5,
          1.6,
          1.7,
          1.8,
          1.9,
          2,
          0.5,
          0.6,
          0.7,
          0.8,
          0.9,
          1,
          1.1,
          1.2,
          1.3,
          1.4,
          1.5,
          1.6,
          1.7,
          1.8,
          1.9,
          2,
          0.5,
          0.6,
          0.7,
          0.8,
          0.9,
          1,
          1.1,
          1.2,
          1.3,
          1.4,
          1.5,
          1.6,
          1.7,
          1.8,
          1.9,
          2,
          0.5,
          0.6,
          0.7,
          0.8,
          0.9,
          1,
          1.1,
          1.2,
          1.3,
          1.4,
          1.5,
          1.6,
          1.7,
          1.8,
          1.9,
          2,
          0.5,
          0.6,
          0.7,
          0.8,
          0.9,
          1,
          1.1,
          1.2,
          1.3,
          1.4,
          1.5,
          1.6,
          1.7,
          1.8,
          1.9,
          2,
          0.5,
          0.6,
          0.7,
          0.8,
          0.9,
          1,
          1.1,
          1.2,
          1.3,
          1.4,
          1.5,
          1.6,
          1.7,
          1.8,
          1.9,
          2,
          0.5,
          0.6,
          0.7,
          0.8,
          0.9,
          1,
          1.1,
          1.2,
          1.3,
          1.4,
          1.5,
          1.6,
          1.7,
          1.8,
          1.9,
          2,
          0.5,
          0.6,
          0.7,
          0.8,
          0.9,
          1,
          1.1,
          1.2,
          1.3,
          1.4,
          1.5,
          1.6,
          1.7,
          1.8,
          1.9,
          2,
          0.5,
          0.6,
          0.7,
          0.8,
          0.9,
          1,
          1.1,
          1.2,
          1.3,
          1.4,
          1.5,
          1.6,
          1.7,
          1.8,
          1.9,
          2,
          0.5,
          0.6,
          0.7,
          0.8,
          0.9,
          1,
          1.1,
          1.2,
          1.3,
          1.4,
          1.5,
          1.6,
          1.7,
          1.8,
          1.9,
          2,
          0.5,
          0.6,
          0.7,
          0.8,
          0.9,
          1,
          1.1,
          1.2,
          1.3,
          1.4,
          1.5,
          1.6,
          1.7,
          1.8,
          1.9,
          2,
          0.5,
          0.6,
          0.7,
          0.8,
          0.9,
          1,
          1.1,
          1.2,
          1.3,
          1.4,
          1.5,
          1.6,
          1.7,
          1.8,
          1.9,
          2,
          0.5,
          0.6,
          0.7,
          0.8,
          0.9,
          1,
          1.1,
          1.2,
          1.3,
          1.4,
          1.5,
          1.6,
          1.7,
          1.8,
          1.9,
          2,
          0.5,
          0.6,
          0.7,
          0.8,
          0.9,
          1,
          1.1,
          1.2,
          1.3,
          1.4,
          1.5,
          1.6,
          1.7,
          1.8,
          1.9,
          2
         ],
         "y": [
          0,
          0,
          0,
          0,
          0,
          0,
          0,
          0,
          0,
          0,
          0,
          0,
          0,
          0,
          0,
          0,
          0.05,
          0.05,
          0.05,
          0.05,
          0.05,
          0.05,
          0.05,
          0.05,
          0.05,
          0.05,
          0.05,
          0.05,
          0.05,
          0.05,
          0.05,
          0.05,
          0.1,
          0.1,
          0.1,
          0.1,
          0.1,
          0.1,
          0.1,
          0.1,
          0.1,
          0.1,
          0.1,
          0.1,
          0.1,
          0.1,
          0.1,
          0.1,
          0.15,
          0.15,
          0.15,
          0.15,
          0.15,
          0.15,
          0.15,
          0.15,
          0.15,
          0.15,
          0.15,
          0.15,
          0.15,
          0.15,
          0.15,
          0.15,
          0.2,
          0.2,
          0.2,
          0.2,
          0.2,
          0.2,
          0.2,
          0.2,
          0.2,
          0.2,
          0.2,
          0.2,
          0.2,
          0.2,
          0.2,
          0.2,
          0.25,
          0.25,
          0.25,
          0.25,
          0.25,
          0.25,
          0.25,
          0.25,
          0.25,
          0.25,
          0.25,
          0.25,
          0.25,
          0.25,
          0.25,
          0.25,
          0.3,
          0.3,
          0.3,
          0.3,
          0.3,
          0.3,
          0.3,
          0.3,
          0.3,
          0.3,
          0.3,
          0.3,
          0.3,
          0.3,
          0.3,
          0.3,
          0.35,
          0.35,
          0.35,
          0.35,
          0.35,
          0.35,
          0.35,
          0.35,
          0.35,
          0.35,
          0.35,
          0.35,
          0.35,
          0.35,
          0.35,
          0.35,
          0.4,
          0.4,
          0.4,
          0.4,
          0.4,
          0.4,
          0.4,
          0.4,
          0.4,
          0.4,
          0.4,
          0.4,
          0.4,
          0.4,
          0.4,
          0.4,
          0.45,
          0.45,
          0.45,
          0.45,
          0.45,
          0.45,
          0.45,
          0.45,
          0.45,
          0.45,
          0.45,
          0.45,
          0.45,
          0.45,
          0.45,
          0.45,
          0.5,
          0.5,
          0.5,
          0.5,
          0.5,
          0.5,
          0.5,
          0.5,
          0.5,
          0.5,
          0.5,
          0.5,
          0.5,
          0.5,
          0.5,
          0.5,
          0.55,
          0.55,
          0.55,
          0.55,
          0.55,
          0.55,
          0.55,
          0.55,
          0.55,
          0.55,
          0.55,
          0.55,
          0.55,
          0.55,
          0.55,
          0.55,
          0.6,
          0.6,
          0.6,
          0.6,
          0.6,
          0.6,
          0.6,
          0.6,
          0.6,
          0.6,
          0.6,
          0.6,
          0.6,
          0.6,
          0.6,
          0.6,
          0.65,
          0.65,
          0.65,
          0.65,
          0.65,
          0.65,
          0.65,
          0.65,
          0.65,
          0.65,
          0.65,
          0.65,
          0.65,
          0.65,
          0.65,
          0.65,
          0.7,
          0.7,
          0.7,
          0.7,
          0.7,
          0.7,
          0.7,
          0.7,
          0.7,
          0.7,
          0.7,
          0.7,
          0.7,
          0.7,
          0.7,
          0.7,
          0.75,
          0.75,
          0.75,
          0.75,
          0.75,
          0.75,
          0.75,
          0.75,
          0.75,
          0.75,
          0.75,
          0.75,
          0.75,
          0.75,
          0.75,
          0.75,
          0.8,
          0.8,
          0.8,
          0.8,
          0.8,
          0.8,
          0.8,
          0.8,
          0.8,
          0.8,
          0.8,
          0.8,
          0.8,
          0.8,
          0.8,
          0.8,
          0.85,
          0.85,
          0.85,
          0.85,
          0.85,
          0.85,
          0.85,
          0.85,
          0.85,
          0.85,
          0.85,
          0.85,
          0.85,
          0.85,
          0.85,
          0.85,
          0.9,
          0.9,
          0.9,
          0.9,
          0.9,
          0.9,
          0.9,
          0.9,
          0.9,
          0.9,
          0.9,
          0.9,
          0.9,
          0.9,
          0.9,
          0.9
         ],
         "z": [
          0,
          -2.95,
          -3.89,
          -2.11,
          -3.39,
          -2.76,
          -1.88,
          -1.88,
          -1.89,
          -1.08,
          -0.66,
          -0.68,
          -0.8,
          -0.78,
          -0.95,
          -0.47,
          8.21,
          15.08,
          22.59,
          29.18,
          46.33,
          59.52,
          70.99,
          86.95,
          100.88,
          114.72,
          131.68,
          141.7,
          162.82,
          177.93,
          203.76,
          230.1,
          28.15,
          42.78,
          51.14,
          77.9,
          107.66,
          141.01,
          170.65,
          206.41,
          239.84,
          274.24,
          310.11,
          356.53,
          408.53,
          473.57,
          541.46,
          596.46,
          45.07,
          65.83,
          98.04,
          143.69,
          190.69,
          238.29,
          291.95,
          337.91,
          393.29,
          468.27,
          566.93,
          665.28,
          751.03,
          875.74,
          1027.2,
          1189.36,
          65.8,
          87.82,
          145.76,
          208.14,
          281.97,
          353.3,
          421.35,
          496.49,
          625.89,
          760.78,
          903.78,
          1073.96,
          1272.8,
          1497.71,
          1762.45,
          2162.99,
          82.51,
          139.07,
          206.2,
          291.77,
          392.03,
          471.13,
          577.99,
          756,
          933.09,
          1121.74,
          1364.63,
          1635.14,
          2103.65,
          2611.4,
          3064.95,
          3609.76,
          114.4,
          177.82,
          280.89,
          396.54,
          494.89,
          615,
          821.18,
          1001.45,
          1302.74,
          1574.96,
          2288.87,
          2963.86,
          3640.38,
          4370.27,
          5157.9,
          5572.61,
          129.94,
          237.67,
          351.67,
          471.99,
          593.05,
          813.2,
          1069.71,
          1342.21,
          1916.2,
          2708.34,
          3457.28,
          4297.91,
          5167.35,
          6237.45,
          7318.53,
          8145.27,
          170.76,
          299.49,
          438.94,
          579.91,
          794.63,
          1072.98,
          1453.49,
          2097.96,
          3037.14,
          3826.43,
          4845.24,
          5983.08,
          7021.88,
          8289.49,
          10114.32,
          12267.35,
          218.99,
          366.79,
          522.25,
          716.4,
          1035.49,
          1446.36,
          2110.36,
          3136.96,
          4068.53,
          5350.3,
          6318.97,
          7710.4,
          9807.09,
          12383.59,
          15454.94,
          18452.9,
          282.68,
          463.77,
          624.77,
          938.04,
          1372.43,
          2143.7,
          3199.1,
          4273.31,
          5691.28,
          6704.24,
          8751.76,
          11554.09,
          14584.54,
          18246.94,
          22121.02,
          26435.15,
          335.69,
          530.56,
          759.97,
          1154.1,
          1850.79,
          2942.93,
          4126.95,
          5531.47,
          7034.12,
          9351.35,
          12446.59,
          15989.63,
          20209.32,
          24657.98,
          30751.18,
          37667.92,
          390.26,
          594.98,
          933.59,
          1442.13,
          2562.98,
          3741.45,
          5271.75,
          6740.44,
          9489.22,
          12738.51,
          16935.86,
          22081,
          27546.89,
          35345.22,
          43269.83,
          54033.18,
          460.74,
          688.55,
          1133.41,
          1863.67,
          3241.43,
          4791.58,
          6346.93,
          8912.5,
          12855.18,
          17215.85,
          23090.34,
          29903.05,
          38402.16,
          49048.49,
          61387.39,
          75816.26,
          525.75,
          819.9,
          1374.94,
          2586.67,
          4070.96,
          5723.41,
          8278.7,
          12342.11,
          16817.26,
          23053.21,
          30783.43,
          40493.6,
          53411.05,
          67367.93,
          84538.76,
          104732.25,
          565.61,
          972.52,
          1711.88,
          3177.92,
          4994.94,
          6983.48,
          10886.23,
          15718.53,
          22009.62,
          30917.27,
          41517.2,
          54961.31,
          71465.61,
          92485.56,
          115260.1,
          144971.05,
          631.84,
          1121.81,
          2327.63,
          3918,
          5614.3,
          9302.47,
          14183.89,
          20659.71,
          29523.08,
          41032.66,
          56624.34,
          76048.98,
          98870.03,
          129678.84,
          163358.71,
          196120.56,
          734.02,
          1331.05,
          2867.49,
          4891.15,
          7337.47,
          12124.94,
          18370.65,
          27055.86,
          39085,
          55757.73,
          75846.12,
          105536.35,
          136299.47,
          175512.21,
          218386.89,
          255128.92,
          864.52,
          1692.71,
          3498.05,
          5496.61,
          9740.44,
          15530.52,
          24448.18,
          35698.39,
          52906.1,
          75538.98,
          102226.12,
          139622.43,
          178854.1,
          233009.47,
          262968.17,
          342647.38
         ]
        }
       ],
       "layout": {
        "coloraxis": {
         "colorbar": {
          "title": {
           "text": "% Change in Size of Reachset (Area)"
          }
         },
         "colorscale": [
          [
           0,
           "#0d0887"
          ],
          [
           0.1111111111111111,
           "#46039f"
          ],
          [
           0.2222222222222222,
           "#7201a8"
          ],
          [
           0.3333333333333333,
           "#9c179e"
          ],
          [
           0.4444444444444444,
           "#bd3786"
          ],
          [
           0.5555555555555556,
           "#d8576b"
          ],
          [
           0.6666666666666666,
           "#ed7953"
          ],
          [
           0.7777777777777778,
           "#fb9f3a"
          ],
          [
           0.8888888888888888,
           "#fdca26"
          ],
          [
           1,
           "#f0f921"
          ]
         ]
        },
        "height": 1000,
        "legend": {
         "tracegroupgap": 0
        },
        "margin": {
         "t": 60
        },
        "scene": {
         "domain": {
          "x": [
           0,
           1
          ],
          "y": [
           0,
           1
          ]
         },
         "xaxis": {
          "title": {
           "text": "Reach Time (s)"
          }
         },
         "yaxis": {
          "title": {
           "text": "Paramter Uncertainty (%)"
          }
         },
         "zaxis": {
          "title": {
           "text": "% Change in Size of Reachset (Area)"
          }
         }
        },
        "template": {
         "data": {
          "bar": [
           {
            "error_x": {
             "color": "#2a3f5f"
            },
            "error_y": {
             "color": "#2a3f5f"
            },
            "marker": {
             "line": {
              "color": "#E5ECF6",
              "width": 0.5
             }
            },
            "type": "bar"
           }
          ],
          "barpolar": [
           {
            "marker": {
             "line": {
              "color": "#E5ECF6",
              "width": 0.5
             }
            },
            "type": "barpolar"
           }
          ],
          "carpet": [
           {
            "aaxis": {
             "endlinecolor": "#2a3f5f",
             "gridcolor": "white",
             "linecolor": "white",
             "minorgridcolor": "white",
             "startlinecolor": "#2a3f5f"
            },
            "baxis": {
             "endlinecolor": "#2a3f5f",
             "gridcolor": "white",
             "linecolor": "white",
             "minorgridcolor": "white",
             "startlinecolor": "#2a3f5f"
            },
            "type": "carpet"
           }
          ],
          "choropleth": [
           {
            "colorbar": {
             "outlinewidth": 0,
             "ticks": ""
            },
            "type": "choropleth"
           }
          ],
          "contour": [
           {
            "colorbar": {
             "outlinewidth": 0,
             "ticks": ""
            },
            "colorscale": [
             [
              0,
              "#0d0887"
             ],
             [
              0.1111111111111111,
              "#46039f"
             ],
             [
              0.2222222222222222,
              "#7201a8"
             ],
             [
              0.3333333333333333,
              "#9c179e"
             ],
             [
              0.4444444444444444,
              "#bd3786"
             ],
             [
              0.5555555555555556,
              "#d8576b"
             ],
             [
              0.6666666666666666,
              "#ed7953"
             ],
             [
              0.7777777777777778,
              "#fb9f3a"
             ],
             [
              0.8888888888888888,
              "#fdca26"
             ],
             [
              1,
              "#f0f921"
             ]
            ],
            "type": "contour"
           }
          ],
          "contourcarpet": [
           {
            "colorbar": {
             "outlinewidth": 0,
             "ticks": ""
            },
            "type": "contourcarpet"
           }
          ],
          "heatmap": [
           {
            "colorbar": {
             "outlinewidth": 0,
             "ticks": ""
            },
            "colorscale": [
             [
              0,
              "#0d0887"
             ],
             [
              0.1111111111111111,
              "#46039f"
             ],
             [
              0.2222222222222222,
              "#7201a8"
             ],
             [
              0.3333333333333333,
              "#9c179e"
             ],
             [
              0.4444444444444444,
              "#bd3786"
             ],
             [
              0.5555555555555556,
              "#d8576b"
             ],
             [
              0.6666666666666666,
              "#ed7953"
             ],
             [
              0.7777777777777778,
              "#fb9f3a"
             ],
             [
              0.8888888888888888,
              "#fdca26"
             ],
             [
              1,
              "#f0f921"
             ]
            ],
            "type": "heatmap"
           }
          ],
          "heatmapgl": [
           {
            "colorbar": {
             "outlinewidth": 0,
             "ticks": ""
            },
            "colorscale": [
             [
              0,
              "#0d0887"
             ],
             [
              0.1111111111111111,
              "#46039f"
             ],
             [
              0.2222222222222222,
              "#7201a8"
             ],
             [
              0.3333333333333333,
              "#9c179e"
             ],
             [
              0.4444444444444444,
              "#bd3786"
             ],
             [
              0.5555555555555556,
              "#d8576b"
             ],
             [
              0.6666666666666666,
              "#ed7953"
             ],
             [
              0.7777777777777778,
              "#fb9f3a"
             ],
             [
              0.8888888888888888,
              "#fdca26"
             ],
             [
              1,
              "#f0f921"
             ]
            ],
            "type": "heatmapgl"
           }
          ],
          "histogram": [
           {
            "marker": {
             "colorbar": {
              "outlinewidth": 0,
              "ticks": ""
             }
            },
            "type": "histogram"
           }
          ],
          "histogram2d": [
           {
            "colorbar": {
             "outlinewidth": 0,
             "ticks": ""
            },
            "colorscale": [
             [
              0,
              "#0d0887"
             ],
             [
              0.1111111111111111,
              "#46039f"
             ],
             [
              0.2222222222222222,
              "#7201a8"
             ],
             [
              0.3333333333333333,
              "#9c179e"
             ],
             [
              0.4444444444444444,
              "#bd3786"
             ],
             [
              0.5555555555555556,
              "#d8576b"
             ],
             [
              0.6666666666666666,
              "#ed7953"
             ],
             [
              0.7777777777777778,
              "#fb9f3a"
             ],
             [
              0.8888888888888888,
              "#fdca26"
             ],
             [
              1,
              "#f0f921"
             ]
            ],
            "type": "histogram2d"
           }
          ],
          "histogram2dcontour": [
           {
            "colorbar": {
             "outlinewidth": 0,
             "ticks": ""
            },
            "colorscale": [
             [
              0,
              "#0d0887"
             ],
             [
              0.1111111111111111,
              "#46039f"
             ],
             [
              0.2222222222222222,
              "#7201a8"
             ],
             [
              0.3333333333333333,
              "#9c179e"
             ],
             [
              0.4444444444444444,
              "#bd3786"
             ],
             [
              0.5555555555555556,
              "#d8576b"
             ],
             [
              0.6666666666666666,
              "#ed7953"
             ],
             [
              0.7777777777777778,
              "#fb9f3a"
             ],
             [
              0.8888888888888888,
              "#fdca26"
             ],
             [
              1,
              "#f0f921"
             ]
            ],
            "type": "histogram2dcontour"
           }
          ],
          "mesh3d": [
           {
            "colorbar": {
             "outlinewidth": 0,
             "ticks": ""
            },
            "type": "mesh3d"
           }
          ],
          "parcoords": [
           {
            "line": {
             "colorbar": {
              "outlinewidth": 0,
              "ticks": ""
             }
            },
            "type": "parcoords"
           }
          ],
          "pie": [
           {
            "automargin": true,
            "type": "pie"
           }
          ],
          "scatter": [
           {
            "marker": {
             "colorbar": {
              "outlinewidth": 0,
              "ticks": ""
             }
            },
            "type": "scatter"
           }
          ],
          "scatter3d": [
           {
            "line": {
             "colorbar": {
              "outlinewidth": 0,
              "ticks": ""
             }
            },
            "marker": {
             "colorbar": {
              "outlinewidth": 0,
              "ticks": ""
             }
            },
            "type": "scatter3d"
           }
          ],
          "scattercarpet": [
           {
            "marker": {
             "colorbar": {
              "outlinewidth": 0,
              "ticks": ""
             }
            },
            "type": "scattercarpet"
           }
          ],
          "scattergeo": [
           {
            "marker": {
             "colorbar": {
              "outlinewidth": 0,
              "ticks": ""
             }
            },
            "type": "scattergeo"
           }
          ],
          "scattergl": [
           {
            "marker": {
             "colorbar": {
              "outlinewidth": 0,
              "ticks": ""
             }
            },
            "type": "scattergl"
           }
          ],
          "scattermapbox": [
           {
            "marker": {
             "colorbar": {
              "outlinewidth": 0,
              "ticks": ""
             }
            },
            "type": "scattermapbox"
           }
          ],
          "scatterpolar": [
           {
            "marker": {
             "colorbar": {
              "outlinewidth": 0,
              "ticks": ""
             }
            },
            "type": "scatterpolar"
           }
          ],
          "scatterpolargl": [
           {
            "marker": {
             "colorbar": {
              "outlinewidth": 0,
              "ticks": ""
             }
            },
            "type": "scatterpolargl"
           }
          ],
          "scatterternary": [
           {
            "marker": {
             "colorbar": {
              "outlinewidth": 0,
              "ticks": ""
             }
            },
            "type": "scatterternary"
           }
          ],
          "surface": [
           {
            "colorbar": {
             "outlinewidth": 0,
             "ticks": ""
            },
            "colorscale": [
             [
              0,
              "#0d0887"
             ],
             [
              0.1111111111111111,
              "#46039f"
             ],
             [
              0.2222222222222222,
              "#7201a8"
             ],
             [
              0.3333333333333333,
              "#9c179e"
             ],
             [
              0.4444444444444444,
              "#bd3786"
             ],
             [
              0.5555555555555556,
              "#d8576b"
             ],
             [
              0.6666666666666666,
              "#ed7953"
             ],
             [
              0.7777777777777778,
              "#fb9f3a"
             ],
             [
              0.8888888888888888,
              "#fdca26"
             ],
             [
              1,
              "#f0f921"
             ]
            ],
            "type": "surface"
           }
          ],
          "table": [
           {
            "cells": {
             "fill": {
              "color": "#EBF0F8"
             },
             "line": {
              "color": "white"
             }
            },
            "header": {
             "fill": {
              "color": "#C8D4E3"
             },
             "line": {
              "color": "white"
             }
            },
            "type": "table"
           }
          ]
         },
         "layout": {
          "annotationdefaults": {
           "arrowcolor": "#2a3f5f",
           "arrowhead": 0,
           "arrowwidth": 1
          },
          "autotypenumbers": "strict",
          "coloraxis": {
           "colorbar": {
            "outlinewidth": 0,
            "ticks": ""
           }
          },
          "colorscale": {
           "diverging": [
            [
             0,
             "#8e0152"
            ],
            [
             0.1,
             "#c51b7d"
            ],
            [
             0.2,
             "#de77ae"
            ],
            [
             0.3,
             "#f1b6da"
            ],
            [
             0.4,
             "#fde0ef"
            ],
            [
             0.5,
             "#f7f7f7"
            ],
            [
             0.6,
             "#e6f5d0"
            ],
            [
             0.7,
             "#b8e186"
            ],
            [
             0.8,
             "#7fbc41"
            ],
            [
             0.9,
             "#4d9221"
            ],
            [
             1,
             "#276419"
            ]
           ],
           "sequential": [
            [
             0,
             "#0d0887"
            ],
            [
             0.1111111111111111,
             "#46039f"
            ],
            [
             0.2222222222222222,
             "#7201a8"
            ],
            [
             0.3333333333333333,
             "#9c179e"
            ],
            [
             0.4444444444444444,
             "#bd3786"
            ],
            [
             0.5555555555555556,
             "#d8576b"
            ],
            [
             0.6666666666666666,
             "#ed7953"
            ],
            [
             0.7777777777777778,
             "#fb9f3a"
            ],
            [
             0.8888888888888888,
             "#fdca26"
            ],
            [
             1,
             "#f0f921"
            ]
           ],
           "sequentialminus": [
            [
             0,
             "#0d0887"
            ],
            [
             0.1111111111111111,
             "#46039f"
            ],
            [
             0.2222222222222222,
             "#7201a8"
            ],
            [
             0.3333333333333333,
             "#9c179e"
            ],
            [
             0.4444444444444444,
             "#bd3786"
            ],
            [
             0.5555555555555556,
             "#d8576b"
            ],
            [
             0.6666666666666666,
             "#ed7953"
            ],
            [
             0.7777777777777778,
             "#fb9f3a"
            ],
            [
             0.8888888888888888,
             "#fdca26"
            ],
            [
             1,
             "#f0f921"
            ]
           ]
          },
          "colorway": [
           "#636efa",
           "#EF553B",
           "#00cc96",
           "#ab63fa",
           "#FFA15A",
           "#19d3f3",
           "#FF6692",
           "#B6E880",
           "#FF97FF",
           "#FECB52"
          ],
          "font": {
           "color": "#2a3f5f"
          },
          "geo": {
           "bgcolor": "white",
           "lakecolor": "white",
           "landcolor": "#E5ECF6",
           "showlakes": true,
           "showland": true,
           "subunitcolor": "white"
          },
          "hoverlabel": {
           "align": "left"
          },
          "hovermode": "closest",
          "mapbox": {
           "style": "light"
          },
          "paper_bgcolor": "white",
          "plot_bgcolor": "#E5ECF6",
          "polar": {
           "angularaxis": {
            "gridcolor": "white",
            "linecolor": "white",
            "ticks": ""
           },
           "bgcolor": "#E5ECF6",
           "radialaxis": {
            "gridcolor": "white",
            "linecolor": "white",
            "ticks": ""
           }
          },
          "scene": {
           "xaxis": {
            "backgroundcolor": "#E5ECF6",
            "gridcolor": "white",
            "gridwidth": 2,
            "linecolor": "white",
            "showbackground": true,
            "ticks": "",
            "zerolinecolor": "white"
           },
           "yaxis": {
            "backgroundcolor": "#E5ECF6",
            "gridcolor": "white",
            "gridwidth": 2,
            "linecolor": "white",
            "showbackground": true,
            "ticks": "",
            "zerolinecolor": "white"
           },
           "zaxis": {
            "backgroundcolor": "#E5ECF6",
            "gridcolor": "white",
            "gridwidth": 2,
            "linecolor": "white",
            "showbackground": true,
            "ticks": "",
            "zerolinecolor": "white"
           }
          },
          "shapedefaults": {
           "line": {
            "color": "#2a3f5f"
           }
          },
          "ternary": {
           "aaxis": {
            "gridcolor": "white",
            "linecolor": "white",
            "ticks": ""
           },
           "baxis": {
            "gridcolor": "white",
            "linecolor": "white",
            "ticks": ""
           },
           "bgcolor": "#E5ECF6",
           "caxis": {
            "gridcolor": "white",
            "linecolor": "white",
            "ticks": ""
           }
          },
          "title": {
           "x": 0.05
          },
          "xaxis": {
           "automargin": true,
           "gridcolor": "white",
           "linecolor": "white",
           "ticks": "",
           "title": {
            "standoff": 15
           },
           "zerolinecolor": "white",
           "zerolinewidth": 2
          },
          "yaxis": {
           "automargin": true,
           "gridcolor": "white",
           "linecolor": "white",
           "ticks": "",
           "title": {
            "standoff": 15
           },
           "zerolinecolor": "white",
           "zerolinewidth": 2
          }
         }
        },
        "width": 1500
       }
      },
      "text/html": [
       "<div>                            <div id=\"3f3bdb0a-6d10-4edf-8dd0-0571aa17715c\" class=\"plotly-graph-div\" style=\"height:1000px; width:1500px;\"></div>            <script type=\"text/javascript\">                require([\"plotly\"], function(Plotly) {                    window.PLOTLYENV=window.PLOTLYENV || {};                                    if (document.getElementById(\"3f3bdb0a-6d10-4edf-8dd0-0571aa17715c\")) {                    Plotly.newPlot(                        \"3f3bdb0a-6d10-4edf-8dd0-0571aa17715c\",                        [{\"hovertemplate\": \"Reach Time (s)=%{x}<br>Paramter Uncertainty (%)=%{y}<br>% Change in Size of Reachset (Area)=%{marker.color}<extra></extra>\", \"legendgroup\": \"\", \"marker\": {\"color\": [0.0, -2.95, -3.89, -2.11, -3.39, -2.76, -1.88, -1.88, -1.89, -1.08, -0.66, -0.68, -0.8, -0.78, -0.95, -0.47, 8.21, 15.08, 22.59, 29.18, 46.33, 59.52, 70.99, 86.95, 100.88, 114.72, 131.68, 141.7, 162.82, 177.93, 203.76, 230.1, 28.15, 42.78, 51.14, 77.9, 107.66, 141.01, 170.65, 206.41, 239.84, 274.24, 310.11, 356.53, 408.53, 473.57, 541.46, 596.46, 45.07, 65.83, 98.04, 143.69, 190.69, 238.29, 291.95, 337.91, 393.29, 468.27, 566.93, 665.28, 751.03, 875.74, 1027.2, 1189.36, 65.8, 87.82, 145.76, 208.14, 281.97, 353.3, 421.35, 496.49, 625.89, 760.78, 903.78, 1073.96, 1272.8, 1497.71, 1762.45, 2162.99, 82.51, 139.07, 206.2, 291.77, 392.03, 471.13, 577.99, 756.0, 933.09, 1121.74, 1364.63, 1635.14, 2103.65, 2611.4, 3064.95, 3609.76, 114.4, 177.82, 280.89, 396.54, 494.89, 615.0, 821.18, 1001.45, 1302.74, 1574.96, 2288.87, 2963.86, 3640.38, 4370.27, 5157.9, 5572.61, 129.94, 237.67, 351.67, 471.99, 593.05, 813.2, 1069.71, 1342.21, 1916.2, 2708.34, 3457.28, 4297.91, 5167.35, 6237.45, 7318.53, 8145.27, 170.76, 299.49, 438.94, 579.91, 794.63, 1072.98, 1453.49, 2097.96, 3037.14, 3826.43, 4845.24, 5983.08, 7021.88, 8289.49, 10114.32, 12267.35, 218.99, 366.79, 522.25, 716.4, 1035.49, 1446.36, 2110.36, 3136.96, 4068.53, 5350.3, 6318.97, 7710.4, 9807.09, 12383.59, 15454.94, 18452.9, 282.68, 463.77, 624.77, 938.04, 1372.43, 2143.7, 3199.1, 4273.31, 5691.28, 6704.24, 8751.76, 11554.09, 14584.54, 18246.94, 22121.02, 26435.15, 335.69, 530.56, 759.97, 1154.1, 1850.79, 2942.93, 4126.95, 5531.47, 7034.12, 9351.35, 12446.59, 15989.63, 20209.32, 24657.98, 30751.18, 37667.92, 390.26, 594.98, 933.59, 1442.13, 2562.98, 3741.45, 5271.75, 6740.44, 9489.22, 12738.51, 16935.86, 22081.0, 27546.89, 35345.22, 43269.83, 54033.18, 460.74, 688.55, 1133.41, 1863.67, 3241.43, 4791.58, 6346.93, 8912.5, 12855.18, 17215.85, 23090.34, 29903.05, 38402.16, 49048.49, 61387.39, 75816.26, 525.75, 819.9, 1374.94, 2586.67, 4070.96, 5723.41, 8278.7, 12342.11, 16817.26, 23053.21, 30783.43, 40493.6, 53411.05, 67367.93, 84538.76, 104732.25, 565.61, 972.52, 1711.88, 3177.92, 4994.94, 6983.48, 10886.23, 15718.53, 22009.62, 30917.27, 41517.2, 54961.31, 71465.61, 92485.56, 115260.1, 144971.05, 631.84, 1121.81, 2327.63, 3918.0, 5614.3, 9302.47, 14183.89, 20659.71, 29523.08, 41032.66, 56624.34, 76048.98, 98870.03, 129678.84, 163358.71, 196120.56, 734.02, 1331.05, 2867.49, 4891.15, 7337.47, 12124.94, 18370.65, 27055.86, 39085.0, 55757.73, 75846.12, 105536.35, 136299.47, 175512.21, 218386.89, 255128.92, 864.52, 1692.71, 3498.05, 5496.61, 9740.44, 15530.52, 24448.18, 35698.39, 52906.1, 75538.98, 102226.12, 139622.43, 178854.1, 233009.47, 262968.17, 342647.38], \"coloraxis\": \"coloraxis\", \"symbol\": \"circle\"}, \"mode\": \"markers\", \"name\": \"\", \"scene\": \"scene\", \"showlegend\": false, \"type\": \"scatter3d\", \"x\": [0.5, 0.6, 0.7, 0.8, 0.9, 1.0, 1.1, 1.2, 1.3, 1.4, 1.5, 1.6, 1.7, 1.8, 1.9, 2.0, 0.5, 0.6, 0.7, 0.8, 0.9, 1.0, 1.1, 1.2, 1.3, 1.4, 1.5, 1.6, 1.7, 1.8, 1.9, 2.0, 0.5, 0.6, 0.7, 0.8, 0.9, 1.0, 1.1, 1.2, 1.3, 1.4, 1.5, 1.6, 1.7, 1.8, 1.9, 2.0, 0.5, 0.6, 0.7, 0.8, 0.9, 1.0, 1.1, 1.2, 1.3, 1.4, 1.5, 1.6, 1.7, 1.8, 1.9, 2.0, 0.5, 0.6, 0.7, 0.8, 0.9, 1.0, 1.1, 1.2, 1.3, 1.4, 1.5, 1.6, 1.7, 1.8, 1.9, 2.0, 0.5, 0.6, 0.7, 0.8, 0.9, 1.0, 1.1, 1.2, 1.3, 1.4, 1.5, 1.6, 1.7, 1.8, 1.9, 2.0, 0.5, 0.6, 0.7, 0.8, 0.9, 1.0, 1.1, 1.2, 1.3, 1.4, 1.5, 1.6, 1.7, 1.8, 1.9, 2.0, 0.5, 0.6, 0.7, 0.8, 0.9, 1.0, 1.1, 1.2, 1.3, 1.4, 1.5, 1.6, 1.7, 1.8, 1.9, 2.0, 0.5, 0.6, 0.7, 0.8, 0.9, 1.0, 1.1, 1.2, 1.3, 1.4, 1.5, 1.6, 1.7, 1.8, 1.9, 2.0, 0.5, 0.6, 0.7, 0.8, 0.9, 1.0, 1.1, 1.2, 1.3, 1.4, 1.5, 1.6, 1.7, 1.8, 1.9, 2.0, 0.5, 0.6, 0.7, 0.8, 0.9, 1.0, 1.1, 1.2, 1.3, 1.4, 1.5, 1.6, 1.7, 1.8, 1.9, 2.0, 0.5, 0.6, 0.7, 0.8, 0.9, 1.0, 1.1, 1.2, 1.3, 1.4, 1.5, 1.6, 1.7, 1.8, 1.9, 2.0, 0.5, 0.6, 0.7, 0.8, 0.9, 1.0, 1.1, 1.2, 1.3, 1.4, 1.5, 1.6, 1.7, 1.8, 1.9, 2.0, 0.5, 0.6, 0.7, 0.8, 0.9, 1.0, 1.1, 1.2, 1.3, 1.4, 1.5, 1.6, 1.7, 1.8, 1.9, 2.0, 0.5, 0.6, 0.7, 0.8, 0.9, 1.0, 1.1, 1.2, 1.3, 1.4, 1.5, 1.6, 1.7, 1.8, 1.9, 2.0, 0.5, 0.6, 0.7, 0.8, 0.9, 1.0, 1.1, 1.2, 1.3, 1.4, 1.5, 1.6, 1.7, 1.8, 1.9, 2.0, 0.5, 0.6, 0.7, 0.8, 0.9, 1.0, 1.1, 1.2, 1.3, 1.4, 1.5, 1.6, 1.7, 1.8, 1.9, 2.0, 0.5, 0.6, 0.7, 0.8, 0.9, 1.0, 1.1, 1.2, 1.3, 1.4, 1.5, 1.6, 1.7, 1.8, 1.9, 2.0, 0.5, 0.6, 0.7, 0.8, 0.9, 1.0, 1.1, 1.2, 1.3, 1.4, 1.5, 1.6, 1.7, 1.8, 1.9, 2.0], \"y\": [0.0, 0.0, 0.0, 0.0, 0.0, 0.0, 0.0, 0.0, 0.0, 0.0, 0.0, 0.0, 0.0, 0.0, 0.0, 0.0, 0.05, 0.05, 0.05, 0.05, 0.05, 0.05, 0.05, 0.05, 0.05, 0.05, 0.05, 0.05, 0.05, 0.05, 0.05, 0.05, 0.1, 0.1, 0.1, 0.1, 0.1, 0.1, 0.1, 0.1, 0.1, 0.1, 0.1, 0.1, 0.1, 0.1, 0.1, 0.1, 0.15, 0.15, 0.15, 0.15, 0.15, 0.15, 0.15, 0.15, 0.15, 0.15, 0.15, 0.15, 0.15, 0.15, 0.15, 0.15, 0.2, 0.2, 0.2, 0.2, 0.2, 0.2, 0.2, 0.2, 0.2, 0.2, 0.2, 0.2, 0.2, 0.2, 0.2, 0.2, 0.25, 0.25, 0.25, 0.25, 0.25, 0.25, 0.25, 0.25, 0.25, 0.25, 0.25, 0.25, 0.25, 0.25, 0.25, 0.25, 0.3, 0.3, 0.3, 0.3, 0.3, 0.3, 0.3, 0.3, 0.3, 0.3, 0.3, 0.3, 0.3, 0.3, 0.3, 0.3, 0.35, 0.35, 0.35, 0.35, 0.35, 0.35, 0.35, 0.35, 0.35, 0.35, 0.35, 0.35, 0.35, 0.35, 0.35, 0.35, 0.4, 0.4, 0.4, 0.4, 0.4, 0.4, 0.4, 0.4, 0.4, 0.4, 0.4, 0.4, 0.4, 0.4, 0.4, 0.4, 0.45, 0.45, 0.45, 0.45, 0.45, 0.45, 0.45, 0.45, 0.45, 0.45, 0.45, 0.45, 0.45, 0.45, 0.45, 0.45, 0.5, 0.5, 0.5, 0.5, 0.5, 0.5, 0.5, 0.5, 0.5, 0.5, 0.5, 0.5, 0.5, 0.5, 0.5, 0.5, 0.55, 0.55, 0.55, 0.55, 0.55, 0.55, 0.55, 0.55, 0.55, 0.55, 0.55, 0.55, 0.55, 0.55, 0.55, 0.55, 0.6, 0.6, 0.6, 0.6, 0.6, 0.6, 0.6, 0.6, 0.6, 0.6, 0.6, 0.6, 0.6, 0.6, 0.6, 0.6, 0.65, 0.65, 0.65, 0.65, 0.65, 0.65, 0.65, 0.65, 0.65, 0.65, 0.65, 0.65, 0.65, 0.65, 0.65, 0.65, 0.7, 0.7, 0.7, 0.7, 0.7, 0.7, 0.7, 0.7, 0.7, 0.7, 0.7, 0.7, 0.7, 0.7, 0.7, 0.7, 0.75, 0.75, 0.75, 0.75, 0.75, 0.75, 0.75, 0.75, 0.75, 0.75, 0.75, 0.75, 0.75, 0.75, 0.75, 0.75, 0.8, 0.8, 0.8, 0.8, 0.8, 0.8, 0.8, 0.8, 0.8, 0.8, 0.8, 0.8, 0.8, 0.8, 0.8, 0.8, 0.85, 0.85, 0.85, 0.85, 0.85, 0.85, 0.85, 0.85, 0.85, 0.85, 0.85, 0.85, 0.85, 0.85, 0.85, 0.85, 0.9, 0.9, 0.9, 0.9, 0.9, 0.9, 0.9, 0.9, 0.9, 0.9, 0.9, 0.9, 0.9, 0.9, 0.9, 0.9], \"z\": [0.0, -2.95, -3.89, -2.11, -3.39, -2.76, -1.88, -1.88, -1.89, -1.08, -0.66, -0.68, -0.8, -0.78, -0.95, -0.47, 8.21, 15.08, 22.59, 29.18, 46.33, 59.52, 70.99, 86.95, 100.88, 114.72, 131.68, 141.7, 162.82, 177.93, 203.76, 230.1, 28.15, 42.78, 51.14, 77.9, 107.66, 141.01, 170.65, 206.41, 239.84, 274.24, 310.11, 356.53, 408.53, 473.57, 541.46, 596.46, 45.07, 65.83, 98.04, 143.69, 190.69, 238.29, 291.95, 337.91, 393.29, 468.27, 566.93, 665.28, 751.03, 875.74, 1027.2, 1189.36, 65.8, 87.82, 145.76, 208.14, 281.97, 353.3, 421.35, 496.49, 625.89, 760.78, 903.78, 1073.96, 1272.8, 1497.71, 1762.45, 2162.99, 82.51, 139.07, 206.2, 291.77, 392.03, 471.13, 577.99, 756.0, 933.09, 1121.74, 1364.63, 1635.14, 2103.65, 2611.4, 3064.95, 3609.76, 114.4, 177.82, 280.89, 396.54, 494.89, 615.0, 821.18, 1001.45, 1302.74, 1574.96, 2288.87, 2963.86, 3640.38, 4370.27, 5157.9, 5572.61, 129.94, 237.67, 351.67, 471.99, 593.05, 813.2, 1069.71, 1342.21, 1916.2, 2708.34, 3457.28, 4297.91, 5167.35, 6237.45, 7318.53, 8145.27, 170.76, 299.49, 438.94, 579.91, 794.63, 1072.98, 1453.49, 2097.96, 3037.14, 3826.43, 4845.24, 5983.08, 7021.88, 8289.49, 10114.32, 12267.35, 218.99, 366.79, 522.25, 716.4, 1035.49, 1446.36, 2110.36, 3136.96, 4068.53, 5350.3, 6318.97, 7710.4, 9807.09, 12383.59, 15454.94, 18452.9, 282.68, 463.77, 624.77, 938.04, 1372.43, 2143.7, 3199.1, 4273.31, 5691.28, 6704.24, 8751.76, 11554.09, 14584.54, 18246.94, 22121.02, 26435.15, 335.69, 530.56, 759.97, 1154.1, 1850.79, 2942.93, 4126.95, 5531.47, 7034.12, 9351.35, 12446.59, 15989.63, 20209.32, 24657.98, 30751.18, 37667.92, 390.26, 594.98, 933.59, 1442.13, 2562.98, 3741.45, 5271.75, 6740.44, 9489.22, 12738.51, 16935.86, 22081.0, 27546.89, 35345.22, 43269.83, 54033.18, 460.74, 688.55, 1133.41, 1863.67, 3241.43, 4791.58, 6346.93, 8912.5, 12855.18, 17215.85, 23090.34, 29903.05, 38402.16, 49048.49, 61387.39, 75816.26, 525.75, 819.9, 1374.94, 2586.67, 4070.96, 5723.41, 8278.7, 12342.11, 16817.26, 23053.21, 30783.43, 40493.6, 53411.05, 67367.93, 84538.76, 104732.25, 565.61, 972.52, 1711.88, 3177.92, 4994.94, 6983.48, 10886.23, 15718.53, 22009.62, 30917.27, 41517.2, 54961.31, 71465.61, 92485.56, 115260.1, 144971.05, 631.84, 1121.81, 2327.63, 3918.0, 5614.3, 9302.47, 14183.89, 20659.71, 29523.08, 41032.66, 56624.34, 76048.98, 98870.03, 129678.84, 163358.71, 196120.56, 734.02, 1331.05, 2867.49, 4891.15, 7337.47, 12124.94, 18370.65, 27055.86, 39085.0, 55757.73, 75846.12, 105536.35, 136299.47, 175512.21, 218386.89, 255128.92, 864.52, 1692.71, 3498.05, 5496.61, 9740.44, 15530.52, 24448.18, 35698.39, 52906.1, 75538.98, 102226.12, 139622.43, 178854.1, 233009.47, 262968.17, 342647.38]}],                        {\"coloraxis\": {\"colorbar\": {\"title\": {\"text\": \"% Change in Size of Reachset (Area)\"}}, \"colorscale\": [[0.0, \"#0d0887\"], [0.1111111111111111, \"#46039f\"], [0.2222222222222222, \"#7201a8\"], [0.3333333333333333, \"#9c179e\"], [0.4444444444444444, \"#bd3786\"], [0.5555555555555556, \"#d8576b\"], [0.6666666666666666, \"#ed7953\"], [0.7777777777777778, \"#fb9f3a\"], [0.8888888888888888, \"#fdca26\"], [1.0, \"#f0f921\"]]}, \"height\": 1000, \"legend\": {\"tracegroupgap\": 0}, \"margin\": {\"t\": 60}, \"scene\": {\"domain\": {\"x\": [0.0, 1.0], \"y\": [0.0, 1.0]}, \"xaxis\": {\"title\": {\"text\": \"Reach Time (s)\"}}, \"yaxis\": {\"title\": {\"text\": \"Paramter Uncertainty (%)\"}}, \"zaxis\": {\"title\": {\"text\": \"% Change in Size of Reachset (Area)\"}}}, \"template\": {\"data\": {\"bar\": [{\"error_x\": {\"color\": \"#2a3f5f\"}, \"error_y\": {\"color\": \"#2a3f5f\"}, \"marker\": {\"line\": {\"color\": \"#E5ECF6\", \"width\": 0.5}}, \"type\": \"bar\"}], \"barpolar\": [{\"marker\": {\"line\": {\"color\": \"#E5ECF6\", \"width\": 0.5}}, \"type\": \"barpolar\"}], \"carpet\": [{\"aaxis\": {\"endlinecolor\": \"#2a3f5f\", \"gridcolor\": \"white\", \"linecolor\": \"white\", \"minorgridcolor\": \"white\", \"startlinecolor\": \"#2a3f5f\"}, \"baxis\": {\"endlinecolor\": \"#2a3f5f\", \"gridcolor\": \"white\", \"linecolor\": \"white\", \"minorgridcolor\": \"white\", \"startlinecolor\": \"#2a3f5f\"}, \"type\": \"carpet\"}], \"choropleth\": [{\"colorbar\": {\"outlinewidth\": 0, \"ticks\": \"\"}, \"type\": \"choropleth\"}], \"contour\": [{\"colorbar\": {\"outlinewidth\": 0, \"ticks\": \"\"}, \"colorscale\": [[0.0, \"#0d0887\"], [0.1111111111111111, \"#46039f\"], [0.2222222222222222, \"#7201a8\"], [0.3333333333333333, \"#9c179e\"], [0.4444444444444444, \"#bd3786\"], [0.5555555555555556, \"#d8576b\"], [0.6666666666666666, \"#ed7953\"], [0.7777777777777778, \"#fb9f3a\"], [0.8888888888888888, \"#fdca26\"], [1.0, \"#f0f921\"]], \"type\": \"contour\"}], \"contourcarpet\": [{\"colorbar\": {\"outlinewidth\": 0, \"ticks\": \"\"}, \"type\": \"contourcarpet\"}], \"heatmap\": [{\"colorbar\": {\"outlinewidth\": 0, \"ticks\": \"\"}, \"colorscale\": [[0.0, \"#0d0887\"], [0.1111111111111111, \"#46039f\"], [0.2222222222222222, \"#7201a8\"], [0.3333333333333333, \"#9c179e\"], [0.4444444444444444, \"#bd3786\"], [0.5555555555555556, \"#d8576b\"], [0.6666666666666666, \"#ed7953\"], [0.7777777777777778, \"#fb9f3a\"], [0.8888888888888888, \"#fdca26\"], [1.0, \"#f0f921\"]], \"type\": \"heatmap\"}], \"heatmapgl\": [{\"colorbar\": {\"outlinewidth\": 0, \"ticks\": \"\"}, \"colorscale\": [[0.0, \"#0d0887\"], [0.1111111111111111, \"#46039f\"], [0.2222222222222222, \"#7201a8\"], [0.3333333333333333, \"#9c179e\"], [0.4444444444444444, \"#bd3786\"], [0.5555555555555556, \"#d8576b\"], [0.6666666666666666, \"#ed7953\"], [0.7777777777777778, \"#fb9f3a\"], [0.8888888888888888, \"#fdca26\"], [1.0, \"#f0f921\"]], \"type\": \"heatmapgl\"}], \"histogram\": [{\"marker\": {\"colorbar\": {\"outlinewidth\": 0, \"ticks\": \"\"}}, \"type\": \"histogram\"}], \"histogram2d\": [{\"colorbar\": {\"outlinewidth\": 0, \"ticks\": \"\"}, \"colorscale\": [[0.0, \"#0d0887\"], [0.1111111111111111, \"#46039f\"], [0.2222222222222222, \"#7201a8\"], [0.3333333333333333, \"#9c179e\"], [0.4444444444444444, \"#bd3786\"], [0.5555555555555556, \"#d8576b\"], [0.6666666666666666, \"#ed7953\"], [0.7777777777777778, \"#fb9f3a\"], [0.8888888888888888, \"#fdca26\"], [1.0, \"#f0f921\"]], \"type\": \"histogram2d\"}], \"histogram2dcontour\": [{\"colorbar\": {\"outlinewidth\": 0, \"ticks\": \"\"}, \"colorscale\": [[0.0, \"#0d0887\"], [0.1111111111111111, \"#46039f\"], [0.2222222222222222, \"#7201a8\"], [0.3333333333333333, \"#9c179e\"], [0.4444444444444444, \"#bd3786\"], [0.5555555555555556, \"#d8576b\"], [0.6666666666666666, \"#ed7953\"], [0.7777777777777778, \"#fb9f3a\"], [0.8888888888888888, \"#fdca26\"], [1.0, \"#f0f921\"]], \"type\": \"histogram2dcontour\"}], \"mesh3d\": [{\"colorbar\": {\"outlinewidth\": 0, \"ticks\": \"\"}, \"type\": \"mesh3d\"}], \"parcoords\": [{\"line\": {\"colorbar\": {\"outlinewidth\": 0, \"ticks\": \"\"}}, \"type\": \"parcoords\"}], \"pie\": [{\"automargin\": true, \"type\": \"pie\"}], \"scatter\": [{\"marker\": {\"colorbar\": {\"outlinewidth\": 0, \"ticks\": \"\"}}, \"type\": \"scatter\"}], \"scatter3d\": [{\"line\": {\"colorbar\": {\"outlinewidth\": 0, \"ticks\": \"\"}}, \"marker\": {\"colorbar\": {\"outlinewidth\": 0, \"ticks\": \"\"}}, \"type\": \"scatter3d\"}], \"scattercarpet\": [{\"marker\": {\"colorbar\": {\"outlinewidth\": 0, \"ticks\": \"\"}}, \"type\": \"scattercarpet\"}], \"scattergeo\": [{\"marker\": {\"colorbar\": {\"outlinewidth\": 0, \"ticks\": \"\"}}, \"type\": \"scattergeo\"}], \"scattergl\": [{\"marker\": {\"colorbar\": {\"outlinewidth\": 0, \"ticks\": \"\"}}, \"type\": \"scattergl\"}], \"scattermapbox\": [{\"marker\": {\"colorbar\": {\"outlinewidth\": 0, \"ticks\": \"\"}}, \"type\": \"scattermapbox\"}], \"scatterpolar\": [{\"marker\": {\"colorbar\": {\"outlinewidth\": 0, \"ticks\": \"\"}}, \"type\": \"scatterpolar\"}], \"scatterpolargl\": [{\"marker\": {\"colorbar\": {\"outlinewidth\": 0, \"ticks\": \"\"}}, \"type\": \"scatterpolargl\"}], \"scatterternary\": [{\"marker\": {\"colorbar\": {\"outlinewidth\": 0, \"ticks\": \"\"}}, \"type\": \"scatterternary\"}], \"surface\": [{\"colorbar\": {\"outlinewidth\": 0, \"ticks\": \"\"}, \"colorscale\": [[0.0, \"#0d0887\"], [0.1111111111111111, \"#46039f\"], [0.2222222222222222, \"#7201a8\"], [0.3333333333333333, \"#9c179e\"], [0.4444444444444444, \"#bd3786\"], [0.5555555555555556, \"#d8576b\"], [0.6666666666666666, \"#ed7953\"], [0.7777777777777778, \"#fb9f3a\"], [0.8888888888888888, \"#fdca26\"], [1.0, \"#f0f921\"]], \"type\": \"surface\"}], \"table\": [{\"cells\": {\"fill\": {\"color\": \"#EBF0F8\"}, \"line\": {\"color\": \"white\"}}, \"header\": {\"fill\": {\"color\": \"#C8D4E3\"}, \"line\": {\"color\": \"white\"}}, \"type\": \"table\"}]}, \"layout\": {\"annotationdefaults\": {\"arrowcolor\": \"#2a3f5f\", \"arrowhead\": 0, \"arrowwidth\": 1}, \"autotypenumbers\": \"strict\", \"coloraxis\": {\"colorbar\": {\"outlinewidth\": 0, \"ticks\": \"\"}}, \"colorscale\": {\"diverging\": [[0, \"#8e0152\"], [0.1, \"#c51b7d\"], [0.2, \"#de77ae\"], [0.3, \"#f1b6da\"], [0.4, \"#fde0ef\"], [0.5, \"#f7f7f7\"], [0.6, \"#e6f5d0\"], [0.7, \"#b8e186\"], [0.8, \"#7fbc41\"], [0.9, \"#4d9221\"], [1, \"#276419\"]], \"sequential\": [[0.0, \"#0d0887\"], [0.1111111111111111, \"#46039f\"], [0.2222222222222222, \"#7201a8\"], [0.3333333333333333, \"#9c179e\"], [0.4444444444444444, \"#bd3786\"], [0.5555555555555556, \"#d8576b\"], [0.6666666666666666, \"#ed7953\"], [0.7777777777777778, \"#fb9f3a\"], [0.8888888888888888, \"#fdca26\"], [1.0, \"#f0f921\"]], \"sequentialminus\": [[0.0, \"#0d0887\"], [0.1111111111111111, \"#46039f\"], [0.2222222222222222, \"#7201a8\"], [0.3333333333333333, \"#9c179e\"], [0.4444444444444444, \"#bd3786\"], [0.5555555555555556, \"#d8576b\"], [0.6666666666666666, \"#ed7953\"], [0.7777777777777778, \"#fb9f3a\"], [0.8888888888888888, \"#fdca26\"], [1.0, \"#f0f921\"]]}, \"colorway\": [\"#636efa\", \"#EF553B\", \"#00cc96\", \"#ab63fa\", \"#FFA15A\", \"#19d3f3\", \"#FF6692\", \"#B6E880\", \"#FF97FF\", \"#FECB52\"], \"font\": {\"color\": \"#2a3f5f\"}, \"geo\": {\"bgcolor\": \"white\", \"lakecolor\": \"white\", \"landcolor\": \"#E5ECF6\", \"showlakes\": true, \"showland\": true, \"subunitcolor\": \"white\"}, \"hoverlabel\": {\"align\": \"left\"}, \"hovermode\": \"closest\", \"mapbox\": {\"style\": \"light\"}, \"paper_bgcolor\": \"white\", \"plot_bgcolor\": \"#E5ECF6\", \"polar\": {\"angularaxis\": {\"gridcolor\": \"white\", \"linecolor\": \"white\", \"ticks\": \"\"}, \"bgcolor\": \"#E5ECF6\", \"radialaxis\": {\"gridcolor\": \"white\", \"linecolor\": \"white\", \"ticks\": \"\"}}, \"scene\": {\"xaxis\": {\"backgroundcolor\": \"#E5ECF6\", \"gridcolor\": \"white\", \"gridwidth\": 2, \"linecolor\": \"white\", \"showbackground\": true, \"ticks\": \"\", \"zerolinecolor\": \"white\"}, \"yaxis\": {\"backgroundcolor\": \"#E5ECF6\", \"gridcolor\": \"white\", \"gridwidth\": 2, \"linecolor\": \"white\", \"showbackground\": true, \"ticks\": \"\", \"zerolinecolor\": \"white\"}, \"zaxis\": {\"backgroundcolor\": \"#E5ECF6\", \"gridcolor\": \"white\", \"gridwidth\": 2, \"linecolor\": \"white\", \"showbackground\": true, \"ticks\": \"\", \"zerolinecolor\": \"white\"}}, \"shapedefaults\": {\"line\": {\"color\": \"#2a3f5f\"}}, \"ternary\": {\"aaxis\": {\"gridcolor\": \"white\", \"linecolor\": \"white\", \"ticks\": \"\"}, \"baxis\": {\"gridcolor\": \"white\", \"linecolor\": \"white\", \"ticks\": \"\"}, \"bgcolor\": \"#E5ECF6\", \"caxis\": {\"gridcolor\": \"white\", \"linecolor\": \"white\", \"ticks\": \"\"}}, \"title\": {\"x\": 0.05}, \"xaxis\": {\"automargin\": true, \"gridcolor\": \"white\", \"linecolor\": \"white\", \"ticks\": \"\", \"title\": {\"standoff\": 15}, \"zerolinecolor\": \"white\", \"zerolinewidth\": 2}, \"yaxis\": {\"automargin\": true, \"gridcolor\": \"white\", \"linecolor\": \"white\", \"ticks\": \"\", \"title\": {\"standoff\": 15}, \"zerolinecolor\": \"white\", \"zerolinewidth\": 2}}}, \"width\": 1500},                        {\"responsive\": true}                    ).then(function(){\n",
       "                            \n",
       "var gd = document.getElementById('3f3bdb0a-6d10-4edf-8dd0-0571aa17715c');\n",
       "var x = new MutationObserver(function (mutations, observer) {{\n",
       "        var display = window.getComputedStyle(gd).display;\n",
       "        if (!display || display === 'none') {{\n",
       "            console.log([gd, 'removed!']);\n",
       "            Plotly.purge(gd);\n",
       "            observer.disconnect();\n",
       "        }}\n",
       "}});\n",
       "\n",
       "// Listen for the removal of the full notebook cells\n",
       "var notebookContainer = gd.closest('#notebook-container');\n",
       "if (notebookContainer) {{\n",
       "    x.observe(notebookContainer, {childList: true});\n",
       "}}\n",
       "\n",
       "// Listen for the clearing of the current output cell\n",
       "var outputEl = gd.closest('.output');\n",
       "if (outputEl) {{\n",
       "    x.observe(outputEl, {childList: true});\n",
       "}}\n",
       "\n",
       "                        })                };                });            </script>        </div>"
      ]
     },
     "metadata": {},
     "output_type": "display_data"
    }
   ],
   "source": [
    "labs = {\"percent_change_in_size_of_reachset\":\"% Change in Size of Reachset (Area)\",\n",
    "       \"reach_time\":\"Reach Time (s)\",\"parameter_uncertainty\":\"Paramter Uncertainty (%)\"}\n",
    "\n",
    "fig = px.scatter_3d(ru_plot, x=\"reach_time\", y=\"parameter_uncertainty\", \n",
    "                    z=\"percent_change_in_size_of_reachset\",\n",
    "                    color='percent_change_in_size_of_reachset',\n",
    "                   labels=labs,width=1500, height=1000)\n",
    "fig.show()"
   ]
  },
  {
   "cell_type": "code",
   "execution_count": 82,
   "id": "88f2fc36",
   "metadata": {},
   "outputs": [
    {
     "data": {
      "application/vnd.plotly.v1+json": {
       "config": {
        "plotlyServerURL": "https://plot.ly"
       },
       "data": [
        {
         "hovertemplate": "Reach Time (s)=%{x}<br>Paramter Uncertainty (%)=%{y}<br>ML Controller Use (%)=%{marker.color}<extra></extra>",
         "legendgroup": "",
         "marker": {
          "color": [
           0.92,
           0.87,
           0.9,
           0.87,
           0.75,
           0.93,
           0.84,
           0.92,
           0.9,
           0.9,
           0.87,
           0.87,
           0.85,
           0.83,
           0.84,
           0.84,
           0.76,
           0.85,
           0.81,
           0.14,
           0.79,
           0.91,
           0.91,
           0.88,
           0.87,
           0.84,
           0.82,
           0.8,
           0.78,
           0.78,
           0.76,
           0.74,
           0.87,
           0.84,
           0.14,
           0.64,
           0.82,
           0.88,
           0.87,
           0.83,
           0.79,
           0.75,
           0.71,
           0.69,
           0.66,
           0.66,
           0.63,
           0.65,
           0.84,
           0.68,
           0.26,
           0.87,
           0.86,
           0.85,
           0.79,
           0.74,
           0.7,
           0.65,
           0.6,
           0.6,
           0.61,
           0.58,
           0.51,
           0.52,
           0.84,
           0.46,
           0.81,
           0.83,
           0.85,
           0.79,
           0.71,
           0.67,
           0.61,
           0.56,
           0.56,
           0.55,
           0.49,
           0.45,
           0.45,
           0.31,
           0.75,
           0.82,
           0.82,
           0.84,
           0.79,
           0.68,
           0.64,
           0.54,
           0.54,
           0.52,
           0.47,
           0.44,
           0.38,
           0.29,
           0.28,
           0.28,
           0.71,
           0.69,
           0.8,
           0.76,
           0.65,
           0.62,
           0.52,
           0.51,
           0.47,
           0.44,
           0.33,
           0.28,
           0.27,
           0.28,
           0.28,
           0.24,
           0.5,
           0.78,
           0.78,
           0.63,
           0.63,
           0.5,
           0.51,
           0.47,
           0.37,
           0.28,
           0.28,
           0.26,
           0.27,
           0.26,
           0.25,
           0.23,
           0.65,
           0.78,
           0.67,
           0.62,
           0.5,
           0.48,
           0.41,
           0.35,
           0.27,
           0.27,
           0.26,
           0.24,
           0.24,
           0.25,
           0.25,
           0.28,
           0.79,
           0.81,
           0.65,
           0.55,
           0.46,
           0.43,
           0.31,
           0.27,
           0.26,
           0.25,
           0.22,
           0.23,
           0.25,
           0.27,
           0.28,
           0.28,
           0.77,
           0.67,
           0.59,
           0.48,
           0.45,
           0.29,
           0.26,
           0.25,
           0.24,
           0.22,
           0.23,
           0.27,
           0.26,
           0.26,
           0.26,
           0.22,
           0.76,
           0.66,
           0.5,
           0.44,
           0.28,
           0.26,
           0.26,
           0.23,
           0.21,
           0.22,
           0.27,
           0.26,
           0.23,
           0.23,
           0.21,
           0.21,
           0.76,
           0.64,
           0.45,
           0.41,
           0.27,
           0.25,
           0.23,
           0.24,
           0.22,
           0.27,
           0.25,
           0.22,
           0.21,
           0.2,
           0.2,
           0.2,
           0.67,
           0.54,
           0.43,
           0.26,
           0.26,
           0.23,
           0.21,
           0.28,
           0.27,
           0.26,
           0.22,
           0.2,
           0.21,
           0.19,
           0.19,
           0.2,
           0.68,
           0.5,
           0.42,
           0.25,
           0.24,
           0.2,
           0.27,
           0.27,
           0.25,
           0.21,
           0.2,
           0.2,
           0.19,
           0.21,
           0.2,
           0.2,
           0.61,
           0.44,
           0.29,
           0.25,
           0.23,
           0.23,
           0.27,
           0.26,
           0.21,
           0.19,
           0.2,
           0.21,
           0.21,
           0.21,
           0.19,
           0.19,
           0.58,
           0.44,
           0.26,
           0.25,
           0.22,
           0.26,
           0.27,
           0.22,
           0.2,
           0.2,
           0.2,
           0.2,
           0.2,
           0.2,
           0.18,
           0.15,
           0.49,
           0.39,
           0.24,
           0.23,
           0.21,
           0.26,
           0.24,
           0.2,
           0.21,
           0.2,
           0.2,
           0.2,
           0.19,
           0.17,
           0.17,
           0.16,
           0.48,
           0.27,
           0.24,
           0.21,
           0.27,
           0.26,
           0.19,
           0.19,
           0.2,
           0.19,
           0.21,
           0.18,
           0.17,
           0.17,
           0.15,
           0.16
          ],
          "coloraxis": "coloraxis",
          "symbol": "circle"
         },
         "mode": "markers",
         "name": "",
         "scene": "scene",
         "showlegend": false,
         "type": "scatter3d",
         "x": [
          0.5,
          0.6,
          0.7,
          0.8,
          0.9,
          1,
          1.1,
          1.2,
          1.3,
          1.4,
          1.5,
          1.6,
          1.7,
          1.8,
          1.9,
          2,
          0.5,
          0.6,
          0.7,
          0.8,
          0.9,
          1,
          1.1,
          1.2,
          1.3,
          1.4,
          1.5,
          1.6,
          1.7,
          1.8,
          1.9,
          2,
          0.5,
          0.6,
          0.7,
          0.8,
          0.9,
          1,
          1.1,
          1.2,
          1.3,
          1.4,
          1.5,
          1.6,
          1.7,
          1.8,
          1.9,
          2,
          0.5,
          0.6,
          0.7,
          0.8,
          0.9,
          1,
          1.1,
          1.2,
          1.3,
          1.4,
          1.5,
          1.6,
          1.7,
          1.8,
          1.9,
          2,
          0.5,
          0.6,
          0.7,
          0.8,
          0.9,
          1,
          1.1,
          1.2,
          1.3,
          1.4,
          1.5,
          1.6,
          1.7,
          1.8,
          1.9,
          2,
          0.5,
          0.6,
          0.7,
          0.8,
          0.9,
          1,
          1.1,
          1.2,
          1.3,
          1.4,
          1.5,
          1.6,
          1.7,
          1.8,
          1.9,
          2,
          0.5,
          0.6,
          0.7,
          0.8,
          0.9,
          1,
          1.1,
          1.2,
          1.3,
          1.4,
          1.5,
          1.6,
          1.7,
          1.8,
          1.9,
          2,
          0.5,
          0.6,
          0.7,
          0.8,
          0.9,
          1,
          1.1,
          1.2,
          1.3,
          1.4,
          1.5,
          1.6,
          1.7,
          1.8,
          1.9,
          2,
          0.5,
          0.6,
          0.7,
          0.8,
          0.9,
          1,
          1.1,
          1.2,
          1.3,
          1.4,
          1.5,
          1.6,
          1.7,
          1.8,
          1.9,
          2,
          0.5,
          0.6,
          0.7,
          0.8,
          0.9,
          1,
          1.1,
          1.2,
          1.3,
          1.4,
          1.5,
          1.6,
          1.7,
          1.8,
          1.9,
          2,
          0.5,
          0.6,
          0.7,
          0.8,
          0.9,
          1,
          1.1,
          1.2,
          1.3,
          1.4,
          1.5,
          1.6,
          1.7,
          1.8,
          1.9,
          2,
          0.5,
          0.6,
          0.7,
          0.8,
          0.9,
          1,
          1.1,
          1.2,
          1.3,
          1.4,
          1.5,
          1.6,
          1.7,
          1.8,
          1.9,
          2,
          0.5,
          0.6,
          0.7,
          0.8,
          0.9,
          1,
          1.1,
          1.2,
          1.3,
          1.4,
          1.5,
          1.6,
          1.7,
          1.8,
          1.9,
          2,
          0.5,
          0.6,
          0.7,
          0.8,
          0.9,
          1,
          1.1,
          1.2,
          1.3,
          1.4,
          1.5,
          1.6,
          1.7,
          1.8,
          1.9,
          2,
          0.5,
          0.6,
          0.7,
          0.8,
          0.9,
          1,
          1.1,
          1.2,
          1.3,
          1.4,
          1.5,
          1.6,
          1.7,
          1.8,
          1.9,
          2,
          0.5,
          0.6,
          0.7,
          0.8,
          0.9,
          1,
          1.1,
          1.2,
          1.3,
          1.4,
          1.5,
          1.6,
          1.7,
          1.8,
          1.9,
          2,
          0.5,
          0.6,
          0.7,
          0.8,
          0.9,
          1,
          1.1,
          1.2,
          1.3,
          1.4,
          1.5,
          1.6,
          1.7,
          1.8,
          1.9,
          2,
          0.5,
          0.6,
          0.7,
          0.8,
          0.9,
          1,
          1.1,
          1.2,
          1.3,
          1.4,
          1.5,
          1.6,
          1.7,
          1.8,
          1.9,
          2,
          0.5,
          0.6,
          0.7,
          0.8,
          0.9,
          1,
          1.1,
          1.2,
          1.3,
          1.4,
          1.5,
          1.6,
          1.7,
          1.8,
          1.9,
          2
         ],
         "y": [
          0,
          0,
          0,
          0,
          0,
          0,
          0,
          0,
          0,
          0,
          0,
          0,
          0,
          0,
          0,
          0,
          0.05,
          0.05,
          0.05,
          0.05,
          0.05,
          0.05,
          0.05,
          0.05,
          0.05,
          0.05,
          0.05,
          0.05,
          0.05,
          0.05,
          0.05,
          0.05,
          0.1,
          0.1,
          0.1,
          0.1,
          0.1,
          0.1,
          0.1,
          0.1,
          0.1,
          0.1,
          0.1,
          0.1,
          0.1,
          0.1,
          0.1,
          0.1,
          0.15,
          0.15,
          0.15,
          0.15,
          0.15,
          0.15,
          0.15,
          0.15,
          0.15,
          0.15,
          0.15,
          0.15,
          0.15,
          0.15,
          0.15,
          0.15,
          0.2,
          0.2,
          0.2,
          0.2,
          0.2,
          0.2,
          0.2,
          0.2,
          0.2,
          0.2,
          0.2,
          0.2,
          0.2,
          0.2,
          0.2,
          0.2,
          0.25,
          0.25,
          0.25,
          0.25,
          0.25,
          0.25,
          0.25,
          0.25,
          0.25,
          0.25,
          0.25,
          0.25,
          0.25,
          0.25,
          0.25,
          0.25,
          0.3,
          0.3,
          0.3,
          0.3,
          0.3,
          0.3,
          0.3,
          0.3,
          0.3,
          0.3,
          0.3,
          0.3,
          0.3,
          0.3,
          0.3,
          0.3,
          0.35,
          0.35,
          0.35,
          0.35,
          0.35,
          0.35,
          0.35,
          0.35,
          0.35,
          0.35,
          0.35,
          0.35,
          0.35,
          0.35,
          0.35,
          0.35,
          0.4,
          0.4,
          0.4,
          0.4,
          0.4,
          0.4,
          0.4,
          0.4,
          0.4,
          0.4,
          0.4,
          0.4,
          0.4,
          0.4,
          0.4,
          0.4,
          0.45,
          0.45,
          0.45,
          0.45,
          0.45,
          0.45,
          0.45,
          0.45,
          0.45,
          0.45,
          0.45,
          0.45,
          0.45,
          0.45,
          0.45,
          0.45,
          0.5,
          0.5,
          0.5,
          0.5,
          0.5,
          0.5,
          0.5,
          0.5,
          0.5,
          0.5,
          0.5,
          0.5,
          0.5,
          0.5,
          0.5,
          0.5,
          0.55,
          0.55,
          0.55,
          0.55,
          0.55,
          0.55,
          0.55,
          0.55,
          0.55,
          0.55,
          0.55,
          0.55,
          0.55,
          0.55,
          0.55,
          0.55,
          0.6,
          0.6,
          0.6,
          0.6,
          0.6,
          0.6,
          0.6,
          0.6,
          0.6,
          0.6,
          0.6,
          0.6,
          0.6,
          0.6,
          0.6,
          0.6,
          0.65,
          0.65,
          0.65,
          0.65,
          0.65,
          0.65,
          0.65,
          0.65,
          0.65,
          0.65,
          0.65,
          0.65,
          0.65,
          0.65,
          0.65,
          0.65,
          0.7,
          0.7,
          0.7,
          0.7,
          0.7,
          0.7,
          0.7,
          0.7,
          0.7,
          0.7,
          0.7,
          0.7,
          0.7,
          0.7,
          0.7,
          0.7,
          0.75,
          0.75,
          0.75,
          0.75,
          0.75,
          0.75,
          0.75,
          0.75,
          0.75,
          0.75,
          0.75,
          0.75,
          0.75,
          0.75,
          0.75,
          0.75,
          0.8,
          0.8,
          0.8,
          0.8,
          0.8,
          0.8,
          0.8,
          0.8,
          0.8,
          0.8,
          0.8,
          0.8,
          0.8,
          0.8,
          0.8,
          0.8,
          0.85,
          0.85,
          0.85,
          0.85,
          0.85,
          0.85,
          0.85,
          0.85,
          0.85,
          0.85,
          0.85,
          0.85,
          0.85,
          0.85,
          0.85,
          0.85,
          0.9,
          0.9,
          0.9,
          0.9,
          0.9,
          0.9,
          0.9,
          0.9,
          0.9,
          0.9,
          0.9,
          0.9,
          0.9,
          0.9,
          0.9,
          0.9
         ],
         "z": [
          0.92,
          0.87,
          0.9,
          0.87,
          0.75,
          0.93,
          0.84,
          0.92,
          0.9,
          0.9,
          0.87,
          0.87,
          0.85,
          0.83,
          0.84,
          0.84,
          0.76,
          0.85,
          0.81,
          0.14,
          0.79,
          0.91,
          0.91,
          0.88,
          0.87,
          0.84,
          0.82,
          0.8,
          0.78,
          0.78,
          0.76,
          0.74,
          0.87,
          0.84,
          0.14,
          0.64,
          0.82,
          0.88,
          0.87,
          0.83,
          0.79,
          0.75,
          0.71,
          0.69,
          0.66,
          0.66,
          0.63,
          0.65,
          0.84,
          0.68,
          0.26,
          0.87,
          0.86,
          0.85,
          0.79,
          0.74,
          0.7,
          0.65,
          0.6,
          0.6,
          0.61,
          0.58,
          0.51,
          0.52,
          0.84,
          0.46,
          0.81,
          0.83,
          0.85,
          0.79,
          0.71,
          0.67,
          0.61,
          0.56,
          0.56,
          0.55,
          0.49,
          0.45,
          0.45,
          0.31,
          0.75,
          0.82,
          0.82,
          0.84,
          0.79,
          0.68,
          0.64,
          0.54,
          0.54,
          0.52,
          0.47,
          0.44,
          0.38,
          0.29,
          0.28,
          0.28,
          0.71,
          0.69,
          0.8,
          0.76,
          0.65,
          0.62,
          0.52,
          0.51,
          0.47,
          0.44,
          0.33,
          0.28,
          0.27,
          0.28,
          0.28,
          0.24,
          0.5,
          0.78,
          0.78,
          0.63,
          0.63,
          0.5,
          0.51,
          0.47,
          0.37,
          0.28,
          0.28,
          0.26,
          0.27,
          0.26,
          0.25,
          0.23,
          0.65,
          0.78,
          0.67,
          0.62,
          0.5,
          0.48,
          0.41,
          0.35,
          0.27,
          0.27,
          0.26,
          0.24,
          0.24,
          0.25,
          0.25,
          0.28,
          0.79,
          0.81,
          0.65,
          0.55,
          0.46,
          0.43,
          0.31,
          0.27,
          0.26,
          0.25,
          0.22,
          0.23,
          0.25,
          0.27,
          0.28,
          0.28,
          0.77,
          0.67,
          0.59,
          0.48,
          0.45,
          0.29,
          0.26,
          0.25,
          0.24,
          0.22,
          0.23,
          0.27,
          0.26,
          0.26,
          0.26,
          0.22,
          0.76,
          0.66,
          0.5,
          0.44,
          0.28,
          0.26,
          0.26,
          0.23,
          0.21,
          0.22,
          0.27,
          0.26,
          0.23,
          0.23,
          0.21,
          0.21,
          0.76,
          0.64,
          0.45,
          0.41,
          0.27,
          0.25,
          0.23,
          0.24,
          0.22,
          0.27,
          0.25,
          0.22,
          0.21,
          0.2,
          0.2,
          0.2,
          0.67,
          0.54,
          0.43,
          0.26,
          0.26,
          0.23,
          0.21,
          0.28,
          0.27,
          0.26,
          0.22,
          0.2,
          0.21,
          0.19,
          0.19,
          0.2,
          0.68,
          0.5,
          0.42,
          0.25,
          0.24,
          0.2,
          0.27,
          0.27,
          0.25,
          0.21,
          0.2,
          0.2,
          0.19,
          0.21,
          0.2,
          0.2,
          0.61,
          0.44,
          0.29,
          0.25,
          0.23,
          0.23,
          0.27,
          0.26,
          0.21,
          0.19,
          0.2,
          0.21,
          0.21,
          0.21,
          0.19,
          0.19,
          0.58,
          0.44,
          0.26,
          0.25,
          0.22,
          0.26,
          0.27,
          0.22,
          0.2,
          0.2,
          0.2,
          0.2,
          0.2,
          0.2,
          0.18,
          0.15,
          0.49,
          0.39,
          0.24,
          0.23,
          0.21,
          0.26,
          0.24,
          0.2,
          0.21,
          0.2,
          0.2,
          0.2,
          0.19,
          0.17,
          0.17,
          0.16,
          0.48,
          0.27,
          0.24,
          0.21,
          0.27,
          0.26,
          0.19,
          0.19,
          0.2,
          0.19,
          0.21,
          0.18,
          0.17,
          0.17,
          0.15,
          0.16
         ]
        }
       ],
       "layout": {
        "coloraxis": {
         "colorbar": {
          "title": {
           "text": "ML Controller Use (%)"
          }
         },
         "colorscale": [
          [
           0,
           "#0d0887"
          ],
          [
           0.1111111111111111,
           "#46039f"
          ],
          [
           0.2222222222222222,
           "#7201a8"
          ],
          [
           0.3333333333333333,
           "#9c179e"
          ],
          [
           0.4444444444444444,
           "#bd3786"
          ],
          [
           0.5555555555555556,
           "#d8576b"
          ],
          [
           0.6666666666666666,
           "#ed7953"
          ],
          [
           0.7777777777777778,
           "#fb9f3a"
          ],
          [
           0.8888888888888888,
           "#fdca26"
          ],
          [
           1,
           "#f0f921"
          ]
         ]
        },
        "height": 1000,
        "legend": {
         "tracegroupgap": 0
        },
        "margin": {
         "t": 60
        },
        "scene": {
         "domain": {
          "x": [
           0,
           1
          ],
          "y": [
           0,
           1
          ]
         },
         "xaxis": {
          "title": {
           "text": "Reach Time (s)"
          }
         },
         "yaxis": {
          "title": {
           "text": "Paramter Uncertainty (%)"
          }
         },
         "zaxis": {
          "title": {
           "text": "ML Controller Use (%)"
          }
         }
        },
        "template": {
         "data": {
          "bar": [
           {
            "error_x": {
             "color": "#2a3f5f"
            },
            "error_y": {
             "color": "#2a3f5f"
            },
            "marker": {
             "line": {
              "color": "#E5ECF6",
              "width": 0.5
             }
            },
            "type": "bar"
           }
          ],
          "barpolar": [
           {
            "marker": {
             "line": {
              "color": "#E5ECF6",
              "width": 0.5
             }
            },
            "type": "barpolar"
           }
          ],
          "carpet": [
           {
            "aaxis": {
             "endlinecolor": "#2a3f5f",
             "gridcolor": "white",
             "linecolor": "white",
             "minorgridcolor": "white",
             "startlinecolor": "#2a3f5f"
            },
            "baxis": {
             "endlinecolor": "#2a3f5f",
             "gridcolor": "white",
             "linecolor": "white",
             "minorgridcolor": "white",
             "startlinecolor": "#2a3f5f"
            },
            "type": "carpet"
           }
          ],
          "choropleth": [
           {
            "colorbar": {
             "outlinewidth": 0,
             "ticks": ""
            },
            "type": "choropleth"
           }
          ],
          "contour": [
           {
            "colorbar": {
             "outlinewidth": 0,
             "ticks": ""
            },
            "colorscale": [
             [
              0,
              "#0d0887"
             ],
             [
              0.1111111111111111,
              "#46039f"
             ],
             [
              0.2222222222222222,
              "#7201a8"
             ],
             [
              0.3333333333333333,
              "#9c179e"
             ],
             [
              0.4444444444444444,
              "#bd3786"
             ],
             [
              0.5555555555555556,
              "#d8576b"
             ],
             [
              0.6666666666666666,
              "#ed7953"
             ],
             [
              0.7777777777777778,
              "#fb9f3a"
             ],
             [
              0.8888888888888888,
              "#fdca26"
             ],
             [
              1,
              "#f0f921"
             ]
            ],
            "type": "contour"
           }
          ],
          "contourcarpet": [
           {
            "colorbar": {
             "outlinewidth": 0,
             "ticks": ""
            },
            "type": "contourcarpet"
           }
          ],
          "heatmap": [
           {
            "colorbar": {
             "outlinewidth": 0,
             "ticks": ""
            },
            "colorscale": [
             [
              0,
              "#0d0887"
             ],
             [
              0.1111111111111111,
              "#46039f"
             ],
             [
              0.2222222222222222,
              "#7201a8"
             ],
             [
              0.3333333333333333,
              "#9c179e"
             ],
             [
              0.4444444444444444,
              "#bd3786"
             ],
             [
              0.5555555555555556,
              "#d8576b"
             ],
             [
              0.6666666666666666,
              "#ed7953"
             ],
             [
              0.7777777777777778,
              "#fb9f3a"
             ],
             [
              0.8888888888888888,
              "#fdca26"
             ],
             [
              1,
              "#f0f921"
             ]
            ],
            "type": "heatmap"
           }
          ],
          "heatmapgl": [
           {
            "colorbar": {
             "outlinewidth": 0,
             "ticks": ""
            },
            "colorscale": [
             [
              0,
              "#0d0887"
             ],
             [
              0.1111111111111111,
              "#46039f"
             ],
             [
              0.2222222222222222,
              "#7201a8"
             ],
             [
              0.3333333333333333,
              "#9c179e"
             ],
             [
              0.4444444444444444,
              "#bd3786"
             ],
             [
              0.5555555555555556,
              "#d8576b"
             ],
             [
              0.6666666666666666,
              "#ed7953"
             ],
             [
              0.7777777777777778,
              "#fb9f3a"
             ],
             [
              0.8888888888888888,
              "#fdca26"
             ],
             [
              1,
              "#f0f921"
             ]
            ],
            "type": "heatmapgl"
           }
          ],
          "histogram": [
           {
            "marker": {
             "colorbar": {
              "outlinewidth": 0,
              "ticks": ""
             }
            },
            "type": "histogram"
           }
          ],
          "histogram2d": [
           {
            "colorbar": {
             "outlinewidth": 0,
             "ticks": ""
            },
            "colorscale": [
             [
              0,
              "#0d0887"
             ],
             [
              0.1111111111111111,
              "#46039f"
             ],
             [
              0.2222222222222222,
              "#7201a8"
             ],
             [
              0.3333333333333333,
              "#9c179e"
             ],
             [
              0.4444444444444444,
              "#bd3786"
             ],
             [
              0.5555555555555556,
              "#d8576b"
             ],
             [
              0.6666666666666666,
              "#ed7953"
             ],
             [
              0.7777777777777778,
              "#fb9f3a"
             ],
             [
              0.8888888888888888,
              "#fdca26"
             ],
             [
              1,
              "#f0f921"
             ]
            ],
            "type": "histogram2d"
           }
          ],
          "histogram2dcontour": [
           {
            "colorbar": {
             "outlinewidth": 0,
             "ticks": ""
            },
            "colorscale": [
             [
              0,
              "#0d0887"
             ],
             [
              0.1111111111111111,
              "#46039f"
             ],
             [
              0.2222222222222222,
              "#7201a8"
             ],
             [
              0.3333333333333333,
              "#9c179e"
             ],
             [
              0.4444444444444444,
              "#bd3786"
             ],
             [
              0.5555555555555556,
              "#d8576b"
             ],
             [
              0.6666666666666666,
              "#ed7953"
             ],
             [
              0.7777777777777778,
              "#fb9f3a"
             ],
             [
              0.8888888888888888,
              "#fdca26"
             ],
             [
              1,
              "#f0f921"
             ]
            ],
            "type": "histogram2dcontour"
           }
          ],
          "mesh3d": [
           {
            "colorbar": {
             "outlinewidth": 0,
             "ticks": ""
            },
            "type": "mesh3d"
           }
          ],
          "parcoords": [
           {
            "line": {
             "colorbar": {
              "outlinewidth": 0,
              "ticks": ""
             }
            },
            "type": "parcoords"
           }
          ],
          "pie": [
           {
            "automargin": true,
            "type": "pie"
           }
          ],
          "scatter": [
           {
            "marker": {
             "colorbar": {
              "outlinewidth": 0,
              "ticks": ""
             }
            },
            "type": "scatter"
           }
          ],
          "scatter3d": [
           {
            "line": {
             "colorbar": {
              "outlinewidth": 0,
              "ticks": ""
             }
            },
            "marker": {
             "colorbar": {
              "outlinewidth": 0,
              "ticks": ""
             }
            },
            "type": "scatter3d"
           }
          ],
          "scattercarpet": [
           {
            "marker": {
             "colorbar": {
              "outlinewidth": 0,
              "ticks": ""
             }
            },
            "type": "scattercarpet"
           }
          ],
          "scattergeo": [
           {
            "marker": {
             "colorbar": {
              "outlinewidth": 0,
              "ticks": ""
             }
            },
            "type": "scattergeo"
           }
          ],
          "scattergl": [
           {
            "marker": {
             "colorbar": {
              "outlinewidth": 0,
              "ticks": ""
             }
            },
            "type": "scattergl"
           }
          ],
          "scattermapbox": [
           {
            "marker": {
             "colorbar": {
              "outlinewidth": 0,
              "ticks": ""
             }
            },
            "type": "scattermapbox"
           }
          ],
          "scatterpolar": [
           {
            "marker": {
             "colorbar": {
              "outlinewidth": 0,
              "ticks": ""
             }
            },
            "type": "scatterpolar"
           }
          ],
          "scatterpolargl": [
           {
            "marker": {
             "colorbar": {
              "outlinewidth": 0,
              "ticks": ""
             }
            },
            "type": "scatterpolargl"
           }
          ],
          "scatterternary": [
           {
            "marker": {
             "colorbar": {
              "outlinewidth": 0,
              "ticks": ""
             }
            },
            "type": "scatterternary"
           }
          ],
          "surface": [
           {
            "colorbar": {
             "outlinewidth": 0,
             "ticks": ""
            },
            "colorscale": [
             [
              0,
              "#0d0887"
             ],
             [
              0.1111111111111111,
              "#46039f"
             ],
             [
              0.2222222222222222,
              "#7201a8"
             ],
             [
              0.3333333333333333,
              "#9c179e"
             ],
             [
              0.4444444444444444,
              "#bd3786"
             ],
             [
              0.5555555555555556,
              "#d8576b"
             ],
             [
              0.6666666666666666,
              "#ed7953"
             ],
             [
              0.7777777777777778,
              "#fb9f3a"
             ],
             [
              0.8888888888888888,
              "#fdca26"
             ],
             [
              1,
              "#f0f921"
             ]
            ],
            "type": "surface"
           }
          ],
          "table": [
           {
            "cells": {
             "fill": {
              "color": "#EBF0F8"
             },
             "line": {
              "color": "white"
             }
            },
            "header": {
             "fill": {
              "color": "#C8D4E3"
             },
             "line": {
              "color": "white"
             }
            },
            "type": "table"
           }
          ]
         },
         "layout": {
          "annotationdefaults": {
           "arrowcolor": "#2a3f5f",
           "arrowhead": 0,
           "arrowwidth": 1
          },
          "autotypenumbers": "strict",
          "coloraxis": {
           "colorbar": {
            "outlinewidth": 0,
            "ticks": ""
           }
          },
          "colorscale": {
           "diverging": [
            [
             0,
             "#8e0152"
            ],
            [
             0.1,
             "#c51b7d"
            ],
            [
             0.2,
             "#de77ae"
            ],
            [
             0.3,
             "#f1b6da"
            ],
            [
             0.4,
             "#fde0ef"
            ],
            [
             0.5,
             "#f7f7f7"
            ],
            [
             0.6,
             "#e6f5d0"
            ],
            [
             0.7,
             "#b8e186"
            ],
            [
             0.8,
             "#7fbc41"
            ],
            [
             0.9,
             "#4d9221"
            ],
            [
             1,
             "#276419"
            ]
           ],
           "sequential": [
            [
             0,
             "#0d0887"
            ],
            [
             0.1111111111111111,
             "#46039f"
            ],
            [
             0.2222222222222222,
             "#7201a8"
            ],
            [
             0.3333333333333333,
             "#9c179e"
            ],
            [
             0.4444444444444444,
             "#bd3786"
            ],
            [
             0.5555555555555556,
             "#d8576b"
            ],
            [
             0.6666666666666666,
             "#ed7953"
            ],
            [
             0.7777777777777778,
             "#fb9f3a"
            ],
            [
             0.8888888888888888,
             "#fdca26"
            ],
            [
             1,
             "#f0f921"
            ]
           ],
           "sequentialminus": [
            [
             0,
             "#0d0887"
            ],
            [
             0.1111111111111111,
             "#46039f"
            ],
            [
             0.2222222222222222,
             "#7201a8"
            ],
            [
             0.3333333333333333,
             "#9c179e"
            ],
            [
             0.4444444444444444,
             "#bd3786"
            ],
            [
             0.5555555555555556,
             "#d8576b"
            ],
            [
             0.6666666666666666,
             "#ed7953"
            ],
            [
             0.7777777777777778,
             "#fb9f3a"
            ],
            [
             0.8888888888888888,
             "#fdca26"
            ],
            [
             1,
             "#f0f921"
            ]
           ]
          },
          "colorway": [
           "#636efa",
           "#EF553B",
           "#00cc96",
           "#ab63fa",
           "#FFA15A",
           "#19d3f3",
           "#FF6692",
           "#B6E880",
           "#FF97FF",
           "#FECB52"
          ],
          "font": {
           "color": "#2a3f5f"
          },
          "geo": {
           "bgcolor": "white",
           "lakecolor": "white",
           "landcolor": "#E5ECF6",
           "showlakes": true,
           "showland": true,
           "subunitcolor": "white"
          },
          "hoverlabel": {
           "align": "left"
          },
          "hovermode": "closest",
          "mapbox": {
           "style": "light"
          },
          "paper_bgcolor": "white",
          "plot_bgcolor": "#E5ECF6",
          "polar": {
           "angularaxis": {
            "gridcolor": "white",
            "linecolor": "white",
            "ticks": ""
           },
           "bgcolor": "#E5ECF6",
           "radialaxis": {
            "gridcolor": "white",
            "linecolor": "white",
            "ticks": ""
           }
          },
          "scene": {
           "xaxis": {
            "backgroundcolor": "#E5ECF6",
            "gridcolor": "white",
            "gridwidth": 2,
            "linecolor": "white",
            "showbackground": true,
            "ticks": "",
            "zerolinecolor": "white"
           },
           "yaxis": {
            "backgroundcolor": "#E5ECF6",
            "gridcolor": "white",
            "gridwidth": 2,
            "linecolor": "white",
            "showbackground": true,
            "ticks": "",
            "zerolinecolor": "white"
           },
           "zaxis": {
            "backgroundcolor": "#E5ECF6",
            "gridcolor": "white",
            "gridwidth": 2,
            "linecolor": "white",
            "showbackground": true,
            "ticks": "",
            "zerolinecolor": "white"
           }
          },
          "shapedefaults": {
           "line": {
            "color": "#2a3f5f"
           }
          },
          "ternary": {
           "aaxis": {
            "gridcolor": "white",
            "linecolor": "white",
            "ticks": ""
           },
           "baxis": {
            "gridcolor": "white",
            "linecolor": "white",
            "ticks": ""
           },
           "bgcolor": "#E5ECF6",
           "caxis": {
            "gridcolor": "white",
            "linecolor": "white",
            "ticks": ""
           }
          },
          "title": {
           "x": 0.05
          },
          "xaxis": {
           "automargin": true,
           "gridcolor": "white",
           "linecolor": "white",
           "ticks": "",
           "title": {
            "standoff": 15
           },
           "zerolinecolor": "white",
           "zerolinewidth": 2
          },
          "yaxis": {
           "automargin": true,
           "gridcolor": "white",
           "linecolor": "white",
           "ticks": "",
           "title": {
            "standoff": 15
           },
           "zerolinecolor": "white",
           "zerolinewidth": 2
          }
         }
        },
        "width": 1500
       }
      },
      "text/html": [
       "<div>                            <div id=\"a2513dc3-d9d0-45ca-8b2d-bb3c6a01204f\" class=\"plotly-graph-div\" style=\"height:1000px; width:1500px;\"></div>            <script type=\"text/javascript\">                require([\"plotly\"], function(Plotly) {                    window.PLOTLYENV=window.PLOTLYENV || {};                                    if (document.getElementById(\"a2513dc3-d9d0-45ca-8b2d-bb3c6a01204f\")) {                    Plotly.newPlot(                        \"a2513dc3-d9d0-45ca-8b2d-bb3c6a01204f\",                        [{\"hovertemplate\": \"Reach Time (s)=%{x}<br>Paramter Uncertainty (%)=%{y}<br>ML Controller Use (%)=%{marker.color}<extra></extra>\", \"legendgroup\": \"\", \"marker\": {\"color\": [0.92, 0.87, 0.9, 0.87, 0.75, 0.93, 0.84, 0.92, 0.9, 0.9, 0.87, 0.87, 0.85, 0.83, 0.84, 0.84, 0.76, 0.85, 0.81, 0.14, 0.79, 0.91, 0.91, 0.88, 0.87, 0.84, 0.82, 0.8, 0.78, 0.78, 0.76, 0.74, 0.87, 0.84, 0.14, 0.64, 0.82, 0.88, 0.87, 0.83, 0.79, 0.75, 0.71, 0.69, 0.66, 0.66, 0.63, 0.65, 0.84, 0.68, 0.26, 0.87, 0.86, 0.85, 0.79, 0.74, 0.7, 0.65, 0.6, 0.6, 0.61, 0.58, 0.51, 0.52, 0.84, 0.46, 0.81, 0.83, 0.85, 0.79, 0.71, 0.67, 0.61, 0.56, 0.56, 0.55, 0.49, 0.45, 0.45, 0.31, 0.75, 0.82, 0.82, 0.84, 0.79, 0.68, 0.64, 0.54, 0.54, 0.52, 0.47, 0.44, 0.38, 0.29, 0.28, 0.28, 0.71, 0.69, 0.8, 0.76, 0.65, 0.62, 0.52, 0.51, 0.47, 0.44, 0.33, 0.28, 0.27, 0.28, 0.28, 0.24, 0.5, 0.78, 0.78, 0.63, 0.63, 0.5, 0.51, 0.47, 0.37, 0.28, 0.28, 0.26, 0.27, 0.26, 0.25, 0.23, 0.65, 0.78, 0.67, 0.62, 0.5, 0.48, 0.41, 0.35, 0.27, 0.27, 0.26, 0.24, 0.24, 0.25, 0.25, 0.28, 0.79, 0.81, 0.65, 0.55, 0.46, 0.43, 0.31, 0.27, 0.26, 0.25, 0.22, 0.23, 0.25, 0.27, 0.28, 0.28, 0.77, 0.67, 0.59, 0.48, 0.45, 0.29, 0.26, 0.25, 0.24, 0.22, 0.23, 0.27, 0.26, 0.26, 0.26, 0.22, 0.76, 0.66, 0.5, 0.44, 0.28, 0.26, 0.26, 0.23, 0.21, 0.22, 0.27, 0.26, 0.23, 0.23, 0.21, 0.21, 0.76, 0.64, 0.45, 0.41, 0.27, 0.25, 0.23, 0.24, 0.22, 0.27, 0.25, 0.22, 0.21, 0.2, 0.2, 0.2, 0.67, 0.54, 0.43, 0.26, 0.26, 0.23, 0.21, 0.28, 0.27, 0.26, 0.22, 0.2, 0.21, 0.19, 0.19, 0.2, 0.68, 0.5, 0.42, 0.25, 0.24, 0.2, 0.27, 0.27, 0.25, 0.21, 0.2, 0.2, 0.19, 0.21, 0.2, 0.2, 0.61, 0.44, 0.29, 0.25, 0.23, 0.23, 0.27, 0.26, 0.21, 0.19, 0.2, 0.21, 0.21, 0.21, 0.19, 0.19, 0.58, 0.44, 0.26, 0.25, 0.22, 0.26, 0.27, 0.22, 0.2, 0.2, 0.2, 0.2, 0.2, 0.2, 0.18, 0.15, 0.49, 0.39, 0.24, 0.23, 0.21, 0.26, 0.24, 0.2, 0.21, 0.2, 0.2, 0.2, 0.19, 0.17, 0.17, 0.16, 0.48, 0.27, 0.24, 0.21, 0.27, 0.26, 0.19, 0.19, 0.2, 0.19, 0.21, 0.18, 0.17, 0.17, 0.15, 0.16], \"coloraxis\": \"coloraxis\", \"symbol\": \"circle\"}, \"mode\": \"markers\", \"name\": \"\", \"scene\": \"scene\", \"showlegend\": false, \"type\": \"scatter3d\", \"x\": [0.5, 0.6, 0.7, 0.8, 0.9, 1.0, 1.1, 1.2, 1.3, 1.4, 1.5, 1.6, 1.7, 1.8, 1.9, 2.0, 0.5, 0.6, 0.7, 0.8, 0.9, 1.0, 1.1, 1.2, 1.3, 1.4, 1.5, 1.6, 1.7, 1.8, 1.9, 2.0, 0.5, 0.6, 0.7, 0.8, 0.9, 1.0, 1.1, 1.2, 1.3, 1.4, 1.5, 1.6, 1.7, 1.8, 1.9, 2.0, 0.5, 0.6, 0.7, 0.8, 0.9, 1.0, 1.1, 1.2, 1.3, 1.4, 1.5, 1.6, 1.7, 1.8, 1.9, 2.0, 0.5, 0.6, 0.7, 0.8, 0.9, 1.0, 1.1, 1.2, 1.3, 1.4, 1.5, 1.6, 1.7, 1.8, 1.9, 2.0, 0.5, 0.6, 0.7, 0.8, 0.9, 1.0, 1.1, 1.2, 1.3, 1.4, 1.5, 1.6, 1.7, 1.8, 1.9, 2.0, 0.5, 0.6, 0.7, 0.8, 0.9, 1.0, 1.1, 1.2, 1.3, 1.4, 1.5, 1.6, 1.7, 1.8, 1.9, 2.0, 0.5, 0.6, 0.7, 0.8, 0.9, 1.0, 1.1, 1.2, 1.3, 1.4, 1.5, 1.6, 1.7, 1.8, 1.9, 2.0, 0.5, 0.6, 0.7, 0.8, 0.9, 1.0, 1.1, 1.2, 1.3, 1.4, 1.5, 1.6, 1.7, 1.8, 1.9, 2.0, 0.5, 0.6, 0.7, 0.8, 0.9, 1.0, 1.1, 1.2, 1.3, 1.4, 1.5, 1.6, 1.7, 1.8, 1.9, 2.0, 0.5, 0.6, 0.7, 0.8, 0.9, 1.0, 1.1, 1.2, 1.3, 1.4, 1.5, 1.6, 1.7, 1.8, 1.9, 2.0, 0.5, 0.6, 0.7, 0.8, 0.9, 1.0, 1.1, 1.2, 1.3, 1.4, 1.5, 1.6, 1.7, 1.8, 1.9, 2.0, 0.5, 0.6, 0.7, 0.8, 0.9, 1.0, 1.1, 1.2, 1.3, 1.4, 1.5, 1.6, 1.7, 1.8, 1.9, 2.0, 0.5, 0.6, 0.7, 0.8, 0.9, 1.0, 1.1, 1.2, 1.3, 1.4, 1.5, 1.6, 1.7, 1.8, 1.9, 2.0, 0.5, 0.6, 0.7, 0.8, 0.9, 1.0, 1.1, 1.2, 1.3, 1.4, 1.5, 1.6, 1.7, 1.8, 1.9, 2.0, 0.5, 0.6, 0.7, 0.8, 0.9, 1.0, 1.1, 1.2, 1.3, 1.4, 1.5, 1.6, 1.7, 1.8, 1.9, 2.0, 0.5, 0.6, 0.7, 0.8, 0.9, 1.0, 1.1, 1.2, 1.3, 1.4, 1.5, 1.6, 1.7, 1.8, 1.9, 2.0, 0.5, 0.6, 0.7, 0.8, 0.9, 1.0, 1.1, 1.2, 1.3, 1.4, 1.5, 1.6, 1.7, 1.8, 1.9, 2.0, 0.5, 0.6, 0.7, 0.8, 0.9, 1.0, 1.1, 1.2, 1.3, 1.4, 1.5, 1.6, 1.7, 1.8, 1.9, 2.0], \"y\": [0.0, 0.0, 0.0, 0.0, 0.0, 0.0, 0.0, 0.0, 0.0, 0.0, 0.0, 0.0, 0.0, 0.0, 0.0, 0.0, 0.05, 0.05, 0.05, 0.05, 0.05, 0.05, 0.05, 0.05, 0.05, 0.05, 0.05, 0.05, 0.05, 0.05, 0.05, 0.05, 0.1, 0.1, 0.1, 0.1, 0.1, 0.1, 0.1, 0.1, 0.1, 0.1, 0.1, 0.1, 0.1, 0.1, 0.1, 0.1, 0.15, 0.15, 0.15, 0.15, 0.15, 0.15, 0.15, 0.15, 0.15, 0.15, 0.15, 0.15, 0.15, 0.15, 0.15, 0.15, 0.2, 0.2, 0.2, 0.2, 0.2, 0.2, 0.2, 0.2, 0.2, 0.2, 0.2, 0.2, 0.2, 0.2, 0.2, 0.2, 0.25, 0.25, 0.25, 0.25, 0.25, 0.25, 0.25, 0.25, 0.25, 0.25, 0.25, 0.25, 0.25, 0.25, 0.25, 0.25, 0.3, 0.3, 0.3, 0.3, 0.3, 0.3, 0.3, 0.3, 0.3, 0.3, 0.3, 0.3, 0.3, 0.3, 0.3, 0.3, 0.35, 0.35, 0.35, 0.35, 0.35, 0.35, 0.35, 0.35, 0.35, 0.35, 0.35, 0.35, 0.35, 0.35, 0.35, 0.35, 0.4, 0.4, 0.4, 0.4, 0.4, 0.4, 0.4, 0.4, 0.4, 0.4, 0.4, 0.4, 0.4, 0.4, 0.4, 0.4, 0.45, 0.45, 0.45, 0.45, 0.45, 0.45, 0.45, 0.45, 0.45, 0.45, 0.45, 0.45, 0.45, 0.45, 0.45, 0.45, 0.5, 0.5, 0.5, 0.5, 0.5, 0.5, 0.5, 0.5, 0.5, 0.5, 0.5, 0.5, 0.5, 0.5, 0.5, 0.5, 0.55, 0.55, 0.55, 0.55, 0.55, 0.55, 0.55, 0.55, 0.55, 0.55, 0.55, 0.55, 0.55, 0.55, 0.55, 0.55, 0.6, 0.6, 0.6, 0.6, 0.6, 0.6, 0.6, 0.6, 0.6, 0.6, 0.6, 0.6, 0.6, 0.6, 0.6, 0.6, 0.65, 0.65, 0.65, 0.65, 0.65, 0.65, 0.65, 0.65, 0.65, 0.65, 0.65, 0.65, 0.65, 0.65, 0.65, 0.65, 0.7, 0.7, 0.7, 0.7, 0.7, 0.7, 0.7, 0.7, 0.7, 0.7, 0.7, 0.7, 0.7, 0.7, 0.7, 0.7, 0.75, 0.75, 0.75, 0.75, 0.75, 0.75, 0.75, 0.75, 0.75, 0.75, 0.75, 0.75, 0.75, 0.75, 0.75, 0.75, 0.8, 0.8, 0.8, 0.8, 0.8, 0.8, 0.8, 0.8, 0.8, 0.8, 0.8, 0.8, 0.8, 0.8, 0.8, 0.8, 0.85, 0.85, 0.85, 0.85, 0.85, 0.85, 0.85, 0.85, 0.85, 0.85, 0.85, 0.85, 0.85, 0.85, 0.85, 0.85, 0.9, 0.9, 0.9, 0.9, 0.9, 0.9, 0.9, 0.9, 0.9, 0.9, 0.9, 0.9, 0.9, 0.9, 0.9, 0.9], \"z\": [0.92, 0.87, 0.9, 0.87, 0.75, 0.93, 0.84, 0.92, 0.9, 0.9, 0.87, 0.87, 0.85, 0.83, 0.84, 0.84, 0.76, 0.85, 0.81, 0.14, 0.79, 0.91, 0.91, 0.88, 0.87, 0.84, 0.82, 0.8, 0.78, 0.78, 0.76, 0.74, 0.87, 0.84, 0.14, 0.64, 0.82, 0.88, 0.87, 0.83, 0.79, 0.75, 0.71, 0.69, 0.66, 0.66, 0.63, 0.65, 0.84, 0.68, 0.26, 0.87, 0.86, 0.85, 0.79, 0.74, 0.7, 0.65, 0.6, 0.6, 0.61, 0.58, 0.51, 0.52, 0.84, 0.46, 0.81, 0.83, 0.85, 0.79, 0.71, 0.67, 0.61, 0.56, 0.56, 0.55, 0.49, 0.45, 0.45, 0.31, 0.75, 0.82, 0.82, 0.84, 0.79, 0.68, 0.64, 0.54, 0.54, 0.52, 0.47, 0.44, 0.38, 0.29, 0.28, 0.28, 0.71, 0.69, 0.8, 0.76, 0.65, 0.62, 0.52, 0.51, 0.47, 0.44, 0.33, 0.28, 0.27, 0.28, 0.28, 0.24, 0.5, 0.78, 0.78, 0.63, 0.63, 0.5, 0.51, 0.47, 0.37, 0.28, 0.28, 0.26, 0.27, 0.26, 0.25, 0.23, 0.65, 0.78, 0.67, 0.62, 0.5, 0.48, 0.41, 0.35, 0.27, 0.27, 0.26, 0.24, 0.24, 0.25, 0.25, 0.28, 0.79, 0.81, 0.65, 0.55, 0.46, 0.43, 0.31, 0.27, 0.26, 0.25, 0.22, 0.23, 0.25, 0.27, 0.28, 0.28, 0.77, 0.67, 0.59, 0.48, 0.45, 0.29, 0.26, 0.25, 0.24, 0.22, 0.23, 0.27, 0.26, 0.26, 0.26, 0.22, 0.76, 0.66, 0.5, 0.44, 0.28, 0.26, 0.26, 0.23, 0.21, 0.22, 0.27, 0.26, 0.23, 0.23, 0.21, 0.21, 0.76, 0.64, 0.45, 0.41, 0.27, 0.25, 0.23, 0.24, 0.22, 0.27, 0.25, 0.22, 0.21, 0.2, 0.2, 0.2, 0.67, 0.54, 0.43, 0.26, 0.26, 0.23, 0.21, 0.28, 0.27, 0.26, 0.22, 0.2, 0.21, 0.19, 0.19, 0.2, 0.68, 0.5, 0.42, 0.25, 0.24, 0.2, 0.27, 0.27, 0.25, 0.21, 0.2, 0.2, 0.19, 0.21, 0.2, 0.2, 0.61, 0.44, 0.29, 0.25, 0.23, 0.23, 0.27, 0.26, 0.21, 0.19, 0.2, 0.21, 0.21, 0.21, 0.19, 0.19, 0.58, 0.44, 0.26, 0.25, 0.22, 0.26, 0.27, 0.22, 0.2, 0.2, 0.2, 0.2, 0.2, 0.2, 0.18, 0.15, 0.49, 0.39, 0.24, 0.23, 0.21, 0.26, 0.24, 0.2, 0.21, 0.2, 0.2, 0.2, 0.19, 0.17, 0.17, 0.16, 0.48, 0.27, 0.24, 0.21, 0.27, 0.26, 0.19, 0.19, 0.2, 0.19, 0.21, 0.18, 0.17, 0.17, 0.15, 0.16]}],                        {\"coloraxis\": {\"colorbar\": {\"title\": {\"text\": \"ML Controller Use (%)\"}}, \"colorscale\": [[0.0, \"#0d0887\"], [0.1111111111111111, \"#46039f\"], [0.2222222222222222, \"#7201a8\"], [0.3333333333333333, \"#9c179e\"], [0.4444444444444444, \"#bd3786\"], [0.5555555555555556, \"#d8576b\"], [0.6666666666666666, \"#ed7953\"], [0.7777777777777778, \"#fb9f3a\"], [0.8888888888888888, \"#fdca26\"], [1.0, \"#f0f921\"]]}, \"height\": 1000, \"legend\": {\"tracegroupgap\": 0}, \"margin\": {\"t\": 60}, \"scene\": {\"domain\": {\"x\": [0.0, 1.0], \"y\": [0.0, 1.0]}, \"xaxis\": {\"title\": {\"text\": \"Reach Time (s)\"}}, \"yaxis\": {\"title\": {\"text\": \"Paramter Uncertainty (%)\"}}, \"zaxis\": {\"title\": {\"text\": \"ML Controller Use (%)\"}}}, \"template\": {\"data\": {\"bar\": [{\"error_x\": {\"color\": \"#2a3f5f\"}, \"error_y\": {\"color\": \"#2a3f5f\"}, \"marker\": {\"line\": {\"color\": \"#E5ECF6\", \"width\": 0.5}}, \"type\": \"bar\"}], \"barpolar\": [{\"marker\": {\"line\": {\"color\": \"#E5ECF6\", \"width\": 0.5}}, \"type\": \"barpolar\"}], \"carpet\": [{\"aaxis\": {\"endlinecolor\": \"#2a3f5f\", \"gridcolor\": \"white\", \"linecolor\": \"white\", \"minorgridcolor\": \"white\", \"startlinecolor\": \"#2a3f5f\"}, \"baxis\": {\"endlinecolor\": \"#2a3f5f\", \"gridcolor\": \"white\", \"linecolor\": \"white\", \"minorgridcolor\": \"white\", \"startlinecolor\": \"#2a3f5f\"}, \"type\": \"carpet\"}], \"choropleth\": [{\"colorbar\": {\"outlinewidth\": 0, \"ticks\": \"\"}, \"type\": \"choropleth\"}], \"contour\": [{\"colorbar\": {\"outlinewidth\": 0, \"ticks\": \"\"}, \"colorscale\": [[0.0, \"#0d0887\"], [0.1111111111111111, \"#46039f\"], [0.2222222222222222, \"#7201a8\"], [0.3333333333333333, \"#9c179e\"], [0.4444444444444444, \"#bd3786\"], [0.5555555555555556, \"#d8576b\"], [0.6666666666666666, \"#ed7953\"], [0.7777777777777778, \"#fb9f3a\"], [0.8888888888888888, \"#fdca26\"], [1.0, \"#f0f921\"]], \"type\": \"contour\"}], \"contourcarpet\": [{\"colorbar\": {\"outlinewidth\": 0, \"ticks\": \"\"}, \"type\": \"contourcarpet\"}], \"heatmap\": [{\"colorbar\": {\"outlinewidth\": 0, \"ticks\": \"\"}, \"colorscale\": [[0.0, \"#0d0887\"], [0.1111111111111111, \"#46039f\"], [0.2222222222222222, \"#7201a8\"], [0.3333333333333333, \"#9c179e\"], [0.4444444444444444, \"#bd3786\"], [0.5555555555555556, \"#d8576b\"], [0.6666666666666666, \"#ed7953\"], [0.7777777777777778, \"#fb9f3a\"], [0.8888888888888888, \"#fdca26\"], [1.0, \"#f0f921\"]], \"type\": \"heatmap\"}], \"heatmapgl\": [{\"colorbar\": {\"outlinewidth\": 0, \"ticks\": \"\"}, \"colorscale\": [[0.0, \"#0d0887\"], [0.1111111111111111, \"#46039f\"], [0.2222222222222222, \"#7201a8\"], [0.3333333333333333, \"#9c179e\"], [0.4444444444444444, \"#bd3786\"], [0.5555555555555556, \"#d8576b\"], [0.6666666666666666, \"#ed7953\"], [0.7777777777777778, \"#fb9f3a\"], [0.8888888888888888, \"#fdca26\"], [1.0, \"#f0f921\"]], \"type\": \"heatmapgl\"}], \"histogram\": [{\"marker\": {\"colorbar\": {\"outlinewidth\": 0, \"ticks\": \"\"}}, \"type\": \"histogram\"}], \"histogram2d\": [{\"colorbar\": {\"outlinewidth\": 0, \"ticks\": \"\"}, \"colorscale\": [[0.0, \"#0d0887\"], [0.1111111111111111, \"#46039f\"], [0.2222222222222222, \"#7201a8\"], [0.3333333333333333, \"#9c179e\"], [0.4444444444444444, \"#bd3786\"], [0.5555555555555556, \"#d8576b\"], [0.6666666666666666, \"#ed7953\"], [0.7777777777777778, \"#fb9f3a\"], [0.8888888888888888, \"#fdca26\"], [1.0, \"#f0f921\"]], \"type\": \"histogram2d\"}], \"histogram2dcontour\": [{\"colorbar\": {\"outlinewidth\": 0, \"ticks\": \"\"}, \"colorscale\": [[0.0, \"#0d0887\"], [0.1111111111111111, \"#46039f\"], [0.2222222222222222, \"#7201a8\"], [0.3333333333333333, \"#9c179e\"], [0.4444444444444444, \"#bd3786\"], [0.5555555555555556, \"#d8576b\"], [0.6666666666666666, \"#ed7953\"], [0.7777777777777778, \"#fb9f3a\"], [0.8888888888888888, \"#fdca26\"], [1.0, \"#f0f921\"]], \"type\": \"histogram2dcontour\"}], \"mesh3d\": [{\"colorbar\": {\"outlinewidth\": 0, \"ticks\": \"\"}, \"type\": \"mesh3d\"}], \"parcoords\": [{\"line\": {\"colorbar\": {\"outlinewidth\": 0, \"ticks\": \"\"}}, \"type\": \"parcoords\"}], \"pie\": [{\"automargin\": true, \"type\": \"pie\"}], \"scatter\": [{\"marker\": {\"colorbar\": {\"outlinewidth\": 0, \"ticks\": \"\"}}, \"type\": \"scatter\"}], \"scatter3d\": [{\"line\": {\"colorbar\": {\"outlinewidth\": 0, \"ticks\": \"\"}}, \"marker\": {\"colorbar\": {\"outlinewidth\": 0, \"ticks\": \"\"}}, \"type\": \"scatter3d\"}], \"scattercarpet\": [{\"marker\": {\"colorbar\": {\"outlinewidth\": 0, \"ticks\": \"\"}}, \"type\": \"scattercarpet\"}], \"scattergeo\": [{\"marker\": {\"colorbar\": {\"outlinewidth\": 0, \"ticks\": \"\"}}, \"type\": \"scattergeo\"}], \"scattergl\": [{\"marker\": {\"colorbar\": {\"outlinewidth\": 0, \"ticks\": \"\"}}, \"type\": \"scattergl\"}], \"scattermapbox\": [{\"marker\": {\"colorbar\": {\"outlinewidth\": 0, \"ticks\": \"\"}}, \"type\": \"scattermapbox\"}], \"scatterpolar\": [{\"marker\": {\"colorbar\": {\"outlinewidth\": 0, \"ticks\": \"\"}}, \"type\": \"scatterpolar\"}], \"scatterpolargl\": [{\"marker\": {\"colorbar\": {\"outlinewidth\": 0, \"ticks\": \"\"}}, \"type\": \"scatterpolargl\"}], \"scatterternary\": [{\"marker\": {\"colorbar\": {\"outlinewidth\": 0, \"ticks\": \"\"}}, \"type\": \"scatterternary\"}], \"surface\": [{\"colorbar\": {\"outlinewidth\": 0, \"ticks\": \"\"}, \"colorscale\": [[0.0, \"#0d0887\"], [0.1111111111111111, \"#46039f\"], [0.2222222222222222, \"#7201a8\"], [0.3333333333333333, \"#9c179e\"], [0.4444444444444444, \"#bd3786\"], [0.5555555555555556, \"#d8576b\"], [0.6666666666666666, \"#ed7953\"], [0.7777777777777778, \"#fb9f3a\"], [0.8888888888888888, \"#fdca26\"], [1.0, \"#f0f921\"]], \"type\": \"surface\"}], \"table\": [{\"cells\": {\"fill\": {\"color\": \"#EBF0F8\"}, \"line\": {\"color\": \"white\"}}, \"header\": {\"fill\": {\"color\": \"#C8D4E3\"}, \"line\": {\"color\": \"white\"}}, \"type\": \"table\"}]}, \"layout\": {\"annotationdefaults\": {\"arrowcolor\": \"#2a3f5f\", \"arrowhead\": 0, \"arrowwidth\": 1}, \"autotypenumbers\": \"strict\", \"coloraxis\": {\"colorbar\": {\"outlinewidth\": 0, \"ticks\": \"\"}}, \"colorscale\": {\"diverging\": [[0, \"#8e0152\"], [0.1, \"#c51b7d\"], [0.2, \"#de77ae\"], [0.3, \"#f1b6da\"], [0.4, \"#fde0ef\"], [0.5, \"#f7f7f7\"], [0.6, \"#e6f5d0\"], [0.7, \"#b8e186\"], [0.8, \"#7fbc41\"], [0.9, \"#4d9221\"], [1, \"#276419\"]], \"sequential\": [[0.0, \"#0d0887\"], [0.1111111111111111, \"#46039f\"], [0.2222222222222222, \"#7201a8\"], [0.3333333333333333, \"#9c179e\"], [0.4444444444444444, \"#bd3786\"], [0.5555555555555556, \"#d8576b\"], [0.6666666666666666, \"#ed7953\"], [0.7777777777777778, \"#fb9f3a\"], [0.8888888888888888, \"#fdca26\"], [1.0, \"#f0f921\"]], \"sequentialminus\": [[0.0, \"#0d0887\"], [0.1111111111111111, \"#46039f\"], [0.2222222222222222, \"#7201a8\"], [0.3333333333333333, \"#9c179e\"], [0.4444444444444444, \"#bd3786\"], [0.5555555555555556, \"#d8576b\"], [0.6666666666666666, \"#ed7953\"], [0.7777777777777778, \"#fb9f3a\"], [0.8888888888888888, \"#fdca26\"], [1.0, \"#f0f921\"]]}, \"colorway\": [\"#636efa\", \"#EF553B\", \"#00cc96\", \"#ab63fa\", \"#FFA15A\", \"#19d3f3\", \"#FF6692\", \"#B6E880\", \"#FF97FF\", \"#FECB52\"], \"font\": {\"color\": \"#2a3f5f\"}, \"geo\": {\"bgcolor\": \"white\", \"lakecolor\": \"white\", \"landcolor\": \"#E5ECF6\", \"showlakes\": true, \"showland\": true, \"subunitcolor\": \"white\"}, \"hoverlabel\": {\"align\": \"left\"}, \"hovermode\": \"closest\", \"mapbox\": {\"style\": \"light\"}, \"paper_bgcolor\": \"white\", \"plot_bgcolor\": \"#E5ECF6\", \"polar\": {\"angularaxis\": {\"gridcolor\": \"white\", \"linecolor\": \"white\", \"ticks\": \"\"}, \"bgcolor\": \"#E5ECF6\", \"radialaxis\": {\"gridcolor\": \"white\", \"linecolor\": \"white\", \"ticks\": \"\"}}, \"scene\": {\"xaxis\": {\"backgroundcolor\": \"#E5ECF6\", \"gridcolor\": \"white\", \"gridwidth\": 2, \"linecolor\": \"white\", \"showbackground\": true, \"ticks\": \"\", \"zerolinecolor\": \"white\"}, \"yaxis\": {\"backgroundcolor\": \"#E5ECF6\", \"gridcolor\": \"white\", \"gridwidth\": 2, \"linecolor\": \"white\", \"showbackground\": true, \"ticks\": \"\", \"zerolinecolor\": \"white\"}, \"zaxis\": {\"backgroundcolor\": \"#E5ECF6\", \"gridcolor\": \"white\", \"gridwidth\": 2, \"linecolor\": \"white\", \"showbackground\": true, \"ticks\": \"\", \"zerolinecolor\": \"white\"}}, \"shapedefaults\": {\"line\": {\"color\": \"#2a3f5f\"}}, \"ternary\": {\"aaxis\": {\"gridcolor\": \"white\", \"linecolor\": \"white\", \"ticks\": \"\"}, \"baxis\": {\"gridcolor\": \"white\", \"linecolor\": \"white\", \"ticks\": \"\"}, \"bgcolor\": \"#E5ECF6\", \"caxis\": {\"gridcolor\": \"white\", \"linecolor\": \"white\", \"ticks\": \"\"}}, \"title\": {\"x\": 0.05}, \"xaxis\": {\"automargin\": true, \"gridcolor\": \"white\", \"linecolor\": \"white\", \"ticks\": \"\", \"title\": {\"standoff\": 15}, \"zerolinecolor\": \"white\", \"zerolinewidth\": 2}, \"yaxis\": {\"automargin\": true, \"gridcolor\": \"white\", \"linecolor\": \"white\", \"ticks\": \"\", \"title\": {\"standoff\": 15}, \"zerolinecolor\": \"white\", \"zerolinewidth\": 2}}}, \"width\": 1500},                        {\"responsive\": true}                    ).then(function(){\n",
       "                            \n",
       "var gd = document.getElementById('a2513dc3-d9d0-45ca-8b2d-bb3c6a01204f');\n",
       "var x = new MutationObserver(function (mutations, observer) {{\n",
       "        var display = window.getComputedStyle(gd).display;\n",
       "        if (!display || display === 'none') {{\n",
       "            console.log([gd, 'removed!']);\n",
       "            Plotly.purge(gd);\n",
       "            observer.disconnect();\n",
       "        }}\n",
       "}});\n",
       "\n",
       "// Listen for the removal of the full notebook cells\n",
       "var notebookContainer = gd.closest('#notebook-container');\n",
       "if (notebookContainer) {{\n",
       "    x.observe(notebookContainer, {childList: true});\n",
       "}}\n",
       "\n",
       "// Listen for the clearing of the current output cell\n",
       "var outputEl = gd.closest('.output');\n",
       "if (outputEl) {{\n",
       "    x.observe(outputEl, {childList: true});\n",
       "}}\n",
       "\n",
       "                        })                };                });            </script>        </div>"
      ]
     },
     "metadata": {},
     "output_type": "display_data"
    }
   ],
   "source": [
    "labs = {\"percent_change_in_size_of_reachset\":\"% Change in Size of Reachset (Area)\",\n",
    "       \"reach_time\":\"Reach Time (s)\",\"parameter_uncertainty\":\"Paramter Uncertainty (%)\",\"time_taken_lec\":\"ML Controller Use (%)\"}\n",
    "\n",
    "fig = px.scatter_3d(ru_plot, x=\"reach_time\", y=\"parameter_uncertainty\", \n",
    "                    z=\"time_taken_lec\",\n",
    "                    color=\"time_taken_lec\",\n",
    "                   labels=labs,width=1500, height=1000)\n",
    "fig.show()"
   ]
  },
  {
   "cell_type": "code",
   "execution_count": null,
   "id": "8554dcd3",
   "metadata": {},
   "outputs": [],
   "source": []
  }
 ],
 "metadata": {
  "kernelspec": {
   "display_name": "Python 3",
   "language": "python",
   "name": "python3"
  },
  "language_info": {
   "codemirror_mode": {
    "name": "ipython",
    "version": 3
   },
   "file_extension": ".py",
   "mimetype": "text/x-python",
   "name": "python",
   "nbconvert_exporter": "python",
   "pygments_lexer": "ipython3",
   "version": "3.6.12"
  }
 },
 "nbformat": 4,
 "nbformat_minor": 5
}
