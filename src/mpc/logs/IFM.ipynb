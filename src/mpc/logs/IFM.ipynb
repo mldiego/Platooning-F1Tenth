{
 "cells": [
  {
   "cell_type": "code",
   "execution_count": 5,
   "metadata": {},
   "outputs": [],
   "source": [
    "import pandas as pd\n",
    "import numpy as np \n",
    "import seaborn as sns\n",
    "import matplotlib.pyplot as plt\n",
    "sns.set_theme(style=\"white\")\n",
    "import os\n",
    "import os"
   ]
  },
  {
   "cell_type": "markdown",
   "metadata": {},
   "source": [
    "### Two Car Experiments"
   ]
  },
  {
   "cell_type": "markdown",
   "metadata": {},
   "source": [
    "Define track lengths"
   ]
  },
  {
   "cell_type": "code",
   "execution_count": 2,
   "metadata": {},
   "outputs": [],
   "source": [
    "track_lengths = {\"track_porto\": 57.492612883355136,\"racecar_walker\": 73.2483359322749,\"track_barca\": 221.14172044855775}"
   ]
  },
  {
   "cell_type": "code",
   "execution_count": 13,
   "metadata": {},
   "outputs": [],
   "source": [
    "track_names = {'track_porto':\"Porto\",'racecar_walker':'Walker','track_barca':\"Barca\"}\n",
    "controller_names = {\"mpcc\":\"MPCC\",\"mpc_hype\":\"MPC Hype\",\"disparity_extender\":\"DE\",\"pure_pursuit\":\"Pure Pursuit\"}\n",
    "target_controllers = {\"disparity_extender\":\"DE\",\"pure_pursuit\":\"Pure Pursuit\"}\n",
    "progress_file_str = \"progress_{}_{}_{}_{}_{}.csv\"\n",
    "collision_file_str = \"collisions_{}_{}_{}_{}_{}.csv\"\n",
    "start_str = 'two_vehicle_experiments/'\n",
    "cols={0:\"racecar_name\",1:\"laps_completed\",2:\"race_time\",3:\"experiment_number\"}\n",
    "rows = []\n",
    "\n",
    "interesting_dfs = []\n",
    "for track in track_names.keys():\n",
    "    for controller in controller_names.keys():\n",
    "        for opp in target_controllers.keys():\n",
    "            for target in target_controllers:\n",
    "                try:\n",
    "                    pdf = start_str+progress_file_str.format(track,\"false\",controller,opp,target)\n",
    "                    \n",
    "                    cdf = start_str+collision_file_str.format(track,\"false\",controller,opp,target)\n",
    "                   \n",
    "                        \n",
    "                    df = pd.read_csv(pdf,header=None).rename(columns=cols)\n",
    "                    \n",
    "                    # some of the measurement's are not correct\n",
    "                    rows_to_drop = df[(df['laps_completed'] > 0.5) & (df['race_time'] < 12)].index.values\n",
    "                    df.drop(rows_to_drop)\n",
    "                    \n",
    "                    # some controller's have perfect safey so there will not be a collision file\n",
    "                    if(os.path.exists(cdf)):\n",
    "                        df2 = pd.read_csv(cdf,header=None)[0:30]\n",
    "                        val = 100 * (1-(df2.count()[0]/30))\n",
    "                    else:\n",
    "                        val = 100.0\n",
    "                    new_df =  df.groupby(\"racecar_name\").median()\n",
    "                    new_df['efficiency'] = (new_df['laps_completed'] / new_df['race_time']) * track_lengths[track]\n",
    "                    new_df = new_df.reset_index()\n",
    "                    row = [track_names[track],controller_names[controller],target_controllers[opp],target_controllers[target],new_df[new_df['racecar_name'] =='racecar2']['efficiency'].values[0],new_df[new_df['racecar_name'] =='racecar']['efficiency'].values[0],new_df['race_time'][0],val]\n",
    "                    rows.append(row)\n",
    "                    \n",
    "                    if(new_df['efficiency'].max()>6):\n",
    "                        interesting_dfs.append(df)\n",
    "                except Exception as e:\n",
    "                    #print(e)\n",
    "                    continue"
   ]
  },
  {
   "cell_type": "code",
   "execution_count": 14,
   "metadata": {},
   "outputs": [],
   "source": [
    "df3 = pd.DataFrame(rows, columns =['Track', 'Approach','Opponent Controller','Local Planner','Ego Efficiency','Opponent Efficiency','Race Duration (s)','Safety'])\n",
    "df3 = round(df3,2)\n",
    "df3 = df3.set_index('Track').sort_values(by=[\"Track\",\"Approach\"])"
   ]
  },
  {
   "cell_type": "code",
   "execution_count": 15,
   "metadata": {},
   "outputs": [
    {
     "name": "stdout",
     "output_type": "stream",
     "text": [
      "\\begin{tabular}{llllrrrr}\n",
      "\\toprule\n",
      "{} &      Approach & Opponent Controller & Local Planner &  Ego Efficiency &  Opponent Efficiency &  Race Duration (s) &  Safety \\\\\n",
      "Track  &               &                     &               &                 &                      &                    &         \\\\\n",
      "\\midrule\n",
      "Barca  &            DE &                  DE &            DE &            5.12 &                 4.50 &               7.63 &    0.00 \\\\\n",
      "Barca  &            DE &                  DE &  Pure Pursuit &            5.16 &                 4.47 &               7.69 &    0.00 \\\\\n",
      "Barca  &      MPC Hype &                  DE &            DE &            0.00 &                 5.85 &               5.47 &    0.00 \\\\\n",
      "Barca  &      MPC Hype &                  DE &  Pure Pursuit &            0.06 &                 5.74 &               5.49 &    0.00 \\\\\n",
      "Barca  &          MPCC &                  DE &            DE &            3.18 &                 3.01 &              11.26 &    0.00 \\\\\n",
      "Barca  &          MPCC &                  DE &  Pure Pursuit &            3.01 &                 3.09 &              10.90 &    3.33 \\\\\n",
      "Barca  &  Pure Pursuit &                  DE &            DE &            5.25 &                 4.63 &               7.34 &    0.00 \\\\\n",
      "Barca  &  Pure Pursuit &                  DE &  Pure Pursuit &            5.24 &                 4.83 &               7.38 &    0.00 \\\\\n",
      "Porto  &            DE &                  DE &            DE &            5.27 &                 4.20 &              46.58 &   26.67 \\\\\n",
      "Porto  &            DE &                  DE &  Pure Pursuit &            5.31 &                 5.11 &              56.55 &   50.00 \\\\\n",
      "Porto  &      MPC Hype &                  DE &            DE &            0.00 &                 5.27 &               5.53 &    0.00 \\\\\n",
      "Porto  &      MPC Hype &                  DE &  Pure Pursuit &            3.06 &                 5.18 &              25.74 &   13.33 \\\\\n",
      "Porto  &          MPCC &                  DE &            DE &            3.00 &                 4.97 &               7.12 &   20.00 \\\\\n",
      "Porto  &          MPCC &                  DE &  Pure Pursuit &            3.00 &                 5.34 &              55.14 &   46.67 \\\\\n",
      "Porto  &  Pure Pursuit &                  DE &            DE &            4.70 &                 5.34 &              57.49 &  100.00 \\\\\n",
      "Porto  &  Pure Pursuit &                  DE &  Pure Pursuit &            4.70 &                 5.33 &              57.51 &  100.00 \\\\\n",
      "Walker &            DE &                  DE &            DE &            4.49 &                 4.97 &               7.02 &    0.00 \\\\\n",
      "Walker &            DE &                  DE &  Pure Pursuit &            4.51 &                 4.98 &               6.94 &   50.00 \\\\\n",
      "Walker &      MPC Hype &                  DE &            DE &            0.06 &                 4.72 &               5.51 &    3.33 \\\\\n",
      "Walker &      MPC Hype &                  DE &  Pure Pursuit &            1.34 &                 4.71 &               5.54 &    0.00 \\\\\n",
      "Walker &          MPCC &                  DE &            DE &            3.24 &                 5.10 &              38.94 &   10.00 \\\\\n",
      "Walker &          MPCC &                  DE &  Pure Pursuit &            4.10 &                 5.14 &              14.86 &   10.00 \\\\\n",
      "Walker &  Pure Pursuit &                  DE &  Pure Pursuit &            6.34 &                 5.14 &              57.48 &  100.00 \\\\\n",
      "\\bottomrule\n",
      "\\end{tabular}\n",
      "\n"
     ]
    }
   ],
   "source": [
    "print(df3.to_latex())"
   ]
  },
  {
   "cell_type": "markdown",
   "metadata": {},
   "source": [
    "### Three Car Experiments"
   ]
  },
  {
   "cell_type": "code",
   "execution_count": 16,
   "metadata": {},
   "outputs": [],
   "source": [
    "track_names = {'track_porto':\"Porto\",'racecar_walker':'Walker','track_barca':\"Barca\"}\n",
    "controller_names = {\"mpcc\":\"MPCC\",\"mpc_hype\":\"MPC Hype\",\"disparity_extender\":\"DE\",\"pure_pursuit\":\"Pure Pursuit\"}\n",
    "target_controllers = {\"disparity_extender\":\"DE\",\"pure_pursuit\":\"Pure Pursuit\"}\n",
    "progress_file_str = \"progress_{}_{}_{}_{}_{}.csv\"\n",
    "collision_file_str = \"collisions_{}_{}_{}_{}_{}.csv\"\n",
    "start_str = 'three_vehicle_experiments/'\n",
    "cols={0:\"racecar_name\",1:\"laps_completed\",2:\"race_time\",3:\"experiment_number\"}\n",
    "rows = []\n",
    "\n",
    "interesting_dfs = []\n",
    "for track in track_names.keys():\n",
    "    for controller in controller_names.keys():\n",
    "        for opp in target_controllers.keys():\n",
    "            for target in target_controllers:\n",
    "                try:\n",
    "                    pdf = start_str+progress_file_str.format(track,\"false\",controller,opp,target)\n",
    "                    \n",
    "                    cdf = start_str+collision_file_str.format(track,\"false\",controller,opp,target)\n",
    "                   \n",
    "                        \n",
    "                    df = pd.read_csv(pdf,header=None).rename(columns=cols)\n",
    "                    \n",
    "                    # some of the measurement's are not correct\n",
    "                    rows_to_drop = df[(df['laps_completed'] > 0.5) & (df['race_time'] < 12)].index.values\n",
    "                    df.drop(rows_to_drop)\n",
    "                    \n",
    "                    # some controller's have perfect safey so there will not be a collision file\n",
    "                    if(os.path.exists(cdf)):\n",
    "                        df2 = pd.read_csv(cdf,header=None)[0:30]\n",
    "                        val = 100 * (1-(df2.count()[0]/30))\n",
    "                    else:\n",
    "                        val = 100.0\n",
    "                    new_df =  df.groupby(\"racecar_name\").median()\n",
    "                    new_df['efficiency'] = (new_df['laps_completed'] / new_df['race_time']) * track_lengths[track]\n",
    "                    new_df = new_df.reset_index()\n",
    "                    row = [track_names[track],controller_names[controller],target_controllers[opp],target_controllers[target],new_df[new_df['racecar_name'] =='racecar2']['efficiency'].values[0],new_df[new_df['racecar_name'] =='racecar']['efficiency'].values[0],new_df['race_time'][0],val]\n",
    "                    rows.append(row)\n",
    "                    \n",
    "                    if(new_df['efficiency'].max()>6):\n",
    "                        interesting_dfs.append(df)\n",
    "                except Exception as e:\n",
    "                    #print(e)\n",
    "                    continue"
   ]
  },
  {
   "cell_type": "code",
   "execution_count": 17,
   "metadata": {},
   "outputs": [],
   "source": [
    "df3 = pd.DataFrame(rows, columns =['Track', 'Approach','Opponent Controller','Local Planner','Ego Efficiency','Opponent Efficiency','Race Duration (s)','Safety'])\n",
    "df3 = round(df3,2)\n",
    "df3 = df3.set_index('Track').sort_values(by=[\"Track\",\"Approach\"])"
   ]
  },
  {
   "cell_type": "code",
   "execution_count": 18,
   "metadata": {
    "scrolled": true
   },
   "outputs": [
    {
     "name": "stdout",
     "output_type": "stream",
     "text": [
      "\\begin{tabular}{llllrrrr}\n",
      "\\toprule\n",
      "{} &  Approach & Opponent Controller & Local Planner &  Ego Efficiency &  Opponent Efficiency &  Race Duration (s) &  Safety \\\\\n",
      "Track &           &                     &               &                 &                      &                    &         \\\\\n",
      "\\midrule\n",
      "Porto &        DE &                  DE &            DE &            5.38 &                 4.38 &              33.76 &   30.00 \\\\\n",
      "Porto &        DE &                  DE &  Pure Pursuit &            5.40 &                 3.39 &              54.61 &   96.67 \\\\\n",
      "Porto &  MPC Hype &                  DE &            DE &            1.19 &                 4.50 &               5.40 &    0.00 \\\\\n",
      "Porto &  MPC Hype &                  DE &  Pure Pursuit &            2.75 &                 2.96 &              43.26 &   30.00 \\\\\n",
      "Porto &      MPCC &                  DE &            DE &            1.66 &                 4.23 &               5.39 &    3.33 \\\\\n",
      "Porto &      MPCC &                  DE &  Pure Pursuit &            1.83 &                 4.00 &               5.37 &   16.67 \\\\\n",
      "\\bottomrule\n",
      "\\end{tabular}\n",
      "\n"
     ]
    }
   ],
   "source": [
    "print(df3.to_latex())"
   ]
  },
  {
   "cell_type": "code",
   "execution_count": 43,
   "metadata": {},
   "outputs": [
    {
     "data": {
      "text/plain": [
       "'/home/musaup/Documents/Research/Platooning-F1Tenth/src/mpc/logs'"
      ]
     },
     "execution_count": 43,
     "metadata": {},
     "output_type": "execute_result"
    }
   ],
   "source": [
    "pwd\n"
   ]
  },
  {
   "cell_type": "code",
   "execution_count": null,
   "metadata": {},
   "outputs": [],
   "source": []
  }
 ],
 "metadata": {
  "kernelspec": {
   "display_name": "Python 3",
   "language": "python",
   "name": "python3"
  },
  "language_info": {
   "codemirror_mode": {
    "name": "ipython",
    "version": 3
   },
   "file_extension": ".py",
   "mimetype": "text/x-python",
   "name": "python",
   "nbconvert_exporter": "python",
   "pygments_lexer": "ipython3",
   "version": "3.7.3"
  }
 },
 "nbformat": 4,
 "nbformat_minor": 5
}
