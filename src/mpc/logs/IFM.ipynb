{
 "cells": [
  {
   "cell_type": "code",
   "execution_count": 24,
   "id": "115638c2",
   "metadata": {},
   "outputs": [],
   "source": [
    "import pandas as pd\n",
    "import numpy as np \n",
    "import seaborn as sns\n",
    "import matplotlib.pyplot as plt\n",
    "sns.set_theme(style=\"white\")\n",
    "import os\n",
    "import os"
   ]
  },
  {
   "cell_type": "markdown",
   "id": "b2b2d1cb",
   "metadata": {},
   "source": [
    "### Two Car Experiments"
   ]
  },
  {
   "cell_type": "markdown",
   "id": "e019ea98",
   "metadata": {},
   "source": [
    "Define track lengths"
   ]
  },
  {
   "cell_type": "code",
   "execution_count": 25,
   "id": "0c178dac",
   "metadata": {},
   "outputs": [],
   "source": [
    "track_lengths = {\"track_porto\": 57.492612883355136,\"racecar_walker\": 73.2483359322749,\"track_barca\": 221.14172044855775}"
   ]
  },
  {
   "cell_type": "code",
   "execution_count": 48,
   "id": "4fe7c82f",
   "metadata": {},
   "outputs": [],
   "source": [
    "track_names = {'track_porto':\"Porto\",'racecar_walker':'Walker','track_barca':\"Barca\"}\n",
    "controller_names = {\"mpcc\":\"MPCC\",\"mpc_hype\":\"MPC Hype\",\"disparity_extender\":\"DE\",\"pure_pursuit\":\"Pure Pursuit\"}\n",
    "target_controllers = {\"disparity_extender\":\"DE\",\"pure_pursuit\":\"Pure Pursuit\"}\n",
    "progress_file_str = \"progress_{}_{}_{}_{}_{}.csv\"\n",
    "collision_file_str = \"collisions_{}_{}_{}_{}_{}.csv\"\n",
    "start_str = 'two_vehicle_experiments/'\n",
    "cols={0:\"racecar_name\",1:\"laps_completed\",2:\"race_time\",3:\"experiment_number\"}\n",
    "rows = []\n",
    "for track in track_names.keys():\n",
    "    for controller in controller_names.keys():\n",
    "        for opp in target_controllers.keys():\n",
    "            for target in target_controllers:\n",
    "                try:\n",
    "                    pdf = start_str+progress_file_str.format(track,\"false\",controller,opp,target)\n",
    "                    \n",
    "                    cdf = start_str+collision_file_str.format(track,\"false\",controller,opp,target)\n",
    "                   \n",
    "                        \n",
    "                    df = pd.read_csv(pdf,header=None).rename(columns=cols)[0:30]\n",
    "                    #df2 = pd.read_csv(cdf,header=None)[0:30]\n",
    "                    if(os.path.exists(cdf)):\n",
    "                        df2 = pd.read_csv(cdf,header=None)[0:30]\n",
    "                        val = 1-(df2.count()[0]/30)\n",
    "                    else:\n",
    "                        val = 1.0\n",
    "                    new_df =  df.groupby(\"racecar_name\").mean()\n",
    "                    new_df['efficiency'] = (new_df['laps_completed'] / new_df['race_time']) * track_lengths[track]\n",
    "                    new_df = new_df.reset_index()\n",
    "                    \n",
    "                    row = [track_names[track],controller_names[controller],target_controllers[opp],target_controllers[target],new_df[new_df['racecar_name'] =='racecar2']['efficiency'].values[0],new_df[new_df['racecar_name'] =='racecar']['efficiency'].values[0],val]\n",
    "                    rows.append(row)\n",
    "                except Exception as e:\n",
    "                    #print(e)\n",
    "                    continue"
   ]
  },
  {
   "cell_type": "code",
   "execution_count": 53,
   "id": "8bb65d35",
   "metadata": {},
   "outputs": [],
   "source": [
    "df3 = pd.DataFrame(rows, columns =['Track', 'Approach','Opponent Controller','Local Planner','Ego Efficiency','Opponent Efficiency','Safety'])\n",
    "df3 = round(df3,2)\n",
    "df3 = df3.set_index('Track').sort_values(by=[\"Track\",\"Approach\"])"
   ]
  },
  {
   "cell_type": "code",
   "execution_count": 54,
   "id": "694e4b63",
   "metadata": {},
   "outputs": [
    {
     "name": "stdout",
     "output_type": "stream",
     "text": [
      "\\begin{tabular}{llllrrr}\n",
      "\\toprule\n",
      "{} &      Approach & Opponent Controller & Local Planner &  Ego Efficiency &  Opponent Efficiency &  Safety \\\\\n",
      "Track  &               &                     &               &                 &                      &         \\\\\n",
      "\\midrule\n",
      "Porto  &            DE &                  DE &            DE &            5.24 &                 4.31 &    0.27 \\\\\n",
      "Porto  &            DE &                  DE &  Pure Pursuit &            5.27 &                 4.85 &    0.50 \\\\\n",
      "Porto  &      MPC Hype &                  DE &            DE &            0.26 &                 5.02 &    0.00 \\\\\n",
      "Porto  &      MPC Hype &                  DE &  Pure Pursuit &            2.85 &                 4.98 &    0.13 \\\\\n",
      "Porto  &          MPCC &                  DE &            DE &            3.38 &                 4.25 &    0.20 \\\\\n",
      "Porto  &          MPCC &                  DE &  Pure Pursuit &            3.12 &                 5.46 &    0.47 \\\\\n",
      "Porto  &  Pure Pursuit &                  DE &            DE &            4.69 &                 5.34 &    1.00 \\\\\n",
      "Porto  &  Pure Pursuit &                  DE &  Pure Pursuit &            4.67 &                 5.21 &    1.00 \\\\\n",
      "Walker &      MPC Hype &                  DE &            DE &            0.41 &                 2.70 &    0.03 \\\\\n",
      "Walker &      MPC Hype &                  DE &  Pure Pursuit &            3.96 &                 7.76 &    0.00 \\\\\n",
      "Walker &          MPCC &                  DE &            DE &            3.16 &                 5.04 &    0.83 \\\\\n",
      "\\bottomrule\n",
      "\\end{tabular}\n",
      "\n"
     ]
    }
   ],
   "source": [
    "print(df3.to_latex())"
   ]
  },
  {
   "cell_type": "markdown",
   "id": "f05088e3",
   "metadata": {},
   "source": [
    "### Three Car Experiments"
   ]
  },
  {
   "cell_type": "code",
   "execution_count": 17,
   "id": "090bb178",
   "metadata": {},
   "outputs": [],
   "source": [
    "track_names = {'track_porto':\"Porto\",'racecar_walker':'Walker','track_barca':\"Barca\"}\n",
    "controller_names = {\"mpcc\":\"MPCC\",\"mpc_hype\":\"MPC Hype\"}\n",
    "target_controllers = {\"disparity_extender\":\"DE\",\"pure_pursuit\":\"Pure Pursuit\"}\n",
    "progress_file_str = \"progress_{}_{}_{}_{}_{}.csv\"\n",
    "collision_file_str = \"collisions_{}_{}_{}_{}_{}.csv\"\n",
    "start_str = 'three_vehicle_experiments/'\n",
    "cols={0:\"racecar_name\",1:\"laps_completed\",2:\"race_time\",3:\"experiment_number\"}\n",
    "rows = []\n",
    "for track in track_names.keys():\n",
    "    for controller in controller_names.keys():\n",
    "        for opp in target_controllers.keys():\n",
    "            for target in target_controllers:\n",
    "                try:\n",
    "                    pdf = start_str+progress_file_str.format(track,\"false\",controller,opp,target)\n",
    "                    cdf = start_str+collision_file_str.format(track,\"false\",controller,opp,target)\n",
    "                    df = pd.read_csv(pdf,header=None).rename(columns=cols)[0:30]\n",
    "                    df2 = pd.read_csv(cdf,header=None)[0:30]\n",
    "                    new_df =  df.groupby(\"racecar_name\").mean()\n",
    "                    new_df['efficiency'] = (new_df['laps_completed']* track_lengths[track]) / (new_df['race_time'])\n",
    "                    new_df = new_df.reset_index()\n",
    "                    \n",
    "                    row = [track_names[track],controller_names[controller],target_controllers[opp],target_controllers[target],new_df[new_df['racecar_name'] =='racecar2']['efficiency'].values[0],new_df[new_df['racecar_name'] =='racecar']['efficiency'].values[0],1-(df2.count()[0]/30)]\n",
    "                    rows.append(row)\n",
    "                except Exception as e:\n",
    "                    continue"
   ]
  },
  {
   "cell_type": "code",
   "execution_count": 21,
   "id": "4ad20392",
   "metadata": {},
   "outputs": [],
   "source": [
    "df3 = pd.DataFrame(rows, columns =['Track', 'Approach','Opponent Controller','Local Planner','Ego Efficiency','Opponent Efficiency','Safety'])\n",
    "df3 = round(df3,2)\n",
    "df3 = df3.set_index('Track')"
   ]
  },
  {
   "cell_type": "code",
   "execution_count": 23,
   "id": "19ac0e63",
   "metadata": {
    "scrolled": true
   },
   "outputs": [
    {
     "name": "stdout",
     "output_type": "stream",
     "text": [
      "\\begin{tabular}{llllrrr}\n",
      "\\toprule\n",
      "{} &  Approach & Opponent Controller & Local Planner &  Ego Efficiency &  Opponent Efficiency &  Safety \\\\\n",
      "Track &           &                     &               &                 &                      &         \\\\\n",
      "\\midrule\n",
      "Porto &      MPCC &                  DE &  Pure Pursuit &            2.54 &                 4.24 &    0.67 \\\\\n",
      "Porto &  MPC Hype &                  DE &            DE &            2.53 &                 4.69 &    0.00 \\\\\n",
      "Porto &  MPC Hype &                  DE &  Pure Pursuit &            2.66 &                 4.17 &    0.23 \\\\\n",
      "Porto &  MPC Hype &        Pure Pursuit &            DE &            1.91 &                 4.63 &    0.00 \\\\\n",
      "Porto &  MPC Hype &        Pure Pursuit &  Pure Pursuit &            2.36 &                 4.61 &    0.00 \\\\\n",
      "\\bottomrule\n",
      "\\end{tabular}\n",
      "\n"
     ]
    }
   ],
   "source": [
    "print(df3.to_latex())"
   ]
  },
  {
   "cell_type": "code",
   "execution_count": 42,
   "id": "f6b3aff8",
   "metadata": {},
   "outputs": [
    {
     "ename": "SyntaxError",
     "evalue": "invalid syntax (<ipython-input-42-582b13b300f6>, line 1)",
     "output_type": "error",
     "traceback": [
      "\u001b[0;36m  File \u001b[0;32m\"<ipython-input-42-582b13b300f6>\"\u001b[0;36m, line \u001b[0;32m1\u001b[0m\n\u001b[0;31m    touch two_vehicle_experiments/collisions_track_porto_false_pure_pursuit_disparity_extender_disparity_extender.csv\u001b[0m\n\u001b[0m                                ^\u001b[0m\n\u001b[0;31mSyntaxError\u001b[0m\u001b[0;31m:\u001b[0m invalid syntax\n"
     ]
    }
   ],
   "source": []
  },
  {
   "cell_type": "code",
   "execution_count": 43,
   "id": "8bf30136",
   "metadata": {},
   "outputs": [
    {
     "data": {
      "text/plain": [
       "'/home/musaup/Documents/Research/Platooning-F1Tenth/src/mpc/logs'"
      ]
     },
     "execution_count": 43,
     "metadata": {},
     "output_type": "execute_result"
    }
   ],
   "source": [
    "pwd\n"
   ]
  },
  {
   "cell_type": "code",
   "execution_count": null,
   "id": "1cc377e4",
   "metadata": {},
   "outputs": [],
   "source": []
  }
 ],
 "metadata": {
  "kernelspec": {
   "display_name": "Python 3",
   "language": "python",
   "name": "python3"
  },
  "language_info": {
   "codemirror_mode": {
    "name": "ipython",
    "version": 3
   },
   "file_extension": ".py",
   "mimetype": "text/x-python",
   "name": "python",
   "nbconvert_exporter": "python",
   "pygments_lexer": "ipython3",
   "version": "3.6.12"
  }
 },
 "nbformat": 4,
 "nbformat_minor": 5
}
